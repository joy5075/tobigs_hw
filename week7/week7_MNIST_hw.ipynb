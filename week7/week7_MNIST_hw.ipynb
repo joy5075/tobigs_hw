{
  "nbformat": 4,
  "nbformat_minor": 0,
  "metadata": {
    "kernelspec": {
      "display_name": "Pytorch",
      "language": "python",
      "name": "pytorch"
    },
    "language_info": {
      "codemirror_mode": {
        "name": "ipython",
        "version": 3
      },
      "file_extension": ".py",
      "mimetype": "text/x-python",
      "name": "python",
      "nbconvert_exporter": "python",
      "pygments_lexer": "ipython3",
      "version": "3.7.7"
    },
    "colab": {
      "name": "week7_MNIST_pytorch.ipynb",
      "provenance": [],
      "collapsed_sections": []
    },
    "accelerator": "GPU"
  },
  "cells": [
    {
      "cell_type": "markdown",
      "metadata": {
        "id": "rJ6_Es1HP7ov",
        "colab_type": "text"
      },
      "source": [
        "# Pytorch Framework + MNIST 분류"
      ]
    },
    {
      "cell_type": "markdown",
      "metadata": {
        "id": "TCz-6g5xP7oz",
        "colab_type": "text"
      },
      "source": [
        "<MNIST 분류모델에 적용해 본 기법 정리>\n",
        "- Try1. 예제 모델\n",
        "- Try2. LeNet 구조\n",
        "- Try3. Activation 변환\n",
        "- Try4. Batch Normalization 적용\n",
        "- Try5. Weight Initialization 적용\n",
        "- Try6. Drop out 적용\n",
        "- Try7. Optimizer 변환\n",
        "- Try8. Learning rate scheduler 적용\n",
        "- Try9. Data Augmentation 적용\n",
        "- Try10. Early stopping 적용\n",
        "- Try11. Transfer learning 적용"
      ]
    },
    {
      "cell_type": "code",
      "metadata": {
        "id": "8PGXTm6HP7o2",
        "colab_type": "code",
        "colab": {
          "base_uri": "https://localhost:8080/",
          "height": 35
        },
        "outputId": "cec2c75e-1d73-42ab-acdb-fc3a95e8708e"
      },
      "source": [
        "import torch\n",
        "import torch.nn as nn\n",
        "import torch.optim as optim\n",
        "import torch.nn.init as init\n",
        "\n",
        "import torchvision.datasets as dataset\n",
        "import torchvision.transforms as transforms\n",
        "from torch.utils.data import DataLoader \n",
        "\n",
        "from matplotlib import pyplot as plt\n",
        "\n",
        "device = torch.device('cuda:0' if torch.cuda.is_available() else 'cpu')\n",
        "print('device: gpu' if torch.cuda.is_available() else print('device: cpu'))\n",
        "\n",
        "import numpy as np\n",
        "import pandas as pd\n",
        "\n",
        "from sklearn.model_selection import train_test_split\n",
        "\n",
        "import matplotlib.pyplot as plt\n",
        "%matplotlib inline\n"
      ],
      "execution_count": 1,
      "outputs": [
        {
          "output_type": "stream",
          "text": [
            "device: gpu\n"
          ],
          "name": "stdout"
        }
      ]
    },
    {
      "cell_type": "code",
      "metadata": {
        "id": "qk54LZpwP7pI",
        "colab_type": "code",
        "colab": {
          "base_uri": "https://localhost:8080/",
          "height": 126
        },
        "outputId": "f8c4493b-4b6d-49e4-d633-7fcc0b89c17c"
      },
      "source": [
        "from google.colab import drive\n",
        "drive.mount('/content/drive')"
      ],
      "execution_count": 2,
      "outputs": [
        {
          "output_type": "stream",
          "text": [
            "Go to this URL in a browser: https://accounts.google.com/o/oauth2/auth?client_id=947318989803-6bn6qk8qdgf4n4g3pfee6491hc0brc4i.apps.googleusercontent.com&redirect_uri=urn%3aietf%3awg%3aoauth%3a2.0%3aoob&scope=email%20https%3a%2f%2fwww.googleapis.com%2fauth%2fdocs.test%20https%3a%2f%2fwww.googleapis.com%2fauth%2fdrive%20https%3a%2f%2fwww.googleapis.com%2fauth%2fdrive.photos.readonly%20https%3a%2f%2fwww.googleapis.com%2fauth%2fpeopleapi.readonly&response_type=code\n",
            "\n",
            "Enter your authorization code:\n",
            "··········\n",
            "Mounted at /content/drive\n"
          ],
          "name": "stdout"
        }
      ]
    },
    {
      "cell_type": "code",
      "metadata": {
        "id": "N4jfq5zzP7pW",
        "colab_type": "code",
        "colab": {
          "base_uri": "https://localhost:8080/",
          "height": 35
        },
        "outputId": "494bee94-6d54-43e3-c4e9-76759e58c798"
      },
      "source": [
        "cd drive/My\\ Drive"
      ],
      "execution_count": 3,
      "outputs": [
        {
          "output_type": "stream",
          "text": [
            "/content/drive/My Drive\n"
          ],
          "name": "stdout"
        }
      ]
    },
    {
      "cell_type": "code",
      "metadata": {
        "id": "Gr3K1BNkP7pm",
        "colab_type": "code",
        "colab": {}
      },
      "source": [
        "train_data = pd.read_csv('tobigs14-mnist-competition/train_df.csv')\n",
        "test_data = pd.read_csv('tobigs14-mnist-competition/test_df.csv')\n",
        "sample_submission = pd.read_csv('tobigs14-mnist-competition/sample_submission.csv')"
      ],
      "execution_count": 269,
      "outputs": []
    },
    {
      "cell_type": "code",
      "metadata": {
        "id": "wOIgQ4ZAP7p0",
        "colab_type": "code",
        "colab": {
          "base_uri": "https://localhost:8080/",
          "height": 249
        },
        "outputId": "e0099221-6616-4ce3-d117-c28502a22de6"
      },
      "source": [
        "train_data.head()"
      ],
      "execution_count": 270,
      "outputs": [
        {
          "output_type": "execute_result",
          "data": {
            "text/html": [
              "<div>\n",
              "<style scoped>\n",
              "    .dataframe tbody tr th:only-of-type {\n",
              "        vertical-align: middle;\n",
              "    }\n",
              "\n",
              "    .dataframe tbody tr th {\n",
              "        vertical-align: top;\n",
              "    }\n",
              "\n",
              "    .dataframe thead th {\n",
              "        text-align: right;\n",
              "    }\n",
              "</style>\n",
              "<table border=\"1\" class=\"dataframe\">\n",
              "  <thead>\n",
              "    <tr style=\"text-align: right;\">\n",
              "      <th></th>\n",
              "      <th>label</th>\n",
              "      <th>pixel0</th>\n",
              "      <th>pixel1</th>\n",
              "      <th>pixel2</th>\n",
              "      <th>pixel3</th>\n",
              "      <th>pixel4</th>\n",
              "      <th>pixel5</th>\n",
              "      <th>pixel6</th>\n",
              "      <th>pixel7</th>\n",
              "      <th>pixel8</th>\n",
              "      <th>pixel9</th>\n",
              "      <th>pixel10</th>\n",
              "      <th>pixel11</th>\n",
              "      <th>pixel12</th>\n",
              "      <th>pixel13</th>\n",
              "      <th>pixel14</th>\n",
              "      <th>pixel15</th>\n",
              "      <th>pixel16</th>\n",
              "      <th>pixel17</th>\n",
              "      <th>pixel18</th>\n",
              "      <th>pixel19</th>\n",
              "      <th>pixel20</th>\n",
              "      <th>pixel21</th>\n",
              "      <th>pixel22</th>\n",
              "      <th>pixel23</th>\n",
              "      <th>pixel24</th>\n",
              "      <th>pixel25</th>\n",
              "      <th>pixel26</th>\n",
              "      <th>pixel27</th>\n",
              "      <th>pixel28</th>\n",
              "      <th>pixel29</th>\n",
              "      <th>pixel30</th>\n",
              "      <th>pixel31</th>\n",
              "      <th>pixel32</th>\n",
              "      <th>pixel33</th>\n",
              "      <th>pixel34</th>\n",
              "      <th>pixel35</th>\n",
              "      <th>pixel36</th>\n",
              "      <th>pixel37</th>\n",
              "      <th>pixel38</th>\n",
              "      <th>...</th>\n",
              "      <th>pixel744</th>\n",
              "      <th>pixel745</th>\n",
              "      <th>pixel746</th>\n",
              "      <th>pixel747</th>\n",
              "      <th>pixel748</th>\n",
              "      <th>pixel749</th>\n",
              "      <th>pixel750</th>\n",
              "      <th>pixel751</th>\n",
              "      <th>pixel752</th>\n",
              "      <th>pixel753</th>\n",
              "      <th>pixel754</th>\n",
              "      <th>pixel755</th>\n",
              "      <th>pixel756</th>\n",
              "      <th>pixel757</th>\n",
              "      <th>pixel758</th>\n",
              "      <th>pixel759</th>\n",
              "      <th>pixel760</th>\n",
              "      <th>pixel761</th>\n",
              "      <th>pixel762</th>\n",
              "      <th>pixel763</th>\n",
              "      <th>pixel764</th>\n",
              "      <th>pixel765</th>\n",
              "      <th>pixel766</th>\n",
              "      <th>pixel767</th>\n",
              "      <th>pixel768</th>\n",
              "      <th>pixel769</th>\n",
              "      <th>pixel770</th>\n",
              "      <th>pixel771</th>\n",
              "      <th>pixel772</th>\n",
              "      <th>pixel773</th>\n",
              "      <th>pixel774</th>\n",
              "      <th>pixel775</th>\n",
              "      <th>pixel776</th>\n",
              "      <th>pixel777</th>\n",
              "      <th>pixel778</th>\n",
              "      <th>pixel779</th>\n",
              "      <th>pixel780</th>\n",
              "      <th>pixel781</th>\n",
              "      <th>pixel782</th>\n",
              "      <th>pixel783</th>\n",
              "    </tr>\n",
              "  </thead>\n",
              "  <tbody>\n",
              "    <tr>\n",
              "      <th>0</th>\n",
              "      <td>7</td>\n",
              "      <td>0</td>\n",
              "      <td>0</td>\n",
              "      <td>0</td>\n",
              "      <td>0</td>\n",
              "      <td>0</td>\n",
              "      <td>0</td>\n",
              "      <td>0</td>\n",
              "      <td>0</td>\n",
              "      <td>0</td>\n",
              "      <td>0</td>\n",
              "      <td>0</td>\n",
              "      <td>0</td>\n",
              "      <td>0</td>\n",
              "      <td>0</td>\n",
              "      <td>0</td>\n",
              "      <td>0</td>\n",
              "      <td>0</td>\n",
              "      <td>0</td>\n",
              "      <td>0</td>\n",
              "      <td>0</td>\n",
              "      <td>0</td>\n",
              "      <td>0</td>\n",
              "      <td>0</td>\n",
              "      <td>0</td>\n",
              "      <td>0</td>\n",
              "      <td>0</td>\n",
              "      <td>0</td>\n",
              "      <td>0</td>\n",
              "      <td>0</td>\n",
              "      <td>0</td>\n",
              "      <td>0</td>\n",
              "      <td>0</td>\n",
              "      <td>0</td>\n",
              "      <td>0</td>\n",
              "      <td>0</td>\n",
              "      <td>0</td>\n",
              "      <td>0</td>\n",
              "      <td>0</td>\n",
              "      <td>0</td>\n",
              "      <td>...</td>\n",
              "      <td>0</td>\n",
              "      <td>0</td>\n",
              "      <td>0</td>\n",
              "      <td>0</td>\n",
              "      <td>0</td>\n",
              "      <td>0</td>\n",
              "      <td>0</td>\n",
              "      <td>0</td>\n",
              "      <td>0</td>\n",
              "      <td>0</td>\n",
              "      <td>0</td>\n",
              "      <td>0</td>\n",
              "      <td>0</td>\n",
              "      <td>0</td>\n",
              "      <td>0</td>\n",
              "      <td>0</td>\n",
              "      <td>0</td>\n",
              "      <td>0</td>\n",
              "      <td>0</td>\n",
              "      <td>0</td>\n",
              "      <td>0</td>\n",
              "      <td>0</td>\n",
              "      <td>0</td>\n",
              "      <td>0</td>\n",
              "      <td>0</td>\n",
              "      <td>0</td>\n",
              "      <td>0</td>\n",
              "      <td>0</td>\n",
              "      <td>0</td>\n",
              "      <td>0</td>\n",
              "      <td>0</td>\n",
              "      <td>0</td>\n",
              "      <td>0</td>\n",
              "      <td>0</td>\n",
              "      <td>0</td>\n",
              "      <td>0</td>\n",
              "      <td>0</td>\n",
              "      <td>0</td>\n",
              "      <td>0</td>\n",
              "      <td>0</td>\n",
              "    </tr>\n",
              "    <tr>\n",
              "      <th>1</th>\n",
              "      <td>8</td>\n",
              "      <td>0</td>\n",
              "      <td>0</td>\n",
              "      <td>0</td>\n",
              "      <td>0</td>\n",
              "      <td>0</td>\n",
              "      <td>0</td>\n",
              "      <td>0</td>\n",
              "      <td>0</td>\n",
              "      <td>0</td>\n",
              "      <td>0</td>\n",
              "      <td>0</td>\n",
              "      <td>0</td>\n",
              "      <td>0</td>\n",
              "      <td>0</td>\n",
              "      <td>0</td>\n",
              "      <td>0</td>\n",
              "      <td>0</td>\n",
              "      <td>0</td>\n",
              "      <td>0</td>\n",
              "      <td>0</td>\n",
              "      <td>0</td>\n",
              "      <td>0</td>\n",
              "      <td>0</td>\n",
              "      <td>0</td>\n",
              "      <td>0</td>\n",
              "      <td>0</td>\n",
              "      <td>0</td>\n",
              "      <td>0</td>\n",
              "      <td>0</td>\n",
              "      <td>0</td>\n",
              "      <td>0</td>\n",
              "      <td>0</td>\n",
              "      <td>0</td>\n",
              "      <td>0</td>\n",
              "      <td>0</td>\n",
              "      <td>0</td>\n",
              "      <td>0</td>\n",
              "      <td>0</td>\n",
              "      <td>0</td>\n",
              "      <td>...</td>\n",
              "      <td>0</td>\n",
              "      <td>0</td>\n",
              "      <td>0</td>\n",
              "      <td>0</td>\n",
              "      <td>0</td>\n",
              "      <td>0</td>\n",
              "      <td>0</td>\n",
              "      <td>0</td>\n",
              "      <td>0</td>\n",
              "      <td>0</td>\n",
              "      <td>0</td>\n",
              "      <td>0</td>\n",
              "      <td>0</td>\n",
              "      <td>0</td>\n",
              "      <td>0</td>\n",
              "      <td>0</td>\n",
              "      <td>0</td>\n",
              "      <td>0</td>\n",
              "      <td>0</td>\n",
              "      <td>0</td>\n",
              "      <td>0</td>\n",
              "      <td>0</td>\n",
              "      <td>0</td>\n",
              "      <td>0</td>\n",
              "      <td>0</td>\n",
              "      <td>0</td>\n",
              "      <td>0</td>\n",
              "      <td>0</td>\n",
              "      <td>0</td>\n",
              "      <td>0</td>\n",
              "      <td>0</td>\n",
              "      <td>0</td>\n",
              "      <td>0</td>\n",
              "      <td>0</td>\n",
              "      <td>0</td>\n",
              "      <td>0</td>\n",
              "      <td>0</td>\n",
              "      <td>0</td>\n",
              "      <td>0</td>\n",
              "      <td>0</td>\n",
              "    </tr>\n",
              "    <tr>\n",
              "      <th>2</th>\n",
              "      <td>7</td>\n",
              "      <td>0</td>\n",
              "      <td>0</td>\n",
              "      <td>0</td>\n",
              "      <td>0</td>\n",
              "      <td>0</td>\n",
              "      <td>0</td>\n",
              "      <td>0</td>\n",
              "      <td>0</td>\n",
              "      <td>0</td>\n",
              "      <td>0</td>\n",
              "      <td>0</td>\n",
              "      <td>0</td>\n",
              "      <td>0</td>\n",
              "      <td>0</td>\n",
              "      <td>0</td>\n",
              "      <td>0</td>\n",
              "      <td>0</td>\n",
              "      <td>0</td>\n",
              "      <td>0</td>\n",
              "      <td>0</td>\n",
              "      <td>0</td>\n",
              "      <td>0</td>\n",
              "      <td>0</td>\n",
              "      <td>0</td>\n",
              "      <td>0</td>\n",
              "      <td>0</td>\n",
              "      <td>0</td>\n",
              "      <td>0</td>\n",
              "      <td>0</td>\n",
              "      <td>0</td>\n",
              "      <td>0</td>\n",
              "      <td>0</td>\n",
              "      <td>0</td>\n",
              "      <td>0</td>\n",
              "      <td>0</td>\n",
              "      <td>0</td>\n",
              "      <td>0</td>\n",
              "      <td>0</td>\n",
              "      <td>0</td>\n",
              "      <td>...</td>\n",
              "      <td>0</td>\n",
              "      <td>0</td>\n",
              "      <td>0</td>\n",
              "      <td>0</td>\n",
              "      <td>0</td>\n",
              "      <td>0</td>\n",
              "      <td>0</td>\n",
              "      <td>0</td>\n",
              "      <td>0</td>\n",
              "      <td>0</td>\n",
              "      <td>0</td>\n",
              "      <td>0</td>\n",
              "      <td>0</td>\n",
              "      <td>0</td>\n",
              "      <td>0</td>\n",
              "      <td>0</td>\n",
              "      <td>0</td>\n",
              "      <td>0</td>\n",
              "      <td>0</td>\n",
              "      <td>0</td>\n",
              "      <td>0</td>\n",
              "      <td>0</td>\n",
              "      <td>0</td>\n",
              "      <td>0</td>\n",
              "      <td>0</td>\n",
              "      <td>0</td>\n",
              "      <td>0</td>\n",
              "      <td>0</td>\n",
              "      <td>0</td>\n",
              "      <td>0</td>\n",
              "      <td>0</td>\n",
              "      <td>0</td>\n",
              "      <td>0</td>\n",
              "      <td>0</td>\n",
              "      <td>0</td>\n",
              "      <td>0</td>\n",
              "      <td>0</td>\n",
              "      <td>0</td>\n",
              "      <td>0</td>\n",
              "      <td>0</td>\n",
              "    </tr>\n",
              "    <tr>\n",
              "      <th>3</th>\n",
              "      <td>6</td>\n",
              "      <td>0</td>\n",
              "      <td>0</td>\n",
              "      <td>0</td>\n",
              "      <td>0</td>\n",
              "      <td>0</td>\n",
              "      <td>0</td>\n",
              "      <td>0</td>\n",
              "      <td>0</td>\n",
              "      <td>0</td>\n",
              "      <td>0</td>\n",
              "      <td>0</td>\n",
              "      <td>0</td>\n",
              "      <td>0</td>\n",
              "      <td>0</td>\n",
              "      <td>0</td>\n",
              "      <td>0</td>\n",
              "      <td>0</td>\n",
              "      <td>0</td>\n",
              "      <td>0</td>\n",
              "      <td>0</td>\n",
              "      <td>0</td>\n",
              "      <td>0</td>\n",
              "      <td>0</td>\n",
              "      <td>0</td>\n",
              "      <td>0</td>\n",
              "      <td>0</td>\n",
              "      <td>0</td>\n",
              "      <td>0</td>\n",
              "      <td>0</td>\n",
              "      <td>0</td>\n",
              "      <td>0</td>\n",
              "      <td>0</td>\n",
              "      <td>0</td>\n",
              "      <td>0</td>\n",
              "      <td>0</td>\n",
              "      <td>0</td>\n",
              "      <td>0</td>\n",
              "      <td>0</td>\n",
              "      <td>0</td>\n",
              "      <td>...</td>\n",
              "      <td>0</td>\n",
              "      <td>0</td>\n",
              "      <td>0</td>\n",
              "      <td>0</td>\n",
              "      <td>0</td>\n",
              "      <td>0</td>\n",
              "      <td>0</td>\n",
              "      <td>0</td>\n",
              "      <td>0</td>\n",
              "      <td>0</td>\n",
              "      <td>0</td>\n",
              "      <td>0</td>\n",
              "      <td>0</td>\n",
              "      <td>0</td>\n",
              "      <td>0</td>\n",
              "      <td>0</td>\n",
              "      <td>0</td>\n",
              "      <td>0</td>\n",
              "      <td>0</td>\n",
              "      <td>0</td>\n",
              "      <td>0</td>\n",
              "      <td>0</td>\n",
              "      <td>0</td>\n",
              "      <td>0</td>\n",
              "      <td>0</td>\n",
              "      <td>0</td>\n",
              "      <td>0</td>\n",
              "      <td>0</td>\n",
              "      <td>0</td>\n",
              "      <td>0</td>\n",
              "      <td>0</td>\n",
              "      <td>0</td>\n",
              "      <td>0</td>\n",
              "      <td>0</td>\n",
              "      <td>0</td>\n",
              "      <td>0</td>\n",
              "      <td>0</td>\n",
              "      <td>0</td>\n",
              "      <td>0</td>\n",
              "      <td>0</td>\n",
              "    </tr>\n",
              "    <tr>\n",
              "      <th>4</th>\n",
              "      <td>5</td>\n",
              "      <td>0</td>\n",
              "      <td>0</td>\n",
              "      <td>0</td>\n",
              "      <td>0</td>\n",
              "      <td>0</td>\n",
              "      <td>0</td>\n",
              "      <td>0</td>\n",
              "      <td>0</td>\n",
              "      <td>0</td>\n",
              "      <td>0</td>\n",
              "      <td>0</td>\n",
              "      <td>0</td>\n",
              "      <td>0</td>\n",
              "      <td>0</td>\n",
              "      <td>0</td>\n",
              "      <td>0</td>\n",
              "      <td>0</td>\n",
              "      <td>0</td>\n",
              "      <td>0</td>\n",
              "      <td>0</td>\n",
              "      <td>0</td>\n",
              "      <td>0</td>\n",
              "      <td>0</td>\n",
              "      <td>0</td>\n",
              "      <td>0</td>\n",
              "      <td>0</td>\n",
              "      <td>0</td>\n",
              "      <td>0</td>\n",
              "      <td>0</td>\n",
              "      <td>0</td>\n",
              "      <td>0</td>\n",
              "      <td>0</td>\n",
              "      <td>0</td>\n",
              "      <td>0</td>\n",
              "      <td>0</td>\n",
              "      <td>0</td>\n",
              "      <td>0</td>\n",
              "      <td>0</td>\n",
              "      <td>0</td>\n",
              "      <td>...</td>\n",
              "      <td>0</td>\n",
              "      <td>0</td>\n",
              "      <td>0</td>\n",
              "      <td>0</td>\n",
              "      <td>0</td>\n",
              "      <td>0</td>\n",
              "      <td>0</td>\n",
              "      <td>0</td>\n",
              "      <td>0</td>\n",
              "      <td>0</td>\n",
              "      <td>0</td>\n",
              "      <td>0</td>\n",
              "      <td>0</td>\n",
              "      <td>0</td>\n",
              "      <td>0</td>\n",
              "      <td>0</td>\n",
              "      <td>0</td>\n",
              "      <td>0</td>\n",
              "      <td>0</td>\n",
              "      <td>0</td>\n",
              "      <td>0</td>\n",
              "      <td>0</td>\n",
              "      <td>0</td>\n",
              "      <td>0</td>\n",
              "      <td>0</td>\n",
              "      <td>0</td>\n",
              "      <td>0</td>\n",
              "      <td>0</td>\n",
              "      <td>0</td>\n",
              "      <td>0</td>\n",
              "      <td>0</td>\n",
              "      <td>0</td>\n",
              "      <td>0</td>\n",
              "      <td>0</td>\n",
              "      <td>0</td>\n",
              "      <td>0</td>\n",
              "      <td>0</td>\n",
              "      <td>0</td>\n",
              "      <td>0</td>\n",
              "      <td>0</td>\n",
              "    </tr>\n",
              "  </tbody>\n",
              "</table>\n",
              "<p>5 rows × 785 columns</p>\n",
              "</div>"
            ],
            "text/plain": [
              "   label  pixel0  pixel1  pixel2  ...  pixel780  pixel781  pixel782  pixel783\n",
              "0      7       0       0       0  ...         0         0         0         0\n",
              "1      8       0       0       0  ...         0         0         0         0\n",
              "2      7       0       0       0  ...         0         0         0         0\n",
              "3      6       0       0       0  ...         0         0         0         0\n",
              "4      5       0       0       0  ...         0         0         0         0\n",
              "\n",
              "[5 rows x 785 columns]"
            ]
          },
          "metadata": {
            "tags": []
          },
          "execution_count": 270
        }
      ]
    },
    {
      "cell_type": "code",
      "metadata": {
        "id": "ks6kMYC6P7qA",
        "colab_type": "code",
        "colab": {
          "base_uri": "https://localhost:8080/",
          "height": 266
        },
        "outputId": "526f3b32-860a-44ff-cc90-7de61898b7af"
      },
      "source": [
        "test_data.head()"
      ],
      "execution_count": 271,
      "outputs": [
        {
          "output_type": "execute_result",
          "data": {
            "text/html": [
              "<div>\n",
              "<style scoped>\n",
              "    .dataframe tbody tr th:only-of-type {\n",
              "        vertical-align: middle;\n",
              "    }\n",
              "\n",
              "    .dataframe tbody tr th {\n",
              "        vertical-align: top;\n",
              "    }\n",
              "\n",
              "    .dataframe thead th {\n",
              "        text-align: right;\n",
              "    }\n",
              "</style>\n",
              "<table border=\"1\" class=\"dataframe\">\n",
              "  <thead>\n",
              "    <tr style=\"text-align: right;\">\n",
              "      <th></th>\n",
              "      <th>Unnamed: 0</th>\n",
              "      <th>pixel0</th>\n",
              "      <th>pixel1</th>\n",
              "      <th>pixel2</th>\n",
              "      <th>pixel3</th>\n",
              "      <th>pixel4</th>\n",
              "      <th>pixel5</th>\n",
              "      <th>pixel6</th>\n",
              "      <th>pixel7</th>\n",
              "      <th>pixel8</th>\n",
              "      <th>pixel9</th>\n",
              "      <th>pixel10</th>\n",
              "      <th>pixel11</th>\n",
              "      <th>pixel12</th>\n",
              "      <th>pixel13</th>\n",
              "      <th>pixel14</th>\n",
              "      <th>pixel15</th>\n",
              "      <th>pixel16</th>\n",
              "      <th>pixel17</th>\n",
              "      <th>pixel18</th>\n",
              "      <th>pixel19</th>\n",
              "      <th>pixel20</th>\n",
              "      <th>pixel21</th>\n",
              "      <th>pixel22</th>\n",
              "      <th>pixel23</th>\n",
              "      <th>pixel24</th>\n",
              "      <th>pixel25</th>\n",
              "      <th>pixel26</th>\n",
              "      <th>pixel27</th>\n",
              "      <th>pixel28</th>\n",
              "      <th>pixel29</th>\n",
              "      <th>pixel30</th>\n",
              "      <th>pixel31</th>\n",
              "      <th>pixel32</th>\n",
              "      <th>pixel33</th>\n",
              "      <th>pixel34</th>\n",
              "      <th>pixel35</th>\n",
              "      <th>pixel36</th>\n",
              "      <th>pixel37</th>\n",
              "      <th>pixel38</th>\n",
              "      <th>...</th>\n",
              "      <th>pixel744</th>\n",
              "      <th>pixel745</th>\n",
              "      <th>pixel746</th>\n",
              "      <th>pixel747</th>\n",
              "      <th>pixel748</th>\n",
              "      <th>pixel749</th>\n",
              "      <th>pixel750</th>\n",
              "      <th>pixel751</th>\n",
              "      <th>pixel752</th>\n",
              "      <th>pixel753</th>\n",
              "      <th>pixel754</th>\n",
              "      <th>pixel755</th>\n",
              "      <th>pixel756</th>\n",
              "      <th>pixel757</th>\n",
              "      <th>pixel758</th>\n",
              "      <th>pixel759</th>\n",
              "      <th>pixel760</th>\n",
              "      <th>pixel761</th>\n",
              "      <th>pixel762</th>\n",
              "      <th>pixel763</th>\n",
              "      <th>pixel764</th>\n",
              "      <th>pixel765</th>\n",
              "      <th>pixel766</th>\n",
              "      <th>pixel767</th>\n",
              "      <th>pixel768</th>\n",
              "      <th>pixel769</th>\n",
              "      <th>pixel770</th>\n",
              "      <th>pixel771</th>\n",
              "      <th>pixel772</th>\n",
              "      <th>pixel773</th>\n",
              "      <th>pixel774</th>\n",
              "      <th>pixel775</th>\n",
              "      <th>pixel776</th>\n",
              "      <th>pixel777</th>\n",
              "      <th>pixel778</th>\n",
              "      <th>pixel779</th>\n",
              "      <th>pixel780</th>\n",
              "      <th>pixel781</th>\n",
              "      <th>pixel782</th>\n",
              "      <th>pixel783</th>\n",
              "    </tr>\n",
              "  </thead>\n",
              "  <tbody>\n",
              "    <tr>\n",
              "      <th>0</th>\n",
              "      <td>57808</td>\n",
              "      <td>0</td>\n",
              "      <td>0</td>\n",
              "      <td>0</td>\n",
              "      <td>0</td>\n",
              "      <td>0</td>\n",
              "      <td>0</td>\n",
              "      <td>0</td>\n",
              "      <td>0</td>\n",
              "      <td>0</td>\n",
              "      <td>0</td>\n",
              "      <td>0</td>\n",
              "      <td>0</td>\n",
              "      <td>0</td>\n",
              "      <td>0</td>\n",
              "      <td>0</td>\n",
              "      <td>0</td>\n",
              "      <td>0</td>\n",
              "      <td>0</td>\n",
              "      <td>0</td>\n",
              "      <td>0</td>\n",
              "      <td>0</td>\n",
              "      <td>0</td>\n",
              "      <td>0</td>\n",
              "      <td>0</td>\n",
              "      <td>0</td>\n",
              "      <td>0</td>\n",
              "      <td>0</td>\n",
              "      <td>0</td>\n",
              "      <td>0</td>\n",
              "      <td>0</td>\n",
              "      <td>0</td>\n",
              "      <td>0</td>\n",
              "      <td>0</td>\n",
              "      <td>0</td>\n",
              "      <td>0</td>\n",
              "      <td>0</td>\n",
              "      <td>0</td>\n",
              "      <td>0</td>\n",
              "      <td>0</td>\n",
              "      <td>...</td>\n",
              "      <td>0</td>\n",
              "      <td>0</td>\n",
              "      <td>0</td>\n",
              "      <td>0</td>\n",
              "      <td>0</td>\n",
              "      <td>0</td>\n",
              "      <td>0</td>\n",
              "      <td>0</td>\n",
              "      <td>0</td>\n",
              "      <td>0</td>\n",
              "      <td>0</td>\n",
              "      <td>0</td>\n",
              "      <td>0</td>\n",
              "      <td>0</td>\n",
              "      <td>0</td>\n",
              "      <td>0</td>\n",
              "      <td>0</td>\n",
              "      <td>0</td>\n",
              "      <td>0</td>\n",
              "      <td>0</td>\n",
              "      <td>0</td>\n",
              "      <td>0</td>\n",
              "      <td>0</td>\n",
              "      <td>0</td>\n",
              "      <td>0</td>\n",
              "      <td>0</td>\n",
              "      <td>0</td>\n",
              "      <td>0</td>\n",
              "      <td>0</td>\n",
              "      <td>0</td>\n",
              "      <td>0</td>\n",
              "      <td>0</td>\n",
              "      <td>0</td>\n",
              "      <td>0</td>\n",
              "      <td>0</td>\n",
              "      <td>0</td>\n",
              "      <td>0</td>\n",
              "      <td>0</td>\n",
              "      <td>0</td>\n",
              "      <td>0</td>\n",
              "    </tr>\n",
              "    <tr>\n",
              "      <th>1</th>\n",
              "      <td>4960</td>\n",
              "      <td>0</td>\n",
              "      <td>0</td>\n",
              "      <td>0</td>\n",
              "      <td>0</td>\n",
              "      <td>0</td>\n",
              "      <td>0</td>\n",
              "      <td>0</td>\n",
              "      <td>0</td>\n",
              "      <td>0</td>\n",
              "      <td>0</td>\n",
              "      <td>0</td>\n",
              "      <td>0</td>\n",
              "      <td>0</td>\n",
              "      <td>0</td>\n",
              "      <td>0</td>\n",
              "      <td>0</td>\n",
              "      <td>0</td>\n",
              "      <td>0</td>\n",
              "      <td>0</td>\n",
              "      <td>0</td>\n",
              "      <td>0</td>\n",
              "      <td>0</td>\n",
              "      <td>0</td>\n",
              "      <td>0</td>\n",
              "      <td>0</td>\n",
              "      <td>0</td>\n",
              "      <td>0</td>\n",
              "      <td>0</td>\n",
              "      <td>0</td>\n",
              "      <td>0</td>\n",
              "      <td>0</td>\n",
              "      <td>0</td>\n",
              "      <td>0</td>\n",
              "      <td>0</td>\n",
              "      <td>0</td>\n",
              "      <td>0</td>\n",
              "      <td>0</td>\n",
              "      <td>0</td>\n",
              "      <td>0</td>\n",
              "      <td>...</td>\n",
              "      <td>0</td>\n",
              "      <td>0</td>\n",
              "      <td>0</td>\n",
              "      <td>0</td>\n",
              "      <td>0</td>\n",
              "      <td>0</td>\n",
              "      <td>0</td>\n",
              "      <td>0</td>\n",
              "      <td>0</td>\n",
              "      <td>0</td>\n",
              "      <td>0</td>\n",
              "      <td>0</td>\n",
              "      <td>0</td>\n",
              "      <td>0</td>\n",
              "      <td>0</td>\n",
              "      <td>0</td>\n",
              "      <td>0</td>\n",
              "      <td>0</td>\n",
              "      <td>0</td>\n",
              "      <td>0</td>\n",
              "      <td>0</td>\n",
              "      <td>0</td>\n",
              "      <td>0</td>\n",
              "      <td>0</td>\n",
              "      <td>0</td>\n",
              "      <td>0</td>\n",
              "      <td>0</td>\n",
              "      <td>0</td>\n",
              "      <td>0</td>\n",
              "      <td>0</td>\n",
              "      <td>0</td>\n",
              "      <td>0</td>\n",
              "      <td>0</td>\n",
              "      <td>0</td>\n",
              "      <td>0</td>\n",
              "      <td>0</td>\n",
              "      <td>0</td>\n",
              "      <td>0</td>\n",
              "      <td>0</td>\n",
              "      <td>0</td>\n",
              "    </tr>\n",
              "    <tr>\n",
              "      <th>2</th>\n",
              "      <td>35755</td>\n",
              "      <td>0</td>\n",
              "      <td>0</td>\n",
              "      <td>0</td>\n",
              "      <td>0</td>\n",
              "      <td>0</td>\n",
              "      <td>0</td>\n",
              "      <td>0</td>\n",
              "      <td>0</td>\n",
              "      <td>0</td>\n",
              "      <td>0</td>\n",
              "      <td>0</td>\n",
              "      <td>0</td>\n",
              "      <td>0</td>\n",
              "      <td>0</td>\n",
              "      <td>0</td>\n",
              "      <td>0</td>\n",
              "      <td>0</td>\n",
              "      <td>0</td>\n",
              "      <td>0</td>\n",
              "      <td>0</td>\n",
              "      <td>0</td>\n",
              "      <td>0</td>\n",
              "      <td>0</td>\n",
              "      <td>0</td>\n",
              "      <td>0</td>\n",
              "      <td>0</td>\n",
              "      <td>0</td>\n",
              "      <td>0</td>\n",
              "      <td>0</td>\n",
              "      <td>0</td>\n",
              "      <td>0</td>\n",
              "      <td>0</td>\n",
              "      <td>0</td>\n",
              "      <td>0</td>\n",
              "      <td>0</td>\n",
              "      <td>0</td>\n",
              "      <td>0</td>\n",
              "      <td>0</td>\n",
              "      <td>0</td>\n",
              "      <td>...</td>\n",
              "      <td>0</td>\n",
              "      <td>0</td>\n",
              "      <td>0</td>\n",
              "      <td>0</td>\n",
              "      <td>0</td>\n",
              "      <td>0</td>\n",
              "      <td>0</td>\n",
              "      <td>0</td>\n",
              "      <td>0</td>\n",
              "      <td>0</td>\n",
              "      <td>0</td>\n",
              "      <td>0</td>\n",
              "      <td>0</td>\n",
              "      <td>0</td>\n",
              "      <td>0</td>\n",
              "      <td>0</td>\n",
              "      <td>0</td>\n",
              "      <td>0</td>\n",
              "      <td>0</td>\n",
              "      <td>0</td>\n",
              "      <td>0</td>\n",
              "      <td>0</td>\n",
              "      <td>0</td>\n",
              "      <td>0</td>\n",
              "      <td>0</td>\n",
              "      <td>0</td>\n",
              "      <td>0</td>\n",
              "      <td>0</td>\n",
              "      <td>0</td>\n",
              "      <td>0</td>\n",
              "      <td>0</td>\n",
              "      <td>0</td>\n",
              "      <td>0</td>\n",
              "      <td>0</td>\n",
              "      <td>0</td>\n",
              "      <td>0</td>\n",
              "      <td>0</td>\n",
              "      <td>0</td>\n",
              "      <td>0</td>\n",
              "      <td>0</td>\n",
              "    </tr>\n",
              "    <tr>\n",
              "      <th>3</th>\n",
              "      <td>15543</td>\n",
              "      <td>0</td>\n",
              "      <td>0</td>\n",
              "      <td>0</td>\n",
              "      <td>0</td>\n",
              "      <td>0</td>\n",
              "      <td>0</td>\n",
              "      <td>0</td>\n",
              "      <td>0</td>\n",
              "      <td>0</td>\n",
              "      <td>0</td>\n",
              "      <td>0</td>\n",
              "      <td>0</td>\n",
              "      <td>0</td>\n",
              "      <td>0</td>\n",
              "      <td>0</td>\n",
              "      <td>0</td>\n",
              "      <td>0</td>\n",
              "      <td>0</td>\n",
              "      <td>0</td>\n",
              "      <td>0</td>\n",
              "      <td>0</td>\n",
              "      <td>0</td>\n",
              "      <td>0</td>\n",
              "      <td>0</td>\n",
              "      <td>0</td>\n",
              "      <td>0</td>\n",
              "      <td>0</td>\n",
              "      <td>0</td>\n",
              "      <td>0</td>\n",
              "      <td>0</td>\n",
              "      <td>0</td>\n",
              "      <td>0</td>\n",
              "      <td>0</td>\n",
              "      <td>0</td>\n",
              "      <td>0</td>\n",
              "      <td>0</td>\n",
              "      <td>0</td>\n",
              "      <td>0</td>\n",
              "      <td>0</td>\n",
              "      <td>...</td>\n",
              "      <td>0</td>\n",
              "      <td>0</td>\n",
              "      <td>0</td>\n",
              "      <td>0</td>\n",
              "      <td>0</td>\n",
              "      <td>0</td>\n",
              "      <td>0</td>\n",
              "      <td>0</td>\n",
              "      <td>0</td>\n",
              "      <td>0</td>\n",
              "      <td>0</td>\n",
              "      <td>0</td>\n",
              "      <td>0</td>\n",
              "      <td>0</td>\n",
              "      <td>0</td>\n",
              "      <td>0</td>\n",
              "      <td>0</td>\n",
              "      <td>0</td>\n",
              "      <td>0</td>\n",
              "      <td>0</td>\n",
              "      <td>0</td>\n",
              "      <td>0</td>\n",
              "      <td>0</td>\n",
              "      <td>0</td>\n",
              "      <td>0</td>\n",
              "      <td>0</td>\n",
              "      <td>0</td>\n",
              "      <td>0</td>\n",
              "      <td>0</td>\n",
              "      <td>0</td>\n",
              "      <td>0</td>\n",
              "      <td>0</td>\n",
              "      <td>0</td>\n",
              "      <td>0</td>\n",
              "      <td>0</td>\n",
              "      <td>0</td>\n",
              "      <td>0</td>\n",
              "      <td>0</td>\n",
              "      <td>0</td>\n",
              "      <td>0</td>\n",
              "    </tr>\n",
              "    <tr>\n",
              "      <th>4</th>\n",
              "      <td>48968</td>\n",
              "      <td>0</td>\n",
              "      <td>0</td>\n",
              "      <td>0</td>\n",
              "      <td>0</td>\n",
              "      <td>0</td>\n",
              "      <td>0</td>\n",
              "      <td>0</td>\n",
              "      <td>0</td>\n",
              "      <td>0</td>\n",
              "      <td>0</td>\n",
              "      <td>0</td>\n",
              "      <td>0</td>\n",
              "      <td>0</td>\n",
              "      <td>0</td>\n",
              "      <td>0</td>\n",
              "      <td>0</td>\n",
              "      <td>0</td>\n",
              "      <td>0</td>\n",
              "      <td>0</td>\n",
              "      <td>0</td>\n",
              "      <td>0</td>\n",
              "      <td>0</td>\n",
              "      <td>0</td>\n",
              "      <td>0</td>\n",
              "      <td>0</td>\n",
              "      <td>0</td>\n",
              "      <td>0</td>\n",
              "      <td>0</td>\n",
              "      <td>0</td>\n",
              "      <td>0</td>\n",
              "      <td>0</td>\n",
              "      <td>0</td>\n",
              "      <td>0</td>\n",
              "      <td>0</td>\n",
              "      <td>0</td>\n",
              "      <td>0</td>\n",
              "      <td>0</td>\n",
              "      <td>0</td>\n",
              "      <td>0</td>\n",
              "      <td>...</td>\n",
              "      <td>0</td>\n",
              "      <td>0</td>\n",
              "      <td>0</td>\n",
              "      <td>0</td>\n",
              "      <td>0</td>\n",
              "      <td>0</td>\n",
              "      <td>0</td>\n",
              "      <td>0</td>\n",
              "      <td>0</td>\n",
              "      <td>0</td>\n",
              "      <td>0</td>\n",
              "      <td>0</td>\n",
              "      <td>0</td>\n",
              "      <td>0</td>\n",
              "      <td>0</td>\n",
              "      <td>0</td>\n",
              "      <td>0</td>\n",
              "      <td>0</td>\n",
              "      <td>0</td>\n",
              "      <td>0</td>\n",
              "      <td>0</td>\n",
              "      <td>0</td>\n",
              "      <td>0</td>\n",
              "      <td>0</td>\n",
              "      <td>0</td>\n",
              "      <td>0</td>\n",
              "      <td>0</td>\n",
              "      <td>0</td>\n",
              "      <td>0</td>\n",
              "      <td>0</td>\n",
              "      <td>0</td>\n",
              "      <td>0</td>\n",
              "      <td>0</td>\n",
              "      <td>0</td>\n",
              "      <td>0</td>\n",
              "      <td>0</td>\n",
              "      <td>0</td>\n",
              "      <td>0</td>\n",
              "      <td>0</td>\n",
              "      <td>0</td>\n",
              "    </tr>\n",
              "  </tbody>\n",
              "</table>\n",
              "<p>5 rows × 785 columns</p>\n",
              "</div>"
            ],
            "text/plain": [
              "   Unnamed: 0  pixel0  pixel1  pixel2  ...  pixel780  pixel781  pixel782  pixel783\n",
              "0       57808       0       0       0  ...         0         0         0         0\n",
              "1        4960       0       0       0  ...         0         0         0         0\n",
              "2       35755       0       0       0  ...         0         0         0         0\n",
              "3       15543       0       0       0  ...         0         0         0         0\n",
              "4       48968       0       0       0  ...         0         0         0         0\n",
              "\n",
              "[5 rows x 785 columns]"
            ]
          },
          "metadata": {
            "tags": []
          },
          "execution_count": 271
        }
      ]
    },
    {
      "cell_type": "code",
      "metadata": {
        "id": "eQMRUwlfP7qM",
        "colab_type": "code",
        "colab": {}
      },
      "source": [
        "test_data = test_data.iloc[:, 1:]"
      ],
      "execution_count": 272,
      "outputs": []
    },
    {
      "cell_type": "code",
      "metadata": {
        "id": "FUIg9p-vP7qa",
        "colab_type": "code",
        "colab": {
          "base_uri": "https://localhost:8080/",
          "height": 249
        },
        "outputId": "32eae45c-5a70-4ccb-89fd-2fc35769fb11"
      },
      "source": [
        "test_data.head()"
      ],
      "execution_count": 273,
      "outputs": [
        {
          "output_type": "execute_result",
          "data": {
            "text/html": [
              "<div>\n",
              "<style scoped>\n",
              "    .dataframe tbody tr th:only-of-type {\n",
              "        vertical-align: middle;\n",
              "    }\n",
              "\n",
              "    .dataframe tbody tr th {\n",
              "        vertical-align: top;\n",
              "    }\n",
              "\n",
              "    .dataframe thead th {\n",
              "        text-align: right;\n",
              "    }\n",
              "</style>\n",
              "<table border=\"1\" class=\"dataframe\">\n",
              "  <thead>\n",
              "    <tr style=\"text-align: right;\">\n",
              "      <th></th>\n",
              "      <th>pixel0</th>\n",
              "      <th>pixel1</th>\n",
              "      <th>pixel2</th>\n",
              "      <th>pixel3</th>\n",
              "      <th>pixel4</th>\n",
              "      <th>pixel5</th>\n",
              "      <th>pixel6</th>\n",
              "      <th>pixel7</th>\n",
              "      <th>pixel8</th>\n",
              "      <th>pixel9</th>\n",
              "      <th>pixel10</th>\n",
              "      <th>pixel11</th>\n",
              "      <th>pixel12</th>\n",
              "      <th>pixel13</th>\n",
              "      <th>pixel14</th>\n",
              "      <th>pixel15</th>\n",
              "      <th>pixel16</th>\n",
              "      <th>pixel17</th>\n",
              "      <th>pixel18</th>\n",
              "      <th>pixel19</th>\n",
              "      <th>pixel20</th>\n",
              "      <th>pixel21</th>\n",
              "      <th>pixel22</th>\n",
              "      <th>pixel23</th>\n",
              "      <th>pixel24</th>\n",
              "      <th>pixel25</th>\n",
              "      <th>pixel26</th>\n",
              "      <th>pixel27</th>\n",
              "      <th>pixel28</th>\n",
              "      <th>pixel29</th>\n",
              "      <th>pixel30</th>\n",
              "      <th>pixel31</th>\n",
              "      <th>pixel32</th>\n",
              "      <th>pixel33</th>\n",
              "      <th>pixel34</th>\n",
              "      <th>pixel35</th>\n",
              "      <th>pixel36</th>\n",
              "      <th>pixel37</th>\n",
              "      <th>pixel38</th>\n",
              "      <th>pixel39</th>\n",
              "      <th>...</th>\n",
              "      <th>pixel744</th>\n",
              "      <th>pixel745</th>\n",
              "      <th>pixel746</th>\n",
              "      <th>pixel747</th>\n",
              "      <th>pixel748</th>\n",
              "      <th>pixel749</th>\n",
              "      <th>pixel750</th>\n",
              "      <th>pixel751</th>\n",
              "      <th>pixel752</th>\n",
              "      <th>pixel753</th>\n",
              "      <th>pixel754</th>\n",
              "      <th>pixel755</th>\n",
              "      <th>pixel756</th>\n",
              "      <th>pixel757</th>\n",
              "      <th>pixel758</th>\n",
              "      <th>pixel759</th>\n",
              "      <th>pixel760</th>\n",
              "      <th>pixel761</th>\n",
              "      <th>pixel762</th>\n",
              "      <th>pixel763</th>\n",
              "      <th>pixel764</th>\n",
              "      <th>pixel765</th>\n",
              "      <th>pixel766</th>\n",
              "      <th>pixel767</th>\n",
              "      <th>pixel768</th>\n",
              "      <th>pixel769</th>\n",
              "      <th>pixel770</th>\n",
              "      <th>pixel771</th>\n",
              "      <th>pixel772</th>\n",
              "      <th>pixel773</th>\n",
              "      <th>pixel774</th>\n",
              "      <th>pixel775</th>\n",
              "      <th>pixel776</th>\n",
              "      <th>pixel777</th>\n",
              "      <th>pixel778</th>\n",
              "      <th>pixel779</th>\n",
              "      <th>pixel780</th>\n",
              "      <th>pixel781</th>\n",
              "      <th>pixel782</th>\n",
              "      <th>pixel783</th>\n",
              "    </tr>\n",
              "  </thead>\n",
              "  <tbody>\n",
              "    <tr>\n",
              "      <th>0</th>\n",
              "      <td>0</td>\n",
              "      <td>0</td>\n",
              "      <td>0</td>\n",
              "      <td>0</td>\n",
              "      <td>0</td>\n",
              "      <td>0</td>\n",
              "      <td>0</td>\n",
              "      <td>0</td>\n",
              "      <td>0</td>\n",
              "      <td>0</td>\n",
              "      <td>0</td>\n",
              "      <td>0</td>\n",
              "      <td>0</td>\n",
              "      <td>0</td>\n",
              "      <td>0</td>\n",
              "      <td>0</td>\n",
              "      <td>0</td>\n",
              "      <td>0</td>\n",
              "      <td>0</td>\n",
              "      <td>0</td>\n",
              "      <td>0</td>\n",
              "      <td>0</td>\n",
              "      <td>0</td>\n",
              "      <td>0</td>\n",
              "      <td>0</td>\n",
              "      <td>0</td>\n",
              "      <td>0</td>\n",
              "      <td>0</td>\n",
              "      <td>0</td>\n",
              "      <td>0</td>\n",
              "      <td>0</td>\n",
              "      <td>0</td>\n",
              "      <td>0</td>\n",
              "      <td>0</td>\n",
              "      <td>0</td>\n",
              "      <td>0</td>\n",
              "      <td>0</td>\n",
              "      <td>0</td>\n",
              "      <td>0</td>\n",
              "      <td>0</td>\n",
              "      <td>...</td>\n",
              "      <td>0</td>\n",
              "      <td>0</td>\n",
              "      <td>0</td>\n",
              "      <td>0</td>\n",
              "      <td>0</td>\n",
              "      <td>0</td>\n",
              "      <td>0</td>\n",
              "      <td>0</td>\n",
              "      <td>0</td>\n",
              "      <td>0</td>\n",
              "      <td>0</td>\n",
              "      <td>0</td>\n",
              "      <td>0</td>\n",
              "      <td>0</td>\n",
              "      <td>0</td>\n",
              "      <td>0</td>\n",
              "      <td>0</td>\n",
              "      <td>0</td>\n",
              "      <td>0</td>\n",
              "      <td>0</td>\n",
              "      <td>0</td>\n",
              "      <td>0</td>\n",
              "      <td>0</td>\n",
              "      <td>0</td>\n",
              "      <td>0</td>\n",
              "      <td>0</td>\n",
              "      <td>0</td>\n",
              "      <td>0</td>\n",
              "      <td>0</td>\n",
              "      <td>0</td>\n",
              "      <td>0</td>\n",
              "      <td>0</td>\n",
              "      <td>0</td>\n",
              "      <td>0</td>\n",
              "      <td>0</td>\n",
              "      <td>0</td>\n",
              "      <td>0</td>\n",
              "      <td>0</td>\n",
              "      <td>0</td>\n",
              "      <td>0</td>\n",
              "    </tr>\n",
              "    <tr>\n",
              "      <th>1</th>\n",
              "      <td>0</td>\n",
              "      <td>0</td>\n",
              "      <td>0</td>\n",
              "      <td>0</td>\n",
              "      <td>0</td>\n",
              "      <td>0</td>\n",
              "      <td>0</td>\n",
              "      <td>0</td>\n",
              "      <td>0</td>\n",
              "      <td>0</td>\n",
              "      <td>0</td>\n",
              "      <td>0</td>\n",
              "      <td>0</td>\n",
              "      <td>0</td>\n",
              "      <td>0</td>\n",
              "      <td>0</td>\n",
              "      <td>0</td>\n",
              "      <td>0</td>\n",
              "      <td>0</td>\n",
              "      <td>0</td>\n",
              "      <td>0</td>\n",
              "      <td>0</td>\n",
              "      <td>0</td>\n",
              "      <td>0</td>\n",
              "      <td>0</td>\n",
              "      <td>0</td>\n",
              "      <td>0</td>\n",
              "      <td>0</td>\n",
              "      <td>0</td>\n",
              "      <td>0</td>\n",
              "      <td>0</td>\n",
              "      <td>0</td>\n",
              "      <td>0</td>\n",
              "      <td>0</td>\n",
              "      <td>0</td>\n",
              "      <td>0</td>\n",
              "      <td>0</td>\n",
              "      <td>0</td>\n",
              "      <td>0</td>\n",
              "      <td>0</td>\n",
              "      <td>...</td>\n",
              "      <td>0</td>\n",
              "      <td>0</td>\n",
              "      <td>0</td>\n",
              "      <td>0</td>\n",
              "      <td>0</td>\n",
              "      <td>0</td>\n",
              "      <td>0</td>\n",
              "      <td>0</td>\n",
              "      <td>0</td>\n",
              "      <td>0</td>\n",
              "      <td>0</td>\n",
              "      <td>0</td>\n",
              "      <td>0</td>\n",
              "      <td>0</td>\n",
              "      <td>0</td>\n",
              "      <td>0</td>\n",
              "      <td>0</td>\n",
              "      <td>0</td>\n",
              "      <td>0</td>\n",
              "      <td>0</td>\n",
              "      <td>0</td>\n",
              "      <td>0</td>\n",
              "      <td>0</td>\n",
              "      <td>0</td>\n",
              "      <td>0</td>\n",
              "      <td>0</td>\n",
              "      <td>0</td>\n",
              "      <td>0</td>\n",
              "      <td>0</td>\n",
              "      <td>0</td>\n",
              "      <td>0</td>\n",
              "      <td>0</td>\n",
              "      <td>0</td>\n",
              "      <td>0</td>\n",
              "      <td>0</td>\n",
              "      <td>0</td>\n",
              "      <td>0</td>\n",
              "      <td>0</td>\n",
              "      <td>0</td>\n",
              "      <td>0</td>\n",
              "    </tr>\n",
              "    <tr>\n",
              "      <th>2</th>\n",
              "      <td>0</td>\n",
              "      <td>0</td>\n",
              "      <td>0</td>\n",
              "      <td>0</td>\n",
              "      <td>0</td>\n",
              "      <td>0</td>\n",
              "      <td>0</td>\n",
              "      <td>0</td>\n",
              "      <td>0</td>\n",
              "      <td>0</td>\n",
              "      <td>0</td>\n",
              "      <td>0</td>\n",
              "      <td>0</td>\n",
              "      <td>0</td>\n",
              "      <td>0</td>\n",
              "      <td>0</td>\n",
              "      <td>0</td>\n",
              "      <td>0</td>\n",
              "      <td>0</td>\n",
              "      <td>0</td>\n",
              "      <td>0</td>\n",
              "      <td>0</td>\n",
              "      <td>0</td>\n",
              "      <td>0</td>\n",
              "      <td>0</td>\n",
              "      <td>0</td>\n",
              "      <td>0</td>\n",
              "      <td>0</td>\n",
              "      <td>0</td>\n",
              "      <td>0</td>\n",
              "      <td>0</td>\n",
              "      <td>0</td>\n",
              "      <td>0</td>\n",
              "      <td>0</td>\n",
              "      <td>0</td>\n",
              "      <td>0</td>\n",
              "      <td>0</td>\n",
              "      <td>0</td>\n",
              "      <td>0</td>\n",
              "      <td>0</td>\n",
              "      <td>...</td>\n",
              "      <td>0</td>\n",
              "      <td>0</td>\n",
              "      <td>0</td>\n",
              "      <td>0</td>\n",
              "      <td>0</td>\n",
              "      <td>0</td>\n",
              "      <td>0</td>\n",
              "      <td>0</td>\n",
              "      <td>0</td>\n",
              "      <td>0</td>\n",
              "      <td>0</td>\n",
              "      <td>0</td>\n",
              "      <td>0</td>\n",
              "      <td>0</td>\n",
              "      <td>0</td>\n",
              "      <td>0</td>\n",
              "      <td>0</td>\n",
              "      <td>0</td>\n",
              "      <td>0</td>\n",
              "      <td>0</td>\n",
              "      <td>0</td>\n",
              "      <td>0</td>\n",
              "      <td>0</td>\n",
              "      <td>0</td>\n",
              "      <td>0</td>\n",
              "      <td>0</td>\n",
              "      <td>0</td>\n",
              "      <td>0</td>\n",
              "      <td>0</td>\n",
              "      <td>0</td>\n",
              "      <td>0</td>\n",
              "      <td>0</td>\n",
              "      <td>0</td>\n",
              "      <td>0</td>\n",
              "      <td>0</td>\n",
              "      <td>0</td>\n",
              "      <td>0</td>\n",
              "      <td>0</td>\n",
              "      <td>0</td>\n",
              "      <td>0</td>\n",
              "    </tr>\n",
              "    <tr>\n",
              "      <th>3</th>\n",
              "      <td>0</td>\n",
              "      <td>0</td>\n",
              "      <td>0</td>\n",
              "      <td>0</td>\n",
              "      <td>0</td>\n",
              "      <td>0</td>\n",
              "      <td>0</td>\n",
              "      <td>0</td>\n",
              "      <td>0</td>\n",
              "      <td>0</td>\n",
              "      <td>0</td>\n",
              "      <td>0</td>\n",
              "      <td>0</td>\n",
              "      <td>0</td>\n",
              "      <td>0</td>\n",
              "      <td>0</td>\n",
              "      <td>0</td>\n",
              "      <td>0</td>\n",
              "      <td>0</td>\n",
              "      <td>0</td>\n",
              "      <td>0</td>\n",
              "      <td>0</td>\n",
              "      <td>0</td>\n",
              "      <td>0</td>\n",
              "      <td>0</td>\n",
              "      <td>0</td>\n",
              "      <td>0</td>\n",
              "      <td>0</td>\n",
              "      <td>0</td>\n",
              "      <td>0</td>\n",
              "      <td>0</td>\n",
              "      <td>0</td>\n",
              "      <td>0</td>\n",
              "      <td>0</td>\n",
              "      <td>0</td>\n",
              "      <td>0</td>\n",
              "      <td>0</td>\n",
              "      <td>0</td>\n",
              "      <td>0</td>\n",
              "      <td>0</td>\n",
              "      <td>...</td>\n",
              "      <td>0</td>\n",
              "      <td>0</td>\n",
              "      <td>0</td>\n",
              "      <td>0</td>\n",
              "      <td>0</td>\n",
              "      <td>0</td>\n",
              "      <td>0</td>\n",
              "      <td>0</td>\n",
              "      <td>0</td>\n",
              "      <td>0</td>\n",
              "      <td>0</td>\n",
              "      <td>0</td>\n",
              "      <td>0</td>\n",
              "      <td>0</td>\n",
              "      <td>0</td>\n",
              "      <td>0</td>\n",
              "      <td>0</td>\n",
              "      <td>0</td>\n",
              "      <td>0</td>\n",
              "      <td>0</td>\n",
              "      <td>0</td>\n",
              "      <td>0</td>\n",
              "      <td>0</td>\n",
              "      <td>0</td>\n",
              "      <td>0</td>\n",
              "      <td>0</td>\n",
              "      <td>0</td>\n",
              "      <td>0</td>\n",
              "      <td>0</td>\n",
              "      <td>0</td>\n",
              "      <td>0</td>\n",
              "      <td>0</td>\n",
              "      <td>0</td>\n",
              "      <td>0</td>\n",
              "      <td>0</td>\n",
              "      <td>0</td>\n",
              "      <td>0</td>\n",
              "      <td>0</td>\n",
              "      <td>0</td>\n",
              "      <td>0</td>\n",
              "    </tr>\n",
              "    <tr>\n",
              "      <th>4</th>\n",
              "      <td>0</td>\n",
              "      <td>0</td>\n",
              "      <td>0</td>\n",
              "      <td>0</td>\n",
              "      <td>0</td>\n",
              "      <td>0</td>\n",
              "      <td>0</td>\n",
              "      <td>0</td>\n",
              "      <td>0</td>\n",
              "      <td>0</td>\n",
              "      <td>0</td>\n",
              "      <td>0</td>\n",
              "      <td>0</td>\n",
              "      <td>0</td>\n",
              "      <td>0</td>\n",
              "      <td>0</td>\n",
              "      <td>0</td>\n",
              "      <td>0</td>\n",
              "      <td>0</td>\n",
              "      <td>0</td>\n",
              "      <td>0</td>\n",
              "      <td>0</td>\n",
              "      <td>0</td>\n",
              "      <td>0</td>\n",
              "      <td>0</td>\n",
              "      <td>0</td>\n",
              "      <td>0</td>\n",
              "      <td>0</td>\n",
              "      <td>0</td>\n",
              "      <td>0</td>\n",
              "      <td>0</td>\n",
              "      <td>0</td>\n",
              "      <td>0</td>\n",
              "      <td>0</td>\n",
              "      <td>0</td>\n",
              "      <td>0</td>\n",
              "      <td>0</td>\n",
              "      <td>0</td>\n",
              "      <td>0</td>\n",
              "      <td>0</td>\n",
              "      <td>...</td>\n",
              "      <td>0</td>\n",
              "      <td>0</td>\n",
              "      <td>0</td>\n",
              "      <td>0</td>\n",
              "      <td>0</td>\n",
              "      <td>0</td>\n",
              "      <td>0</td>\n",
              "      <td>0</td>\n",
              "      <td>0</td>\n",
              "      <td>0</td>\n",
              "      <td>0</td>\n",
              "      <td>0</td>\n",
              "      <td>0</td>\n",
              "      <td>0</td>\n",
              "      <td>0</td>\n",
              "      <td>0</td>\n",
              "      <td>0</td>\n",
              "      <td>0</td>\n",
              "      <td>0</td>\n",
              "      <td>0</td>\n",
              "      <td>0</td>\n",
              "      <td>0</td>\n",
              "      <td>0</td>\n",
              "      <td>0</td>\n",
              "      <td>0</td>\n",
              "      <td>0</td>\n",
              "      <td>0</td>\n",
              "      <td>0</td>\n",
              "      <td>0</td>\n",
              "      <td>0</td>\n",
              "      <td>0</td>\n",
              "      <td>0</td>\n",
              "      <td>0</td>\n",
              "      <td>0</td>\n",
              "      <td>0</td>\n",
              "      <td>0</td>\n",
              "      <td>0</td>\n",
              "      <td>0</td>\n",
              "      <td>0</td>\n",
              "      <td>0</td>\n",
              "    </tr>\n",
              "  </tbody>\n",
              "</table>\n",
              "<p>5 rows × 784 columns</p>\n",
              "</div>"
            ],
            "text/plain": [
              "   pixel0  pixel1  pixel2  pixel3  ...  pixel780  pixel781  pixel782  pixel783\n",
              "0       0       0       0       0  ...         0         0         0         0\n",
              "1       0       0       0       0  ...         0         0         0         0\n",
              "2       0       0       0       0  ...         0         0         0         0\n",
              "3       0       0       0       0  ...         0         0         0         0\n",
              "4       0       0       0       0  ...         0         0         0         0\n",
              "\n",
              "[5 rows x 784 columns]"
            ]
          },
          "metadata": {
            "tags": []
          },
          "execution_count": 273
        }
      ]
    },
    {
      "cell_type": "code",
      "metadata": {
        "id": "V648IjipP7qk",
        "colab_type": "code",
        "colab": {}
      },
      "source": [
        "X_train = train_data.drop('label',axis = 1).values\n",
        "y_train = train_data['label'].values\n",
        "\n",
        "X_test = test_data.values"
      ],
      "execution_count": 274,
      "outputs": []
    },
    {
      "cell_type": "code",
      "metadata": {
        "id": "21IIaHTCP7qw",
        "colab_type": "code",
        "colab": {
          "base_uri": "https://localhost:8080/",
          "height": 35
        },
        "outputId": "87075ccf-a4a7-48b5-f434-9639b98ea048"
      },
      "source": [
        "X_train.shape, y_train.shape, X_test.shape"
      ],
      "execution_count": 275,
      "outputs": [
        {
          "output_type": "execute_result",
          "data": {
            "text/plain": [
              "((42000, 784), (42000,), (18000, 784))"
            ]
          },
          "metadata": {
            "tags": []
          },
          "execution_count": 275
        }
      ]
    },
    {
      "cell_type": "code",
      "metadata": {
        "id": "dw5y1fiSP7q6",
        "colab_type": "code",
        "colab": {
          "base_uri": "https://localhost:8080/",
          "height": 281
        },
        "outputId": "6ea6c587-4a3c-4752-e0f2-82ab79f24e63"
      },
      "source": [
        "# 하나 출력해볼까!\n",
        "\n",
        "index = 0\n",
        "image = X_train[index].reshape(28,28)\n",
        "plt.imshow(image, 'gray')\n",
        "plt.title('label : {}'.format(y_train[index]))\n",
        "plt.show()"
      ],
      "execution_count": 304,
      "outputs": [
        {
          "output_type": "display_data",
          "data": {
            "image/png": "[encoded data removed]",
            "text/plain": [
              "<Figure size 432x288 with 1 Axes>"
            ]
          },
          "metadata": {
            "tags": [],
            "needs_background": "light"
          }
        }
      ]
    },
    {
      "cell_type": "code",
      "metadata": {
        "id": "BvZI5-UBP7rK",
        "colab_type": "code",
        "colab": {
          "base_uri": "https://localhost:8080/",
          "height": 70
        },
        "outputId": "09537ec4-1ba3-416f-f581-976b59782b5c"
      },
      "source": [
        "# 전체 784 pixel, 즉, 28*28 사이즈의 그림들임!\n",
        "\n",
        "image_size = X_train.shape[1]\n",
        "print ('image_size => {0}'.format(image_size))\n",
        "\n",
        "# in this case all images are square\n",
        "image_width = image_height = np.ceil(np.sqrt(image_size)).astype(np.uint8)\n",
        "\n",
        "print ('image_width => {0}\\nimage_height => {1}'.format(image_width,image_height))"
      ],
      "execution_count": 124,
      "outputs": [
        {
          "output_type": "stream",
          "text": [
            "image_size => 784\n",
            "image_width => 28\n",
            "image_height => 28\n"
          ],
          "name": "stdout"
        }
      ]
    },
    {
      "cell_type": "code",
      "metadata": {
        "id": "8FLEBTk4P7rZ",
        "colab_type": "code",
        "colab": {
          "base_uri": "https://localhost:8080/",
          "height": 52
        },
        "outputId": "703e0577-4498-408e-ccd7-ac4df4deaadf"
      },
      "source": [
        "# scaling\n",
        "\n",
        "X_train = X_train.astype(np.float)\n",
        "X_test = X_test.astype(np.float)\n",
        "X_train /= 255\n",
        "X_test /= 255\n",
        "\n",
        "print('maximum value after scaling:', X_train.max(),\n",
        "      '\\nminimum value after scaling:' ,X_train.min())"
      ],
      "execution_count": 125,
      "outputs": [
        {
          "output_type": "stream",
          "text": [
            "maximum value after scaling: 1.0 \n",
            "minimum value after scaling: 0.0\n"
          ],
          "name": "stdout"
        }
      ]
    },
    {
      "cell_type": "code",
      "metadata": {
        "id": "el0ctNKnP7rk",
        "colab_type": "code",
        "colab": {
          "base_uri": "https://localhost:8080/",
          "height": 52
        },
        "outputId": "c905b0d2-55c5-4461-f7fb-86b10f76ffaa"
      },
      "source": [
        "# train test split\n",
        "X_train, X_val, y_train, y_val = train_test_split(X_train, y_train, test_size=0.2)\n",
        "\n",
        "print(X_train.shape, y_train.shape)\n",
        "print(X_val.shape, y_val.shape)"
      ],
      "execution_count": 126,
      "outputs": [
        {
          "output_type": "stream",
          "text": [
            "(33600, 784) (33600,)\n",
            "(8400, 784) (8400,)\n"
          ],
          "name": "stdout"
        }
      ]
    },
    {
      "cell_type": "markdown",
      "metadata": {
        "id": "HC1CNu4MP7r2",
        "colab_type": "text"
      },
      "source": [
        "### Hyper parameter"
      ]
    },
    {
      "cell_type": "code",
      "metadata": {
        "id": "on91vxdeP7r5",
        "colab_type": "code",
        "colab": {}
      },
      "source": [
        "learning_rate = 1e-4\n",
        "epochs = 10\n",
        "batch_size = 100"
      ],
      "execution_count": 127,
      "outputs": []
    },
    {
      "cell_type": "markdown",
      "metadata": {
        "id": "mT-9QguZP7sG",
        "colab_type": "text"
      },
      "source": [
        "##### numpy to tensor"
      ]
    },
    {
      "cell_type": "code",
      "metadata": {
        "id": "ApJlw7Y1P7sI",
        "colab_type": "code",
        "colab": {}
      },
      "source": [
        "X_train = torch.Tensor(list(X_train))\n",
        "X_val = torch.Tensor(list(X_val))\n",
        "y_train = torch.Tensor(list(y_train))\n",
        "y_val = torch.Tensor(list(y_val))\n",
        "\n",
        "X_test = torch.Tensor(list(X_test))"
      ],
      "execution_count": 128,
      "outputs": []
    },
    {
      "cell_type": "markdown",
      "metadata": {
        "id": "mlnH9FMmSix3",
        "colab_type": "text"
      },
      "source": [
        "##### mini-batch: 한 epoch에 걸리는 시간을 단축시키기 위해 mini-batch 사용"
      ]
    },
    {
      "cell_type": "code",
      "metadata": {
        "id": "joT3qPaeP7sT",
        "colab_type": "code",
        "colab": {}
      },
      "source": [
        "from torch.utils.data import TensorDataset, DataLoader"
      ],
      "execution_count": 129,
      "outputs": []
    },
    {
      "cell_type": "code",
      "metadata": {
        "id": "cjeCijw2P7sc",
        "colab_type": "code",
        "colab": {}
      },
      "source": [
        "train_dataset = TensorDataset(X_train, y_train)\n",
        "train_loader = DataLoader(train_dataset, batch_size=batch_size)\n",
        "\n",
        "val_dataset = TensorDataset(X_val, y_val)\n",
        "val_loader = DataLoader(val_dataset, batch_size=batch_size)\n",
        "\n",
        "test_loader = DataLoader(X_test, batch_size=batch_size)"
      ],
      "execution_count": 130,
      "outputs": []
    },
    {
      "cell_type": "code",
      "metadata": {
        "id": "euuh5INFS2GY",
        "colab_type": "code",
        "colab": {
          "base_uri": "https://localhost:8080/",
          "height": 35
        },
        "outputId": "fe28d8a1-4be6-43d4-c7d8-a7eab6a1915e"
      },
      "source": [
        "ex_img, ex_label = next(iter(train_loader))\n",
        "ex_img.shape"
      ],
      "execution_count": 131,
      "outputs": [
        {
          "output_type": "execute_result",
          "data": {
            "text/plain": [
              "torch.Size([100, 784])"
            ]
          },
          "metadata": {
            "tags": []
          },
          "execution_count": 131
        }
      ]
    },
    {
      "cell_type": "markdown",
      "metadata": {
        "id": "swekbK4tP7sm",
        "colab_type": "text"
      },
      "source": [
        "## Try 1. 예제 모델"
      ]
    },
    {
      "cell_type": "code",
      "metadata": {
        "id": "rtjHgg5-P7sp",
        "colab_type": "code",
        "colab": {}
      },
      "source": [
        "class Net(nn.Module):\n",
        "    def __init__(self):\n",
        "        super(Net, self).__init__()\n",
        "        self.feature_extraction = nn.Sequential(\n",
        "            nn.Linear(1*28*28,512),\n",
        "            nn.ReLU(),\n",
        "            nn.Dropout(0.3),\n",
        "            nn.Linear(512,512),\n",
        "            nn.ReLU(),\n",
        "            nn.Dropout(0.2),\n",
        "        )\n",
        "        \n",
        "        self.classifier = nn.Sequential(\n",
        "            nn.Linear(512,10),\n",
        "            nn.Softmax(dim=1)\n",
        "        )\n",
        "        \n",
        "    def forward(self, x):\n",
        "        extracted_feature = self.feature_extraction(x)\n",
        "        flatten = extracted_feature.view(batch_size, -1)\n",
        "        result = self.classifier(flatten)\n",
        "        return result \n",
        "\n",
        "model = Net().to(device)\n",
        "model.train()\n",
        "loss_function = nn.CrossEntropyLoss()\n",
        "optimizer = optim.Adam(model.parameters(), lr=learning_rate)"
      ],
      "execution_count": null,
      "outputs": []
    },
    {
      "cell_type": "code",
      "metadata": {
        "id": "hbOo0fG9SOCC",
        "colab_type": "code",
        "colab": {
          "base_uri": "https://localhost:8080/",
          "height": 266
        },
        "outputId": "25af27a1-19c5-4ffe-852b-0ad444666ed9"
      },
      "source": [
        "model"
      ],
      "execution_count": null,
      "outputs": [
        {
          "output_type": "execute_result",
          "data": {
            "text/plain": [
              "Net(\n",
              "  (feature_extraction): Sequential(\n",
              "    (0): Linear(in_features=784, out_features=512, bias=True)\n",
              "    (1): ReLU()\n",
              "    (2): Dropout(p=0.3, inplace=False)\n",
              "    (3): Linear(in_features=512, out_features=512, bias=True)\n",
              "    (4): ReLU()\n",
              "    (5): Dropout(p=0.2, inplace=False)\n",
              "  )\n",
              "  (classifier): Sequential(\n",
              "    (0): Linear(in_features=512, out_features=10, bias=True)\n",
              "    (1): Softmax(dim=1)\n",
              "  )\n",
              ")"
            ]
          },
          "metadata": {
            "tags": []
          },
          "execution_count": 22
        }
      ]
    },
    {
      "cell_type": "markdown",
      "metadata": {
        "id": "JS86NDifP7s0",
        "colab_type": "text"
      },
      "source": [
        "### Train & Test"
      ]
    },
    {
      "cell_type": "code",
      "metadata": {
        "id": "lnkRE_f_P7s2",
        "colab_type": "code",
        "colab": {
          "base_uri": "https://localhost:8080/",
          "height": 195
        },
        "outputId": "46d7def2-fe31-4bb0-b7e8-f7bc97d99498"
      },
      "source": [
        "# train \n",
        "loss_array = []\n",
        "\n",
        "for i in range(epochs):\n",
        "    for index, [data,label] in enumerate(train_loader):\n",
        "        data = data.to(device)\n",
        "        label = label.to(device, dtype=torch.long) # label dtype float이라 에러발생 -> long으로 변환\n",
        "        \n",
        "        optimizer.zero_grad()\n",
        "        output = model.forward(data)\n",
        "        loss = loss_function(output, label)\n",
        "        loss.backward()\n",
        "        optimizer.step()\n",
        "        \n",
        "    if i % 1 == 0:\n",
        "        print('{} epoch loss: {}'.format(i+1, loss))\n",
        "        loss_array.append(loss)"
      ],
      "execution_count": null,
      "outputs": [
        {
          "output_type": "stream",
          "text": [
            "1 epoch loss: 1.5974618196487427\n",
            "2 epoch loss: 1.5536105632781982\n",
            "3 epoch loss: 1.5549508333206177\n",
            "4 epoch loss: 1.5370416641235352\n",
            "5 epoch loss: 1.519630789756775\n",
            "6 epoch loss: 1.5245460271835327\n",
            "7 epoch loss: 1.523685097694397\n",
            "8 epoch loss: 1.5078505277633667\n",
            "9 epoch loss: 1.5104091167449951\n",
            "10 epoch loss: 1.4981907606124878\n"
          ],
          "name": "stdout"
        }
      ]
    },
    {
      "cell_type": "code",
      "metadata": {
        "id": "kjC2Gb-xP7s-",
        "colab_type": "code",
        "colab": {
          "base_uri": "https://localhost:8080/",
          "height": 265
        },
        "outputId": "2b1f9091-98eb-4a4e-9720-99d36ca9b211"
      },
      "source": [
        "plt.figure()\n",
        "plt.plot(loss_array)\n",
        "plt.show()"
      ],
      "execution_count": null,
      "outputs": [
        {
          "output_type": "display_data",
          "data": {
            "image/png": "[encoded data removed]",
            "text/plain": [
              "<Figure size 432x288 with 1 Axes>"
            ]
          },
          "metadata": {
            "tags": [],
            "needs_background": "light"
          }
        }
      ]
    },
    {
      "cell_type": "code",
      "metadata": {
        "id": "jmlQ5MSQP7tI",
        "colab_type": "code",
        "colab": {
          "base_uri": "https://localhost:8080/",
          "height": 35
        },
        "outputId": "3d894613-2060-4e30-92d8-26b6ae55fbff"
      },
      "source": [
        "# test\n",
        "\n",
        "model.eval() # cf.) 드롭아웃 및 배치 정규화를 평가 모드로 설정하여야 합니다. 이것을 하지 않으면 추론 결과가 일관성 없게 출력됩니다.\n",
        "correct = 0\n",
        "total = 0\n",
        "\n",
        "\n",
        "with torch.no_grad():\n",
        "    for index, [data, label] in enumerate(val_loader):\n",
        "        data = data.to(device)\n",
        "        label = label.to(device, dtype=torch.long)\n",
        "        \n",
        "        output = model.forward(data)\n",
        "        _, predicted = torch.max(output,1)\n",
        "        \n",
        "        total += label.size(0)\n",
        "        correct += (predicted == label).sum().float()\n",
        "    \n",
        "    print('Validation Accuracy of the model: {}'.format(correct/total))"
      ],
      "execution_count": null,
      "outputs": [
        {
          "output_type": "stream",
          "text": [
            "Validation Accuracy of the model: 0.9716666340827942\n"
          ],
          "name": "stdout"
        }
      ]
    },
    {
      "cell_type": "markdown",
      "metadata": {
        "id": "30QWlLxsFqQG",
        "colab_type": "text"
      },
      "source": [
        "## Try 2. LeNet 구조 (base model로 사용)"
      ]
    },
    {
      "cell_type": "markdown",
      "metadata": {
        "id": "nJ9x9kgKUFNm",
        "colab_type": "text"
      },
      "source": [
        "##### image shape 변환: 784 -> 28x28"
      ]
    },
    {
      "cell_type": "code",
      "metadata": {
        "id": "sqIORXVmTDaL",
        "colab_type": "code",
        "colab": {}
      },
      "source": [
        "X_train2 = X_train.view(-1,1,28,28)\n",
        "X_val2 = X_val.view(-1,1,28,28)\n",
        "X_test2 = X_test.view(-1,1,28,28)"
      ],
      "execution_count": 132,
      "outputs": []
    },
    {
      "cell_type": "code",
      "metadata": {
        "id": "9kjXz7bUTQ6l",
        "colab_type": "code",
        "colab": {
          "base_uri": "https://localhost:8080/",
          "height": 35
        },
        "outputId": "4867cd8d-a9e1-4866-aaa4-16a02f2930f5"
      },
      "source": [
        "X_train2.shape"
      ],
      "execution_count": 133,
      "outputs": [
        {
          "output_type": "execute_result",
          "data": {
            "text/plain": [
              "torch.Size([33600, 1, 28, 28])"
            ]
          },
          "metadata": {
            "tags": []
          },
          "execution_count": 133
        }
      ]
    },
    {
      "cell_type": "code",
      "metadata": {
        "colab_type": "code",
        "id": "7oaTcsdaT9fJ",
        "colab": {}
      },
      "source": [
        "train_dataset2 = TensorDataset(X_train2, y_train)\n",
        "train_loader2 = DataLoader(train_dataset2, batch_size=batch_size)\n",
        "\n",
        "val_dataset2 = TensorDataset(X_val2, y_val)\n",
        "val_loader2 = DataLoader(val_dataset2, batch_size=batch_size)\n",
        "\n",
        "test_loader2 = DataLoader(X_test2, batch_size=batch_size)"
      ],
      "execution_count": 134,
      "outputs": []
    },
    {
      "cell_type": "code",
      "metadata": {
        "colab_type": "code",
        "id": "oi6exT5ZT9fZ",
        "colab": {
          "base_uri": "https://localhost:8080/",
          "height": 35
        },
        "outputId": "fa832ce7-60a3-494e-96dc-6acc48af1118"
      },
      "source": [
        "ex_img, ex_label = next(iter(train_loader2))\n",
        "ex_img.shape"
      ],
      "execution_count": 135,
      "outputs": [
        {
          "output_type": "execute_result",
          "data": {
            "text/plain": [
              "torch.Size([100, 1, 28, 28])"
            ]
          },
          "metadata": {
            "tags": []
          },
          "execution_count": 135
        }
      ]
    },
    {
      "cell_type": "code",
      "metadata": {
        "id": "Zh7f4n0tSqik",
        "colab_type": "code",
        "colab": {}
      },
      "source": [
        "class LeNet(nn.Module):\n",
        "    def __init__(self):\n",
        "        super(LeNet, self).__init__()\n",
        "        self.feature_extraction = nn.Sequential(\n",
        "            nn.Conv2d(1,6,5, padding=2), # 6x28x28\n",
        "            nn.AvgPool2d(2,2), # 6x14x14\n",
        "            nn.Conv2d(6,16,5), # 6x10x10\n",
        "            nn.Sigmoid(),\n",
        "            nn.AvgPool2d(2,2), # 16x5x5\n",
        "        )\n",
        "        \n",
        "        self.classifier = nn.Sequential(\n",
        "            nn.Linear(16*5*5, 120),\n",
        "            nn.Sigmoid(),\n",
        "            nn.Linear(120,84),\n",
        "            nn.Sigmoid(),\n",
        "            nn.Linear(84,10) # 400x10\n",
        "        )\n",
        "        \n",
        "    def forward(self, x):\n",
        "        extracted_feature = self.feature_extraction(x) # batch_sizex16x5x5\n",
        "        flatten = extracted_feature.view(batch_size, -1) # batch_sizex400\n",
        "        result = self.classifier(flatten) # batch_sizex10\n",
        "        return result \n",
        "\n",
        "model = LeNet().to(device)\n",
        "model.train()\n",
        "loss_function = nn.CrossEntropyLoss()\n",
        "optimizer = optim.Adam(model.parameters(), lr=learning_rate)"
      ],
      "execution_count": null,
      "outputs": []
    },
    {
      "cell_type": "code",
      "metadata": {
        "id": "uiKdfJIsOxRd",
        "colab_type": "code",
        "colab": {
          "base_uri": "https://localhost:8080/",
          "height": 195
        },
        "outputId": "d4a95d15-a432-4805-f428-08f137dc4e1f"
      },
      "source": [
        "# train \n",
        "loss_array = []\n",
        "\n",
        "for i in range(epochs):\n",
        "    for index, [data,label] in enumerate(train_loader2):\n",
        "        data = data.to(device)\n",
        "        label = label.to(device, dtype=torch.long) # label dtype float이라 에러발생 -> long으로 변환\n",
        "        \n",
        "        optimizer.zero_grad()\n",
        "        output = model.forward(data)\n",
        "        loss = loss_function(output, label)\n",
        "        loss.backward()\n",
        "        optimizer.step()\n",
        "        \n",
        "    if i % 1 == 0:\n",
        "        print('{} epoch loss: {}'.format(i+1, loss))\n",
        "        loss_array.append(loss)"
      ],
      "execution_count": null,
      "outputs": [
        {
          "output_type": "stream",
          "text": [
            "1 epoch loss: 2.2937912940979004\n",
            "2 epoch loss: 2.049363613128662\n",
            "3 epoch loss: 1.4444167613983154\n",
            "4 epoch loss: 1.0218878984451294\n",
            "5 epoch loss: 0.7612220644950867\n",
            "6 epoch loss: 0.585404634475708\n",
            "7 epoch loss: 0.45324671268463135\n",
            "8 epoch loss: 0.3577049970626831\n",
            "9 epoch loss: 0.2922252416610718\n",
            "10 epoch loss: 0.2474847435951233\n"
          ],
          "name": "stdout"
        }
      ]
    },
    {
      "cell_type": "code",
      "metadata": {
        "colab_type": "code",
        "id": "CxJAS6diUabH",
        "colab": {
          "base_uri": "https://localhost:8080/",
          "height": 265
        },
        "outputId": "08a3044c-7853-40a4-9c4d-b5a635d97c2a"
      },
      "source": [
        "plt.figure()\n",
        "plt.plot(loss_array)\n",
        "plt.show()"
      ],
      "execution_count": null,
      "outputs": [
        {
          "output_type": "display_data",
          "data": {
            "image/png": "[encoded data removed]",
            "text/plain": [
              "<Figure size 432x288 with 1 Axes>"
            ]
          },
          "metadata": {
            "tags": [],
            "needs_background": "light"
          }
        }
      ]
    },
    {
      "cell_type": "code",
      "metadata": {
        "colab_type": "code",
        "id": "VQVLawDyUabZ",
        "colab": {
          "base_uri": "https://localhost:8080/",
          "height": 35
        },
        "outputId": "3277881e-0581-4a5c-e54c-7cbca00a51b4"
      },
      "source": [
        "# test\n",
        "\n",
        "model.eval() # cf.) 드롭아웃 및 배치 정규화를 평가 모드로 설정하여야 합니다. 이것을 하지 않으면 추론 결과가 일관성 없게 출력됩니다.\n",
        "correct = 0\n",
        "total = 0\n",
        "\n",
        "\n",
        "with torch.no_grad():\n",
        "    for index, [data, label] in enumerate(val_loader2):\n",
        "        data = data.to(device)\n",
        "        label = label.to(device, dtype=torch.long)\n",
        "        \n",
        "        output = model.forward(data)\n",
        "        _, predicted = torch.max(output,1)\n",
        "        \n",
        "        total += label.size(0)\n",
        "        correct += (predicted == label).sum().float()\n",
        "    \n",
        "    print('Validation Accuracy of the model: {}'.format(correct/total))"
      ],
      "execution_count": null,
      "outputs": [
        {
          "output_type": "stream",
          "text": [
            "Validation Accuracy of the model: 0.9498809576034546\n"
          ],
          "name": "stdout"
        }
      ]
    },
    {
      "cell_type": "markdown",
      "metadata": {
        "id": "-cQyLXyjV5de",
        "colab_type": "text"
      },
      "source": [
        "## Try 3. Activation function 변환\n",
        "- Activation 결과: Sigmoid(0.949), ReLU(0.977), LeakyReLU(0.974), Tanh(0.981), elu(0.977)\n",
        "- Pooling: Avg -> Max 수정"
      ]
    },
    {
      "cell_type": "code",
      "metadata": {
        "id": "I3iWE_ygYYDJ",
        "colab_type": "code",
        "colab": {}
      },
      "source": [
        "activation = nn.Tanh()"
      ],
      "execution_count": null,
      "outputs": []
    },
    {
      "cell_type": "code",
      "metadata": {
        "colab_type": "code",
        "id": "QkwH20JhWB6M",
        "colab": {}
      },
      "source": [
        "class LeNet(nn.Module):\n",
        "    def __init__(self):\n",
        "        super(LeNet, self).__init__()\n",
        "        self.feature_extraction = nn.Sequential(\n",
        "            nn.Conv2d(1,6,5, padding=2), # 6x28x28\n",
        "            activation,\n",
        "            nn.MaxPool2d(2,2), # 6x14x14\n",
        "            nn.Conv2d(6,16,5), # 6x10x10\n",
        "            activation,\n",
        "            nn.MaxPool2d(2,2), # 16x5x5\n",
        "        )\n",
        "        \n",
        "        self.classifier = nn.Sequential(\n",
        "            nn.Linear(16*5*5, 120),\n",
        "            activation,\n",
        "            nn.Linear(120,84),\n",
        "            activation,\n",
        "            nn.Linear(84,10) # 400x10\n",
        "        )\n",
        "        \n",
        "    def forward(self, x):\n",
        "        extracted_feature = self.feature_extraction(x) # batch_sizex16x5x5\n",
        "        flatten = extracted_feature.view(batch_size, -1) # batch_sizex400\n",
        "        result = self.classifier(flatten) # batch_sizex10\n",
        "        return result \n",
        "\n",
        "model = LeNet().to(device)\n",
        "model.train()\n",
        "loss_function = nn.CrossEntropyLoss()\n",
        "optimizer = optim.Adam(model.parameters(), lr=learning_rate)"
      ],
      "execution_count": null,
      "outputs": []
    },
    {
      "cell_type": "code",
      "metadata": {
        "colab_type": "code",
        "id": "_WNrQayeWB6T",
        "colab": {
          "base_uri": "https://localhost:8080/",
          "height": 195
        },
        "outputId": "7a466a7b-579d-451f-be6c-6bc8f18b135b"
      },
      "source": [
        "# train \n",
        "loss_array = []\n",
        "\n",
        "for i in range(epochs):\n",
        "    for index, [data,label] in enumerate(train_loader2):\n",
        "        data = data.to(device)\n",
        "        label = label.to(device, dtype=torch.long) # label dtype float이라 에러발생 -> long으로 변환\n",
        "        \n",
        "        optimizer.zero_grad()\n",
        "        output = model.forward(data)\n",
        "        loss = loss_function(output, label)\n",
        "        loss.backward()\n",
        "        optimizer.step()\n",
        "        \n",
        "    if i % 1 == 0:\n",
        "        print('{} epoch loss: {}'.format(i+1, loss))\n",
        "        loss_array.append(loss)"
      ],
      "execution_count": null,
      "outputs": [
        {
          "output_type": "stream",
          "text": [
            "1 epoch loss: 0.5172184705734253\n",
            "2 epoch loss: 0.22529757022857666\n",
            "3 epoch loss: 0.16625772416591644\n",
            "4 epoch loss: 0.1399509757757187\n",
            "5 epoch loss: 0.12191660702228546\n",
            "6 epoch loss: 0.1078597828745842\n",
            "7 epoch loss: 0.0970306470990181\n",
            "8 epoch loss: 0.0887436494231224\n",
            "9 epoch loss: 0.08225264400243759\n",
            "10 epoch loss: 0.07678507268428802\n"
          ],
          "name": "stdout"
        }
      ]
    },
    {
      "cell_type": "code",
      "metadata": {
        "colab_type": "code",
        "id": "f77OCkivWB6X",
        "colab": {
          "base_uri": "https://localhost:8080/",
          "height": 265
        },
        "outputId": "e8998b46-0cf7-4af7-f9ab-da31a2d83b4f"
      },
      "source": [
        "plt.figure()\n",
        "plt.plot(loss_array)\n",
        "plt.show()"
      ],
      "execution_count": null,
      "outputs": [
        {
          "output_type": "display_data",
          "data": {
            "image/png": "[encoded data removed]",
            "text/plain": [
              "<Figure size 432x288 with 1 Axes>"
            ]
          },
          "metadata": {
            "tags": [],
            "needs_background": "light"
          }
        }
      ]
    },
    {
      "cell_type": "code",
      "metadata": {
        "colab_type": "code",
        "id": "BbHOSfpIWB6c",
        "colab": {
          "base_uri": "https://localhost:8080/",
          "height": 35
        },
        "outputId": "8a0ff377-1fd2-4573-cd6c-166195f59e51"
      },
      "source": [
        "# test\n",
        "\n",
        "model.eval() # cf.) 드롭아웃 및 배치 정규화를 평가 모드로 설정하여야 합니다. 이것을 하지 않으면 추론 결과가 일관성 없게 출력됩니다.\n",
        "correct = 0\n",
        "total = 0\n",
        "\n",
        "\n",
        "with torch.no_grad():\n",
        "    for index, [data, label] in enumerate(val_loader2):\n",
        "        data = data.to(device)\n",
        "        label = label.to(device, dtype=torch.long)\n",
        "        \n",
        "        output = model.forward(data)\n",
        "        _, predicted = torch.max(output,1)\n",
        "        \n",
        "        total += label.size(0)\n",
        "        correct += (predicted == label).sum().float()\n",
        "    \n",
        "    print('Validation Accuracy of the model: {}'.format(correct/total))"
      ],
      "execution_count": null,
      "outputs": [
        {
          "output_type": "stream",
          "text": [
            "Validation Accuracy of the model: 0.9813095331192017\n"
          ],
          "name": "stdout"
        }
      ]
    },
    {
      "cell_type": "markdown",
      "metadata": {
        "id": "dzwtPIlZcksL",
        "colab_type": "text"
      },
      "source": [
        "## Try 4. Batch Normalization 적용\n",
        "- Gradient Vanishing / Exploding 방지 및 속도 향상\n",
        "- 적용결과: Batch normalization을 적용하는 것이 확실히 성능 향상에 도움이 되었습니다. "
      ]
    },
    {
      "cell_type": "code",
      "metadata": {
        "colab_type": "code",
        "id": "7rFm2UIedNyK",
        "colab": {}
      },
      "source": [
        "class LeNet(nn.Module):\n",
        "    def __init__(self):\n",
        "        super(LeNet, self).__init__()\n",
        "        self.feature_extraction = nn.Sequential(\n",
        "            nn.Conv2d(1,6,5, padding=2), # 6x28x28\n",
        "            nn.BatchNorm2d(6),\n",
        "            activation,\n",
        "            nn.MaxPool2d(2,2), # 6x14x14\n",
        "            nn.Conv2d(6,16,5), # 6x10x10\n",
        "            nn.BatchNorm2d(16),\n",
        "            activation,\n",
        "            nn.MaxPool2d(2,2), # 16x5x5\n",
        "        )\n",
        "        \n",
        "        self.classifier = nn.Sequential(\n",
        "            nn.Linear(16*5*5, 120),\n",
        "            nn.BatchNorm1d(120),\n",
        "            activation,\n",
        "            nn.Linear(120,84),\n",
        "            nn.BatchNorm1d(84),\n",
        "            activation,\n",
        "            nn.Linear(84,10) # 400x10\n",
        "        )\n",
        "        \n",
        "    def forward(self, x):\n",
        "        extracted_feature = self.feature_extraction(x) # batch_sizex16x5x5\n",
        "        flatten = extracted_feature.view(batch_size, -1) # batch_sizex400\n",
        "        result = self.classifier(flatten) # batch_sizex10\n",
        "        return result \n",
        "\n",
        "model = LeNet().to(device)\n",
        "model.train()\n",
        "loss_function = nn.CrossEntropyLoss()\n",
        "optimizer = optim.Adam(model.parameters(), lr=learning_rate)"
      ],
      "execution_count": null,
      "outputs": []
    },
    {
      "cell_type": "code",
      "metadata": {
        "colab_type": "code",
        "id": "ufb5G82wdNyc",
        "colab": {
          "base_uri": "https://localhost:8080/",
          "height": 195
        },
        "outputId": "517de088-318d-4d30-e51e-f3301dd36ce8"
      },
      "source": [
        "# train \n",
        "loss_array = []\n",
        "\n",
        "for i in range(epochs):\n",
        "    for index, [data,label] in enumerate(train_loader2):\n",
        "        data = data.to(device)\n",
        "        label = label.to(device, dtype=torch.long) # label dtype float이라 에러발생 -> long으로 변환\n",
        "        \n",
        "        optimizer.zero_grad()\n",
        "        output = model.forward(data)\n",
        "        loss = loss_function(output, label)\n",
        "        loss.backward()\n",
        "        optimizer.step()\n",
        "        \n",
        "    if i % 1 == 0:\n",
        "        print('{} epoch loss: {}'.format(i+1, loss))\n",
        "        loss_array.append(loss)"
      ],
      "execution_count": null,
      "outputs": [
        {
          "output_type": "stream",
          "text": [
            "1 epoch loss: 0.3161132037639618\n",
            "2 epoch loss: 0.17667917907238007\n",
            "3 epoch loss: 0.125485360622406\n",
            "4 epoch loss: 0.0976872518658638\n",
            "5 epoch loss: 0.07812144607305527\n",
            "6 epoch loss: 0.06247192248702049\n",
            "7 epoch loss: 0.049452539533376694\n",
            "8 epoch loss: 0.03821653500199318\n",
            "9 epoch loss: 0.0284708384424448\n",
            "10 epoch loss: 0.021112389862537384\n"
          ],
          "name": "stdout"
        }
      ]
    },
    {
      "cell_type": "code",
      "metadata": {
        "colab_type": "code",
        "id": "1EgeJsZ5dNym",
        "colab": {
          "base_uri": "https://localhost:8080/",
          "height": 265
        },
        "outputId": "c5d86afc-beba-44f7-c980-ad15fad63c48"
      },
      "source": [
        "plt.figure()\n",
        "plt.plot(loss_array)\n",
        "plt.show()"
      ],
      "execution_count": null,
      "outputs": [
        {
          "output_type": "display_data",
          "data": {
            "image/png": "[encoded data removed]",
            "text/plain": [
              "<Figure size 432x288 with 1 Axes>"
            ]
          },
          "metadata": {
            "tags": [],
            "needs_background": "light"
          }
        }
      ]
    },
    {
      "cell_type": "code",
      "metadata": {
        "colab_type": "code",
        "id": "pnjlGCs_dNyu",
        "colab": {
          "base_uri": "https://localhost:8080/",
          "height": 35
        },
        "outputId": "ce6e0152-0681-4a3d-b48f-8d83b73811ef"
      },
      "source": [
        "# test\n",
        "\n",
        "model.eval() # cf.) 드롭아웃 및 배치 정규화를 평가 모드로 설정하여야 합니다. 이것을 하지 않으면 추론 결과가 일관성 없게 출력됩니다.\n",
        "correct = 0\n",
        "total = 0\n",
        "\n",
        "\n",
        "with torch.no_grad():\n",
        "    for index, [data, label] in enumerate(val_loader2):\n",
        "        data = data.to(device)\n",
        "        label = label.to(device, dtype=torch.long)\n",
        "        \n",
        "        output = model.forward(data)\n",
        "        _, predicted = torch.max(output,1)\n",
        "        \n",
        "        total += label.size(0)\n",
        "        correct += (predicted == label).sum().float()\n",
        "    \n",
        "    print('Validation Accuracy of the model: {}'.format(correct/total))"
      ],
      "execution_count": null,
      "outputs": [
        {
          "output_type": "stream",
          "text": [
            "Validation Accuracy of the model: 0.9870237708091736\n"
          ],
          "name": "stdout"
        }
      ]
    },
    {
      "cell_type": "markdown",
      "metadata": {
        "id": "gnW5z0SdeklQ",
        "colab_type": "text"
      },
      "source": [
        "## Try 5. Weight Initialization\n",
        "- 가중치의 Vanishing / Exploding 방지\n",
        "- 적용결과: ReLU와 Xavier 또는 ReLU와 He의 조합이 Tanh보다 성능이 좋았습니다. "
      ]
    },
    {
      "cell_type": "markdown",
      "metadata": {
        "id": "nKAPPuBzgNtm",
        "colab_type": "text"
      },
      "source": [
        "#### 5-1. Tanh + Xavier"
      ]
    },
    {
      "cell_type": "code",
      "metadata": {
        "id": "OnkYBtsogX_a",
        "colab_type": "code",
        "colab": {}
      },
      "source": [
        "activation = nn.Tanh()"
      ],
      "execution_count": null,
      "outputs": []
    },
    {
      "cell_type": "code",
      "metadata": {
        "colab_type": "code",
        "id": "90V4TmwPfS6e",
        "colab": {}
      },
      "source": [
        "class LeNet(nn.Module):\n",
        "    def __init__(self):\n",
        "        super(LeNet, self).__init__()\n",
        "        self.feature_extraction = nn.Sequential(\n",
        "            nn.Conv2d(1,6,5, padding=2), # 6x28x28\n",
        "            nn.BatchNorm2d(6),\n",
        "            activation,\n",
        "            nn.MaxPool2d(2,2), # 6x14x14\n",
        "            nn.Conv2d(6,16,5), # 6x10x10\n",
        "            nn.BatchNorm2d(16),\n",
        "            activation,\n",
        "            nn.MaxPool2d(2,2), # 16x5x5\n",
        "        )\n",
        "        \n",
        "        self.classifier = nn.Sequential(\n",
        "            nn.Linear(16*5*5, 120),\n",
        "            nn.BatchNorm1d(120),\n",
        "            activation,\n",
        "            nn.Linear(120,84),\n",
        "            nn.BatchNorm1d(84),\n",
        "            activation,\n",
        "            nn.Linear(84,10) # 400x10\n",
        "        )\n",
        "        \n",
        "    def forward(self, x):\n",
        "        extracted_feature = self.feature_extraction(x) # batch_sizex16x5x5\n",
        "        flatten = extracted_feature.view(batch_size, -1) # batch_sizex400\n",
        "        result = self.classifier(flatten) # batch_sizex10\n",
        "        return result \n",
        "\n",
        "# weight initialization: Xavier\n",
        "def init_weights(m):\n",
        "    if type(m) == nn.Linear :\n",
        "        torch.nn.init.xavier_uniform_(m.weight)\n",
        "        m.bias.data.fill_(0.01)\n",
        "\n",
        "model = LeNet().to(device)\n",
        "model.train()\n",
        "loss_function = nn.CrossEntropyLoss()\n",
        "optimizer = optim.Adam(model.parameters(), lr=learning_rate)"
      ],
      "execution_count": null,
      "outputs": []
    },
    {
      "cell_type": "code",
      "metadata": {
        "colab_type": "code",
        "id": "LSKGvaE7fS7C",
        "colab": {
          "base_uri": "https://localhost:8080/",
          "height": 195
        },
        "outputId": "931e0815-df23-4d73-bb3a-6f2b2fd8bfe4"
      },
      "source": [
        "# train \n",
        "loss_array = []\n",
        "\n",
        "for i in range(epochs):\n",
        "    for index, [data,label] in enumerate(train_loader2):\n",
        "        data = data.to(device)\n",
        "        label = label.to(device, dtype=torch.long) # label dtype float이라 에러발생 -> long으로 변환\n",
        "        \n",
        "        optimizer.zero_grad()\n",
        "        output = model.forward(data)\n",
        "        loss = loss_function(output, label)\n",
        "        loss.backward()\n",
        "        optimizer.step()\n",
        "        \n",
        "    if i % 1 == 0:\n",
        "        print('{} epoch loss: {}'.format(i+1, loss))\n",
        "        loss_array.append(loss)"
      ],
      "execution_count": null,
      "outputs": [
        {
          "output_type": "stream",
          "text": [
            "1 epoch loss: 0.3382980227470398\n",
            "2 epoch loss: 0.18596576154232025\n",
            "3 epoch loss: 0.12632794678211212\n",
            "4 epoch loss: 0.09469921141862869\n",
            "5 epoch loss: 0.07411615550518036\n",
            "6 epoch loss: 0.059496112167835236\n",
            "7 epoch loss: 0.0474759116768837\n",
            "8 epoch loss: 0.03719840943813324\n",
            "9 epoch loss: 0.028612952679395676\n",
            "10 epoch loss: 0.02215726301074028\n"
          ],
          "name": "stdout"
        }
      ]
    },
    {
      "cell_type": "code",
      "metadata": {
        "colab_type": "code",
        "id": "M9EKMLJIfS7O",
        "colab": {
          "base_uri": "https://localhost:8080/",
          "height": 267
        },
        "outputId": "9f1a6a6a-0432-4bb3-f539-2ed24e8ef63c"
      },
      "source": [
        "plt.figure()\n",
        "plt.plot(loss_array)\n",
        "plt.show()"
      ],
      "execution_count": null,
      "outputs": [
        {
          "output_type": "display_data",
          "data": {
            "image/png": "[encoded data removed]",
            "text/plain": [
              "<Figure size 432x288 with 1 Axes>"
            ]
          },
          "metadata": {
            "tags": [],
            "needs_background": "light"
          }
        }
      ]
    },
    {
      "cell_type": "code",
      "metadata": {
        "colab_type": "code",
        "id": "-vv2EWjZfS7X",
        "colab": {
          "base_uri": "https://localhost:8080/",
          "height": 35
        },
        "outputId": "690d2d31-21cc-42ed-c433-0ebc902f4d99"
      },
      "source": [
        "# test\n",
        "\n",
        "model.eval() # cf.) 드롭아웃 및 배치 정규화를 평가 모드로 설정하여야 합니다. 이것을 하지 않으면 추론 결과가 일관성 없게 출력됩니다.\n",
        "correct = 0\n",
        "total = 0\n",
        "\n",
        "\n",
        "with torch.no_grad():\n",
        "    for index, [data, label] in enumerate(val_loader2):\n",
        "        data = data.to(device)\n",
        "        label = label.to(device, dtype=torch.long)\n",
        "        \n",
        "        output = model.forward(data)\n",
        "        _, predicted = torch.max(output,1)\n",
        "        \n",
        "        total += label.size(0)\n",
        "        correct += (predicted == label).sum().float()\n",
        "    \n",
        "    print('Validation Accuracy of the model: {}'.format(correct/total))"
      ],
      "execution_count": null,
      "outputs": [
        {
          "output_type": "stream",
          "text": [
            "Validation Accuracy of the model: 0.987500011920929\n"
          ],
          "name": "stdout"
        }
      ]
    },
    {
      "cell_type": "markdown",
      "metadata": {
        "id": "MRZLq7s_gSox",
        "colab_type": "text"
      },
      "source": [
        "#### 5-2. ReLU + He"
      ]
    },
    {
      "cell_type": "code",
      "metadata": {
        "id": "-UKpmZ7lXXts",
        "colab_type": "code",
        "colab": {}
      },
      "source": [
        "activation = nn.ReLU()"
      ],
      "execution_count": null,
      "outputs": []
    },
    {
      "cell_type": "code",
      "metadata": {
        "colab_type": "code",
        "id": "Z7ADl85Dgg2t",
        "colab": {}
      },
      "source": [
        "class LeNet(nn.Module):\n",
        "    def __init__(self):\n",
        "        super(LeNet, self).__init__()\n",
        "        self.feature_extraction = nn.Sequential(\n",
        "            nn.Conv2d(1,6,5, padding=2), # 6x28x28\n",
        "            nn.BatchNorm2d(6),\n",
        "            activation,\n",
        "            nn.MaxPool2d(2,2), # 6x14x14\n",
        "            nn.Conv2d(6,16,5), # 6x10x10\n",
        "            nn.BatchNorm2d(16),\n",
        "            activation,\n",
        "            nn.MaxPool2d(2,2), # 16x5x5\n",
        "        )\n",
        "        \n",
        "        self.classifier = nn.Sequential(\n",
        "            nn.Linear(16*5*5, 120),\n",
        "            nn.BatchNorm1d(120),\n",
        "            activation,\n",
        "            nn.Linear(120,84),\n",
        "            nn.BatchNorm1d(84),\n",
        "            activation,\n",
        "            nn.Linear(84,10) # 400x10\n",
        "        )\n",
        "        \n",
        "    def forward(self, x):\n",
        "        extracted_feature = self.feature_extraction(x) # batch_sizex16x5x5\n",
        "        flatten = extracted_feature.view(batch_size, -1) # batch_sizex400\n",
        "        result = self.classifier(flatten) # batch_sizex10\n",
        "        return result \n",
        "\n",
        "# weight initialization: He uniform\n",
        "def init_weights(m):\n",
        "    if type(m) == nn.Linear :\n",
        "        torch.nn.init.kaiming_uniform_(m.weight)\n",
        "        m.bias.data.fill_(0.01)\n",
        "\n",
        "model = LeNet().to(device)\n",
        "model.train()\n",
        "loss_function = nn.CrossEntropyLoss()\n",
        "optimizer = optim.Adam(model.parameters(), lr=learning_rate)"
      ],
      "execution_count": null,
      "outputs": []
    },
    {
      "cell_type": "code",
      "metadata": {
        "colab_type": "code",
        "id": "tSTU5A36gg2z",
        "colab": {
          "base_uri": "https://localhost:8080/",
          "height": 195
        },
        "outputId": "131fd324-9d16-4873-c397-b79722f0f68c"
      },
      "source": [
        "# train \n",
        "loss_array = []\n",
        "\n",
        "for i in range(epochs):\n",
        "    for index, [data,label] in enumerate(train_loader2):\n",
        "        data = data.to(device)\n",
        "        label = label.to(device, dtype=torch.long) # label dtype float이라 에러발생 -> long으로 변환\n",
        "        \n",
        "        optimizer.zero_grad()\n",
        "        output = model.forward(data)\n",
        "        loss = loss_function(output, label)\n",
        "        loss.backward()\n",
        "        optimizer.step()\n",
        "        \n",
        "    if i % 1 == 0:\n",
        "        print('{} epoch loss: {}'.format(i+1, loss))\n",
        "        loss_array.append(loss)"
      ],
      "execution_count": null,
      "outputs": [
        {
          "output_type": "stream",
          "text": [
            "1 epoch loss: 0.39502963423728943\n",
            "2 epoch loss: 0.19181376695632935\n",
            "3 epoch loss: 0.12420115619897842\n",
            "4 epoch loss: 0.09452514350414276\n",
            "5 epoch loss: 0.0781596451997757\n",
            "6 epoch loss: 0.0661725252866745\n",
            "7 epoch loss: 0.05584032088518143\n",
            "8 epoch loss: 0.046764642000198364\n",
            "9 epoch loss: 0.03762656822800636\n",
            "10 epoch loss: 0.027965432032942772\n"
          ],
          "name": "stdout"
        }
      ]
    },
    {
      "cell_type": "code",
      "metadata": {
        "colab_type": "code",
        "id": "WtKHuBqFgg23",
        "colab": {
          "base_uri": "https://localhost:8080/",
          "height": 265
        },
        "outputId": "477b7d91-b8d1-4bd4-82fa-1b75f5133133"
      },
      "source": [
        "plt.figure()\n",
        "plt.plot(loss_array)\n",
        "plt.show()"
      ],
      "execution_count": null,
      "outputs": [
        {
          "output_type": "display_data",
          "data": {
            "image/png": "[encoded data removed]",
            "text/plain": [
              "<Figure size 432x288 with 1 Axes>"
            ]
          },
          "metadata": {
            "tags": [],
            "needs_background": "light"
          }
        }
      ]
    },
    {
      "cell_type": "code",
      "metadata": {
        "colab_type": "code",
        "id": "Nmp81P3jgg29",
        "colab": {
          "base_uri": "https://localhost:8080/",
          "height": 35
        },
        "outputId": "cac037e7-f8a1-4814-aabc-5d5ce0894b0e"
      },
      "source": [
        "# test\n",
        "\n",
        "model.eval() # cf.) 드롭아웃 및 배치 정규화를 평가 모드로 설정하여야 합니다. 이것을 하지 않으면 추론 결과가 일관성 없게 출력됩니다.\n",
        "correct = 0\n",
        "total = 0\n",
        "\n",
        "\n",
        "with torch.no_grad():\n",
        "    for index, [data, label] in enumerate(val_loader2):\n",
        "        data = data.to(device)\n",
        "        label = label.to(device, dtype=torch.long)\n",
        "        \n",
        "        output = model.forward(data)\n",
        "        _, predicted = torch.max(output,1)\n",
        "        \n",
        "        total += label.size(0)\n",
        "        correct += (predicted == label).sum().float()\n",
        "    \n",
        "    print('Validation Accuracy of the model: {}'.format(correct/total))"
      ],
      "execution_count": null,
      "outputs": [
        {
          "output_type": "stream",
          "text": [
            "Validation Accuracy of the model: 0.9904761910438538\n"
          ],
          "name": "stdout"
        }
      ]
    },
    {
      "cell_type": "markdown",
      "metadata": {
        "id": "1rbCYXeUitPI",
        "colab_type": "text"
      },
      "source": [
        "#### 5-3. ReLU + Xavier"
      ]
    },
    {
      "cell_type": "code",
      "metadata": {
        "colab_type": "code",
        "id": "mK9aYqLHi-nj",
        "colab": {}
      },
      "source": [
        "activation = nn.ReLU()"
      ],
      "execution_count": null,
      "outputs": []
    },
    {
      "cell_type": "code",
      "metadata": {
        "colab_type": "code",
        "id": "TaoNgwIIi-ny",
        "colab": {}
      },
      "source": [
        "class LeNet(nn.Module):\n",
        "    def __init__(self):\n",
        "        super(LeNet, self).__init__()\n",
        "        self.feature_extraction = nn.Sequential(\n",
        "            nn.Conv2d(1,6,5, padding=2), # 6x28x28\n",
        "            nn.BatchNorm2d(6),\n",
        "            activation,\n",
        "            nn.MaxPool2d(2,2), # 6x14x14\n",
        "            nn.Conv2d(6,16,5), # 6x10x10\n",
        "            nn.BatchNorm2d(16),\n",
        "            activation,\n",
        "            nn.MaxPool2d(2,2), # 16x5x5\n",
        "        )\n",
        "        \n",
        "        self.classifier = nn.Sequential(\n",
        "            nn.Linear(16*5*5, 120),\n",
        "            nn.BatchNorm1d(120),\n",
        "            activation,\n",
        "            nn.Linear(120,84),\n",
        "            nn.BatchNorm1d(84),\n",
        "            activation,\n",
        "            nn.Linear(84,10) # 400x10\n",
        "        )\n",
        "        \n",
        "    def forward(self, x):\n",
        "        extracted_feature = self.feature_extraction(x) # batch_sizex16x5x5\n",
        "        flatten = extracted_feature.view(batch_size, -1) # batch_sizex400\n",
        "        result = self.classifier(flatten) # batch_sizex10\n",
        "        return result \n",
        "\n",
        "# weight initialization : Xavier\n",
        "def init_weights(m):\n",
        "    if type(m) == nn.Linear :\n",
        "        torch.nn.init.xavier_uniform_(m.weight)\n",
        "        m.bias.data.fill_(0.01)\n",
        "\n",
        "model = LeNet().to(device)\n",
        "model.train()\n",
        "loss_function = nn.CrossEntropyLoss()\n",
        "optimizer = optim.Adam(model.parameters(), lr=learning_rate)"
      ],
      "execution_count": null,
      "outputs": []
    },
    {
      "cell_type": "code",
      "metadata": {
        "colab_type": "code",
        "id": "RYEfLb6Bi-n6",
        "colab": {
          "base_uri": "https://localhost:8080/",
          "height": 195
        },
        "outputId": "ee30bad4-4a1f-4992-c732-f11cc5ab2e66"
      },
      "source": [
        "# train \n",
        "loss_array = []\n",
        "\n",
        "for i in range(epochs):\n",
        "    for index, [data,label] in enumerate(train_loader2):\n",
        "        data = data.to(device)\n",
        "        label = label.to(device, dtype=torch.long) # label dtype float이라 에러발생 -> long으로 변환\n",
        "        \n",
        "        optimizer.zero_grad()\n",
        "        output = model.forward(data)\n",
        "        loss = loss_function(output, label)\n",
        "        loss.backward()\n",
        "        optimizer.step()\n",
        "        \n",
        "    if i % 1 == 0:\n",
        "        print('{} epoch loss: {}'.format(i+1, loss))\n",
        "        loss_array.append(loss)"
      ],
      "execution_count": null,
      "outputs": [
        {
          "output_type": "stream",
          "text": [
            "1 epoch loss: 0.3897978961467743\n",
            "2 epoch loss: 0.18521876633167267\n",
            "3 epoch loss: 0.1231350526213646\n",
            "4 epoch loss: 0.09506989270448685\n",
            "5 epoch loss: 0.07799176871776581\n",
            "6 epoch loss: 0.06627354770898819\n",
            "7 epoch loss: 0.05738666653633118\n",
            "8 epoch loss: 0.04952729865908623\n",
            "9 epoch loss: 0.04151416942477226\n",
            "10 epoch loss: 0.03238208219408989\n"
          ],
          "name": "stdout"
        }
      ]
    },
    {
      "cell_type": "code",
      "metadata": {
        "colab_type": "code",
        "id": "_-I1WfWGi-oH",
        "colab": {
          "base_uri": "https://localhost:8080/",
          "height": 265
        },
        "outputId": "e5039393-bbc2-4c0b-ca46-0716abf2dc64"
      },
      "source": [
        "plt.figure()\n",
        "plt.plot(loss_array)\n",
        "plt.show()"
      ],
      "execution_count": null,
      "outputs": [
        {
          "output_type": "display_data",
          "data": {
            "image/png": "[encoded data removed]",
            "text/plain": [
              "<Figure size 432x288 with 1 Axes>"
            ]
          },
          "metadata": {
            "tags": [],
            "needs_background": "light"
          }
        }
      ]
    },
    {
      "cell_type": "code",
      "metadata": {
        "colab_type": "code",
        "id": "EU4Stv7ri-oQ",
        "colab": {
          "base_uri": "https://localhost:8080/",
          "height": 35
        },
        "outputId": "d93ecc76-7495-41a9-cb5a-616b101adcac"
      },
      "source": [
        "# test\n",
        "\n",
        "model.eval() # cf.) 드롭아웃 및 배치 정규화를 평가 모드로 설정하여야 합니다. 이것을 하지 않으면 추론 결과가 일관성 없게 출력됩니다.\n",
        "correct = 0\n",
        "total = 0\n",
        "\n",
        "\n",
        "with torch.no_grad():\n",
        "    for index, [data, label] in enumerate(val_loader2):\n",
        "        data = data.to(device)\n",
        "        label = label.to(device, dtype=torch.long)\n",
        "        \n",
        "        output = model.forward(data)\n",
        "        _, predicted = torch.max(output,1)\n",
        "        \n",
        "        total += label.size(0)\n",
        "        correct += (predicted == label).sum().float()\n",
        "    \n",
        "    print('Validation Accuracy of the model: {}'.format(correct/total))"
      ],
      "execution_count": null,
      "outputs": [
        {
          "output_type": "stream",
          "text": [
            "Validation Accuracy of the model: 0.9905952215194702\n"
          ],
          "name": "stdout"
        }
      ]
    },
    {
      "cell_type": "markdown",
      "metadata": {
        "id": "9VSLWN-8jgIi",
        "colab_type": "text"
      },
      "source": [
        "## Try 6. Dropout\n",
        "- 학습 시 weight 동조 현상 방지\n",
        "\n",
        "- 적용 결과: activation 전에 항상 적용하는 것보다 여러 시도를 해보면서 dropout을 적용하는 것이 조금 더 성능이 나았습니다. "
      ]
    },
    {
      "cell_type": "code",
      "metadata": {
        "colab_type": "code",
        "id": "L8hqCMNIj1Q8",
        "colab": {}
      },
      "source": [
        "activation = nn.ReLU()\n",
        "dropout_rate = 0.2"
      ],
      "execution_count": null,
      "outputs": []
    },
    {
      "cell_type": "code",
      "metadata": {
        "colab_type": "code",
        "id": "9858647Cj1RO",
        "colab": {}
      },
      "source": [
        "class LeNet(nn.Module):\n",
        "    def __init__(self):\n",
        "        super(LeNet, self).__init__()\n",
        "        self.feature_extraction = nn.Sequential(\n",
        "            nn.Conv2d(1,6,5, padding=2), # 6x28x28\n",
        "            nn.BatchNorm2d(6),\n",
        "            activation,\n",
        "            nn.Dropout(dropout_rate),\n",
        "            nn.MaxPool2d(2,2), # 6x14x14\n",
        "            nn.Conv2d(6,16,5), # 6x10x10\n",
        "            nn.BatchNorm2d(16),\n",
        "            activation,\n",
        "            # nn.Dropout(dropout_rate),\n",
        "            nn.MaxPool2d(2,2), # 16x5x5\n",
        "        )\n",
        "        \n",
        "        self.classifier = nn.Sequential(\n",
        "            nn.Linear(16*5*5, 120),\n",
        "            nn.BatchNorm1d(120),\n",
        "            activation,\n",
        "            # nn.Dropout(dropout_rate),\n",
        "            nn.Linear(120,84),\n",
        "            nn.BatchNorm1d(84),\n",
        "            activation,\n",
        "            # nn.Dropout(dropout_rate),\n",
        "            nn.Linear(84,10) # 400x10\n",
        "        )\n",
        "        \n",
        "    def forward(self, x):\n",
        "        extracted_feature = self.feature_extraction(x) # batch_sizex16x5x5\n",
        "        flatten = extracted_feature.view(batch_size, -1) # batch_sizex400\n",
        "        result = self.classifier(flatten) # batch_sizex10\n",
        "        return result \n",
        "\n",
        "# weight initialization : Xavier\n",
        "def init_weights(m):\n",
        "    if type(m) == nn.Linear :\n",
        "        torch.nn.init.xavier_uniform_(m.weight)\n",
        "        m.bias.data.fill_(0.01)\n",
        "\n",
        "model = LeNet().to(device)\n",
        "model.train()\n",
        "loss_function = nn.CrossEntropyLoss()\n",
        "optimizer = optim.Adam(model.parameters(), lr=learning_rate)"
      ],
      "execution_count": null,
      "outputs": []
    },
    {
      "cell_type": "code",
      "metadata": {
        "colab_type": "code",
        "id": "Arhwrdy2j1RZ",
        "colab": {
          "base_uri": "https://localhost:8080/",
          "height": 195
        },
        "outputId": "db7770ae-b122-40f8-ce92-6323c7c09009"
      },
      "source": [
        "# train \n",
        "loss_array = []\n",
        "\n",
        "for i in range(epochs):\n",
        "    for index, [data,label] in enumerate(train_loader2):\n",
        "        data = data.to(device)\n",
        "        label = label.to(device, dtype=torch.long) # label dtype float이라 에러발생 -> long으로 변환\n",
        "        \n",
        "        optimizer.zero_grad()\n",
        "        output = model.forward(data)\n",
        "        loss = loss_function(output, label)\n",
        "        loss.backward()\n",
        "        optimizer.step()\n",
        "        \n",
        "    if i % 1 == 0:\n",
        "        print('{} epoch loss: {}'.format(i+1, loss))\n",
        "        loss_array.append(loss)"
      ],
      "execution_count": null,
      "outputs": [
        {
          "output_type": "stream",
          "text": [
            "1 epoch loss: 0.400240033864975\n",
            "2 epoch loss: 0.18986891210079193\n",
            "3 epoch loss: 0.1253489851951599\n",
            "4 epoch loss: 0.08488621562719345\n",
            "5 epoch loss: 0.07253671437501907\n",
            "6 epoch loss: 0.0625823587179184\n",
            "7 epoch loss: 0.05424370616674423\n",
            "8 epoch loss: 0.042389653623104095\n",
            "9 epoch loss: 0.03106074407696724\n",
            "10 epoch loss: 0.031100045889616013\n"
          ],
          "name": "stdout"
        }
      ]
    },
    {
      "cell_type": "code",
      "metadata": {
        "colab_type": "code",
        "id": "1jEH1cqqj1Rm",
        "colab": {
          "base_uri": "https://localhost:8080/",
          "height": 265
        },
        "outputId": "f5bb1114-8459-41ed-e050-bdec2857afee"
      },
      "source": [
        "plt.figure()\n",
        "plt.plot(loss_array)\n",
        "plt.show()"
      ],
      "execution_count": null,
      "outputs": [
        {
          "output_type": "display_data",
          "data": {
            "image/png": "[encoded data removed]",
            "text/plain": [
              "<Figure size 432x288 with 1 Axes>"
            ]
          },
          "metadata": {
            "tags": [],
            "needs_background": "light"
          }
        }
      ]
    },
    {
      "cell_type": "code",
      "metadata": {
        "colab_type": "code",
        "id": "k9VPjU3Xj1R0",
        "colab": {
          "base_uri": "https://localhost:8080/",
          "height": 35
        },
        "outputId": "c8afaeca-0305-43c3-bdbe-0f9e406798bf"
      },
      "source": [
        "# test\n",
        "\n",
        "model.eval() # cf.) 드롭아웃 및 배치 정규화를 평가 모드로 설정하여야 합니다. 이것을 하지 않으면 추론 결과가 일관성 없게 출력됩니다.\n",
        "correct = 0\n",
        "total = 0\n",
        "\n",
        "\n",
        "with torch.no_grad():\n",
        "    for index, [data, label] in enumerate(val_loader2):\n",
        "        data = data.to(device)\n",
        "        label = label.to(device, dtype=torch.long)\n",
        "        \n",
        "        output = model.forward(data)\n",
        "        _, predicted = torch.max(output,1)\n",
        "        \n",
        "        total += label.size(0)\n",
        "        correct += (predicted == label).sum().float()\n",
        "    \n",
        "    print('Validation Accuracy of the model: {}'.format(correct/total))"
      ],
      "execution_count": null,
      "outputs": [
        {
          "output_type": "stream",
          "text": [
            "Validation Accuracy of the model: 0.9907142519950867\n"
          ],
          "name": "stdout"
        }
      ]
    },
    {
      "cell_type": "markdown",
      "metadata": {
        "id": "28KTUKVqoI_s",
        "colab_type": "text"
      },
      "source": [
        "## Try 7. Optimizer 변환 + Weight Regularization \n",
        "- optimizer: SGD(0.812), AdaGrad(0.903), RMSProp(0.992), Adam(0.992)\n",
        "- Pytorch에서의 Weight_decay는 L2 Regularization으로 적용"
      ]
    },
    {
      "cell_type": "code",
      "metadata": {
        "colab_type": "code",
        "id": "xlKTg2KroZx6",
        "colab": {}
      },
      "source": [
        "class LeNet(nn.Module):\n",
        "    def __init__(self):\n",
        "        super(LeNet, self).__init__()\n",
        "        self.feature_extraction = nn.Sequential(\n",
        "            nn.Conv2d(1,6,5, padding=2), # 6x28x28\n",
        "            nn.BatchNorm2d(6),\n",
        "            activation,\n",
        "            nn.Dropout(dropout_rate),\n",
        "            nn.MaxPool2d(2,2), # 6x14x14\n",
        "            nn.Conv2d(6,16,5), # 6x10x10\n",
        "            nn.BatchNorm2d(16),\n",
        "            activation,\n",
        "            # nn.Dropout(dropout_rate),\n",
        "            nn.MaxPool2d(2,2), # 16x5x5\n",
        "        )\n",
        "        \n",
        "        self.classifier = nn.Sequential(\n",
        "            nn.Linear(16*5*5, 120),\n",
        "            nn.BatchNorm1d(120),\n",
        "            activation,\n",
        "            # nn.Dropout(dropout_rate),\n",
        "            nn.Linear(120,84),\n",
        "            nn.BatchNorm1d(84),\n",
        "            activation,\n",
        "            # nn.Dropout(dropout_rate),\n",
        "            nn.Linear(84,10) # 400x10\n",
        "        )\n",
        "        \n",
        "    def forward(self, x):\n",
        "        extracted_feature = self.feature_extraction(x) # batch_sizex16x5x5\n",
        "        flatten = extracted_feature.view(batch_size, -1) # batch_sizex400\n",
        "        result = self.classifier(flatten) # batch_sizex10\n",
        "        return result \n",
        "\n",
        "# weight initialization : Xavier\n",
        "def init_weights(m):\n",
        "    if type(m) == nn.Linear :\n",
        "        torch.nn.init.xavier_uniform_(m.weight)\n",
        "        m.bias.data.fill_(0.01)\n",
        "\n",
        "model = LeNet().to(device)\n",
        "model.train()\n",
        "loss_function = nn.CrossEntropyLoss()\n",
        "optimizer = optim.Adam(model.parameters(), lr=learning_rate, weight_decay=0.1)"
      ],
      "execution_count": null,
      "outputs": []
    },
    {
      "cell_type": "code",
      "metadata": {
        "colab_type": "code",
        "id": "8eOAICWOoZyJ",
        "colab": {
          "base_uri": "https://localhost:8080/",
          "height": 195
        },
        "outputId": "04d79040-b597-41a0-9e31-43f52868fb36"
      },
      "source": [
        "# train \n",
        "loss_array = []\n",
        "\n",
        "for i in range(epochs):\n",
        "    for index, [data,label] in enumerate(train_loader2):\n",
        "        data = data.to(device)\n",
        "        label = label.to(device, dtype=torch.long) # label dtype float이라 에러발생 -> long으로 변환\n",
        "        \n",
        "        optimizer.zero_grad()\n",
        "        output = model.forward(data)\n",
        "        loss = loss_function(output, label)\n",
        "        loss.backward()\n",
        "        optimizer.step()\n",
        "        \n",
        "    if i % 1 == 0:\n",
        "        print('{} epoch loss: {}'.format(i+1, loss))\n",
        "        loss_array.append(loss)"
      ],
      "execution_count": null,
      "outputs": [
        {
          "output_type": "stream",
          "text": [
            "1 epoch loss: 0.46928244829177856\n",
            "2 epoch loss: 0.27014434337615967\n",
            "3 epoch loss: 0.21135737001895905\n",
            "4 epoch loss: 0.1952747404575348\n",
            "5 epoch loss: 0.18415752053260803\n",
            "6 epoch loss: 0.18035243451595306\n",
            "7 epoch loss: 0.18426677584648132\n",
            "8 epoch loss: 0.18365854024887085\n",
            "9 epoch loss: 0.1879420131444931\n",
            "10 epoch loss: 0.19042572379112244\n"
          ],
          "name": "stdout"
        }
      ]
    },
    {
      "cell_type": "code",
      "metadata": {
        "colab_type": "code",
        "id": "Flu6rVJGoZyV",
        "colab": {
          "base_uri": "https://localhost:8080/",
          "height": 265
        },
        "outputId": "7110ab6e-058e-4189-cebf-aa4ea87e9d74"
      },
      "source": [
        "plt.figure()\n",
        "plt.plot(loss_array)\n",
        "plt.show()"
      ],
      "execution_count": null,
      "outputs": [
        {
          "output_type": "display_data",
          "data": {
            "image/png": "[encoded data removed]",
            "text/plain": [
              "<Figure size 432x288 with 1 Axes>"
            ]
          },
          "metadata": {
            "tags": [],
            "needs_background": "light"
          }
        }
      ]
    },
    {
      "cell_type": "code",
      "metadata": {
        "colab_type": "code",
        "id": "holNwkWcoZyk",
        "colab": {
          "base_uri": "https://localhost:8080/",
          "height": 35
        },
        "outputId": "82678085-24d2-4955-e77e-1dbd49f23413"
      },
      "source": [
        "# test\n",
        "\n",
        "model.eval() # cf.) 드롭아웃 및 배치 정규화를 평가 모드로 설정하여야 합니다. 이것을 하지 않으면 추론 결과가 일관성 없게 출력됩니다.\n",
        "correct = 0\n",
        "total = 0\n",
        "\n",
        "\n",
        "with torch.no_grad():\n",
        "    for index, [data, label] in enumerate(val_loader2):\n",
        "        data = data.to(device)\n",
        "        label = label.to(device, dtype=torch.long)\n",
        "        \n",
        "        output = model.forward(data)\n",
        "        _, predicted = torch.max(output,1)\n",
        "        \n",
        "        total += label.size(0)\n",
        "        correct += (predicted == label).sum().float()\n",
        "    \n",
        "    print('Validation Accuracy of the model: {}'.format(correct/total))"
      ],
      "execution_count": null,
      "outputs": [
        {
          "output_type": "stream",
          "text": [
            "Validation Accuracy of the model: 0.9922618865966797\n"
          ],
          "name": "stdout"
        }
      ]
    },
    {
      "cell_type": "markdown",
      "metadata": {
        "id": "oYI5GWsTs5mU",
        "colab_type": "text"
      },
      "source": [
        "## Try 8. Learning rate scheduler 적용\n",
        "- LR Scheduler는 미리 지정한 횟수의 epoch가 지날 때마다 lr을 감소시켜줍니다. 이는 학습 초기에는 빠르게 학습을 진행시키다가 minimum 근처에 다다른 것 같으면 lr을 줄여서 더 최적점을 찾아갈 수 있게 해줍니다.\n",
        "> 참고: https://www.deeplearningwizard.com/deep_learning/boosting_models_pytorch/lr_scheduling/\n",
        "- 적용결과: 성능 개선에 도움이 되었습니다. "
      ]
    },
    {
      "cell_type": "code",
      "metadata": {
        "id": "fu8RusHFlvm7",
        "colab_type": "code",
        "colab": {}
      },
      "source": [
        "activation = nn.ReLU()\n",
        "dropout_rate = .2\n",
        "epochs = 10"
      ],
      "execution_count": 42,
      "outputs": []
    },
    {
      "cell_type": "code",
      "metadata": {
        "colab_type": "code",
        "id": "cVuVYX9pt2Nm",
        "colab": {}
      },
      "source": [
        "class LeNet(nn.Module):\n",
        "    def __init__(self):\n",
        "        super(LeNet, self).__init__()\n",
        "        self.feature_extraction = nn.Sequential(\n",
        "            nn.Conv2d(1,6,5, padding=2), # 6x28x28\n",
        "            nn.BatchNorm2d(6),\n",
        "            activation,\n",
        "            nn.Dropout(dropout_rate),\n",
        "            nn.MaxPool2d(2,2), # 6x14x14\n",
        "            nn.Conv2d(6,16,5), # 6x10x10\n",
        "            nn.BatchNorm2d(16),\n",
        "            activation,\n",
        "            # nn.Dropout(dropout_rate),\n",
        "            nn.MaxPool2d(2,2), # 16x5x5\n",
        "        )\n",
        "        \n",
        "        self.classifier = nn.Sequential(\n",
        "            nn.Linear(16*5*5, 120),\n",
        "            nn.BatchNorm1d(120),\n",
        "            activation,\n",
        "            # nn.Dropout(dropout_rate),\n",
        "            nn.Linear(120,84),\n",
        "            nn.BatchNorm1d(84),\n",
        "            activation,\n",
        "            # nn.Dropout(dropout_rate),\n",
        "            nn.Linear(84,10) # 400x10\n",
        "        )\n",
        "        \n",
        "    def forward(self, x):\n",
        "        extracted_feature = self.feature_extraction(x) # batch_sizex16x5x5\n",
        "        flatten = extracted_feature.view(batch_size, -1) # batch_sizex400\n",
        "        result = self.classifier(flatten) # batch_sizex10\n",
        "        return result \n",
        "\n",
        "# weight initialization : Xavier\n",
        "def init_weights(m):\n",
        "    if type(m) == nn.Linear :\n",
        "        torch.nn.init.xavier_uniform_(m.weight)\n",
        "        m.bias.data.fill_(0.01)\n",
        "\n",
        "model = LeNet().to(device)\n",
        "model.train()\n",
        "loss_function = nn.CrossEntropyLoss()\n",
        "optimizer = optim.Adam(model.parameters(), lr=learning_rate, weight_decay=0.1)\n",
        "scheduler = optim.lr_scheduler.LambdaLR(optimizer, lr_lambda=lambda epoch: 0.95**epoch)"
      ],
      "execution_count": 43,
      "outputs": []
    },
    {
      "cell_type": "code",
      "metadata": {
        "colab_type": "code",
        "id": "XDf3x6EUt2N0",
        "colab": {
          "base_uri": "https://localhost:8080/",
          "height": 408
        },
        "outputId": "ba6986f7-be87-4bf8-9d81-3d2a36c6217d"
      },
      "source": [
        "# train \n",
        "loss_array = []\n",
        "\n",
        "for i in range(epochs):\n",
        "    # Decay Learning Rate\n",
        "    scheduler.step()\n",
        "    # Print Learning Rate\n",
        "    print('Epoch:', i,'LR:', scheduler.get_lr())  \n",
        "    for index, [data,label] in enumerate(train_loader2):\n",
        "        data = data.to(device)\n",
        "        label = label.to(device, dtype=torch.long) # label dtype float이라 에러발생 -> long으로 변환\n",
        "        \n",
        "        optimizer.zero_grad()\n",
        "        output = model.forward(data)\n",
        "        loss = loss_function(output, label)\n",
        "        loss.backward()\n",
        "        optimizer.step()\n",
        "        \n",
        "    if i % 1 == 0:\n",
        "        print('{} epoch loss: {}'.format(i+1, loss))\n",
        "        loss_array.append(loss)"
      ],
      "execution_count": 47,
      "outputs": [
        {
          "output_type": "stream",
          "text": [
            "/usr/local/lib/python3.6/dist-packages/torch/optim/lr_scheduler.py:231: UserWarning: To get the last learning rate computed by the scheduler, please use `get_last_lr()`.\n",
            "  warnings.warn(\"To get the last learning rate computed by the scheduler, \"\n"
          ],
          "name": "stderr"
        },
        {
          "output_type": "stream",
          "text": [
            "Epoch: 0 LR: [5.688000922764597e-05]\n",
            "1 epoch loss: 0.16043990850448608\n",
            "Epoch: 1 LR: [5.403600876626367e-05]\n",
            "2 epoch loss: 0.16847439110279083\n",
            "Epoch: 2 LR: [5.1334208327950485e-05]\n",
            "3 epoch loss: 0.16363121569156647\n",
            "Epoch: 3 LR: [4.876749791155295e-05]\n",
            "4 epoch loss: 0.1666855812072754\n",
            "Epoch: 4 LR: [4.6329123015975305e-05]\n",
            "5 epoch loss: 0.16792303323745728\n",
            "Epoch: 5 LR: [4.4012666865176535e-05]\n",
            "6 epoch loss: 0.17530709505081177\n",
            "Epoch: 6 LR: [4.181203352191771e-05]\n",
            "7 epoch loss: 0.1761217564344406\n",
            "Epoch: 7 LR: [3.972143184582182e-05]\n",
            "8 epoch loss: 0.17356042563915253\n",
            "Epoch: 8 LR: [3.7735360253530726e-05]\n",
            "9 epoch loss: 0.17686007916927338\n",
            "Epoch: 9 LR: [3.584859224085419e-05]\n",
            "10 epoch loss: 0.1778387427330017\n"
          ],
          "name": "stdout"
        }
      ]
    },
    {
      "cell_type": "code",
      "metadata": {
        "colab_type": "code",
        "id": "t9W0PZc-t2N6",
        "colab": {
          "base_uri": "https://localhost:8080/",
          "height": 265
        },
        "outputId": "4582b25f-b01b-44e1-f821-40a8407b68c3"
      },
      "source": [
        "plt.figure()\n",
        "plt.plot(loss_array)\n",
        "plt.show()"
      ],
      "execution_count": 48,
      "outputs": [
        {
          "output_type": "display_data",
          "data": {
            "image/png": "[encoded data removed]",
            "text/plain": [
              "<Figure size 432x288 with 1 Axes>"
            ]
          },
          "metadata": {
            "tags": [],
            "needs_background": "light"
          }
        }
      ]
    },
    {
      "cell_type": "code",
      "metadata": {
        "colab_type": "code",
        "id": "VHQYUkBat2N-",
        "colab": {
          "base_uri": "https://localhost:8080/",
          "height": 35
        },
        "outputId": "e514638d-002e-4006-e75f-62a7fb74187b"
      },
      "source": [
        "# test\n",
        "\n",
        "model.eval() # cf.) 드롭아웃 및 배치 정규화를 평가 모드로 설정하여야 합니다. 이것을 하지 않으면 추론 결과가 일관성 없게 출력됩니다.\n",
        "correct = 0\n",
        "total = 0\n",
        "\n",
        "\n",
        "with torch.no_grad():\n",
        "    for index, [data, label] in enumerate(val_loader2):\n",
        "        data = data.to(device)\n",
        "        label = label.to(device, dtype=torch.long)\n",
        "        \n",
        "        output = model.forward(data)\n",
        "        _, predicted = torch.max(output,1)\n",
        "        \n",
        "        total += label.size(0)\n",
        "        correct += (predicted == label).sum().float()\n",
        "    \n",
        "    print('Validation Accuracy of the model: {}'.format(correct/total))"
      ],
      "execution_count": 49,
      "outputs": [
        {
          "output_type": "stream",
          "text": [
            "Validation Accuracy of the model: 0.9947618842124939\n"
          ],
          "name": "stdout"
        }
      ]
    },
    {
      "cell_type": "markdown",
      "metadata": {
        "id": "04kNjgWSv5GY",
        "colab_type": "text"
      },
      "source": [
        "## Try 9. Data Augmentation\n",
        "- 데이터를 증가시켜 모델의 성능을 향상시켜줍니다. \n",
        "> 참고: https://www.kaggle.com/tonysun94/pytorch-1-0-1-on-mnist-acc-99-8\n",
        "<br>https://stackoverflow.com/questions/55588201/pytorch-transforms-on-tensordataset\n",
        "- 적용결과: 성능 개선에 영향을 미치지 못했습니다. \n"
      ]
    },
    {
      "cell_type": "code",
      "metadata": {
        "id": "gxD7ywK_0AvQ",
        "colab_type": "code",
        "colab": {}
      },
      "source": [
        "shift = transforms.RandomAffine(degrees=45, translate=(0.1,0.1), scale=(0.8,1.2))\n",
        "rotate = transforms.RandomRotation(degrees=45)\n",
        "composed = transforms.Compose([rotate, shift])\n"
      ],
      "execution_count": 30,
      "outputs": []
    },
    {
      "cell_type": "code",
      "metadata": {
        "id": "f6rMsZC00wVX",
        "colab_type": "code",
        "colab": {
          "base_uri": "https://localhost:8080/",
          "height": 169
        },
        "outputId": "0ada4281-b219-4c2a-caef-429c73fc1884"
      },
      "source": [
        "# sample image\n",
        "fig = plt.figure()\n",
        "sample = transforms.ToPILImage()(train_data.iloc[0, 1:].values.reshape(28,28).astype(np.uint8)[:,:,None])\n",
        "for i, t in enumerate([rotate, shift, composed]):\n",
        "  transformed_sample = t(sample)\n",
        "\n",
        "  ax = plt.subplot(1, 3, i+1)\n",
        "  plt.tight_layout()\n",
        "  ax.set_title(type(t).__name__)\n",
        "  ax.imshow(np.reshape(np.array(list(transformed_sample.getdata())), (-1,28)), cmap='gray')\n",
        "\n",
        "plt.show()"
      ],
      "execution_count": null,
      "outputs": [
        {
          "output_type": "display_data",
          "data": {
            "image/png": "[encoded data removed]",
            "text/plain": [
              "<Figure size 432x288 with 3 Axes>"
            ]
          },
          "metadata": {
            "tags": [],
            "needs_background": "light"
          }
        }
      ]
    },
    {
      "cell_type": "code",
      "metadata": {
        "id": "qNaXHyym2mss",
        "colab_type": "code",
        "colab": {}
      },
      "source": [
        "train_transforms = transforms.Compose(\n",
        "    [transforms.ToPILImage(),\n",
        "     shift,\n",
        "     transforms.ToTensor(),\n",
        "     transforms.Normalize(mean=(0.5,), std=(0.5,))]\n",
        ")\n",
        "\n",
        "val_transforms = transforms.Compose(\n",
        "    [transforms.ToPILImage(),\n",
        "     transforms.ToTensor(),\n",
        "     transforms.Normalize(mean=(0.5,), std=(0.5,))]\n",
        ")\n",
        "\n",
        "test_transforms = transforms.Compose(\n",
        "    [transforms.ToPILImage(),\n",
        "     transforms.ToTensor(),\n",
        "     transforms.Normalize(mean=(0.5,), std=(0.5,))]\n",
        ")"
      ],
      "execution_count": 31,
      "outputs": []
    },
    {
      "cell_type": "code",
      "metadata": {
        "id": "ILUMDltf5X3p",
        "colab_type": "code",
        "colab": {}
      },
      "source": [
        "from torch.utils.data import Dataset \n",
        "\n",
        "class CustomTensorDataset(Dataset):\n",
        "  def __init__(self, tensors, transform=None):\n",
        "    assert all(tensors[0].size(0) == tensor.size(0) for tensor in tensors)\n",
        "    self.tensors = tensors\n",
        "    self.transform = transform\n",
        "\n",
        "  def __getitem__(self, index):\n",
        "    x = self.tensors[0][index]\n",
        "\n",
        "    if self.transform:\n",
        "      x = self.transform(x)\n",
        "\n",
        "    y = self.tensors[1][index]\n",
        "\n",
        "    return x, y\n",
        "\n",
        "  def __len__(self):\n",
        "    return self.tensors[0].size(0)"
      ],
      "execution_count": 32,
      "outputs": []
    },
    {
      "cell_type": "code",
      "metadata": {
        "id": "gk0UFM6I6VIK",
        "colab_type": "code",
        "colab": {}
      },
      "source": [
        "train_dataset3 = CustomTensorDataset(tensors=(X_train2, y_train), transform=train_transforms)\n",
        "train_loader3 = DataLoader(train_dataset3, batch_size=batch_size)\n",
        "\n",
        "val_dataset3 = CustomTensorDataset(tensors=(X_val2, y_val), transform=val_transforms)\n",
        "val_loader3 = DataLoader(val_dataset3, batch_size=batch_size)\n",
        "\n",
        "test_dataset3 = CustomTensorDataset(tensors=(X_test2, torch.Tensor(np.zeros(len(X_test2)))), transform=test_transforms)\n",
        "test_loader3 = DataLoader(test_dataset3, batch_size=batch_size)\n"
      ],
      "execution_count": 33,
      "outputs": []
    },
    {
      "cell_type": "code",
      "metadata": {
        "colab_type": "code",
        "id": "qQ6egecA7MAE",
        "colab": {}
      },
      "source": [
        "class LeNet(nn.Module):\n",
        "    def __init__(self):\n",
        "        super(LeNet, self).__init__()\n",
        "        self.feature_extraction = nn.Sequential(\n",
        "            nn.Conv2d(1,6,5, padding=2), # 6x28x28\n",
        "            nn.BatchNorm2d(6),\n",
        "            activation,\n",
        "            nn.Dropout(dropout_rate),\n",
        "            nn.MaxPool2d(2,2), # 6x14x14\n",
        "            nn.Conv2d(6,16,5), # 6x10x10\n",
        "            nn.BatchNorm2d(16),\n",
        "            activation,\n",
        "            # nn.Dropout(dropout_rate),\n",
        "            nn.MaxPool2d(2,2), # 16x5x5\n",
        "        )\n",
        "        \n",
        "        self.classifier = nn.Sequential(\n",
        "            nn.Linear(16*5*5, 120),\n",
        "            nn.BatchNorm1d(120),\n",
        "            activation,\n",
        "            # nn.Dropout(dropout_rate),\n",
        "            nn.Linear(120,84),\n",
        "            nn.BatchNorm1d(84),\n",
        "            activation,\n",
        "            # nn.Dropout(dropout_rate),\n",
        "            nn.Linear(84,10) # 400x10\n",
        "        )\n",
        "        \n",
        "    def forward(self, x):\n",
        "        extracted_feature = self.feature_extraction(x) # batch_sizex16x5x5\n",
        "        flatten = extracted_feature.view(batch_size, -1) # batch_sizex400\n",
        "        result = self.classifier(flatten) # batch_sizex10\n",
        "        return result \n",
        "\n",
        "# weight initialization : Xavier\n",
        "def init_weights(m):\n",
        "    if type(m) == nn.Linear :\n",
        "        torch.nn.init.xavier_uniform_(m.weight)\n",
        "        m.bias.data.fill_(0.01)\n",
        "\n",
        "model = LeNet().to(device)\n",
        "model.train()\n",
        "loss_function = nn.CrossEntropyLoss()\n",
        "optimizer = optim.Adam(model.parameters(), lr=learning_rate, weight_decay=0.1)\n",
        "scheduler = optim.lr_scheduler.LambdaLR(optimizer, lr_lambda=lambda epoch: 0.95**epoch)"
      ],
      "execution_count": 50,
      "outputs": []
    },
    {
      "cell_type": "code",
      "metadata": {
        "colab_type": "code",
        "id": "8zMxna7H7MAU",
        "colab": {
          "base_uri": "https://localhost:8080/",
          "height": 464
        },
        "outputId": "6c6fda96-f1b3-45ad-9151-1a80cf81b7ea"
      },
      "source": [
        "# train \n",
        "loss_array = []\n",
        "\n",
        "for i in range(epochs):\n",
        "    # Decay Learning Rate\n",
        "    scheduler.step()\n",
        "    # Print Learning Rate\n",
        "    print('Epoch:', i,'LR:', scheduler.get_lr())  \n",
        "    for index, [data,label] in enumerate(train_loader3):\n",
        "        data = data.to(device)\n",
        "        label = label.to(device, dtype=torch.long) # label dtype float이라 에러발생 -> long으로 변환\n",
        "        \n",
        "        optimizer.zero_grad()\n",
        "        output = model.forward(data)\n",
        "        loss = loss_function(output, label)\n",
        "        loss.backward()\n",
        "        optimizer.step()\n",
        "        \n",
        "    if i % 1 == 0:\n",
        "        print('{} epoch loss: {}'.format(i+1, loss))\n",
        "        loss_array.append(loss)"
      ],
      "execution_count": 51,
      "outputs": [
        {
          "output_type": "stream",
          "text": [
            "/usr/local/lib/python3.6/dist-packages/torch/optim/lr_scheduler.py:123: UserWarning: Detected call of `lr_scheduler.step()` before `optimizer.step()`. In PyTorch 1.1.0 and later, you should call them in the opposite order: `optimizer.step()` before `lr_scheduler.step()`.  Failure to do this will result in PyTorch skipping the first value of the learning rate schedule. See more details at https://pytorch.org/docs/stable/optim.html#how-to-adjust-learning-rate\n",
            "  \"https://pytorch.org/docs/stable/optim.html#how-to-adjust-learning-rate\", UserWarning)\n",
            "/usr/local/lib/python3.6/dist-packages/torch/optim/lr_scheduler.py:231: UserWarning: To get the last learning rate computed by the scheduler, please use `get_last_lr()`.\n",
            "  warnings.warn(\"To get the last learning rate computed by the scheduler, \"\n"
          ],
          "name": "stderr"
        },
        {
          "output_type": "stream",
          "text": [
            "Epoch: 0 LR: [9.5e-05]\n",
            "1 epoch loss: 1.3623391389846802\n",
            "Epoch: 1 LR: [9.025e-05]\n",
            "2 epoch loss: 0.8183130621910095\n",
            "Epoch: 2 LR: [8.573749999999999e-05]\n",
            "3 epoch loss: 0.602958083152771\n",
            "Epoch: 3 LR: [8.1450625e-05]\n",
            "4 epoch loss: 0.48077791929244995\n",
            "Epoch: 4 LR: [7.737809374999998e-05]\n",
            "5 epoch loss: 0.41869479417800903\n",
            "Epoch: 5 LR: [7.350918906249998e-05]\n",
            "6 epoch loss: 0.38811972737312317\n",
            "Epoch: 6 LR: [6.983372960937497e-05]\n",
            "7 epoch loss: 0.31685444712638855\n",
            "Epoch: 7 LR: [6.634204312890623e-05]\n",
            "8 epoch loss: 0.29886966943740845\n",
            "Epoch: 8 LR: [6.30249409724609e-05]\n",
            "9 epoch loss: 0.3204822838306427\n",
            "Epoch: 9 LR: [5.987369392383787e-05]\n",
            "10 epoch loss: 0.31885287165641785\n"
          ],
          "name": "stdout"
        }
      ]
    },
    {
      "cell_type": "code",
      "metadata": {
        "colab_type": "code",
        "id": "Z2KUUcay7MAj",
        "colab": {
          "base_uri": "https://localhost:8080/",
          "height": 266
        },
        "outputId": "269d4076-0708-42f1-9243-ad4d94a8599b"
      },
      "source": [
        "plt.figure()\n",
        "plt.plot(loss_array)\n",
        "plt.show()"
      ],
      "execution_count": 52,
      "outputs": [
        {
          "output_type": "display_data",
          "data": {
            "image/png": "[encoded data removed]",
            "text/plain": [
              "<Figure size 432x288 with 1 Axes>"
            ]
          },
          "metadata": {
            "tags": [],
            "needs_background": "light"
          }
        }
      ]
    },
    {
      "cell_type": "code",
      "metadata": {
        "colab_type": "code",
        "id": "nr6rtMPj7MAs",
        "colab": {
          "base_uri": "https://localhost:8080/",
          "height": 35
        },
        "outputId": "127dcae7-bdba-420c-ff37-197695d27bb8"
      },
      "source": [
        "# test\n",
        "\n",
        "model.eval() # cf.) 드롭아웃 및 배치 정규화를 평가 모드로 설정하여야 합니다. 이것을 하지 않으면 추론 결과가 일관성 없게 출력됩니다.\n",
        "correct = 0\n",
        "total = 0\n",
        "\n",
        "\n",
        "with torch.no_grad():\n",
        "    for index, [data, label] in enumerate(val_loader3):\n",
        "        data = data.to(device)\n",
        "        label = label.to(device, dtype=torch.long)\n",
        "        \n",
        "        output = model.forward(data)\n",
        "        _, predicted = torch.max(output,1)\n",
        "        \n",
        "        total += label.size(0)\n",
        "        correct += (predicted == label).sum().float()\n",
        "    \n",
        "    print('Validation Accuracy of the model: {}'.format(correct/total))"
      ],
      "execution_count": 53,
      "outputs": [
        {
          "output_type": "stream",
          "text": [
            "Validation Accuracy of the model: 0.9850000143051147\n"
          ],
          "name": "stdout"
        }
      ]
    },
    {
      "cell_type": "code",
      "metadata": {
        "colab_type": "code",
        "id": "7MODoWLWX8Wj",
        "colab": {
          "base_uri": "https://localhost:8080/",
          "height": 35
        },
        "outputId": "fa3675a9-30d7-4acf-83e0-3008c3478002"
      },
      "source": [
        "model.eval()\n",
        "predictions = []\n",
        "\n",
        "for data, _ in tqdm(test_loader3):\n",
        "    data = data.to(device)\n",
        "    output = model(data).max(dim=1)[1] # argmax\n",
        "    predictions += list(output.data.cpu().numpy())"
      ],
      "execution_count": null,
      "outputs": [
        {
          "output_type": "stream",
          "text": [
            "100%|██████████| 180/180 [00:04<00:00, 37.63it/s]\n"
          ],
          "name": "stderr"
        }
      ]
    },
    {
      "cell_type": "code",
      "metadata": {
        "colab_type": "code",
        "id": "KyapdOQ1X8Wp",
        "colab": {
          "base_uri": "https://localhost:8080/",
          "height": 200
        },
        "outputId": "fa0678e7-4a99-4cbd-9283-7c7d2c685716"
      },
      "source": [
        "sample_submission['Category'] = pd.Series(predictions)\n",
        "sample_submission.head()"
      ],
      "execution_count": null,
      "outputs": [
        {
          "output_type": "execute_result",
          "data": {
            "text/html": [
              "<div>\n",
              "<style scoped>\n",
              "    .dataframe tbody tr th:only-of-type {\n",
              "        vertical-align: middle;\n",
              "    }\n",
              "\n",
              "    .dataframe tbody tr th {\n",
              "        vertical-align: top;\n",
              "    }\n",
              "\n",
              "    .dataframe thead th {\n",
              "        text-align: right;\n",
              "    }\n",
              "</style>\n",
              "<table border=\"1\" class=\"dataframe\">\n",
              "  <thead>\n",
              "    <tr style=\"text-align: right;\">\n",
              "      <th></th>\n",
              "      <th>Id</th>\n",
              "      <th>Category</th>\n",
              "    </tr>\n",
              "  </thead>\n",
              "  <tbody>\n",
              "    <tr>\n",
              "      <th>0</th>\n",
              "      <td>57808</td>\n",
              "      <td>8</td>\n",
              "    </tr>\n",
              "    <tr>\n",
              "      <th>1</th>\n",
              "      <td>4960</td>\n",
              "      <td>0</td>\n",
              "    </tr>\n",
              "    <tr>\n",
              "      <th>2</th>\n",
              "      <td>35755</td>\n",
              "      <td>5</td>\n",
              "    </tr>\n",
              "    <tr>\n",
              "      <th>3</th>\n",
              "      <td>15543</td>\n",
              "      <td>3</td>\n",
              "    </tr>\n",
              "    <tr>\n",
              "      <th>4</th>\n",
              "      <td>48968</td>\n",
              "      <td>8</td>\n",
              "    </tr>\n",
              "  </tbody>\n",
              "</table>\n",
              "</div>"
            ],
            "text/plain": [
              "      Id  Category\n",
              "0  57808         8\n",
              "1   4960         0\n",
              "2  35755         5\n",
              "3  15543         3\n",
              "4  48968         8"
            ]
          },
          "metadata": {
            "tags": []
          },
          "execution_count": 372
        }
      ]
    },
    {
      "cell_type": "code",
      "metadata": {
        "id": "ZFvHkShTbEue",
        "colab_type": "code",
        "colab": {}
      },
      "source": [
        "sample_submission.to_csv(\"submission_try9.csv\",index=False)"
      ],
      "execution_count": null,
      "outputs": []
    },
    {
      "cell_type": "markdown",
      "metadata": {
        "id": "2j5nrRYyBH6n",
        "colab_type": "text"
      },
      "source": [
        "## Try 10. Early Stopping 적용\n",
        "- 학습 조기 종료를 통해 오버피팅 방지\n",
        "> 참고: https://github.com/Bjarten/early-stopping-pytorch\n",
        "<br>https://www.kaggle.com/sergeykalutsky/pytorch-starter\n",
        "- 적용결과: 성능 개선에 영향을 미치지는 못했습니다. "
      ]
    },
    {
      "cell_type": "code",
      "metadata": {
        "id": "tY1hGombJKzm",
        "colab_type": "code",
        "colab": {}
      },
      "source": [
        "class EarlyStopping:\n",
        "    \"\"\"Early stops the training if validation loss doesn't improve after a given patience.\"\"\"\n",
        "    def __init__(self, patience=7, verbose=False):\n",
        "        \"\"\"\n",
        "        Args:\n",
        "            patience (int): How long to wait after last time validation loss improved.\n",
        "                            Default: 7\n",
        "            verbose (bool): If True, prints a message for each validation loss improvement. \n",
        "                            Default: False\n",
        "        \"\"\"\n",
        "        self.patience = patience\n",
        "        self.verbose = verbose\n",
        "        self.counter = 0\n",
        "        self.best_score = None\n",
        "        self.early_stop = False\n",
        "        self.val_loss_min = np.Inf\n",
        "\n",
        "    def __call__(self, val_loss, model):\n",
        "\n",
        "        score = -val_loss\n",
        "\n",
        "        if self.best_score is None:\n",
        "            self.best_score = score\n",
        "            self.save_checkpoint(val_loss, model)\n",
        "        elif score < self.best_score:\n",
        "            self.counter += 1\n",
        "            print(f'EarlyStopping counter: {self.counter} out of {self.patience}')\n",
        "            if self.counter >= self.patience:\n",
        "                self.early_stop = True\n",
        "        else:\n",
        "            self.best_score = score\n",
        "            self.save_checkpoint(val_loss, model)\n",
        "            self.counter = 0\n",
        "\n",
        "    def save_checkpoint(self, val_loss, model):\n",
        "        '''Saves model when validation loss decrease.'''\n",
        "        if self.verbose:\n",
        "            print(f'Validation loss decreased ({self.val_loss_min:.6f} --> {val_loss:.6f}).  Saving model ...')\n",
        "        torch.save(model.state_dict(), 'checkpoint.pt')\n",
        "        self.val_loss_min = val_loss"
      ],
      "execution_count": 54,
      "outputs": []
    },
    {
      "cell_type": "code",
      "metadata": {
        "id": "6KXmxDyNJsQ3",
        "colab_type": "code",
        "colab": {
          "base_uri": "https://localhost:8080/",
          "height": 461
        },
        "outputId": "fc44deb2-e7fd-4257-ae9a-59508a7af362"
      },
      "source": [
        "early_stopping = EarlyStopping(patience=5, verbose=True)\n",
        "\n",
        "# train \n",
        "\n",
        "loss_array = []\n",
        "\n",
        "for i in range(100):\n",
        "    avg_loss = 0\n",
        "    for index, [data,label] in enumerate(train_loader2):\n",
        "        data = data.to(device)\n",
        "        label = label.to(device, dtype=torch.long) # label dtype float이라 에러발생 -> long으로 변환\n",
        "        \n",
        "        optimizer.zero_grad()\n",
        "        output = model.forward(data)\n",
        "        loss = loss_function(output, label)\n",
        "        loss.backward()\n",
        "        optimizer.step()\n",
        "        avg_loss += loss.item() / len(train_loader2)\n",
        "\n",
        "    if i % 1 == 0:\n",
        "          print('{} epoch loss: {}'.format(i+1, loss))\n",
        "          loss_array.append(loss)  \n",
        "\n",
        "  # test\n",
        "\n",
        "    model.eval() # cf.) 드롭아웃 및 배치 정규화를 평가 모드로 설정하여야 합니다. 이것을 하지 않으면 추론 결과가 일관성 없게 출력됩니다.\n",
        "    correct = 0\n",
        "    total = 0\n",
        "    avg_val_loss = 0\n",
        "\n",
        "    with torch.no_grad():\n",
        "        for index, [data, label] in enumerate(val_loader2):\n",
        "            data = data.to(device)\n",
        "            label = label.to(device, dtype=torch.long)\n",
        "            \n",
        "            output = model.forward(data)\n",
        "            _, predicted = torch.max(output,1)\n",
        "            \n",
        "            total += label.size(0)\n",
        "            correct += (predicted == label).sum().float()\n",
        "            avg_val_loss += loss_function(output, label).item() / len(val_loader2)\n",
        "        \n",
        "        print('Validation Accuracy of the model: {}'.format(correct/total))\n",
        "  \n",
        "    early_stopping(avg_val_loss, model)\n",
        "\n",
        "    if early_stopping.early_stop:\n",
        "        print(\"Early stopping\")\n",
        "        break\n"
      ],
      "execution_count": null,
      "outputs": [
        {
          "output_type": "stream",
          "text": [
            "1 epoch loss: 0.49235042929649353\n",
            "Validation Accuracy of the model: 0.9654761552810669\n",
            "Validation loss decreased (inf --> 0.530250).  Saving model ...\n",
            "2 epoch loss: 0.13626471161842346\n",
            "Validation Accuracy of the model: 0.9746428728103638\n",
            "Validation loss decreased (0.530250 --> 0.102129).  Saving model ...\n",
            "3 epoch loss: 0.12782369554042816\n",
            "Validation Accuracy of the model: 0.9757142663002014\n",
            "Validation loss decreased (0.102129 --> 0.098991).  Saving model ...\n",
            "4 epoch loss: 0.12558011710643768\n",
            "Validation Accuracy of the model: 0.9766666293144226\n",
            "EarlyStopping counter: 1 out of 5\n",
            "5 epoch loss: 0.12677794694900513\n",
            "Validation Accuracy of the model: 0.9760714173316956\n",
            "EarlyStopping counter: 2 out of 5\n",
            "6 epoch loss: 0.12849894165992737\n",
            "Validation Accuracy of the model: 0.9751190543174744\n",
            "EarlyStopping counter: 3 out of 5\n",
            "7 epoch loss: 0.13090577721595764\n",
            "Validation Accuracy of the model: 0.9745237827301025\n",
            "EarlyStopping counter: 4 out of 5\n",
            "8 epoch loss: 0.13367027044296265\n",
            "Validation Accuracy of the model: 0.9740476012229919\n",
            "EarlyStopping counter: 5 out of 5\n",
            "Early stopping\n"
          ],
          "name": "stdout"
        }
      ]
    },
    {
      "cell_type": "markdown",
      "metadata": {
        "id": "BmNCEMEwVHsR",
        "colab_type": "text"
      },
      "source": [
        "## Try 11. Transfer learning\n",
        "- ResNet model 사용 \n",
        "> 참고:\n",
        "<br>- MNIST 적용: https://www.kaggle.com/tonysun94/pytorch-1-0-1-on-mnist-acc-99-8\n",
        "<br>- ResNet구조: https://bskyvision.com/644"
      ]
    },
    {
      "cell_type": "markdown",
      "metadata": {
        "id": "ssDG1MJHjZco",
        "colab_type": "text"
      },
      "source": [
        "#### 11-1. weight initialization + learning rate scheduler 적용한 경우"
      ]
    },
    {
      "cell_type": "code",
      "metadata": {
        "id": "LHYg8CMyVK8w",
        "colab_type": "code",
        "colab": {}
      },
      "source": [
        "from torchvision.models.resnet import ResNet, BasicBlock, Bottleneck"
      ],
      "execution_count": 24,
      "outputs": []
    },
    {
      "cell_type": "code",
      "metadata": {
        "id": "BGuwAtsNetQ3",
        "colab_type": "code",
        "colab": {
          "base_uri": "https://localhost:8080/",
          "height": 1000
        },
        "outputId": "29315d0a-4c1c-4d33-f75c-c760c476645a"
      },
      "source": [
        "class mnistResNet(ResNet):\n",
        "  def __init__(self):\n",
        "    super(mnistResNet, self).__init__(BasicBlock, [2,2,2,2], num_classes=10)\n",
        "    # ResNet의 경우 RGB image -> channel=1로 변환 \n",
        "    self.conv1 = nn.Conv2d(1, 64, 7, stride=1, padding=3, bias=False) # 28x28\n",
        "\n",
        "model = mnistResNet()\n",
        "print(model)"
      ],
      "execution_count": 63,
      "outputs": [
        {
          "output_type": "stream",
          "text": [
            "mnistResNet(\n",
            "  (conv1): Conv2d(1, 64, kernel_size=(7, 7), stride=(1, 1), padding=(3, 3), bias=False)\n",
            "  (bn1): BatchNorm2d(64, eps=1e-05, momentum=0.1, affine=True, track_running_stats=True)\n",
            "  (relu): ReLU(inplace=True)\n",
            "  (maxpool): MaxPool2d(kernel_size=3, stride=2, padding=1, dilation=1, ceil_mode=False)\n",
            "  (layer1): Sequential(\n",
            "    (0): BasicBlock(\n",
            "      (conv1): Conv2d(64, 64, kernel_size=(3, 3), stride=(1, 1), padding=(1, 1), bias=False)\n",
            "      (bn1): BatchNorm2d(64, eps=1e-05, momentum=0.1, affine=True, track_running_stats=True)\n",
            "      (relu): ReLU(inplace=True)\n",
            "      (conv2): Conv2d(64, 64, kernel_size=(3, 3), stride=(1, 1), padding=(1, 1), bias=False)\n",
            "      (bn2): BatchNorm2d(64, eps=1e-05, momentum=0.1, affine=True, track_running_stats=True)\n",
            "    )\n",
            "    (1): BasicBlock(\n",
            "      (conv1): Conv2d(64, 64, kernel_size=(3, 3), stride=(1, 1), padding=(1, 1), bias=False)\n",
            "      (bn1): BatchNorm2d(64, eps=1e-05, momentum=0.1, affine=True, track_running_stats=True)\n",
            "      (relu): ReLU(inplace=True)\n",
            "      (conv2): Conv2d(64, 64, kernel_size=(3, 3), stride=(1, 1), padding=(1, 1), bias=False)\n",
            "      (bn2): BatchNorm2d(64, eps=1e-05, momentum=0.1, affine=True, track_running_stats=True)\n",
            "    )\n",
            "  )\n",
            "  (layer2): Sequential(\n",
            "    (0): BasicBlock(\n",
            "      (conv1): Conv2d(64, 128, kernel_size=(3, 3), stride=(2, 2), padding=(1, 1), bias=False)\n",
            "      (bn1): BatchNorm2d(128, eps=1e-05, momentum=0.1, affine=True, track_running_stats=True)\n",
            "      (relu): ReLU(inplace=True)\n",
            "      (conv2): Conv2d(128, 128, kernel_size=(3, 3), stride=(1, 1), padding=(1, 1), bias=False)\n",
            "      (bn2): BatchNorm2d(128, eps=1e-05, momentum=0.1, affine=True, track_running_stats=True)\n",
            "      (downsample): Sequential(\n",
            "        (0): Conv2d(64, 128, kernel_size=(1, 1), stride=(2, 2), bias=False)\n",
            "        (1): BatchNorm2d(128, eps=1e-05, momentum=0.1, affine=True, track_running_stats=True)\n",
            "      )\n",
            "    )\n",
            "    (1): BasicBlock(\n",
            "      (conv1): Conv2d(128, 128, kernel_size=(3, 3), stride=(1, 1), padding=(1, 1), bias=False)\n",
            "      (bn1): BatchNorm2d(128, eps=1e-05, momentum=0.1, affine=True, track_running_stats=True)\n",
            "      (relu): ReLU(inplace=True)\n",
            "      (conv2): Conv2d(128, 128, kernel_size=(3, 3), stride=(1, 1), padding=(1, 1), bias=False)\n",
            "      (bn2): BatchNorm2d(128, eps=1e-05, momentum=0.1, affine=True, track_running_stats=True)\n",
            "    )\n",
            "  )\n",
            "  (layer3): Sequential(\n",
            "    (0): BasicBlock(\n",
            "      (conv1): Conv2d(128, 256, kernel_size=(3, 3), stride=(2, 2), padding=(1, 1), bias=False)\n",
            "      (bn1): BatchNorm2d(256, eps=1e-05, momentum=0.1, affine=True, track_running_stats=True)\n",
            "      (relu): ReLU(inplace=True)\n",
            "      (conv2): Conv2d(256, 256, kernel_size=(3, 3), stride=(1, 1), padding=(1, 1), bias=False)\n",
            "      (bn2): BatchNorm2d(256, eps=1e-05, momentum=0.1, affine=True, track_running_stats=True)\n",
            "      (downsample): Sequential(\n",
            "        (0): Conv2d(128, 256, kernel_size=(1, 1), stride=(2, 2), bias=False)\n",
            "        (1): BatchNorm2d(256, eps=1e-05, momentum=0.1, affine=True, track_running_stats=True)\n",
            "      )\n",
            "    )\n",
            "    (1): BasicBlock(\n",
            "      (conv1): Conv2d(256, 256, kernel_size=(3, 3), stride=(1, 1), padding=(1, 1), bias=False)\n",
            "      (bn1): BatchNorm2d(256, eps=1e-05, momentum=0.1, affine=True, track_running_stats=True)\n",
            "      (relu): ReLU(inplace=True)\n",
            "      (conv2): Conv2d(256, 256, kernel_size=(3, 3), stride=(1, 1), padding=(1, 1), bias=False)\n",
            "      (bn2): BatchNorm2d(256, eps=1e-05, momentum=0.1, affine=True, track_running_stats=True)\n",
            "    )\n",
            "  )\n",
            "  (layer4): Sequential(\n",
            "    (0): BasicBlock(\n",
            "      (conv1): Conv2d(256, 512, kernel_size=(3, 3), stride=(2, 2), padding=(1, 1), bias=False)\n",
            "      (bn1): BatchNorm2d(512, eps=1e-05, momentum=0.1, affine=True, track_running_stats=True)\n",
            "      (relu): ReLU(inplace=True)\n",
            "      (conv2): Conv2d(512, 512, kernel_size=(3, 3), stride=(1, 1), padding=(1, 1), bias=False)\n",
            "      (bn2): BatchNorm2d(512, eps=1e-05, momentum=0.1, affine=True, track_running_stats=True)\n",
            "      (downsample): Sequential(\n",
            "        (0): Conv2d(256, 512, kernel_size=(1, 1), stride=(2, 2), bias=False)\n",
            "        (1): BatchNorm2d(512, eps=1e-05, momentum=0.1, affine=True, track_running_stats=True)\n",
            "      )\n",
            "    )\n",
            "    (1): BasicBlock(\n",
            "      (conv1): Conv2d(512, 512, kernel_size=(3, 3), stride=(1, 1), padding=(1, 1), bias=False)\n",
            "      (bn1): BatchNorm2d(512, eps=1e-05, momentum=0.1, affine=True, track_running_stats=True)\n",
            "      (relu): ReLU(inplace=True)\n",
            "      (conv2): Conv2d(512, 512, kernel_size=(3, 3), stride=(1, 1), padding=(1, 1), bias=False)\n",
            "      (bn2): BatchNorm2d(512, eps=1e-05, momentum=0.1, affine=True, track_running_stats=True)\n",
            "    )\n",
            "  )\n",
            "  (avgpool): AdaptiveAvgPool2d(output_size=(1, 1))\n",
            "  (fc): Linear(in_features=512, out_features=10, bias=True)\n",
            ")\n"
          ],
          "name": "stdout"
        }
      ]
    },
    {
      "cell_type": "code",
      "metadata": {
        "colab_type": "code",
        "id": "RK476-7chdB8",
        "colab": {}
      },
      "source": [
        "# weight initialization : Xavier\n",
        "def init_weights(m):\n",
        "    if type(m) == nn.Linear :\n",
        "        torch.nn.init.xavier_uniform_(m.weight)\n",
        "        m.bias.data.fill_(0.01)\n",
        "\n",
        "model = mnistResNet().to(device)\n",
        "model.train()\n",
        "loss_function = nn.CrossEntropyLoss()\n",
        "optimizer = optim.Adam(model.parameters(), lr=learning_rate, weight_decay=0.1)\n",
        "scheduler = optim.lr_scheduler.LambdaLR(optimizer, lr_lambda=lambda epoch: 0.95**epoch)"
      ],
      "execution_count": 64,
      "outputs": []
    },
    {
      "cell_type": "code",
      "metadata": {
        "colab_type": "code",
        "id": "EZez5y08hdCG",
        "colab": {
          "base_uri": "https://localhost:8080/",
          "height": 464
        },
        "outputId": "f0e32b1a-beef-4936-ad09-2c2313b8d8cd"
      },
      "source": [
        "# train \n",
        "loss_array = []\n",
        "\n",
        "for i in range(epochs):\n",
        "    # Decay Learning Rate\n",
        "    scheduler.step()\n",
        "    # Print Learning Rate\n",
        "    print('Epoch:', i,'LR:', scheduler.get_lr()) \n",
        "    for index, [data,label] in enumerate(train_loader2):\n",
        "        data = data.to(device)\n",
        "        label = label.to(device, dtype=torch.long) # label dtype float이라 에러발생 -> long으로 변환\n",
        "        \n",
        "        optimizer.zero_grad()\n",
        "        output = model.forward(data)\n",
        "        loss = loss_function(output, label)\n",
        "        loss.backward()\n",
        "        optimizer.step()\n",
        "        \n",
        "    if i % 1 == 0:\n",
        "        print('{} epoch loss: {}'.format(i+1, loss))\n",
        "        loss_array.append(loss)"
      ],
      "execution_count": 65,
      "outputs": [
        {
          "output_type": "stream",
          "text": [
            "/usr/local/lib/python3.6/dist-packages/torch/optim/lr_scheduler.py:123: UserWarning: Detected call of `lr_scheduler.step()` before `optimizer.step()`. In PyTorch 1.1.0 and later, you should call them in the opposite order: `optimizer.step()` before `lr_scheduler.step()`.  Failure to do this will result in PyTorch skipping the first value of the learning rate schedule. See more details at https://pytorch.org/docs/stable/optim.html#how-to-adjust-learning-rate\n",
            "  \"https://pytorch.org/docs/stable/optim.html#how-to-adjust-learning-rate\", UserWarning)\n",
            "/usr/local/lib/python3.6/dist-packages/torch/optim/lr_scheduler.py:231: UserWarning: To get the last learning rate computed by the scheduler, please use `get_last_lr()`.\n",
            "  warnings.warn(\"To get the last learning rate computed by the scheduler, \"\n"
          ],
          "name": "stderr"
        },
        {
          "output_type": "stream",
          "text": [
            "Epoch: 0 LR: [9.5e-05]\n",
            "1 epoch loss: 0.0584530346095562\n",
            "Epoch: 1 LR: [9.025e-05]\n",
            "2 epoch loss: 0.02953438088297844\n",
            "Epoch: 2 LR: [8.573749999999999e-05]\n",
            "3 epoch loss: 0.029938893392682076\n",
            "Epoch: 3 LR: [8.1450625e-05]\n",
            "4 epoch loss: 0.024432392790913582\n",
            "Epoch: 4 LR: [7.737809374999998e-05]\n",
            "5 epoch loss: 0.12123427540063858\n",
            "Epoch: 5 LR: [7.350918906249998e-05]\n",
            "6 epoch loss: 0.0539080873131752\n",
            "Epoch: 6 LR: [6.983372960937497e-05]\n",
            "7 epoch loss: 0.012919027358293533\n",
            "Epoch: 7 LR: [6.634204312890623e-05]\n",
            "8 epoch loss: 0.05860985442996025\n",
            "Epoch: 8 LR: [6.30249409724609e-05]\n",
            "9 epoch loss: 0.03268126770853996\n",
            "Epoch: 9 LR: [5.987369392383787e-05]\n",
            "10 epoch loss: 0.026797369122505188\n"
          ],
          "name": "stdout"
        }
      ]
    },
    {
      "cell_type": "code",
      "metadata": {
        "colab_type": "code",
        "id": "8rf-VuHJhdCR",
        "colab": {
          "base_uri": "https://localhost:8080/",
          "height": 265
        },
        "outputId": "155102d7-f388-42b8-cb73-f4306ca7a80f"
      },
      "source": [
        "plt.figure()\n",
        "plt.plot(loss_array)\n",
        "plt.show()"
      ],
      "execution_count": 66,
      "outputs": [
        {
          "output_type": "display_data",
          "data": {
            "image/png": "[encoded data removed]",
            "text/plain": [
              "<Figure size 432x288 with 1 Axes>"
            ]
          },
          "metadata": {
            "tags": [],
            "needs_background": "light"
          }
        }
      ]
    },
    {
      "cell_type": "code",
      "metadata": {
        "colab_type": "code",
        "id": "tGOTfwPzhdCZ",
        "colab": {
          "base_uri": "https://localhost:8080/",
          "height": 35
        },
        "outputId": "afabbaeb-4471-4947-8786-3bd20c8acb74"
      },
      "source": [
        "# test\n",
        "\n",
        "model.eval() # cf.) 드롭아웃 및 배치 정규화를 평가 모드로 설정하여야 합니다. 이것을 하지 않으면 추론 결과가 일관성 없게 출력됩니다.\n",
        "correct = 0\n",
        "total = 0\n",
        "\n",
        "\n",
        "with torch.no_grad():\n",
        "    for index, [data, label] in enumerate(val_loader2):\n",
        "        data = data.to(device)\n",
        "        label = label.to(device, dtype=torch.long)\n",
        "        \n",
        "        output = model.forward(data)\n",
        "        _, predicted = torch.max(output,1)\n",
        "        \n",
        "        total += label.size(0)\n",
        "        correct += (predicted == label).sum().float()\n",
        "    \n",
        "    print('Validation Accuracy of the model: {}'.format(correct/total))"
      ],
      "execution_count": 67,
      "outputs": [
        {
          "output_type": "stream",
          "text": [
            "Validation Accuracy of the model: 0.9858333468437195\n"
          ],
          "name": "stdout"
        }
      ]
    },
    {
      "cell_type": "markdown",
      "metadata": {
        "id": "Jhz64avWjjLf",
        "colab_type": "text"
      },
      "source": [
        "#### 11-2. data augmentation + early stopping 적용한 경우"
      ]
    },
    {
      "cell_type": "code",
      "metadata": {
        "id": "hrKXhOdGnnTX",
        "colab_type": "code",
        "colab": {}
      },
      "source": [
        "class mnistResNet(ResNet):\n",
        "  def __init__(self):\n",
        "    super(mnistResNet, self).__init__(BasicBlock, [2,2,2,2], num_classes=10)\n",
        "    # ResNet의 경우 RGB image -> channel=1로 변환 \n",
        "    self.conv1 = nn.Conv2d(1, 64, 7, stride=1, padding=3, bias=False) # 28x28\n",
        "\n",
        "model = mnistResNet()\n",
        "# weight initialization : Xavier\n",
        "def init_weights(m):\n",
        "    if type(m) == nn.Linear :\n",
        "        torch.nn.init.xavier_uniform_(m.weight)\n",
        "        m.bias.data.fill_(0.01)\n",
        "\n",
        "model = mnistResNet().to(device)\n",
        "model.train()\n",
        "loss_function = nn.CrossEntropyLoss()\n",
        "optimizer = optim.Adam(model.parameters(), lr=learning_rate, weight_decay=0.1)\n",
        "scheduler = optim.lr_scheduler.LambdaLR(optimizer, lr_lambda=lambda epoch: 0.95**epoch)"
      ],
      "execution_count": 59,
      "outputs": []
    },
    {
      "cell_type": "code",
      "metadata": {
        "id": "ALjesh78nQ5D",
        "colab_type": "code",
        "colab": {
          "base_uri": "https://localhost:8080/",
          "height": 552
        },
        "outputId": "4bf059c4-e1e8-40b7-b74f-4d702bcc0f44"
      },
      "source": [
        "early_stopping = EarlyStopping(patience=5, verbose=True)\n",
        "\n",
        "# train \n",
        "\n",
        "loss_array = []\n",
        "\n",
        "for i in range(100):\n",
        "    # Decay Learning Rate\n",
        "    scheduler.step()\n",
        "    # Print Learning Rate\n",
        "    print('Epoch:', i,'LR:', scheduler.get_lr()) \n",
        "    avg_loss = 0\n",
        "    for index, [data,label] in enumerate(train_loader3):\n",
        "        data = data.to(device)\n",
        "        label = label.to(device, dtype=torch.long) # label dtype float이라 에러발생 -> long으로 변환\n",
        "        \n",
        "        optimizer.zero_grad()\n",
        "        output = model.forward(data)\n",
        "        loss = loss_function(output, label)\n",
        "        loss.backward()\n",
        "        optimizer.step()\n",
        "        avg_loss += loss.item() / len(train_loader3)\n",
        "\n",
        "    if i % 1 == 0:\n",
        "          print('{} epoch loss: {}'.format(i+1, loss))\n",
        "          loss_array.append(loss)  \n",
        "\n",
        "  # test\n",
        "\n",
        "    model.eval() # cf.) 드롭아웃 및 배치 정규화를 평가 모드로 설정하여야 합니다. 이것을 하지 않으면 추론 결과가 일관성 없게 출력됩니다.\n",
        "    correct = 0\n",
        "    total = 0\n",
        "    avg_val_loss = 0\n",
        "\n",
        "    with torch.no_grad():\n",
        "        for index, [data, label] in enumerate(val_loader3):\n",
        "            data = data.to(device)\n",
        "            label = label.to(device, dtype=torch.long)\n",
        "            \n",
        "            output = model.forward(data)\n",
        "            _, predicted = torch.max(output,1)\n",
        "            \n",
        "            total += label.size(0)\n",
        "            correct += (predicted == label).sum().float()\n",
        "            avg_val_loss += loss_function(output, label).item() / len(val_loader3)\n",
        "        \n",
        "        print('Validation Accuracy of the model: {}'.format(correct/total))\n",
        "  \n",
        "    early_stopping(avg_val_loss, model)\n",
        "\n",
        "    if early_stopping.early_stop:\n",
        "        print(\"Early stopping\")\n",
        "        break\n"
      ],
      "execution_count": 60,
      "outputs": [
        {
          "output_type": "stream",
          "text": [
            "/usr/local/lib/python3.6/dist-packages/torch/optim/lr_scheduler.py:123: UserWarning: Detected call of `lr_scheduler.step()` before `optimizer.step()`. In PyTorch 1.1.0 and later, you should call them in the opposite order: `optimizer.step()` before `lr_scheduler.step()`.  Failure to do this will result in PyTorch skipping the first value of the learning rate schedule. See more details at https://pytorch.org/docs/stable/optim.html#how-to-adjust-learning-rate\n",
            "  \"https://pytorch.org/docs/stable/optim.html#how-to-adjust-learning-rate\", UserWarning)\n",
            "/usr/local/lib/python3.6/dist-packages/torch/optim/lr_scheduler.py:231: UserWarning: To get the last learning rate computed by the scheduler, please use `get_last_lr()`.\n",
            "  warnings.warn(\"To get the last learning rate computed by the scheduler, \"\n"
          ],
          "name": "stderr"
        },
        {
          "output_type": "stream",
          "text": [
            "Epoch: 0 LR: [9.5e-05]\n",
            "1 epoch loss: 0.172305166721344\n",
            "Validation Accuracy of the model: 0.9699999690055847\n",
            "Validation loss decreased (inf --> 0.118393).  Saving model ...\n",
            "Epoch: 1 LR: [9.025e-05]\n",
            "2 epoch loss: 0.2020733803510666\n",
            "Validation Accuracy of the model: 0.958214282989502\n",
            "EarlyStopping counter: 1 out of 5\n",
            "Epoch: 2 LR: [8.573749999999999e-05]\n",
            "3 epoch loss: 0.34660640358924866\n",
            "Validation Accuracy of the model: 0.9449999928474426\n",
            "EarlyStopping counter: 2 out of 5\n",
            "Epoch: 3 LR: [8.1450625e-05]\n",
            "4 epoch loss: 0.20169246196746826\n",
            "Validation Accuracy of the model: 0.9604761600494385\n",
            "EarlyStopping counter: 3 out of 5\n",
            "Epoch: 4 LR: [7.737809374999998e-05]\n",
            "5 epoch loss: 0.25095847249031067\n",
            "Validation Accuracy of the model: 0.9592856764793396\n",
            "EarlyStopping counter: 4 out of 5\n",
            "Epoch: 5 LR: [7.350918906249998e-05]\n",
            "6 epoch loss: 0.25167644023895264\n",
            "Validation Accuracy of the model: 0.9591666460037231\n",
            "EarlyStopping counter: 5 out of 5\n",
            "Early stopping\n"
          ],
          "name": "stdout"
        }
      ]
    },
    {
      "cell_type": "code",
      "metadata": {
        "colab_type": "code",
        "id": "OMbV_HOHm7id",
        "colab": {
          "base_uri": "https://localhost:8080/",
          "height": 265
        },
        "outputId": "ea5c61de-4239-4171-ab20-6d566a7acfc3"
      },
      "source": [
        "plt.figure()\n",
        "plt.plot(loss_array)\n",
        "plt.show()"
      ],
      "execution_count": 61,
      "outputs": [
        {
          "output_type": "display_data",
          "data": {
            "image/png": "[encoded data removed]",
            "text/plain": [
              "<Figure size 432x288 with 1 Axes>"
            ]
          },
          "metadata": {
            "tags": [],
            "needs_background": "light"
          }
        }
      ]
    },
    {
      "cell_type": "code",
      "metadata": {
        "colab_type": "code",
        "id": "o2iAUBBNm7iq",
        "colab": {
          "base_uri": "https://localhost:8080/",
          "height": 35
        },
        "outputId": "0e8a8672-eccb-4fb7-9fd6-b0423b57fa46"
      },
      "source": [
        "# test\n",
        "\n",
        "model.eval() # cf.) 드롭아웃 및 배치 정규화를 평가 모드로 설정하여야 합니다. 이것을 하지 않으면 추론 결과가 일관성 없게 출력됩니다.\n",
        "correct = 0\n",
        "total = 0\n",
        "\n",
        "\n",
        "with torch.no_grad():\n",
        "    for index, [data, label] in enumerate(val_loader3):\n",
        "        data = data.to(device)\n",
        "        label = label.to(device, dtype=torch.long)\n",
        "        \n",
        "        output = model.forward(data)\n",
        "        _, predicted = torch.max(output,1)\n",
        "        \n",
        "        total += label.size(0)\n",
        "        correct += (predicted == label).sum().float()\n",
        "    \n",
        "    print('Validation Accuracy of the model: {}'.format(correct/total))"
      ],
      "execution_count": 62,
      "outputs": [
        {
          "output_type": "stream",
          "text": [
            "Validation Accuracy of the model: 0.9591666460037231\n"
          ],
          "name": "stdout"
        }
      ]
    },
    {
      "cell_type": "markdown",
      "metadata": {
        "id": "dbz9FIR6lGTb",
        "colab_type": "text"
      },
      "source": [
        "## 최종 모델 선정"
      ]
    },
    {
      "cell_type": "code",
      "metadata": {
        "id": "rWjKklWKlYoj",
        "colab_type": "code",
        "colab": {}
      },
      "source": [
        "# hyper parameter\n",
        "learning_rate = 1e-4\n",
        "epochs = 20\n",
        "batch_size = 100\n",
        "activation = nn.ReLU()\n",
        "dropout_rate = .2"
      ],
      "execution_count": 237,
      "outputs": []
    },
    {
      "cell_type": "code",
      "metadata": {
        "colab_type": "code",
        "id": "TrcapfTPxUTF",
        "colab": {}
      },
      "source": [
        "# dataset\n",
        "X_train2 = X_train.view(-1,1,28,28)\n",
        "X_val2 = X_val.view(-1,1,28,28)\n",
        "X_test2 = X_test.view(-1,1,28,28)\n",
        "\n",
        "train_dataset2 = TensorDataset(X_train2, y_train)\n",
        "train_loader2 = DataLoader(train_dataset2, batch_size=batch_size)\n",
        "\n",
        "val_dataset2 = TensorDataset(X_val2, y_val)\n",
        "val_loader2 = DataLoader(val_dataset2, batch_size=batch_size)\n",
        "\n",
        "test_loader2 = DataLoader(X_test2, batch_size=batch_size)"
      ],
      "execution_count": null,
      "outputs": []
    },
    {
      "cell_type": "code",
      "metadata": {
        "colab_type": "code",
        "id": "NXnwT1GRsxxt",
        "colab": {}
      },
      "source": [
        "# model\n",
        "class LeNet(nn.Module):\n",
        "    def __init__(self):\n",
        "        super(LeNet, self).__init__()\n",
        "        self.feature_extraction = nn.Sequential(\n",
        "            nn.Conv2d(1,6,5, padding=2), # 6x28x28\n",
        "            nn.BatchNorm2d(6),\n",
        "            activation,\n",
        "            nn.Dropout(dropout_rate),\n",
        "            nn.MaxPool2d(2,2), # 6x14x14\n",
        "            nn.Conv2d(6,16,5), # 6x10x10\n",
        "            nn.BatchNorm2d(16),\n",
        "            activation,\n",
        "            # nn.Dropout(dropout_rate),\n",
        "            nn.MaxPool2d(2,2), # 16x5x5\n",
        "        )\n",
        "        \n",
        "        self.classifier = nn.Sequential(\n",
        "            nn.Linear(16*5*5, 120),\n",
        "            nn.BatchNorm1d(120),\n",
        "            activation,\n",
        "            # nn.Dropout(dropout_rate),\n",
        "            nn.Linear(120,84),\n",
        "            nn.BatchNorm1d(84),\n",
        "            activation,\n",
        "            # nn.Dropout(dropout_rate),\n",
        "            nn.Linear(84,10) # 400x10\n",
        "        )\n",
        "        \n",
        "    def forward(self, x):\n",
        "        extracted_feature = self.feature_extraction(x) # batch_sizex16x5x5\n",
        "        flatten = extracted_feature.view(batch_size, -1) # batch_sizex400\n",
        "        result = self.classifier(flatten) # batch_sizex10\n",
        "        return result \n",
        "\n",
        "# weight initialization : Xavier\n",
        "def init_weights(m):\n",
        "    if type(m) == nn.Linear :\n",
        "        torch.nn.init.xavier_uniform_(m.weight)\n",
        "        m.bias.data.fill_(0.01)\n",
        "\n",
        "model = LeNet().to(device)\n",
        "model.train()\n",
        "loss_function = nn.CrossEntropyLoss()\n",
        "optimizer = optim.Adam(model.parameters(), lr=learning_rate, weight_decay=0.1)\n",
        "scheduler = optim.lr_scheduler.LambdaLR(optimizer, lr_lambda=lambda epoch: 0.95**epoch)"
      ],
      "execution_count": 218,
      "outputs": []
    },
    {
      "cell_type": "code",
      "metadata": {
        "colab_type": "code",
        "id": "FAQDdy5jsxx3",
        "colab": {
          "base_uri": "https://localhost:8080/",
          "height": 819
        },
        "outputId": "f7db1412-96ca-4500-f2c9-5bfc47b659b4"
      },
      "source": [
        "# train \n",
        "loss_array = []\n",
        "\n",
        "for i in range(epochs):\n",
        "    # Decay Learning Rate\n",
        "    scheduler.step()\n",
        "    # Print Learning Rate\n",
        "    print('Epoch:', i,'LR:', scheduler.get_lr())  \n",
        "    for index, [data,label] in enumerate(train_loader2):\n",
        "        data = data.to(device)\n",
        "        label = label.to(device, dtype=torch.long) # label dtype float이라 에러발생 -> long으로 변환\n",
        "        \n",
        "        optimizer.zero_grad()\n",
        "        output = model.forward(data)\n",
        "        loss = loss_function(output, label)\n",
        "        loss.backward()\n",
        "        optimizer.step()\n",
        "        \n",
        "    if i % 1 == 0:\n",
        "        print('{} epoch loss: {}'.format(i+1, loss))\n",
        "        loss_array.append(loss)"
      ],
      "execution_count": 195,
      "outputs": [
        {
          "output_type": "stream",
          "text": [
            "/usr/local/lib/python3.6/dist-packages/torch/optim/lr_scheduler.py:123: UserWarning: Detected call of `lr_scheduler.step()` before `optimizer.step()`. In PyTorch 1.1.0 and later, you should call them in the opposite order: `optimizer.step()` before `lr_scheduler.step()`.  Failure to do this will result in PyTorch skipping the first value of the learning rate schedule. See more details at https://pytorch.org/docs/stable/optim.html#how-to-adjust-learning-rate\n",
            "  \"https://pytorch.org/docs/stable/optim.html#how-to-adjust-learning-rate\", UserWarning)\n",
            "/usr/local/lib/python3.6/dist-packages/torch/optim/lr_scheduler.py:231: UserWarning: To get the last learning rate computed by the scheduler, please use `get_last_lr()`.\n",
            "  warnings.warn(\"To get the last learning rate computed by the scheduler, \"\n"
          ],
          "name": "stderr"
        },
        {
          "output_type": "stream",
          "text": [
            "Epoch: 0 LR: [9.5e-05]\n",
            "1 epoch loss: 0.5711085796356201\n",
            "Epoch: 1 LR: [9.025e-05]\n",
            "2 epoch loss: 0.3246425688266754\n",
            "Epoch: 2 LR: [8.573749999999999e-05]\n",
            "3 epoch loss: 0.2394166886806488\n",
            "Epoch: 3 LR: [8.1450625e-05]\n",
            "4 epoch loss: 0.2049974948167801\n",
            "Epoch: 4 LR: [7.737809374999998e-05]\n",
            "5 epoch loss: 0.1887471228837967\n",
            "Epoch: 5 LR: [7.350918906249998e-05]\n",
            "6 epoch loss: 0.1821357160806656\n",
            "Epoch: 6 LR: [6.983372960937497e-05]\n",
            "7 epoch loss: 0.17760354280471802\n",
            "Epoch: 7 LR: [6.634204312890623e-05]\n",
            "8 epoch loss: 0.17623113095760345\n",
            "Epoch: 8 LR: [6.30249409724609e-05]\n",
            "9 epoch loss: 0.18294687569141388\n",
            "Epoch: 9 LR: [5.987369392383787e-05]\n",
            "10 epoch loss: 0.17480768263339996\n",
            "Epoch: 10 LR: [5.688000922764597e-05]\n",
            "11 epoch loss: 0.18383386731147766\n",
            "Epoch: 11 LR: [5.403600876626367e-05]\n",
            "12 epoch loss: 0.18541763722896576\n",
            "Epoch: 12 LR: [5.1334208327950485e-05]\n",
            "13 epoch loss: 0.18434123694896698\n",
            "Epoch: 13 LR: [4.876749791155295e-05]\n",
            "14 epoch loss: 0.1907801628112793\n",
            "Epoch: 14 LR: [4.6329123015975305e-05]\n",
            "15 epoch loss: 0.1995154172182083\n",
            "Epoch: 15 LR: [4.4012666865176535e-05]\n",
            "16 epoch loss: 0.19707678258419037\n",
            "Epoch: 16 LR: [4.181203352191771e-05]\n",
            "17 epoch loss: 0.20451879501342773\n",
            "Epoch: 17 LR: [3.972143184582182e-05]\n",
            "18 epoch loss: 0.20887786149978638\n",
            "Epoch: 18 LR: [3.7735360253530726e-05]\n",
            "19 epoch loss: 0.2076592594385147\n",
            "Epoch: 19 LR: [3.584859224085419e-05]\n",
            "20 epoch loss: 0.21730104088783264\n"
          ],
          "name": "stdout"
        }
      ]
    },
    {
      "cell_type": "code",
      "metadata": {
        "colab_type": "code",
        "id": "NbPFmfCHsxyE",
        "colab": {
          "base_uri": "https://localhost:8080/",
          "height": 265
        },
        "outputId": "61558a75-556c-4af2-8333-e6187211efc8"
      },
      "source": [
        "plt.figure()\n",
        "plt.plot(loss_array)\n",
        "plt.show()"
      ],
      "execution_count": 196,
      "outputs": [
        {
          "output_type": "display_data",
          "data": {
            "image/png": "[encoded data removed]",
            "text/plain": [
              "<Figure size 432x288 with 1 Axes>"
            ]
          },
          "metadata": {
            "tags": [],
            "needs_background": "light"
          }
        }
      ]
    },
    {
      "cell_type": "code",
      "metadata": {
        "colab_type": "code",
        "id": "-4MBVdxZsxyR",
        "colab": {
          "base_uri": "https://localhost:8080/",
          "height": 35
        },
        "outputId": "5a980a47-4553-49c6-a83b-691fb369c531"
      },
      "source": [
        "# test\n",
        "\n",
        "model.eval() # cf.) 드롭아웃 및 배치 정규화를 평가 모드로 설정하여야 합니다. 이것을 하지 않으면 추론 결과가 일관성 없게 출력됩니다.\n",
        "correct = 0\n",
        "total = 0\n",
        "\n",
        "\n",
        "with torch.no_grad():\n",
        "    for index, [data, label] in enumerate(val_loader2):\n",
        "        data = data.to(device)\n",
        "        label = label.to(device, dtype=torch.long)\n",
        "        \n",
        "        output = model.forward(data)\n",
        "        _, predicted = torch.max(output,1)\n",
        "        \n",
        "        total += label.size(0)\n",
        "        correct += (predicted == label).sum().float()\n",
        "    \n",
        "    print('Validation Accuracy of the model: {}'.format(correct/total))"
      ],
      "execution_count": 197,
      "outputs": [
        {
          "output_type": "stream",
          "text": [
            "Validation Accuracy of the model: 0.9940475821495056\n"
          ],
          "name": "stdout"
        }
      ]
    },
    {
      "cell_type": "markdown",
      "metadata": {
        "id": "g7HC6Rie6sU2",
        "colab_type": "text"
      },
      "source": [
        "#### Validation data 예측 시각화"
      ]
    },
    {
      "cell_type": "code",
      "metadata": {
        "id": "wW8Hoaee6MHQ",
        "colab_type": "code",
        "colab": {
          "base_uri": "https://localhost:8080/",
          "height": 35
        },
        "outputId": "f49b154f-e9ae-426f-d68c-8e9bc92c6311"
      },
      "source": [
        "model.eval()\n",
        "val_predictions = []\n",
        "\n",
        "for data, label in tqdm(val_loader2):\n",
        "    data = data.to(device)\n",
        "    output = model(data).max(dim=1)[1] # argmax\n",
        "    val_predictions += list(output.data.cpu().numpy())"
      ],
      "execution_count": 250,
      "outputs": [
        {
          "output_type": "stream",
          "text": [
            "100%|██████████| 84/84 [00:00<00:00, 403.79it/s]\n"
          ],
          "name": "stderr"
        }
      ]
    },
    {
      "cell_type": "code",
      "metadata": {
        "id": "iDGKNELp55Ek",
        "colab_type": "code",
        "colab": {
          "base_uri": "https://localhost:8080/",
          "height": 35
        },
        "outputId": "11bde84f-15d0-4942-bfd1-f2434a262564"
      },
      "source": [
        "len(val_predictions)"
      ],
      "execution_count": 251,
      "outputs": [
        {
          "output_type": "execute_result",
          "data": {
            "text/plain": [
              "8400"
            ]
          },
          "metadata": {
            "tags": []
          },
          "execution_count": 251
        }
      ]
    },
    {
      "cell_type": "code",
      "metadata": {
        "id": "PcSesZya5EnI",
        "colab_type": "code",
        "colab": {
          "base_uri": "https://localhost:8080/",
          "height": 606
        },
        "outputId": "93df8a78-0075-4a39-9516-bedc50d99457"
      },
      "source": [
        "from sklearn.metrics import confusion_matrix\n",
        "import seaborn as sns\n",
        "\n",
        "# confusion matrix\n",
        "fig = plt.figure(figsize=(10,10))\n",
        "\n",
        "mat = confusion_matrix(y_val, val_predictions)\n",
        "\n",
        "sns.heatmap(mat.T, square=True, annot=True, cbar=False, cmap=plt.cm.Blues)\n",
        "plt.xlabel('Predicted Values')\n",
        "plt.ylabel('True Values')\n",
        "plt.show()"
      ],
      "execution_count": 254,
      "outputs": [
        {
          "output_type": "display_data",
          "data": {
            "image/png": "[encoded data removed]",
            "text/plain": [
              "<Figure size 720x720 with 1 Axes>"
            ]
          },
          "metadata": {
            "tags": [],
            "needs_background": "light"
          }
        }
      ]
    },
    {
      "cell_type": "code",
      "metadata": {
        "id": "s-QlDgBH68Xe",
        "colab_type": "code",
        "colab": {
          "base_uri": "https://localhost:8080/",
          "height": 820
        },
        "outputId": "23e8696f-c811-421a-f89b-36ddd011746b"
      },
      "source": [
        "X_val_ = X_val.reshape(X_val.shape[0], 28, 28)\n",
        "\n",
        "fig, axis = plt.subplots(4,4, figsize=(12,14))\n",
        "for i, ax in enumerate(axis.flat):\n",
        "  ax.imshow(X_val_[i], cmap='binary')\n",
        "  ax.set(title = f'Real Number is {y_val[i]}\\nPredict Number is {val_predictions[i]}')"
      ],
      "execution_count": 264,
      "outputs": [
        {
          "output_type": "display_data",
          "data": {
            "image/png": "[encoded data removed]",
            "text/plain": [
              "<Figure size 864x1008 with 16 Axes>"
            ]
          },
          "metadata": {
            "tags": [],
            "needs_background": "light"
          }
        }
      ]
    },
    {
      "cell_type": "markdown",
      "metadata": {
        "id": "ni418Lr6_rrr",
        "colab_type": "text"
      },
      "source": [
        "- 궁금한 점: real number와 image의 숫자가 맞지 않는 것 같은데, 왜 다른지 모르겠습니다. "
      ]
    },
    {
      "cell_type": "markdown",
      "metadata": {
        "colab_type": "text",
        "id": "dsq9dA6ah9uE"
      },
      "source": [
        "### 예측하기 \n",
        "(이전 우수과제 코드 참고)"
      ]
    },
    {
      "cell_type": "code",
      "metadata": {
        "colab_type": "code",
        "id": "TNxZs2Z9h9uL",
        "colab": {}
      },
      "source": [
        "from tqdm import tqdm"
      ],
      "execution_count": 198,
      "outputs": []
    },
    {
      "cell_type": "code",
      "metadata": {
        "colab_type": "code",
        "id": "dxEjLIpah9ub",
        "colab": {
          "base_uri": "https://localhost:8080/",
          "height": 35
        },
        "outputId": "3dbacab9-2e5a-41dc-c587-ed4b5a60a0f6"
      },
      "source": [
        "model.eval()\n",
        "predictions = []\n",
        "\n",
        "for data in tqdm(test_loader2):\n",
        "    data = data.to(device)\n",
        "    output = model(data).max(dim=1)[1] # argmax\n",
        "    predictions += list(output.data.cpu().numpy())"
      ],
      "execution_count": 199,
      "outputs": [
        {
          "output_type": "stream",
          "text": [
            "100%|██████████| 180/180 [00:00<00:00, 485.63it/s]\n"
          ],
          "name": "stderr"
        }
      ]
    },
    {
      "cell_type": "code",
      "metadata": {
        "colab_type": "code",
        "id": "vv3rbRM5h9um",
        "colab": {
          "base_uri": "https://localhost:8080/",
          "height": 124
        },
        "outputId": "ce8678c0-46a5-4052-d45b-2841268ce5a3"
      },
      "source": [
        "#참고\n",
        "t = torch.FloatTensor([[1,2],[3,4]])\n",
        "print('dim=0: ', t.max(dim=0))\n",
        "print('dim=1: ', t.max(dim=1))"
      ],
      "execution_count": 200,
      "outputs": [
        {
          "output_type": "stream",
          "text": [
            "dim=0:  torch.return_types.max(\n",
            "values=tensor([3., 4.]),\n",
            "indices=tensor([1, 1]))\n",
            "dim=1:  torch.return_types.max(\n",
            "values=tensor([2., 4.]),\n",
            "indices=tensor([1, 1]))\n"
          ],
          "name": "stdout"
        }
      ]
    },
    {
      "cell_type": "code",
      "metadata": {
        "colab_type": "code",
        "id": "0XkfWIPdh9uv",
        "colab": {
          "base_uri": "https://localhost:8080/",
          "height": 200
        },
        "outputId": "ebe56daa-bb2a-402f-e065-2b3cca185453"
      },
      "source": [
        "sample_submission['Category'] = pd.Series(predictions)\n",
        "sample_submission.head()"
      ],
      "execution_count": 201,
      "outputs": [
        {
          "output_type": "execute_result",
          "data": {
            "text/html": [
              "<div>\n",
              "<style scoped>\n",
              "    .dataframe tbody tr th:only-of-type {\n",
              "        vertical-align: middle;\n",
              "    }\n",
              "\n",
              "    .dataframe tbody tr th {\n",
              "        vertical-align: top;\n",
              "    }\n",
              "\n",
              "    .dataframe thead th {\n",
              "        text-align: right;\n",
              "    }\n",
              "</style>\n",
              "<table border=\"1\" class=\"dataframe\">\n",
              "  <thead>\n",
              "    <tr style=\"text-align: right;\">\n",
              "      <th></th>\n",
              "      <th>Id</th>\n",
              "      <th>Category</th>\n",
              "    </tr>\n",
              "  </thead>\n",
              "  <tbody>\n",
              "    <tr>\n",
              "      <th>0</th>\n",
              "      <td>57808</td>\n",
              "      <td>8</td>\n",
              "    </tr>\n",
              "    <tr>\n",
              "      <th>1</th>\n",
              "      <td>4960</td>\n",
              "      <td>0</td>\n",
              "    </tr>\n",
              "    <tr>\n",
              "      <th>2</th>\n",
              "      <td>35755</td>\n",
              "      <td>5</td>\n",
              "    </tr>\n",
              "    <tr>\n",
              "      <th>3</th>\n",
              "      <td>15543</td>\n",
              "      <td>3</td>\n",
              "    </tr>\n",
              "    <tr>\n",
              "      <th>4</th>\n",
              "      <td>48968</td>\n",
              "      <td>8</td>\n",
              "    </tr>\n",
              "  </tbody>\n",
              "</table>\n",
              "</div>"
            ],
            "text/plain": [
              "      Id  Category\n",
              "0  57808         8\n",
              "1   4960         0\n",
              "2  35755         5\n",
              "3  15543         3\n",
              "4  48968         8"
            ]
          },
          "metadata": {
            "tags": []
          },
          "execution_count": 201
        }
      ]
    },
    {
      "cell_type": "code",
      "metadata": {
        "colab_type": "code",
        "id": "yHuxan5Ih9u7",
        "colab": {}
      },
      "source": [
        "sample_submission.to_csv(\"submission.csv\",index=False)"
      ],
      "execution_count": 202,
      "outputs": []
    },
    {
      "cell_type": "code",
      "metadata": {
        "id": "ZcgJgmnogdlb",
        "colab_type": "code",
        "colab": {}
      },
      "source": [
        ""
      ],
      "execution_count": null,
      "outputs": []
    },
    {
      "cell_type": "code",
      "metadata": {
        "id": "UrZXZsphQw5Q",
        "colab_type": "code",
        "colab": {}
      },
      "source": [
        ""
      ],
      "execution_count": null,
      "outputs": []
    },
    {
      "cell_type": "code",
      "metadata": {
        "id": "nV5N2jYlWWuZ",
        "colab_type": "code",
        "colab": {}
      },
      "source": [
        ""
      ],
      "execution_count": null,
      "outputs": []
    }
  ]
}