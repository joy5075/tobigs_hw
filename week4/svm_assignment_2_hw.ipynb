{
 "cells": [
  {
   "cell_type": "raw",
   "metadata": {
    "colab_type": "text",
    "id": "J15nU7_ONY3E"
   },
   "source": [
    "#### TOBIG'S 14기 정규세션 4주차 SVM \n",
    "### ASSIGNMENT2\n",
    "---\n",
    "\n",
    " Anomaly detection 데이터셋을 SVM을 이용해서 판별하는 과제로 여러가지 방법을 사용해서 트레이닝 해보고 결과를 비교해주면됩니다!\n",
    "\n",
    " 데이터 분포 : True : 0.17프로 나머지 다 False, \n",
    " \n",
    " Row가 약 28만행이기 때문에 data training 시간이 오래 걸립니다.그래도 자고 일어나면 트레이닝 되어있기는 하는 정도니 여유롭게 과제를 시작해주세요 :)\n",
    "\n",
    " 아직 익숙하지 않으신 분들은 멘토에게 물어보고 한 가지 방법으로만 구현해도 과제를 반려하지는 않겠습니다!"
   ]
  },
  {
   "cell_type": "code",
   "execution_count": 1,
   "metadata": {
    "colab": {
     "base_uri": "https://localhost:8080/",
     "height": 72
    },
    "colab_type": "code",
    "id": "xpWilxuDNY3F",
    "outputId": "da52afb4-c866-41fe-8364-b5e314345682"
   },
   "outputs": [
    {
     "name": "stderr",
     "output_type": "stream",
     "text": [
      "/usr/local/lib/python3.6/dist-packages/statsmodels/tools/_testing.py:19: FutureWarning: pandas.util.testing is deprecated. Use the functions in the public API at pandas.testing instead.\n",
      "  import pandas.util.testing as tm\n"
     ]
    }
   ],
   "source": [
    "import numpy as np\n",
    "import pandas as pd\n",
    "import matplotlib.pyplot as plt\n",
    "import seaborn as sns\n",
    "import random\n",
    "from sklearn.svm import SVC\n",
    "from sklearn.model_selection import train_test_split\n",
    "from sklearn.pipeline import Pipeline\n",
    "from sklearn.preprocessing import StandardScaler\n",
    "\n",
    "from tqdm import tqdm\n",
    "from sklearn.model_selection import cross_validate\n",
    "from sklearn.model_selection import GridSearchCV\n",
    "from sklearn import metrics\n",
    "from sklearn.metrics import confusion_matrix"
   ]
  },
  {
   "cell_type": "code",
   "execution_count": 2,
   "metadata": {
    "colab": {
     "base_uri": "https://localhost:8080/",
     "height": 126
    },
    "colab_type": "code",
    "id": "lfobfQr7wUR0",
    "outputId": "5311c7be-e303-4ebb-b761-53d92d2b1d5e"
   },
   "outputs": [
    {
     "name": "stdout",
     "output_type": "stream",
     "text": [
      "Go to this URL in a browser: https://accounts.google.com/o/oauth2/auth?client_id=947318989803-6bn6qk8qdgf4n4g3pfee6491hc0brc4i.apps.googleusercontent.com&redirect_uri=urn%3aietf%3awg%3aoauth%3a2.0%3aoob&scope=email%20https%3a%2f%2fwww.googleapis.com%2fauth%2fdocs.test%20https%3a%2f%2fwww.googleapis.com%2fauth%2fdrive%20https%3a%2f%2fwww.googleapis.com%2fauth%2fdrive.photos.readonly%20https%3a%2f%2fwww.googleapis.com%2fauth%2fpeopleapi.readonly&response_type=code\n",
      "\n",
      "Enter your authorization code:\n",
      "··········\n",
      "Mounted at /content/drive\n"
     ]
    }
   ],
   "source": [
    "from google.colab import drive\n",
    "drive.mount('/content/drive', force_remount=True)"
   ]
  },
  {
   "cell_type": "code",
   "execution_count": 3,
   "metadata": {
    "colab": {
     "base_uri": "https://localhost:8080/",
     "height": 106
    },
    "colab_type": "code",
    "id": "DEJCvtOeNY3J",
    "outputId": "d0060ace-4f8b-4036-e545-660d04ac351b"
   },
   "outputs": [
    {
     "name": "stdout",
     "output_type": "stream",
     "text": [
      "Index(['Time', 'V1', 'V2', 'V3', 'V4', 'V5', 'V6', 'V7', 'V8', 'V9', 'V10',\n",
      "       'V11', 'V12', 'V13', 'V14', 'V15', 'V16', 'V17', 'V18', 'V19', 'V20',\n",
      "       'V21', 'V22', 'V23', 'V24', 'V25', 'V26', 'V27', 'V28', 'Amount',\n",
      "       'Class'],\n",
      "      dtype='object')\n"
     ]
    }
   ],
   "source": [
    "# Anomaly detection(사기감지 데이터) 로드\n",
    "data = pd.read_csv('/content/drive/My Drive/creditcard.csv')\n",
    "print(data.columns)"
   ]
  },
  {
   "cell_type": "code",
   "execution_count": 4,
   "metadata": {
    "colab": {
     "base_uri": "https://localhost:8080/",
     "height": 220
    },
    "colab_type": "code",
    "id": "E0naaOuFvkbU",
    "outputId": "f2f0fa09-fb15-4fcf-b20f-e93ca1512370"
   },
   "outputs": [
    {
     "data": {
      "text/html": [
       "<div>\n",
       "<style scoped>\n",
       "    .dataframe tbody tr th:only-of-type {\n",
       "        vertical-align: middle;\n",
       "    }\n",
       "\n",
       "    .dataframe tbody tr th {\n",
       "        vertical-align: top;\n",
       "    }\n",
       "\n",
       "    .dataframe thead th {\n",
       "        text-align: right;\n",
       "    }\n",
       "</style>\n",
       "<table border=\"1\" class=\"dataframe\">\n",
       "  <thead>\n",
       "    <tr style=\"text-align: right;\">\n",
       "      <th></th>\n",
       "      <th>Time</th>\n",
       "      <th>V1</th>\n",
       "      <th>V2</th>\n",
       "      <th>V3</th>\n",
       "      <th>V4</th>\n",
       "      <th>V5</th>\n",
       "      <th>V6</th>\n",
       "      <th>V7</th>\n",
       "      <th>V8</th>\n",
       "      <th>V9</th>\n",
       "      <th>V10</th>\n",
       "      <th>V11</th>\n",
       "      <th>V12</th>\n",
       "      <th>V13</th>\n",
       "      <th>V14</th>\n",
       "      <th>V15</th>\n",
       "      <th>V16</th>\n",
       "      <th>V17</th>\n",
       "      <th>V18</th>\n",
       "      <th>V19</th>\n",
       "      <th>V20</th>\n",
       "      <th>V21</th>\n",
       "      <th>V22</th>\n",
       "      <th>V23</th>\n",
       "      <th>V24</th>\n",
       "      <th>V25</th>\n",
       "      <th>V26</th>\n",
       "      <th>V27</th>\n",
       "      <th>V28</th>\n",
       "      <th>Amount</th>\n",
       "      <th>Class</th>\n",
       "    </tr>\n",
       "  </thead>\n",
       "  <tbody>\n",
       "    <tr>\n",
       "      <th>0</th>\n",
       "      <td>0.0</td>\n",
       "      <td>-1.359807</td>\n",
       "      <td>-0.072781</td>\n",
       "      <td>2.536347</td>\n",
       "      <td>1.378155</td>\n",
       "      <td>-0.338321</td>\n",
       "      <td>0.462388</td>\n",
       "      <td>0.239599</td>\n",
       "      <td>0.098698</td>\n",
       "      <td>0.363787</td>\n",
       "      <td>0.090794</td>\n",
       "      <td>-0.551600</td>\n",
       "      <td>-0.617801</td>\n",
       "      <td>-0.991390</td>\n",
       "      <td>-0.311169</td>\n",
       "      <td>1.468177</td>\n",
       "      <td>-0.470401</td>\n",
       "      <td>0.207971</td>\n",
       "      <td>0.025791</td>\n",
       "      <td>0.403993</td>\n",
       "      <td>0.251412</td>\n",
       "      <td>-0.018307</td>\n",
       "      <td>0.277838</td>\n",
       "      <td>-0.110474</td>\n",
       "      <td>0.066928</td>\n",
       "      <td>0.128539</td>\n",
       "      <td>-0.189115</td>\n",
       "      <td>0.133558</td>\n",
       "      <td>-0.021053</td>\n",
       "      <td>149.62</td>\n",
       "      <td>0</td>\n",
       "    </tr>\n",
       "    <tr>\n",
       "      <th>1</th>\n",
       "      <td>0.0</td>\n",
       "      <td>1.191857</td>\n",
       "      <td>0.266151</td>\n",
       "      <td>0.166480</td>\n",
       "      <td>0.448154</td>\n",
       "      <td>0.060018</td>\n",
       "      <td>-0.082361</td>\n",
       "      <td>-0.078803</td>\n",
       "      <td>0.085102</td>\n",
       "      <td>-0.255425</td>\n",
       "      <td>-0.166974</td>\n",
       "      <td>1.612727</td>\n",
       "      <td>1.065235</td>\n",
       "      <td>0.489095</td>\n",
       "      <td>-0.143772</td>\n",
       "      <td>0.635558</td>\n",
       "      <td>0.463917</td>\n",
       "      <td>-0.114805</td>\n",
       "      <td>-0.183361</td>\n",
       "      <td>-0.145783</td>\n",
       "      <td>-0.069083</td>\n",
       "      <td>-0.225775</td>\n",
       "      <td>-0.638672</td>\n",
       "      <td>0.101288</td>\n",
       "      <td>-0.339846</td>\n",
       "      <td>0.167170</td>\n",
       "      <td>0.125895</td>\n",
       "      <td>-0.008983</td>\n",
       "      <td>0.014724</td>\n",
       "      <td>2.69</td>\n",
       "      <td>0</td>\n",
       "    </tr>\n",
       "    <tr>\n",
       "      <th>2</th>\n",
       "      <td>1.0</td>\n",
       "      <td>-1.358354</td>\n",
       "      <td>-1.340163</td>\n",
       "      <td>1.773209</td>\n",
       "      <td>0.379780</td>\n",
       "      <td>-0.503198</td>\n",
       "      <td>1.800499</td>\n",
       "      <td>0.791461</td>\n",
       "      <td>0.247676</td>\n",
       "      <td>-1.514654</td>\n",
       "      <td>0.207643</td>\n",
       "      <td>0.624501</td>\n",
       "      <td>0.066084</td>\n",
       "      <td>0.717293</td>\n",
       "      <td>-0.165946</td>\n",
       "      <td>2.345865</td>\n",
       "      <td>-2.890083</td>\n",
       "      <td>1.109969</td>\n",
       "      <td>-0.121359</td>\n",
       "      <td>-2.261857</td>\n",
       "      <td>0.524980</td>\n",
       "      <td>0.247998</td>\n",
       "      <td>0.771679</td>\n",
       "      <td>0.909412</td>\n",
       "      <td>-0.689281</td>\n",
       "      <td>-0.327642</td>\n",
       "      <td>-0.139097</td>\n",
       "      <td>-0.055353</td>\n",
       "      <td>-0.059752</td>\n",
       "      <td>378.66</td>\n",
       "      <td>0</td>\n",
       "    </tr>\n",
       "    <tr>\n",
       "      <th>3</th>\n",
       "      <td>1.0</td>\n",
       "      <td>-0.966272</td>\n",
       "      <td>-0.185226</td>\n",
       "      <td>1.792993</td>\n",
       "      <td>-0.863291</td>\n",
       "      <td>-0.010309</td>\n",
       "      <td>1.247203</td>\n",
       "      <td>0.237609</td>\n",
       "      <td>0.377436</td>\n",
       "      <td>-1.387024</td>\n",
       "      <td>-0.054952</td>\n",
       "      <td>-0.226487</td>\n",
       "      <td>0.178228</td>\n",
       "      <td>0.507757</td>\n",
       "      <td>-0.287924</td>\n",
       "      <td>-0.631418</td>\n",
       "      <td>-1.059647</td>\n",
       "      <td>-0.684093</td>\n",
       "      <td>1.965775</td>\n",
       "      <td>-1.232622</td>\n",
       "      <td>-0.208038</td>\n",
       "      <td>-0.108300</td>\n",
       "      <td>0.005274</td>\n",
       "      <td>-0.190321</td>\n",
       "      <td>-1.175575</td>\n",
       "      <td>0.647376</td>\n",
       "      <td>-0.221929</td>\n",
       "      <td>0.062723</td>\n",
       "      <td>0.061458</td>\n",
       "      <td>123.50</td>\n",
       "      <td>0</td>\n",
       "    </tr>\n",
       "    <tr>\n",
       "      <th>4</th>\n",
       "      <td>2.0</td>\n",
       "      <td>-1.158233</td>\n",
       "      <td>0.877737</td>\n",
       "      <td>1.548718</td>\n",
       "      <td>0.403034</td>\n",
       "      <td>-0.407193</td>\n",
       "      <td>0.095921</td>\n",
       "      <td>0.592941</td>\n",
       "      <td>-0.270533</td>\n",
       "      <td>0.817739</td>\n",
       "      <td>0.753074</td>\n",
       "      <td>-0.822843</td>\n",
       "      <td>0.538196</td>\n",
       "      <td>1.345852</td>\n",
       "      <td>-1.119670</td>\n",
       "      <td>0.175121</td>\n",
       "      <td>-0.451449</td>\n",
       "      <td>-0.237033</td>\n",
       "      <td>-0.038195</td>\n",
       "      <td>0.803487</td>\n",
       "      <td>0.408542</td>\n",
       "      <td>-0.009431</td>\n",
       "      <td>0.798278</td>\n",
       "      <td>-0.137458</td>\n",
       "      <td>0.141267</td>\n",
       "      <td>-0.206010</td>\n",
       "      <td>0.502292</td>\n",
       "      <td>0.219422</td>\n",
       "      <td>0.215153</td>\n",
       "      <td>69.99</td>\n",
       "      <td>0</td>\n",
       "    </tr>\n",
       "  </tbody>\n",
       "</table>\n",
       "</div>"
      ],
      "text/plain": [
       "   Time        V1        V2        V3  ...       V27       V28  Amount  Class\n",
       "0   0.0 -1.359807 -0.072781  2.536347  ...  0.133558 -0.021053  149.62      0\n",
       "1   0.0  1.191857  0.266151  0.166480  ... -0.008983  0.014724    2.69      0\n",
       "2   1.0 -1.358354 -1.340163  1.773209  ... -0.055353 -0.059752  378.66      0\n",
       "3   1.0 -0.966272 -0.185226  1.792993  ...  0.062723  0.061458  123.50      0\n",
       "4   2.0 -1.158233  0.877737  1.548718  ...  0.219422  0.215153   69.99      0\n",
       "\n",
       "[5 rows x 31 columns]"
      ]
     },
     "execution_count": 4,
     "metadata": {
      "tags": []
     },
     "output_type": "execute_result"
    }
   ],
   "source": [
    "data.head()"
   ]
  },
  {
   "cell_type": "code",
   "execution_count": 5,
   "metadata": {
    "colab": {
     "base_uri": "https://localhost:8080/",
     "height": 692
    },
    "colab_type": "code",
    "id": "CmKDw3_Ejifz",
    "outputId": "073f0b44-82a6-47ff-fd22-4c9daf4f9425"
   },
   "outputs": [
    {
     "name": "stdout",
     "output_type": "stream",
     "text": [
      "<class 'pandas.core.frame.DataFrame'>\n",
      "RangeIndex: 284806 entries, 0 to 284805\n",
      "Data columns (total 31 columns):\n",
      " #   Column  Non-Null Count   Dtype  \n",
      "---  ------  --------------   -----  \n",
      " 0   Time    284806 non-null  float64\n",
      " 1   V1      284806 non-null  float64\n",
      " 2   V2      284806 non-null  float64\n",
      " 3   V3      284806 non-null  float64\n",
      " 4   V4      284806 non-null  float64\n",
      " 5   V5      284806 non-null  float64\n",
      " 6   V6      284806 non-null  float64\n",
      " 7   V7      284806 non-null  float64\n",
      " 8   V8      284806 non-null  float64\n",
      " 9   V9      284806 non-null  float64\n",
      " 10  V10     284806 non-null  float64\n",
      " 11  V11     284806 non-null  float64\n",
      " 12  V12     284806 non-null  float64\n",
      " 13  V13     284806 non-null  float64\n",
      " 14  V14     284806 non-null  float64\n",
      " 15  V15     284806 non-null  float64\n",
      " 16  V16     284806 non-null  float64\n",
      " 17  V17     284806 non-null  float64\n",
      " 18  V18     284806 non-null  float64\n",
      " 19  V19     284806 non-null  float64\n",
      " 20  V20     284806 non-null  float64\n",
      " 21  V21     284806 non-null  float64\n",
      " 22  V22     284806 non-null  float64\n",
      " 23  V23     284806 non-null  float64\n",
      " 24  V24     284806 non-null  float64\n",
      " 25  V25     284806 non-null  float64\n",
      " 26  V26     284806 non-null  float64\n",
      " 27  V27     284806 non-null  float64\n",
      " 28  V28     284806 non-null  float64\n",
      " 29  Amount  284806 non-null  float64\n",
      " 30  Class   284806 non-null  int64  \n",
      "dtypes: float64(30), int64(1)\n",
      "memory usage: 67.4 MB\n"
     ]
    }
   ],
   "source": [
    "data.info()"
   ]
  },
  {
   "cell_type": "code",
   "execution_count": 6,
   "metadata": {
    "colab": {
     "base_uri": "https://localhost:8080/",
     "height": 70
    },
    "colab_type": "code",
    "id": "gllRihdn5uPM",
    "outputId": "d133438f-b2bb-47ef-cc7a-534972ed6555"
   },
   "outputs": [
    {
     "data": {
      "text/plain": [
       "0    284314\n",
       "1       492\n",
       "Name: Class, dtype: int64"
      ]
     },
     "execution_count": 6,
     "metadata": {
      "tags": []
     },
     "output_type": "execute_result"
    }
   ],
   "source": [
    "# target 데이터 확인\n",
    "data['Class'].value_counts()"
   ]
  },
  {
   "cell_type": "code",
   "execution_count": 7,
   "metadata": {
    "colab": {
     "base_uri": "https://localhost:8080/",
     "height": 280
    },
    "colab_type": "code",
    "id": "H_s73F1S6Ub5",
    "outputId": "eb4a941e-dbb5-42f8-fab4-239a4561bac9"
   },
   "outputs": [
    {
     "data": {
      "text/plain": [
       "<matplotlib.axes._subplots.AxesSubplot at 0x7fde36887fd0>"
      ]
     },
     "execution_count": 7,
     "metadata": {
      "tags": []
     },
     "output_type": "execute_result"
    },
    {
     "data": {
      "image/png": "[encoded data removed]",
      "text/plain": [
       "<Figure size 432x288 with 1 Axes>"
      ]
     },
     "metadata": {
      "needs_background": "light",
      "tags": []
     },
     "output_type": "display_data"
    }
   ],
   "source": [
    "# target 데이터 분포\n",
    "data['Class'].value_counts().plot(kind='bar')"
   ]
  },
  {
   "cell_type": "markdown",
   "metadata": {
    "colab_type": "text",
    "id": "TCOm-KXhr0f1"
   },
   "source": [
    "target 데이터가 불균형하므로 향후 undersampling을 진행하도록 합니다. "
   ]
  },
  {
   "cell_type": "code",
   "execution_count": 8,
   "metadata": {
    "colab": {
     "base_uri": "https://localhost:8080/",
     "height": 304
    },
    "colab_type": "code",
    "id": "E7p_hAirenVO",
    "outputId": "d2d11f68-4df3-4ef2-bc52-7d87e3d9b032"
   },
   "outputs": [
    {
     "data": {
      "text/plain": [
       "<matplotlib.axes._subplots.AxesSubplot at 0x7fde36349898>"
      ]
     },
     "execution_count": 8,
     "metadata": {
      "tags": []
     },
     "output_type": "execute_result"
    },
    {
     "data": {
      "image/png": "[encoded data removed]",
      "text/plain": [
       "<Figure size 432x288 with 2 Axes>"
      ]
     },
     "metadata": {
      "needs_background": "light",
      "tags": []
     },
     "output_type": "display_data"
    }
   ],
   "source": [
    "# target과의 상관관계\n",
    "sns.heatmap(data.corr(), cmap='YlGnBu')"
   ]
  },
  {
   "cell_type": "code",
   "execution_count": 9,
   "metadata": {
    "colab": {
     "base_uri": "https://localhost:8080/",
     "height": 531
    },
    "colab_type": "code",
    "id": "KyuYf5bsnSTw",
    "outputId": "98308810-2179-4ce2-bb3d-54c2a03d79f5"
   },
   "outputs": [
    {
     "data": {
      "text/plain": [
       "Text(0.5, 1.0, 'V17 boxplot')"
      ]
     },
     "execution_count": 9,
     "metadata": {
      "tags": []
     },
     "output_type": "execute_result"
    },
    {
     "data": {
      "image/png": "[encoded data removed]",
      "text/plain": [
       "<Figure size 1080x576 with 2 Axes>"
      ]
     },
     "metadata": {
      "needs_background": "light",
      "tags": []
     },
     "output_type": "display_data"
    }
   ],
   "source": [
    "# target과 상관관계가 높아보이는 V14, V17 변수 boxplot\n",
    "fig, axes = plt.subplots(ncols=2, figsize=(15,8))\n",
    "sns.boxplot(x='Class', y='V14', data=data, ax=axes[0])\n",
    "axes[0].set_title('V14 boxplot')\n",
    "\n",
    "sns.boxplot(x='Class', y='V17', data=data, ax=axes[1])\n",
    "axes[1].set_title('V17 boxplot')"
   ]
  },
  {
   "cell_type": "markdown",
   "metadata": {
    "colab_type": "text",
    "id": "noU1KtwBoc9y"
   },
   "source": [
    "Class 0과 1이 각 변수에 따라 서로 다른 분포를 보여주고 있으므로, 해당 변수를 주요 변수로 상정한 후 이상치를 제거해줍니다."
   ]
  },
  {
   "cell_type": "code",
   "execution_count": 10,
   "metadata": {
    "colab": {
     "base_uri": "https://localhost:8080/",
     "height": 88
    },
    "colab_type": "code",
    "id": "r_DM674toCdP",
    "outputId": "2b54b925-3e66-45db-ce57-2cd9725a6b77"
   },
   "outputs": [
    {
     "name": "stdout",
     "output_type": "stream",
     "text": [
      "13800\n",
      "(271006, 31)\n",
      "3578\n",
      "(267428, 31)\n"
     ]
    }
   ],
   "source": [
    "# Class가 0인 경우에 한해서 이상치 제거\n",
    "def remove_outlier(data, col):\n",
    "  fraud_col = data[data['Class']==0][col]\n",
    "  q25 = np.percentile(fraud_col.values, 25)\n",
    "  q75 = np.percentile(fraud_col.values, 75)\n",
    "\n",
    "  iqr = (q75 - q25) * 1.5\n",
    "  lowest = q25-iqr\n",
    "  highest = q75+iqr\n",
    "  outlier = fraud_col[(fraud_col < lowest)|(fraud_col > highest)].index\n",
    "  print(len(outlier))\n",
    "  data.drop(outlier, axis=0, inplace=True)\n",
    "  print(data.shape)\n",
    "  return data\n",
    "\n",
    "removed_data = remove_outlier(data, 'V14')\n",
    "removed_data = remove_outlier(removed_data, 'V17')"
   ]
  },
  {
   "cell_type": "code",
   "execution_count": 11,
   "metadata": {
    "colab": {},
    "colab_type": "code",
    "id": "tpYjsqFw_zBq"
   },
   "outputs": [],
   "source": [
    "# whole dataset 분리\n",
    "X_train, X_test, y_train, y_test = train_test_split(removed_data.iloc[:,:-1], removed_data.iloc[:,-1], test_size=0.2, random_state=0)\n",
    "\n",
    "# scaling\n",
    "scaler = StandardScaler()\n",
    "scaled_X_train = pd.DataFrame(scaler.fit_transform(X_train), columns=X_train.columns)\n",
    "scaled_X_test = pd.DataFrame(scaler.transform(X_test), columns=X_test.columns)"
   ]
  },
  {
   "cell_type": "code",
   "execution_count": 12,
   "metadata": {
    "colab": {
     "base_uri": "https://localhost:8080/",
     "height": 141
    },
    "colab_type": "code",
    "id": "YMNiZ8y_tJ-S",
    "outputId": "3df3a9f6-8283-42be-d92c-26795b2ec5d0"
   },
   "outputs": [
    {
     "name": "stdout",
     "output_type": "stream",
     "text": [
      "정상 데이터 비율 :  0.5\n",
      "사기 데이터 비율 :  0.5\n",
      "전체 데이터 수 :  984\n",
      "\n",
      "train dataset:  787\n",
      "test dataset:  197\n",
      "Total dataset:  984\n"
     ]
    }
   ],
   "source": [
    "# undersampling (majority class instances를 제거하는 방법)\n",
    "\n",
    "# target 데이터 수 \n",
    "number_fraud = len(removed_data[removed_data['Class']==1])\n",
    "\n",
    "fraud_indices = np.array(removed_data[removed_data['Class']==1].index)\n",
    "normal_indices = removed_data[removed_data['Class']==0].index\n",
    "\n",
    "# 정상 데이터셋에서 사기 데이터 수만큼 랜덤 선택\n",
    "random_normal_indices = np.random.choice(normal_indices, number_fraud, replace=False)\n",
    "random_normal_indices = np.array(random_normal_indices)\n",
    "\n",
    "# 사기 데이터 인덱스와 랜덤으로 추출한 인덱스 연결\n",
    "under_sample_indices = np.concatenate([fraud_indices, random_normal_indices])\n",
    "\n",
    "# under sample dataset\n",
    "under_sample_data = removed_data.loc[under_sample_indices, :]\n",
    "\n",
    "X_undersample = under_sample_data.iloc[:, :-1]\n",
    "y_undersample = under_sample_data.iloc[:, -1]\n",
    "\n",
    "print('정상 데이터 비율 : ', len(under_sample_data[under_sample_data.Class==0])/len(under_sample_data))\n",
    "print('사기 데이터 비율 : ', len(under_sample_data[under_sample_data.Class==1])/len(under_sample_data))\n",
    "print('전체 데이터 수 : ', len(under_sample_data))\n",
    "\n",
    "# undersampled dataset train-test 분리\n",
    "X_train_undersample, X_test_undersample, y_train_undersample, y_test_undersample = train_test_split(X_undersample, y_undersample, test_size=0.2, random_state=0)\n",
    "\n",
    "print('')\n",
    "print('train dataset: ', len(X_train_undersample))\n",
    "print('test dataset: ', len(X_test_undersample))\n",
    "print('Total dataset: ', len(X_train_undersample)+len(X_test_undersample))\n",
    "\n"
   ]
  },
  {
   "cell_type": "code",
   "execution_count": 13,
   "metadata": {
    "colab": {},
    "colab_type": "code",
    "id": "Xl6ERzFo8ELS"
   },
   "outputs": [],
   "source": [
    "# scaling\n",
    "scaler = StandardScaler()\n",
    "scaled_X_train_undersample = pd.DataFrame(scaler.fit_transform(X_train_undersample), columns=X_train_undersample.columns)\n",
    "scaled_X_test_undersample = pd.DataFrame(scaler.transform(X_test_undersample), columns=X_test_undersample.columns)"
   ]
  },
  {
   "cell_type": "code",
   "execution_count": 14,
   "metadata": {
    "colab": {},
    "colab_type": "code",
    "id": "H_zb6PsCEe1D"
   },
   "outputs": [],
   "source": [
    "# uncustomized model\n",
    "svc = SVC(kernel='linear')\n",
    "svc.fit(scaled_X_train_undersample, y_train_undersample)\n",
    "y_pred = svc.predict(scaled_X_test_undersample)"
   ]
  },
  {
   "cell_type": "code",
   "execution_count": 15,
   "metadata": {
    "colab": {
     "base_uri": "https://localhost:8080/",
     "height": 141
    },
    "colab_type": "code",
    "id": "LwxGiQ4qcdBV",
    "outputId": "38870f49-b475-4fcd-ce3b-c03ed037173d"
   },
   "outputs": [
    {
     "name": "stdout",
     "output_type": "stream",
     "text": [
      "Accuracy Score:  0.9695431472081218\n",
      "Confusion matrix: \n",
      " [[105   1]\n",
      " [  5  86]]\n",
      "Precision:  0.9885057471264368\n",
      "Recall:  0.945054945054945\n",
      "F1:  0.9662921348314606\n"
     ]
    }
   ],
   "source": [
    "print('Accuracy Score: ', metrics.accuracy_score(y_test_undersample, y_pred))\n",
    "print('Confusion matrix: \\n', confusion_matrix(y_test_undersample, y_pred))\n",
    "print('Precision: ', metrics.precision_score(y_test_undersample, y_pred))\n",
    "print('Recall: ', metrics.recall_score(y_test_undersample, y_pred))\n",
    "print('F1: ', metrics.f1_score(y_test_undersample, y_pred))"
   ]
  },
  {
   "cell_type": "code",
   "execution_count": 16,
   "metadata": {
    "colab": {},
    "colab_type": "code",
    "id": "DCFGDBsJBsdU"
   },
   "outputs": [],
   "source": [
    "# GridSearchCV 이용한 model\n",
    "svm_model = SVC()\n",
    "tuned_parameters = {\n",
    "    'C' : [10**c for c in range(-2,2)],\n",
    "    'gamma' : [10**gamma for gamma in range(-2,2)],\n",
    "    'kernel' : ['linear', 'rbf']\n",
    "}\n",
    "\n",
    "grid_svm = GridSearchCV(svm_model, tuned_parameters, scoring='accuracy', n_jobs=-1)\n",
    "grid_svm.fit(scaled_X_train_undersample, y_train_undersample)\n",
    "y_pred_grid = grid_svm.predict(scaled_X_test_undersample)"
   ]
  },
  {
   "cell_type": "code",
   "execution_count": 17,
   "metadata": {
    "colab": {
     "base_uri": "https://localhost:8080/",
     "height": 212
    },
    "colab_type": "code",
    "id": "WLtiKRe-FHKC",
    "outputId": "5cbedee2-6a60-4ed1-9b19-d86a75b0b89b"
   },
   "outputs": [
    {
     "name": "stdout",
     "output_type": "stream",
     "text": [
      "best model: \n",
      " SVC(C=1, break_ties=False, cache_size=200, class_weight=None, coef0=0.0,\n",
      "    decision_function_shape='ovr', degree=3, gamma=0.01, kernel='linear',\n",
      "    max_iter=-1, probability=False, random_state=None, shrinking=True,\n",
      "    tol=0.001, verbose=False)\n",
      "\n",
      "best parameter: \n",
      " {'C': 1, 'gamma': 0.01, 'kernel': 'linear'}\n",
      "\n",
      "best score: \n",
      " 0.942\n"
     ]
    }
   ],
   "source": [
    "print('best model: \\n', grid_svm.best_estimator_)\n",
    "print('\\nbest parameter: \\n', grid_svm.best_params_)\n",
    "print('\\nbest score: \\n', grid_svm.best_score_.round(3))"
   ]
  },
  {
   "cell_type": "code",
   "execution_count": 18,
   "metadata": {
    "colab": {
     "base_uri": "https://localhost:8080/",
     "height": 141
    },
    "colab_type": "code",
    "id": "Tpw6FkYDFusd",
    "outputId": "3eb2bf98-17ef-4bef-fe9c-bdfd1affdfad"
   },
   "outputs": [
    {
     "name": "stdout",
     "output_type": "stream",
     "text": [
      "Accuracy Score:  0.9695431472081218\n",
      "Confusion matrix: \n",
      " [[105   1]\n",
      " [  5  86]]\n",
      "Precision:  0.9885057471264368\n",
      "Recall:  0.945054945054945\n",
      "F1:  0.9662921348314606\n"
     ]
    }
   ],
   "source": [
    "print('Accuracy Score: ', metrics.accuracy_score(y_test_undersample, y_pred_grid))\n",
    "print('Confusion matrix: \\n', confusion_matrix(y_test_undersample, y_pred_grid))\n",
    "print('Precision: ', metrics.precision_score(y_test_undersample, y_pred_grid))\n",
    "print('Recall: ', metrics.recall_score(y_test_undersample, y_pred_grid))\n",
    "print('F1: ', metrics.f1_score(y_test_undersample, y_pred_grid))"
   ]
  },
  {
   "cell_type": "code",
   "execution_count": 23,
   "metadata": {
    "colab": {
     "base_uri": "https://localhost:8080/",
     "height": 141
    },
    "colab_type": "code",
    "id": "ogxtvs86Abye",
    "outputId": "9537aaa1-c14f-4f1d-8037-8cd8168ad983"
   },
   "outputs": [
    {
     "name": "stdout",
     "output_type": "stream",
     "text": [
      "Accuracy Score:  0.8660584078076506\n",
      "Confusion matrix: \n",
      " [[46230  7163]\n",
      " [    1    92]]\n",
      "Precision:  0.012680909717436252\n",
      "Recall:  0.989247311827957\n",
      "F1:  0.025040827436037017\n"
     ]
    }
   ],
   "source": [
    "# 최종 모델을 whole dataset에 적용\n",
    "final_model = SVC(C=1, gamma=0.01, kernel='linear')\n",
    "final_model.fit(X_train_undersample, y_train_undersample)\n",
    "\n",
    "Y_pred = final_model.predict(scaled_X_test)\n",
    "\n",
    "print('Accuracy Score: ', metrics.accuracy_score(y_test, Y_pred))\n",
    "print('Confusion matrix: \\n', confusion_matrix(y_test, Y_pred))\n",
    "print('Precision: ', metrics.precision_score(y_test, Y_pred))\n",
    "print('Recall: ', metrics.recall_score(y_test, Y_pred))\n",
    "print('F1: ', metrics.f1_score(y_test, Y_pred))"
   ]
  },
  {
   "cell_type": "markdown",
   "metadata": {
    "colab_type": "text",
    "id": "XoIknKmH4saO"
   },
   "source": [
    "cf.) undersampling 하지 않은 dataset으로 SVM 수행한 결과 "
   ]
  },
  {
   "cell_type": "code",
   "execution_count": 21,
   "metadata": {
    "colab": {},
    "colab_type": "code",
    "id": "dhDNNlzK4zU5"
   },
   "outputs": [],
   "source": [
    "# uncustomized model\n",
    "svc = SVC(kernel='linear')\n",
    "svc.fit(scaled_X_train, y_train)\n",
    "y_pred = svc.predict(scaled_X_test)"
   ]
  },
  {
   "cell_type": "code",
   "execution_count": 22,
   "metadata": {
    "colab": {
     "base_uri": "https://localhost:8080/",
     "height": 141
    },
    "colab_type": "code",
    "id": "QqHBm7Np4zVL",
    "outputId": "10272ce1-3bfd-4798-8dd4-1b8b70f98224"
   },
   "outputs": [
    {
     "name": "stdout",
     "output_type": "stream",
     "text": [
      "Accuracy Score:  0.9997569457428112\n",
      "Confusion matrix: \n",
      " [[53393     0]\n",
      " [   13    80]]\n",
      "Precision:  1.0\n",
      "Recall:  0.8602150537634409\n",
      "F1:  0.9248554913294798\n"
     ]
    }
   ],
   "source": [
    "print('Accuracy Score: ', metrics.accuracy_score(y_test, y_pred))\n",
    "print('Confusion matrix: \\n', confusion_matrix(y_test, y_pred))\n",
    "print('Precision: ', metrics.precision_score(y_test, y_pred))\n",
    "print('Recall: ', metrics.recall_score(y_test, y_pred))\n",
    "print('F1: ', metrics.f1_score(y_test, y_pred))"
   ]
  },
  {
   "cell_type": "markdown",
   "metadata": {
    "colab_type": "text",
    "id": "3Qm9KHYs44Zu"
   },
   "source": [
    "정리: \n",
    "- imbalanced dataset의 경우, 정확도보다는 실제 사기를 예측하는 것이 더 중요하므로 Recall 지표를 중심으로 살펴보면, undersampling을 한 SVM 모델이 더 성능이 좋았습니다. \n",
    "- 또한 creditcard와 같이 데이터 양이 많은 경우 한 번 학습할 때 시간이 오래 걸리므로, 시간적인 효율성을 고려하면 undersampling을 적용하면서 parameter tuning을 하는 것이 더 좋을 것 같습니다.  \n",
    "- 그러나 undersample dataset만으로 modeling한 결과와 whole dataset으로 modeling한 결과가 false positive 측면에서 차이가 많이 났었는데, 사기예측을 엄격하게 할것인지, 아니면 사기예측 비용을 절감할 것인지 등의 사용자의 관점에 따라 undersampling 적용여부가 달라질 것 같습니다. "
   ]
  },
  {
   "cell_type": "code",
   "execution_count": null,
   "metadata": {
    "colab": {},
    "colab_type": "code",
    "id": "qUb3WMb06IES"
   },
   "outputs": [],
   "source": []
  }
 ],
 "metadata": {
  "accelerator": "GPU",
  "colab": {
   "collapsed_sections": [],
   "name": "assignment_2_hw.ipynb",
   "provenance": []
  },
  "file_extension": ".py",
  "kernelspec": {
   "display_name": "Python 3",
   "language": "python",
   "name": "python3"
  },
  "language_info": {
   "codemirror_mode": {
    "name": "ipython",
    "version": 3
   },
   "file_extension": ".py",
   "mimetype": "text/x-python",
   "name": "python",
   "nbconvert_exporter": "python",
   "pygments_lexer": "ipython3",
   "version": "3.7.4"
  },
  "mimetype": "text/x-python",
  "name": "python",
  "npconvert_exporter": "python",
  "pygments_lexer": "ipython3",
  "version": 3
 },
 "nbformat": 4,
 "nbformat_minor": 1
}
