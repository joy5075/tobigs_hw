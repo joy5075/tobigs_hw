{
 "cells": [
  {
   "cell_type": "markdown",
   "metadata": {
    "colab_type": "text",
    "id": "lC65DrWswSZP"
   },
   "source": [
    "#  Apps Dataset\n",
    "Google Play Store dataset을 가져왔습니다.   \n",
    "Rating 컬럼을 target으로 설정하고 예측하는 앙상블을 진행해봅시다  \n",
    "\n",
    "## 앙상블 조건\n",
    "1. 이상치 처리\n",
    "2. 범주형 변수 처리 : 비슷한 것 끼리 묶기 , 더미변수화 등  \n",
    "3. 베이스 모델 하이퍼파라미터 튜닝  \n",
    "4. stacking : 최소 두 가지 방법 시도  \n",
    "5. stacking with grid search   \n",
    "6. 앙상블에 대한 설명 주석을 마크다운으로 꼼꼼히!  \n",
    "\n",
    "|  <center>변수명</center> |  <center>설명</center> |  <center>비고</center> |\n",
    "|:--------|:--------|:--------|\n",
    "| App | 어플명 | |  \n",
    "| Rating | 평점 | target |\n",
    "| Reviews | 리뷰갯수 | |\n",
    "| Size | 어플 크기 | |\n",
    "| Installs | 다운로드 횟수 | |\n",
    "| Price | 가격 | |\n",
    "| Content Rating | 관람가 | |\n",
    "| Genres | 세부장르 | |\n",
    "| Last Updated | 마지막 업데이트 | |"
   ]
  },
  {
   "cell_type": "code",
   "execution_count": 1,
   "metadata": {
    "colab": {},
    "colab_type": "code",
    "id": "iH0i3RFhwrOK"
   },
   "outputs": [
    {
     "name": "stdout",
     "output_type": "stream",
     "text": [
      "C:\\Users\\jhr50\\tobigs\\week4\\week4_Ensemble_yjlee\\tobigs1314-kaggle-ensemble-competition\n"
     ]
    }
   ],
   "source": [
    "cd C:/Users/jhr50/tobigs/week4/week4_Ensemble_yjlee/tobigs1314-kaggle-ensemble-competition"
   ]
  },
  {
   "cell_type": "code",
   "execution_count": 2,
   "metadata": {
    "colab": {},
    "colab_type": "code",
    "executionInfo": {
     "elapsed": 1758,
     "status": "ok",
     "timestamp": 1597195586497,
     "user": {
      "displayName": "이예진 YejinLee",
      "photoUrl": "",
      "userId": "02373976809516943532"
     },
     "user_tz": -540
    },
    "id": "1Zwva1vcwcDt"
   },
   "outputs": [],
   "source": [
    "# ready\n",
    "import pandas as pd\n",
    "import numpy as np\n",
    "import warnings\n",
    "warnings.filterwarnings('ignore')\n",
    "pd.options.display.max_rows = 999\n",
    "pd.options.display.max_columns = 999\n",
    "\n",
    "# visualization\n",
    "from matplotlib import pyplot as plt\n",
    "plt.style.use('seaborn')\n",
    "import seaborn as sns\n",
    "%matplotlib inline\n",
    "\n",
    "from sklearn import preprocessing\n",
    "\n",
    "import time \n",
    "import datetime"
   ]
  },
  {
   "cell_type": "code",
   "execution_count": 3,
   "metadata": {
    "colab": {},
    "colab_type": "code",
    "id": "QZ2IkyRDOwJZ"
   },
   "outputs": [],
   "source": [
    "# Load Data\n",
    "train = pd.read_csv('ggstore_train.csv')\n",
    "test = pd.read_csv('ggstore_test.csv')"
   ]
  },
  {
   "cell_type": "markdown",
   "metadata": {
    "colab_type": "text",
    "id": "O9sFKQtepdaJ"
   },
   "source": [
    "## 1. EDA & Data Processing\n"
   ]
  },
  {
   "cell_type": "markdown",
   "metadata": {
    "colab_type": "text",
    "id": "IYGCRrRcPZ4s"
   },
   "source": [
    "* 데이터 확인 및 결측치 확인"
   ]
  },
  {
   "cell_type": "code",
   "execution_count": 160,
   "metadata": {
    "colab": {},
    "colab_type": "code",
    "executionInfo": {
     "elapsed": 1735,
     "status": "aborted",
     "timestamp": 1597195586498,
     "user": {
      "displayName": "이예진 YejinLee",
      "photoUrl": "",
      "userId": "02373976809516943532"
     },
     "user_tz": -540
    },
    "id": "nLtCAkpqPRkR"
   },
   "outputs": [
    {
     "name": "stdout",
     "output_type": "stream",
     "text": [
      "<class 'pandas.core.frame.DataFrame'>\n",
      "RangeIndex: 5616 entries, 0 to 5615\n",
      "Data columns (total 12 columns):\n",
      "App               5616 non-null object\n",
      "Category          5616 non-null object\n",
      "Rating            5616 non-null float64\n",
      "Reviews           5616 non-null int64\n",
      "Size              5616 non-null float64\n",
      "Installs          5616 non-null float64\n",
      "Type              5616 non-null int64\n",
      "Price             5616 non-null float64\n",
      "Content Rating    5616 non-null object\n",
      "Genres            5616 non-null object\n",
      "Last Updated      5616 non-null object\n",
      "Id                5616 non-null int64\n",
      "dtypes: float64(4), int64(3), object(5)\n",
      "memory usage: 526.6+ KB\n"
     ]
    }
   ],
   "source": [
    "train.info()"
   ]
  },
  {
   "cell_type": "code",
   "execution_count": 161,
   "metadata": {
    "scrolled": true
   },
   "outputs": [
    {
     "data": {
      "text/html": [
       "<div>\n",
       "<style scoped>\n",
       "    .dataframe tbody tr th:only-of-type {\n",
       "        vertical-align: middle;\n",
       "    }\n",
       "\n",
       "    .dataframe tbody tr th {\n",
       "        vertical-align: top;\n",
       "    }\n",
       "\n",
       "    .dataframe thead th {\n",
       "        text-align: right;\n",
       "    }\n",
       "</style>\n",
       "<table border=\"1\" class=\"dataframe\">\n",
       "  <thead>\n",
       "    <tr style=\"text-align: right;\">\n",
       "      <th></th>\n",
       "      <th>App</th>\n",
       "      <th>Category</th>\n",
       "      <th>Rating</th>\n",
       "      <th>Reviews</th>\n",
       "      <th>Size</th>\n",
       "      <th>Installs</th>\n",
       "      <th>Type</th>\n",
       "      <th>Price</th>\n",
       "      <th>Content Rating</th>\n",
       "      <th>Genres</th>\n",
       "      <th>Last Updated</th>\n",
       "      <th>Id</th>\n",
       "    </tr>\n",
       "  </thead>\n",
       "  <tbody>\n",
       "    <tr>\n",
       "      <th>0</th>\n",
       "      <td>Photo Editor &amp; Candy Camera &amp; Grid &amp; ScrapBook</td>\n",
       "      <td>ART_AND_DESIGN</td>\n",
       "      <td>4.1</td>\n",
       "      <td>159</td>\n",
       "      <td>19.0</td>\n",
       "      <td>10000.0</td>\n",
       "      <td>0</td>\n",
       "      <td>0.0</td>\n",
       "      <td>Everyone</td>\n",
       "      <td>Art &amp; Design</td>\n",
       "      <td>2018-01-07</td>\n",
       "      <td>0</td>\n",
       "    </tr>\n",
       "    <tr>\n",
       "      <th>1</th>\n",
       "      <td>Coloring book moana</td>\n",
       "      <td>ART_AND_DESIGN</td>\n",
       "      <td>3.9</td>\n",
       "      <td>967</td>\n",
       "      <td>14.0</td>\n",
       "      <td>500000.0</td>\n",
       "      <td>0</td>\n",
       "      <td>0.0</td>\n",
       "      <td>Everyone</td>\n",
       "      <td>Art &amp; Design;Pretend Play</td>\n",
       "      <td>2018-01-15</td>\n",
       "      <td>1</td>\n",
       "    </tr>\n",
       "    <tr>\n",
       "      <th>2</th>\n",
       "      <td>U Launcher Lite – FREE Live Cool Themes, Hide ...</td>\n",
       "      <td>ART_AND_DESIGN</td>\n",
       "      <td>4.7</td>\n",
       "      <td>87510</td>\n",
       "      <td>8.7</td>\n",
       "      <td>5000000.0</td>\n",
       "      <td>0</td>\n",
       "      <td>0.0</td>\n",
       "      <td>Everyone</td>\n",
       "      <td>Art &amp; Design</td>\n",
       "      <td>2018-08-01</td>\n",
       "      <td>2</td>\n",
       "    </tr>\n",
       "    <tr>\n",
       "      <th>3</th>\n",
       "      <td>Sketch - Draw &amp; Paint</td>\n",
       "      <td>ART_AND_DESIGN</td>\n",
       "      <td>4.5</td>\n",
       "      <td>215644</td>\n",
       "      <td>25.0</td>\n",
       "      <td>50000000.0</td>\n",
       "      <td>0</td>\n",
       "      <td>0.0</td>\n",
       "      <td>Teen</td>\n",
       "      <td>Art &amp; Design</td>\n",
       "      <td>2018-06-08</td>\n",
       "      <td>3</td>\n",
       "    </tr>\n",
       "    <tr>\n",
       "      <th>4</th>\n",
       "      <td>Pixel Draw - Number Art Coloring Book</td>\n",
       "      <td>ART_AND_DESIGN</td>\n",
       "      <td>4.3</td>\n",
       "      <td>967</td>\n",
       "      <td>2.8</td>\n",
       "      <td>100000.0</td>\n",
       "      <td>0</td>\n",
       "      <td>0.0</td>\n",
       "      <td>Everyone</td>\n",
       "      <td>Art &amp; Design;Creativity</td>\n",
       "      <td>2018-06-20</td>\n",
       "      <td>4</td>\n",
       "    </tr>\n",
       "  </tbody>\n",
       "</table>\n",
       "</div>"
      ],
      "text/plain": [
       "                                                 App        Category  Rating  \\\n",
       "0     Photo Editor & Candy Camera & Grid & ScrapBook  ART_AND_DESIGN     4.1   \n",
       "1                                Coloring book moana  ART_AND_DESIGN     3.9   \n",
       "2  U Launcher Lite – FREE Live Cool Themes, Hide ...  ART_AND_DESIGN     4.7   \n",
       "3                              Sketch - Draw & Paint  ART_AND_DESIGN     4.5   \n",
       "4              Pixel Draw - Number Art Coloring Book  ART_AND_DESIGN     4.3   \n",
       "\n",
       "   Reviews  Size    Installs  Type  Price Content Rating  \\\n",
       "0      159  19.0     10000.0     0    0.0       Everyone   \n",
       "1      967  14.0    500000.0     0    0.0       Everyone   \n",
       "2    87510   8.7   5000000.0     0    0.0       Everyone   \n",
       "3   215644  25.0  50000000.0     0    0.0           Teen   \n",
       "4      967   2.8    100000.0     0    0.0       Everyone   \n",
       "\n",
       "                      Genres Last Updated  Id  \n",
       "0               Art & Design   2018-01-07   0  \n",
       "1  Art & Design;Pretend Play   2018-01-15   1  \n",
       "2               Art & Design   2018-08-01   2  \n",
       "3               Art & Design   2018-06-08   3  \n",
       "4    Art & Design;Creativity   2018-06-20   4  "
      ]
     },
     "execution_count": 161,
     "metadata": {},
     "output_type": "execute_result"
    }
   ],
   "source": [
    "train.head()"
   ]
  },
  {
   "cell_type": "code",
   "execution_count": 162,
   "metadata": {
    "colab": {},
    "colab_type": "code",
    "executionInfo": {
     "elapsed": 1716,
     "status": "aborted",
     "timestamp": 1597195586499,
     "user": {
      "displayName": "이예진 YejinLee",
      "photoUrl": "",
      "userId": "02373976809516943532"
     },
     "user_tz": -540
    },
    "id": "j12Aq9eyPWer"
   },
   "outputs": [
    {
     "name": "stdout",
     "output_type": "stream",
     "text": [
      "<class 'pandas.core.frame.DataFrame'>\n",
      "RangeIndex: 1404 entries, 0 to 1403\n",
      "Data columns (total 11 columns):\n",
      "App               1404 non-null object\n",
      "Category          1404 non-null object\n",
      "Reviews           1404 non-null int64\n",
      "Size              1404 non-null float64\n",
      "Installs          1404 non-null float64\n",
      "Type              1404 non-null int64\n",
      "Price             1404 non-null float64\n",
      "Content Rating    1404 non-null object\n",
      "Genres            1404 non-null object\n",
      "Last Updated      1404 non-null object\n",
      "Id                1404 non-null int64\n",
      "dtypes: float64(3), int64(3), object(5)\n",
      "memory usage: 120.8+ KB\n"
     ]
    }
   ],
   "source": [
    "test.info()"
   ]
  },
  {
   "cell_type": "code",
   "execution_count": 163,
   "metadata": {
    "scrolled": true
   },
   "outputs": [
    {
     "data": {
      "text/html": [
       "<div>\n",
       "<style scoped>\n",
       "    .dataframe tbody tr th:only-of-type {\n",
       "        vertical-align: middle;\n",
       "    }\n",
       "\n",
       "    .dataframe tbody tr th {\n",
       "        vertical-align: top;\n",
       "    }\n",
       "\n",
       "    .dataframe thead th {\n",
       "        text-align: right;\n",
       "    }\n",
       "</style>\n",
       "<table border=\"1\" class=\"dataframe\">\n",
       "  <thead>\n",
       "    <tr style=\"text-align: right;\">\n",
       "      <th></th>\n",
       "      <th>App</th>\n",
       "      <th>Category</th>\n",
       "      <th>Reviews</th>\n",
       "      <th>Size</th>\n",
       "      <th>Installs</th>\n",
       "      <th>Type</th>\n",
       "      <th>Price</th>\n",
       "      <th>Content Rating</th>\n",
       "      <th>Genres</th>\n",
       "      <th>Last Updated</th>\n",
       "      <th>Id</th>\n",
       "    </tr>\n",
       "  </thead>\n",
       "  <tbody>\n",
       "    <tr>\n",
       "      <th>0</th>\n",
       "      <td>Dr.Android Repair Master 2017</td>\n",
       "      <td>PRODUCTIVITY</td>\n",
       "      <td>1205</td>\n",
       "      <td>4.3</td>\n",
       "      <td>100000.0</td>\n",
       "      <td>0</td>\n",
       "      <td>0.00</td>\n",
       "      <td>Everyone</td>\n",
       "      <td>Productivity</td>\n",
       "      <td>2018-06-10</td>\n",
       "      <td>5617</td>\n",
       "    </tr>\n",
       "    <tr>\n",
       "      <th>1</th>\n",
       "      <td>DR CONTROL</td>\n",
       "      <td>FAMILY</td>\n",
       "      <td>267</td>\n",
       "      <td>1.5</td>\n",
       "      <td>10000.0</td>\n",
       "      <td>0</td>\n",
       "      <td>0.00</td>\n",
       "      <td>Everyone</td>\n",
       "      <td>Entertainment</td>\n",
       "      <td>2017-03-08</td>\n",
       "      <td>5618</td>\n",
       "    </tr>\n",
       "    <tr>\n",
       "      <th>2</th>\n",
       "      <td>Dr Driving Racer</td>\n",
       "      <td>GAME</td>\n",
       "      <td>183</td>\n",
       "      <td>68.0</td>\n",
       "      <td>10000.0</td>\n",
       "      <td>0</td>\n",
       "      <td>0.00</td>\n",
       "      <td>Everyone</td>\n",
       "      <td>Racing</td>\n",
       "      <td>2018-06-14</td>\n",
       "      <td>5619</td>\n",
       "    </tr>\n",
       "    <tr>\n",
       "      <th>3</th>\n",
       "      <td>Dr. McDougall Mobile Cookbook</td>\n",
       "      <td>HEALTH_AND_FITNESS</td>\n",
       "      <td>76</td>\n",
       "      <td>1.2</td>\n",
       "      <td>1000.0</td>\n",
       "      <td>1</td>\n",
       "      <td>4.99</td>\n",
       "      <td>Everyone</td>\n",
       "      <td>Health &amp; Fitness</td>\n",
       "      <td>2015-01-26</td>\n",
       "      <td>5620</td>\n",
       "    </tr>\n",
       "    <tr>\n",
       "      <th>4</th>\n",
       "      <td>Dr. Seuss's ABC</td>\n",
       "      <td>FAMILY</td>\n",
       "      <td>429</td>\n",
       "      <td>12.0</td>\n",
       "      <td>10000.0</td>\n",
       "      <td>1</td>\n",
       "      <td>3.99</td>\n",
       "      <td>Everyone</td>\n",
       "      <td>Books &amp; Reference;Education</td>\n",
       "      <td>2018-02-26</td>\n",
       "      <td>5621</td>\n",
       "    </tr>\n",
       "  </tbody>\n",
       "</table>\n",
       "</div>"
      ],
      "text/plain": [
       "                             App            Category  Reviews  Size  Installs  \\\n",
       "0  Dr.Android Repair Master 2017        PRODUCTIVITY     1205   4.3  100000.0   \n",
       "1                     DR CONTROL              FAMILY      267   1.5   10000.0   \n",
       "2               Dr Driving Racer                GAME      183  68.0   10000.0   \n",
       "3  Dr. McDougall Mobile Cookbook  HEALTH_AND_FITNESS       76   1.2    1000.0   \n",
       "4                Dr. Seuss's ABC              FAMILY      429  12.0   10000.0   \n",
       "\n",
       "   Type  Price Content Rating                       Genres Last Updated    Id  \n",
       "0     0   0.00       Everyone                 Productivity   2018-06-10  5617  \n",
       "1     0   0.00       Everyone                Entertainment   2017-03-08  5618  \n",
       "2     0   0.00       Everyone                       Racing   2018-06-14  5619  \n",
       "3     1   4.99       Everyone             Health & Fitness   2015-01-26  5620  \n",
       "4     1   3.99       Everyone  Books & Reference;Education   2018-02-26  5621  "
      ]
     },
     "execution_count": 163,
     "metadata": {},
     "output_type": "execute_result"
    }
   ],
   "source": [
    "test.head()"
   ]
  },
  {
   "cell_type": "markdown",
   "metadata": {
    "colab_type": "text",
    "id": "ZH3FrJenVv3w"
   },
   "source": [
    "#### 연속형 변수"
   ]
  },
  {
   "cell_type": "code",
   "execution_count": 8,
   "metadata": {
    "colab": {
     "base_uri": "https://localhost:8080/",
     "height": 606
    },
    "colab_type": "code",
    "executionInfo": {
     "elapsed": 5210,
     "status": "ok",
     "timestamp": 1597190018149,
     "user": {
      "displayName": "이예진 YejinLee",
      "photoUrl": "",
      "userId": "02373976809516943532"
     },
     "user_tz": -540
    },
    "id": "dNWUelNeCrtE",
    "outputId": "a655a9bb-9ac2-4843-b826-51bdadec5494"
   },
   "outputs": [
    {
     "data": {
      "image/png": "[encoded data removed]",
      "text/plain": [
       "<Figure size 720x720 with 6 Axes>"
      ]
     },
     "metadata": {
      "needs_background": "light"
     },
     "output_type": "display_data"
    }
   ],
   "source": [
    "# 연속형 변수 분포 확인\n",
    "continuous = train[['Rating','Reviews','Size','Installs','Price']]\n",
    "continuous.hist(bins=30,figsize=(10,10))\n",
    "plt.show()"
   ]
  },
  {
   "cell_type": "code",
   "execution_count": 10,
   "metadata": {
    "colab": {
     "base_uri": "https://localhost:8080/",
     "height": 385
    },
    "colab_type": "code",
    "executionInfo": {
     "elapsed": 5523,
     "status": "ok",
     "timestamp": 1597190018488,
     "user": {
      "displayName": "이예진 YejinLee",
      "photoUrl": "",
      "userId": "02373976809516943532"
     },
     "user_tz": -540
    },
    "id": "ddVD7xqEEvwm",
    "outputId": "846ad209-d767-43cc-b731-114f043f3c21"
   },
   "outputs": [
    {
     "data": {
      "image/png": "[encoded data removed]",
      "text/plain": [
       "<Figure size 1152x576 with 2 Axes>"
      ]
     },
     "metadata": {
      "needs_background": "light"
     },
     "output_type": "display_data"
    }
   ],
   "source": [
    "# 연속형 변수 heatmap 상관관계 시각화\n",
    "plt.figure(figsize=(16,8))\n",
    "sns.heatmap(continuous.corr(), annot=True)\n",
    "plt.title('continuous variables corr heatmap', fontsize=20)\n",
    "\n",
    "plt.show()"
   ]
  },
  {
   "cell_type": "markdown",
   "metadata": {
    "colab_type": "text",
    "id": "Jv__R6hmVxtJ"
   },
   "source": [
    "### 연속형 변수 이상치 확인\n",
    "Type 은 유무료를 나타내는 범주형"
   ]
  },
  {
   "cell_type": "code",
   "execution_count": 11,
   "metadata": {
    "colab": {
     "base_uri": "https://localhost:8080/",
     "height": 350
    },
    "colab_type": "code",
    "executionInfo": {
     "elapsed": 5795,
     "status": "ok",
     "timestamp": 1597190018797,
     "user": {
      "displayName": "이예진 YejinLee",
      "photoUrl": "",
      "userId": "02373976809516943532"
     },
     "user_tz": -540
    },
    "id": "FcgKI0SgVtFj",
    "outputId": "17c48c10-f68f-43c1-cf4a-628bf38ffbe1"
   },
   "outputs": [
    {
     "data": {
      "text/plain": [
       "<matplotlib.collections.PathCollection at 0x1c1a8a54cc8>"
      ]
     },
     "execution_count": 11,
     "metadata": {},
     "output_type": "execute_result"
    },
    {
     "data": {
      "image/png": "[encoded data removed]",
      "text/plain": [
       "<Figure size 720x360 with 1 Axes>"
      ]
     },
     "metadata": {
      "needs_background": "light"
     },
     "output_type": "display_data"
    }
   ],
   "source": [
    "# Installs\n",
    "plt.figure(figsize=(10,5))\n",
    "plt.scatter(x = continuous['Installs'], y = continuous['Rating'])"
   ]
  },
  {
   "cell_type": "code",
   "execution_count": 12,
   "metadata": {
    "colab": {
     "base_uri": "https://localhost:8080/",
     "height": 350
    },
    "colab_type": "code",
    "executionInfo": {
     "elapsed": 5764,
     "status": "ok",
     "timestamp": 1597190018799,
     "user": {
      "displayName": "이예진 YejinLee",
      "photoUrl": "",
      "userId": "02373976809516943532"
     },
     "user_tz": -540
    },
    "id": "LQmhU9_IaeEX",
    "outputId": "501d7fdf-16ad-4f43-b615-33ea9f2fd8c0"
   },
   "outputs": [
    {
     "data": {
      "text/plain": [
       "<matplotlib.collections.PathCollection at 0x1c1a8a05548>"
      ]
     },
     "execution_count": 12,
     "metadata": {},
     "output_type": "execute_result"
    },
    {
     "data": {
      "image/png": "[encoded data removed]",
      "text/plain": [
       "<Figure size 720x360 with 1 Axes>"
      ]
     },
     "metadata": {
      "needs_background": "light"
     },
     "output_type": "display_data"
    }
   ],
   "source": [
    "# Reviews\n",
    "plt.figure(figsize=(10,5))\n",
    "plt.scatter(x = continuous['Reviews'], y = continuous['Rating'])"
   ]
  },
  {
   "cell_type": "code",
   "execution_count": 13,
   "metadata": {
    "colab": {
     "base_uri": "https://localhost:8080/",
     "height": 337
    },
    "colab_type": "code",
    "executionInfo": {
     "elapsed": 6206,
     "status": "ok",
     "timestamp": 1597190019279,
     "user": {
      "displayName": "이예진 YejinLee",
      "photoUrl": "",
      "userId": "02373976809516943532"
     },
     "user_tz": -540
    },
    "id": "83qne8GQanME",
    "outputId": "ee61f410-d69b-46e9-e21f-5687cf64a549"
   },
   "outputs": [
    {
     "data": {
      "text/plain": [
       "<matplotlib.collections.PathCollection at 0x1c1a892efc8>"
      ]
     },
     "execution_count": 13,
     "metadata": {},
     "output_type": "execute_result"
    },
    {
     "data": {
      "image/png": "[encoded data removed]",
      "text/plain": [
       "<Figure size 720x360 with 1 Axes>"
      ]
     },
     "metadata": {
      "needs_background": "light"
     },
     "output_type": "display_data"
    }
   ],
   "source": [
    "# Size\n",
    "plt.figure(figsize=(10,5))\n",
    "plt.scatter(x = continuous['Size'], y = continuous['Rating'])"
   ]
  },
  {
   "cell_type": "code",
   "execution_count": 14,
   "metadata": {
    "colab": {
     "base_uri": "https://localhost:8080/",
     "height": 337
    },
    "colab_type": "code",
    "executionInfo": {
     "elapsed": 6169,
     "status": "ok",
     "timestamp": 1597190019281,
     "user": {
      "displayName": "이예진 YejinLee",
      "photoUrl": "",
      "userId": "02373976809516943532"
     },
     "user_tz": -540
    },
    "id": "EA5O7b-0a-d9",
    "outputId": "2dc0da78-0538-40c3-9638-79239fda3b0c"
   },
   "outputs": [
    {
     "data": {
      "text/plain": [
       "<matplotlib.collections.PathCollection at 0x1c1a881acc8>"
      ]
     },
     "execution_count": 14,
     "metadata": {},
     "output_type": "execute_result"
    },
    {
     "data": {
      "image/png": "[encoded data removed]",
      "text/plain": [
       "<Figure size 720x360 with 1 Axes>"
      ]
     },
     "metadata": {
      "needs_background": "light"
     },
     "output_type": "display_data"
    }
   ],
   "source": [
    "# Price\n",
    "plt.figure(figsize=(10,5))\n",
    "plt.scatter(x = continuous['Price'], y = continuous['Rating'])"
   ]
  },
  {
   "cell_type": "markdown",
   "metadata": {
    "colab_type": "text",
    "id": "ib7oPBYTbU-o"
   },
   "source": [
    "#### IQR 기준으로 완전 이상한거 몇개만 제거 해 봅시다\n",
    "저는 Installs,Reviews 와 Price에서만 제거해보겠습니당"
   ]
  },
  {
   "cell_type": "markdown",
   "metadata": {
    "colab_type": "text",
    "id": "2TUtWtYLfWxH"
   },
   "source": [
    "* IQR 기준으로"
   ]
  },
  {
   "cell_type": "code",
   "execution_count": 15,
   "metadata": {
    "colab": {},
    "colab_type": "code",
    "id": "qjY61dGba-lF"
   },
   "outputs": [],
   "source": [
    "def remove_outlier(df,col):\n",
    "  data = df[col]\n",
    "  q25 = np.percentile(data.values,25)\n",
    "  q75 = np.percentile(data.values,75)\n",
    "\n",
    "  IQR = q75 - q25\n",
    "  IQR = IQR * 1.5\n",
    "  low = q25-IQR ; high = q75+IQR\n",
    "  outlier_index = data[(data<low)|(data>high)].index\n",
    "  #print(len(outlier_index))\n",
    "  #df.drop(outlier_index, axis=0, inplace=True)\n",
    "  #print(df.shape)\n",
    "  #return df\n",
    "  return len(outlier_index)"
   ]
  },
  {
   "cell_type": "code",
   "execution_count": 16,
   "metadata": {
    "colab": {
     "base_uri": "https://localhost:8080/",
     "height": 69
    },
    "colab_type": "code",
    "executionInfo": {
     "elapsed": 6129,
     "status": "ok",
     "timestamp": 1597190019283,
     "user": {
      "displayName": "이예진 YejinLee",
      "photoUrl": "",
      "userId": "02373976809516943532"
     },
     "user_tz": -540
    },
    "id": "K2gmKOrvel9q",
    "outputId": "e23ed7d2-100b-49e1-cbdf-b503c49b7f43"
   },
   "outputs": [
    {
     "name": "stdout",
     "output_type": "stream",
     "text": [
      "1162\n",
      "924\n",
      "441\n"
     ]
    }
   ],
   "source": [
    "print(remove_outlier(continuous,'Installs'))\n",
    "print(remove_outlier(continuous,'Reviews'))\n",
    "print(remove_outlier(continuous,'Price'))"
   ]
  },
  {
   "cell_type": "markdown",
   "metadata": {
    "colab_type": "text",
    "id": "FmeLsHYUfabp"
   },
   "source": [
    "IQR 기준이면 너무 많은 이상치가 발견되서 데이터 손실이 너무 컸습니다!  \n",
    "scatter plot 에 당장 눈에 보이는 정말 몇개만 제거합시다  \n"
   ]
  },
  {
   "cell_type": "markdown",
   "metadata": {
    "colab_type": "text",
    "id": "lU46VaINfmjQ"
   },
   "source": [
    "* 직관적으로"
   ]
  },
  {
   "cell_type": "code",
   "execution_count": 17,
   "metadata": {
    "colab": {
     "base_uri": "https://localhost:8080/",
     "height": 69
    },
    "colab_type": "code",
    "executionInfo": {
     "elapsed": 6497,
     "status": "ok",
     "timestamp": 1597190019680,
     "user": {
      "displayName": "이예진 YejinLee",
      "photoUrl": "",
      "userId": "02373976809516943532"
     },
     "user_tz": -540
    },
    "id": "zYBPk_CAfjWg",
    "outputId": "3841f960-2aa3-40ba-b145-08b983c4ef96"
   },
   "outputs": [
    {
     "name": "stdout",
     "output_type": "stream",
     "text": [
      "10\n",
      "15\n",
      "5\n"
     ]
    }
   ],
   "source": [
    "out_installs = continuous[continuous['Installs'] > 200000000]\n",
    "out_price = continuous[continuous['Price'] > 250]\n",
    "out_reviews = continuous[continuous['Reviews'] > 15000000]\n",
    "print(len(out_installs))\n",
    "print(len(out_price))\n",
    "print(len(out_reviews))"
   ]
  },
  {
   "cell_type": "code",
   "execution_count": 4,
   "metadata": {
    "scrolled": false
   },
   "outputs": [
    {
     "data": {
      "text/plain": [
       "(5590, 12)"
      ]
     },
     "execution_count": 4,
     "metadata": {},
     "output_type": "execute_result"
    }
   ],
   "source": [
    "train = train.query('Installs < 200000000 and Price < 250 and Reviews < 40000000')\n",
    "train.shape"
   ]
  },
  {
   "cell_type": "code",
   "execution_count": 5,
   "metadata": {},
   "outputs": [
    {
     "data": {
      "text/plain": [
       "(6994, 12)"
      ]
     },
     "execution_count": 5,
     "metadata": {},
     "output_type": "execute_result"
    }
   ],
   "source": [
    "all_data = pd.concat((train, test)).reset_index(drop=True)\n",
    "all_data.shape"
   ]
  },
  {
   "cell_type": "code",
   "execution_count": 6,
   "metadata": {},
   "outputs": [
    {
     "name": "stdout",
     "output_type": "stream",
     "text": [
      "<class 'pandas.core.frame.DataFrame'>\n",
      "RangeIndex: 6994 entries, 0 to 6993\n",
      "Data columns (total 12 columns):\n",
      "App               6994 non-null object\n",
      "Category          6994 non-null object\n",
      "Content Rating    6994 non-null object\n",
      "Genres            6994 non-null object\n",
      "Id                6994 non-null int64\n",
      "Installs          6994 non-null float64\n",
      "Last Updated      6994 non-null object\n",
      "Price             6994 non-null float64\n",
      "Rating            5590 non-null float64\n",
      "Reviews           6994 non-null int64\n",
      "Size              6994 non-null float64\n",
      "Type              6994 non-null int64\n",
      "dtypes: float64(4), int64(3), object(5)\n",
      "memory usage: 655.8+ KB\n"
     ]
    }
   ],
   "source": [
    "all_data.info()"
   ]
  },
  {
   "cell_type": "markdown",
   "metadata": {
    "colab_type": "text",
    "id": "HY1Rp1x7JXfl"
   },
   "source": [
    "### 범주형 변수 확인  \n",
    "Category, Content Rating, Genres 확인"
   ]
  },
  {
   "cell_type": "code",
   "execution_count": 19,
   "metadata": {
    "colab": {
     "base_uri": "https://localhost:8080/",
     "height": 610
    },
    "colab_type": "code",
    "executionInfo": {
     "elapsed": 6440,
     "status": "ok",
     "timestamp": 1597190019682,
     "user": {
      "displayName": "이예진 YejinLee",
      "photoUrl": "",
      "userId": "02373976809516943532"
     },
     "user_tz": -540
    },
    "id": "F2gvDbeLJYCv",
    "outputId": "cff9e868-6526-4537-aa6a-d71beb5f4211"
   },
   "outputs": [
    {
     "data": {
      "text/plain": [
       "FAMILY                 1102\n",
       "GAME                    657\n",
       "TOOLS                   463\n",
       "MEDICAL                 253\n",
       "PERSONALIZATION         227\n",
       "LIFESTYLE               220\n",
       "FINANCE                 201\n",
       "PHOTOGRAPHY             175\n",
       "PRODUCTIVITY            173\n",
       "HEALTH_AND_FITNESS      172\n",
       "BUSINESS                166\n",
       "COMMUNICATION           153\n",
       "SPORTS                  143\n",
       "SHOPPING                139\n",
       "SOCIAL                  122\n",
       "DATING                  121\n",
       "NEWS_AND_MAGAZINES      114\n",
       "BOOKS_AND_REFERENCE     109\n",
       "TRAVEL_AND_LOCAL        108\n",
       "VIDEO_PLAYERS            90\n",
       "EDUCATION                88\n",
       "MAPS_AND_NAVIGATION      76\n",
       "FOOD_AND_DRINK           69\n",
       "ENTERTAINMENT            64\n",
       "ART_AND_DESIGN           57\n",
       "LIBRARIES_AND_DEMO       57\n",
       "AUTO_AND_VEHICLES        55\n",
       "HOUSE_AND_HOME           48\n",
       "COMICS                   46\n",
       "PARENTING                43\n",
       "WEATHER                  37\n",
       "EVENTS                   34\n",
       "BEAUTY                   34\n",
       "Name: Category, dtype: int64"
      ]
     },
     "execution_count": 19,
     "metadata": {},
     "output_type": "execute_result"
    }
   ],
   "source": [
    "category_count = train['Category'].value_counts()\n",
    "category_count"
   ]
  },
  {
   "cell_type": "code",
   "execution_count": 20,
   "metadata": {
    "colab": {
     "base_uri": "https://localhost:8080/",
     "height": 555
    },
    "colab_type": "code",
    "executionInfo": {
     "elapsed": 7130,
     "status": "ok",
     "timestamp": 1597190020407,
     "user": {
      "displayName": "이예진 YejinLee",
      "photoUrl": "",
      "userId": "02373976809516943532"
     },
     "user_tz": -540
    },
    "id": "RqD8ZWnu2Sd8",
    "outputId": "69426bb7-48db-4553-e16f-4d2dc4196e21"
   },
   "outputs": [
    {
     "data": {
      "image/png": "[encoded data removed]",
      "text/plain": [
       "<Figure size 1152x576 with 1 Axes>"
      ]
     },
     "metadata": {},
     "output_type": "display_data"
    }
   ],
   "source": [
    "# Category 시각화\n",
    "fig = plt.figure(figsize=(16,8)) \n",
    "plt.pie(category_count,labels=category_count.index,autopct='%1.1f%%', shadow=True)\n",
    "plt.title('Category',size = 20)\n",
    "plt.legend()\n",
    "plt.show()"
   ]
  },
  {
   "cell_type": "code",
   "execution_count": 21,
   "metadata": {
    "colab": {
     "base_uri": "https://localhost:8080/",
     "height": 139
    },
    "colab_type": "code",
    "executionInfo": {
     "elapsed": 7100,
     "status": "ok",
     "timestamp": 1597190020408,
     "user": {
      "displayName": "이예진 YejinLee",
      "photoUrl": "",
      "userId": "02373976809516943532"
     },
     "user_tz": -540
    },
    "id": "yihiaxldJZQF",
    "outputId": "236fffa5-dd67-4876-e8b6-246827c2c684"
   },
   "outputs": [
    {
     "data": {
      "text/plain": [
       "Everyone           4531\n",
       "Teen                589\n",
       "Mature 17+          281\n",
       "Everyone 10+        212\n",
       "Adults only 18+       2\n",
       "Unrated               1\n",
       "Name: Content Rating, dtype: int64"
      ]
     },
     "execution_count": 21,
     "metadata": {},
     "output_type": "execute_result"
    }
   ],
   "source": [
    "con_rating_count = train['Content Rating'].value_counts()\n",
    "con_rating_count"
   ]
  },
  {
   "cell_type": "code",
   "execution_count": 22,
   "metadata": {
    "colab": {
     "base_uri": "https://localhost:8080/",
     "height": 487
    },
    "colab_type": "code",
    "executionInfo": {
     "elapsed": 7066,
     "status": "ok",
     "timestamp": 1597190020410,
     "user": {
      "displayName": "이예진 YejinLee",
      "photoUrl": "",
      "userId": "02373976809516943532"
     },
     "user_tz": -540
    },
    "id": "yFzY7Rah3Goz",
    "outputId": "0b62005a-e2f1-4a47-ed8a-88d77c1d5080"
   },
   "outputs": [
    {
     "data": {
      "image/png": "[encoded data removed]",
      "text/plain": [
       "<Figure size 1152x576 with 1 Axes>"
      ]
     },
     "metadata": {},
     "output_type": "display_data"
    }
   ],
   "source": [
    "# Content Rating 시각화\n",
    "fig = plt.figure(figsize=(16,8)) \n",
    "plt.pie(con_rating_count,labels=con_rating_count.index,autopct='%1.1f%%', shadow=True)\n",
    "plt.title('Content Rating',size = 20)\n",
    "plt.legend()\n",
    "plt.show()"
   ]
  },
  {
   "cell_type": "code",
   "execution_count": 23,
   "metadata": {
    "colab": {
     "base_uri": "https://localhost:8080/",
     "height": 1000
    },
    "colab_type": "code",
    "executionInfo": {
     "elapsed": 7035,
     "status": "ok",
     "timestamp": 1597190020410,
     "user": {
      "displayName": "이예진 YejinLee",
      "photoUrl": "",
      "userId": "02373976809516943532"
     },
     "user_tz": -540
    },
    "id": "N-asnXvKJZKa",
    "outputId": "7dea5226-9fd2-4605-adf0-ae02b808eb31"
   },
   "outputs": [
    {
     "data": {
      "text/plain": [
       "Tools                                    463\n",
       "Entertainment                            337\n",
       "Education                                309\n",
       "Medical                                  253\n",
       "Personalization                          227\n",
       "Lifestyle                                219\n",
       "Action                                   214\n",
       "Finance                                  201\n",
       "Photography                              175\n",
       "Productivity                             173\n",
       "Health & Fitness                         172\n",
       "Business                                 166\n",
       "Communication                            153\n",
       "Sports                                   149\n",
       "Shopping                                 139\n",
       "Arcade                                   129\n",
       "Social                                   122\n",
       "Dating                                   121\n",
       "News & Magazines                         114\n",
       "Simulation                               110\n",
       "Books & Reference                        109\n",
       "Travel & Local                           107\n",
       "Video Players & Editors                   90\n",
       "Casual                                    89\n",
       "Role Playing                              79\n",
       "Maps & Navigation                         76\n",
       "Food & Drink                              69\n",
       "Strategy                                  68\n",
       "Puzzle                                    61\n",
       "Libraries & Demo                          57\n",
       "Auto & Vehicles                           55\n",
       "Adventure                                 53\n",
       "Art & Design                              51\n",
       "House & Home                              48\n",
       "Comics                                    45\n",
       "Racing                                    43\n",
       "Weather                                   37\n",
       "Beauty                                    34\n",
       "Events                                    34\n",
       "Parenting                                 34\n",
       "Education;Education                       30\n",
       "Board                                     30\n",
       "Educational;Education                     27\n",
       "Card                                      26\n",
       "Casino                                    22\n",
       "Trivia                                    22\n",
       "Casual;Pretend Play                       20\n",
       "Education;Pretend Play                    15\n",
       "Music                                     15\n",
       "Word                                      15\n",
       "Board;Brain Games                         13\n",
       "Racing;Action & Adventure                 12\n",
       "Puzzle;Brain Games                        12\n",
       "Arcade;Action & Adventure                 12\n",
       "Casual;Brain Games                        11\n",
       "Educational                               10\n",
       "Action;Action & Adventure                 10\n",
       "Casual;Action & Adventure                 10\n",
       "Entertainment;Music & Video                9\n",
       "Simulation;Action & Adventure              7\n",
       "Educational;Pretend Play                   7\n",
       "Casual;Creativity                          6\n",
       "Adventure;Action & Adventure               5\n",
       "Entertainment;Brain Games                  5\n",
       "Art & Design;Creativity                    5\n",
       "Educational;Brain Games                    5\n",
       "Parenting;Music & Video                    5\n",
       "Education;Creativity                       4\n",
       "Education;Action & Adventure               3\n",
       "Puzzle;Action & Adventure                  3\n",
       "Board;Action & Adventure                   3\n",
       "Parenting;Education                        3\n",
       "Casual;Education                           3\n",
       "Role Playing;Action & Adventure            3\n",
       "Educational;Creativity                     3\n",
       "Music;Music & Video                        2\n",
       "Entertainment;Action & Adventure           2\n",
       "Simulation;Pretend Play                    2\n",
       "Entertainment;Creativity                   2\n",
       "Strategy;Action & Adventure                2\n",
       "Card;Action & Adventure                    2\n",
       "Education;Music & Video                    2\n",
       "Role Playing;Pretend Play                  2\n",
       "Educational;Action & Adventure             2\n",
       "Art & Design;Pretend Play                  1\n",
       "Adventure;Brain Games                      1\n",
       "Sports;Action & Adventure                  1\n",
       "Simulation;Education                       1\n",
       "Casual;Music & Video                       1\n",
       "Video Players & Editors;Creativity         1\n",
       "Video Players & Editors;Music & Video      1\n",
       "Health & Fitness;Action & Adventure        1\n",
       "Parenting;Brain Games                      1\n",
       "Lifestyle;Pretend Play                     1\n",
       "Travel & Local;Action & Adventure          1\n",
       "Entertainment;Pretend Play                 1\n",
       "Music & Audio;Music & Video                1\n",
       "Books & Reference;Education                1\n",
       "Comics;Creativity                          1\n",
       "Health & Fitness;Education                 1\n",
       "Adventure;Education                        1\n",
       "Puzzle;Creativity                          1\n",
       "Board;Pretend Play                         1\n",
       "Entertainment;Education                    1\n",
       "Education;Brain Games                      1\n",
       "Arcade;Pretend Play                        1\n",
       "Name: Genres, dtype: int64"
      ]
     },
     "execution_count": 23,
     "metadata": {},
     "output_type": "execute_result"
    }
   ],
   "source": [
    "genres_count = train['Genres'].value_counts()\n",
    "genres_count"
   ]
  },
  {
   "cell_type": "code",
   "execution_count": 24,
   "metadata": {
    "colab": {
     "base_uri": "https://localhost:8080/",
     "height": 1000
    },
    "colab_type": "code",
    "executionInfo": {
     "elapsed": 10214,
     "status": "ok",
     "timestamp": 1597190023617,
     "user": {
      "displayName": "이예진 YejinLee",
      "photoUrl": "",
      "userId": "02373976809516943532"
     },
     "user_tz": -540
    },
    "id": "4fyzxtL53Xx7",
    "outputId": "4c13890a-b1b7-4a77-e0f8-88b0daf5019f",
    "scrolled": true
   },
   "outputs": [
    {
     "data": {
      "image/png": "[encoded data removed]",
      "text/plain": [
       "<Figure size 1152x576 with 1 Axes>"
      ]
     },
     "metadata": {},
     "output_type": "display_data"
    }
   ],
   "source": [
    "# Genrs 시각화\n",
    "fig = plt.figure(figsize=(16,8)) \n",
    "plt.pie(genres_count,labels=genres_count.index,autopct='%1.1f%%', shadow=True)\n",
    "plt.title('Genrs',size = 20)\n",
    "plt.legend()\n",
    "plt.show()"
   ]
  },
  {
   "cell_type": "markdown",
   "metadata": {},
   "source": [
    "### 범주형 변수 Encoding "
   ]
  },
  {
   "cell_type": "code",
   "execution_count": 7,
   "metadata": {},
   "outputs": [],
   "source": [
    "def category_encoding(data, col):\n",
    "    le = preprocessing.LabelEncoder()\n",
    "    le.fit(data[col])\n",
    "    data[col] = le.transform(data[col])\n",
    "    return data[col]"
   ]
  },
  {
   "cell_type": "code",
   "execution_count": 8,
   "metadata": {
    "scrolled": false
   },
   "outputs": [
    {
     "data": {
      "text/plain": [
       "0       1\n",
       "1       1\n",
       "2       1\n",
       "3       4\n",
       "4       1\n",
       "       ..\n",
       "6989    1\n",
       "6990    1\n",
       "6991    1\n",
       "6992    1\n",
       "6993    1\n",
       "Name: Content Rating, Length: 6994, dtype: int32"
      ]
     },
     "execution_count": 8,
     "metadata": {},
     "output_type": "execute_result"
    }
   ],
   "source": [
    "category_encoding(all_data, 'App')\n",
    "category_encoding(all_data, 'Category')\n",
    "category_encoding(all_data, 'Genres')\n",
    "category_encoding(all_data, 'Content Rating')"
   ]
  },
  {
   "cell_type": "code",
   "execution_count": 9,
   "metadata": {},
   "outputs": [],
   "source": [
    "# Last Updated encoding\n",
    "\n",
    "# mktime () 함수는 매개 변수로 struct_time 객체를 수신하고, 시간 (초)을 나타내는 float를 반환\n",
    "all_data['Last Updated'] = all_data['Last Updated'].apply(lambda x : time.mktime(datetime.datetime.strptime(x, '%Y-%m-%d').timetuple()))"
   ]
  },
  {
   "cell_type": "code",
   "execution_count": 10,
   "metadata": {},
   "outputs": [],
   "source": [
    "train = all_data[:len(train)]\n",
    "test = all_data[len(train):]"
   ]
  },
  {
   "cell_type": "code",
   "execution_count": 11,
   "metadata": {
    "scrolled": true
   },
   "outputs": [
    {
     "name": "stdout",
     "output_type": "stream",
     "text": [
      "<class 'pandas.core.frame.DataFrame'>\n",
      "RangeIndex: 5590 entries, 0 to 5589\n",
      "Data columns (total 12 columns):\n",
      "App               5590 non-null int32\n",
      "Category          5590 non-null int32\n",
      "Content Rating    5590 non-null int32\n",
      "Genres            5590 non-null int32\n",
      "Id                5590 non-null int64\n",
      "Installs          5590 non-null float64\n",
      "Last Updated      5590 non-null float64\n",
      "Price             5590 non-null float64\n",
      "Rating            5590 non-null float64\n",
      "Reviews           5590 non-null int64\n",
      "Size              5590 non-null float64\n",
      "Type              5590 non-null int64\n",
      "dtypes: float64(5), int32(4), int64(3)\n",
      "memory usage: 436.8 KB\n"
     ]
    }
   ],
   "source": [
    "train.info()"
   ]
  },
  {
   "cell_type": "markdown",
   "metadata": {
    "colab_type": "text",
    "id": "MFbt54emN67y"
   },
   "source": [
    "## 2. Regression Modeling  \n",
    "저는 각각의 분류기에 대해서 하이퍼파라미터 튜닝을 거의 하지 않앗어요!   \n",
    "여러분은 다양한 시도를 해보세요!"
   ]
  },
  {
   "cell_type": "markdown",
   "metadata": {
    "colab_type": "text",
    "id": "tRSCnjphRPXh"
   },
   "source": [
    "저는 연속형 변수만을 가지고 앙상블을 할거에요.  \n",
    "여러분은 저번에 배운 더미변수화를 이용해보세요\n",
    "\n"
   ]
  },
  {
   "cell_type": "code",
   "execution_count": 12,
   "metadata": {
    "colab": {},
    "colab_type": "code",
    "id": "CyQWjevTRxCX"
   },
   "outputs": [],
   "source": [
    "# sklearn \n",
    "from sklearn.linear_model import LinearRegression\n",
    "from sklearn.linear_model import Ridge, Lasso\n",
    "\n",
    "from sklearn.tree import DecisionTreeRegressor\n",
    "#from sklearn.naive_bayes import GaussianNB\n",
    "from sklearn.neighbors import KNeighborsRegressor\n",
    "from sklearn.svm import SVR\n",
    "from sklearn.ensemble import RandomForestRegressor, GradientBoostingRegressor\n",
    "import xgboost as xgb\n",
    "import lightgbm as lgb\n",
    "\n",
    "from sklearn.pipeline import make_pipeline\n",
    "from sklearn.preprocessing import RobustScaler, StandardScaler\n",
    "from sklearn.base import BaseEstimator, TransformerMixin, RegressorMixin, clone\n",
    "from sklearn.model_selection import KFold, cross_val_score, train_test_split\n",
    "from sklearn.metrics import mean_squared_error\n",
    "from sklearn.metrics import accuracy_score\n",
    "\n",
    "from sklearn.model_selection import GridSearchCV"
   ]
  },
  {
   "cell_type": "code",
   "execution_count": 13,
   "metadata": {},
   "outputs": [],
   "source": [
    "# target 분리, data split\n",
    "y = train['Rating']\n",
    "X = train.loc[:, train.columns != 'Rating']\n",
    "X = X.loc[:, X.columns != 'Id']\n",
    "\n",
    "X_train, X_test, y_train, y_test = train_test_split(X, y, train_size=0.7, random_state=318)"
   ]
  },
  {
   "cell_type": "code",
   "execution_count": 173,
   "metadata": {
    "scrolled": true
   },
   "outputs": [
    {
     "data": {
      "text/html": [
       "<div>\n",
       "<style scoped>\n",
       "    .dataframe tbody tr th:only-of-type {\n",
       "        vertical-align: middle;\n",
       "    }\n",
       "\n",
       "    .dataframe tbody tr th {\n",
       "        vertical-align: top;\n",
       "    }\n",
       "\n",
       "    .dataframe thead th {\n",
       "        text-align: right;\n",
       "    }\n",
       "</style>\n",
       "<table border=\"1\" class=\"dataframe\">\n",
       "  <thead>\n",
       "    <tr style=\"text-align: right;\">\n",
       "      <th></th>\n",
       "      <th>App</th>\n",
       "      <th>Category</th>\n",
       "      <th>Content Rating</th>\n",
       "      <th>Genres</th>\n",
       "      <th>Installs</th>\n",
       "      <th>Last Updated</th>\n",
       "      <th>Price</th>\n",
       "      <th>Reviews</th>\n",
       "      <th>Size</th>\n",
       "      <th>Type</th>\n",
       "    </tr>\n",
       "  </thead>\n",
       "  <tbody>\n",
       "    <tr>\n",
       "      <th>0</th>\n",
       "      <td>5028</td>\n",
       "      <td>0</td>\n",
       "      <td>1</td>\n",
       "      <td>9</td>\n",
       "      <td>10000.0</td>\n",
       "      <td>1.515251e+09</td>\n",
       "      <td>0.0</td>\n",
       "      <td>159</td>\n",
       "      <td>19.0</td>\n",
       "      <td>0</td>\n",
       "    </tr>\n",
       "    <tr>\n",
       "      <th>1</th>\n",
       "      <td>1891</td>\n",
       "      <td>0</td>\n",
       "      <td>1</td>\n",
       "      <td>11</td>\n",
       "      <td>500000.0</td>\n",
       "      <td>1.515942e+09</td>\n",
       "      <td>0.0</td>\n",
       "      <td>967</td>\n",
       "      <td>14.0</td>\n",
       "      <td>0</td>\n",
       "    </tr>\n",
       "    <tr>\n",
       "      <th>2</th>\n",
       "      <td>6300</td>\n",
       "      <td>0</td>\n",
       "      <td>1</td>\n",
       "      <td>9</td>\n",
       "      <td>5000000.0</td>\n",
       "      <td>1.533049e+09</td>\n",
       "      <td>0.0</td>\n",
       "      <td>87510</td>\n",
       "      <td>8.7</td>\n",
       "      <td>0</td>\n",
       "    </tr>\n",
       "    <tr>\n",
       "      <th>3</th>\n",
       "      <td>5674</td>\n",
       "      <td>0</td>\n",
       "      <td>4</td>\n",
       "      <td>9</td>\n",
       "      <td>50000000.0</td>\n",
       "      <td>1.528384e+09</td>\n",
       "      <td>0.0</td>\n",
       "      <td>215644</td>\n",
       "      <td>25.0</td>\n",
       "      <td>0</td>\n",
       "    </tr>\n",
       "    <tr>\n",
       "      <th>4</th>\n",
       "      <td>5069</td>\n",
       "      <td>0</td>\n",
       "      <td>1</td>\n",
       "      <td>10</td>\n",
       "      <td>100000.0</td>\n",
       "      <td>1.529420e+09</td>\n",
       "      <td>0.0</td>\n",
       "      <td>967</td>\n",
       "      <td>2.8</td>\n",
       "      <td>0</td>\n",
       "    </tr>\n",
       "  </tbody>\n",
       "</table>\n",
       "</div>"
      ],
      "text/plain": [
       "    App  Category  Content Rating  Genres    Installs  Last Updated  Price  \\\n",
       "0  5028         0               1       9     10000.0  1.515251e+09    0.0   \n",
       "1  1891         0               1      11    500000.0  1.515942e+09    0.0   \n",
       "2  6300         0               1       9   5000000.0  1.533049e+09    0.0   \n",
       "3  5674         0               4       9  50000000.0  1.528384e+09    0.0   \n",
       "4  5069         0               1      10    100000.0  1.529420e+09    0.0   \n",
       "\n",
       "   Reviews  Size  Type  \n",
       "0      159  19.0     0  \n",
       "1      967  14.0     0  \n",
       "2    87510   8.7     0  \n",
       "3   215644  25.0     0  \n",
       "4      967   2.8     0  "
      ]
     },
     "execution_count": 173,
     "metadata": {},
     "output_type": "execute_result"
    }
   ],
   "source": [
    "X.head()"
   ]
  },
  {
   "cell_type": "code",
   "execution_count": 14,
   "metadata": {
    "scrolled": false
   },
   "outputs": [
    {
     "data": {
      "text/html": [
       "<div>\n",
       "<style scoped>\n",
       "    .dataframe tbody tr th:only-of-type {\n",
       "        vertical-align: middle;\n",
       "    }\n",
       "\n",
       "    .dataframe tbody tr th {\n",
       "        vertical-align: top;\n",
       "    }\n",
       "\n",
       "    .dataframe thead th {\n",
       "        text-align: right;\n",
       "    }\n",
       "</style>\n",
       "<table border=\"1\" class=\"dataframe\">\n",
       "  <thead>\n",
       "    <tr style=\"text-align: right;\">\n",
       "      <th></th>\n",
       "      <th>App</th>\n",
       "      <th>Category</th>\n",
       "      <th>Content Rating</th>\n",
       "      <th>Genres</th>\n",
       "      <th>Installs</th>\n",
       "      <th>Last Updated</th>\n",
       "      <th>Price</th>\n",
       "      <th>Reviews</th>\n",
       "      <th>Size</th>\n",
       "      <th>Type</th>\n",
       "    </tr>\n",
       "  </thead>\n",
       "  <tbody>\n",
       "    <tr>\n",
       "      <th>5590</th>\n",
       "      <td>2469</td>\n",
       "      <td>25</td>\n",
       "      <td>1</td>\n",
       "      <td>77</td>\n",
       "      <td>100000.0</td>\n",
       "      <td>1.528556e+09</td>\n",
       "      <td>0.00</td>\n",
       "      <td>1205</td>\n",
       "      <td>4.3</td>\n",
       "      <td>0</td>\n",
       "    </tr>\n",
       "    <tr>\n",
       "      <th>5591</th>\n",
       "      <td>2157</td>\n",
       "      <td>11</td>\n",
       "      <td>1</td>\n",
       "      <td>48</td>\n",
       "      <td>10000.0</td>\n",
       "      <td>1.488899e+09</td>\n",
       "      <td>0.00</td>\n",
       "      <td>267</td>\n",
       "      <td>1.5</td>\n",
       "      <td>0</td>\n",
       "    </tr>\n",
       "    <tr>\n",
       "      <th>5592</th>\n",
       "      <td>2428</td>\n",
       "      <td>14</td>\n",
       "      <td>1</td>\n",
       "      <td>83</td>\n",
       "      <td>10000.0</td>\n",
       "      <td>1.528902e+09</td>\n",
       "      <td>0.00</td>\n",
       "      <td>183</td>\n",
       "      <td>68.0</td>\n",
       "      <td>0</td>\n",
       "    </tr>\n",
       "    <tr>\n",
       "      <th>5593</th>\n",
       "      <td>2443</td>\n",
       "      <td>15</td>\n",
       "      <td>1</td>\n",
       "      <td>58</td>\n",
       "      <td>1000.0</td>\n",
       "      <td>1.422198e+09</td>\n",
       "      <td>4.99</td>\n",
       "      <td>76</td>\n",
       "      <td>1.2</td>\n",
       "      <td>1</td>\n",
       "    </tr>\n",
       "    <tr>\n",
       "      <th>5594</th>\n",
       "      <td>2463</td>\n",
       "      <td>11</td>\n",
       "      <td>1</td>\n",
       "      <td>19</td>\n",
       "      <td>10000.0</td>\n",
       "      <td>1.519571e+09</td>\n",
       "      <td>3.99</td>\n",
       "      <td>429</td>\n",
       "      <td>12.0</td>\n",
       "      <td>1</td>\n",
       "    </tr>\n",
       "  </tbody>\n",
       "</table>\n",
       "</div>"
      ],
      "text/plain": [
       "       App  Category  Content Rating  Genres  Installs  Last Updated  Price  \\\n",
       "5590  2469        25               1      77  100000.0  1.528556e+09   0.00   \n",
       "5591  2157        11               1      48   10000.0  1.488899e+09   0.00   \n",
       "5592  2428        14               1      83   10000.0  1.528902e+09   0.00   \n",
       "5593  2443        15               1      58    1000.0  1.422198e+09   4.99   \n",
       "5594  2463        11               1      19   10000.0  1.519571e+09   3.99   \n",
       "\n",
       "      Reviews  Size  Type  \n",
       "5590     1205   4.3     0  \n",
       "5591      267   1.5     0  \n",
       "5592      183  68.0     0  \n",
       "5593       76   1.2     1  \n",
       "5594      429  12.0     1  "
      ]
     },
     "execution_count": 14,
     "metadata": {},
     "output_type": "execute_result"
    }
   ],
   "source": [
    "# Update test data\n",
    "test_ID = test['Id']\n",
    "test = test.loc[:, test.columns != 'Id']\n",
    "test = test.loc[:, test.columns != 'Rating']\n",
    "test.head()"
   ]
  },
  {
   "cell_type": "markdown",
   "metadata": {
    "colab_type": "text",
    "id": "GjXRKYCqSkix"
   },
   "source": [
    "* validation function"
   ]
  },
  {
   "cell_type": "code",
   "execution_count": 15,
   "metadata": {
    "colab": {},
    "colab_type": "code",
    "id": "fTBQh9nBSjz8"
   },
   "outputs": [],
   "source": [
    "n_folds = 5\n",
    "train = X\n",
    "def rmse_cv(model):\n",
    "  kf = KFold(n_folds, shuffle=True, random_state=42).get_n_splits(X_train.values)\n",
    "  rmse = np.sqrt(-cross_val_score(model, X_train.values, y_train, scoring='neg_mean_squared_error', cv=kf))\n",
    "  return (rmse)"
   ]
  },
  {
   "cell_type": "code",
   "execution_count": 16,
   "metadata": {
    "colab": {},
    "colab_type": "code",
    "id": "nE2C0xbwd6cB"
   },
   "outputs": [],
   "source": [
    "def rmse(y,y_pred):\n",
    "  return np.sqrt(mean_squared_error(y,y_pred))"
   ]
  },
  {
   "cell_type": "markdown",
   "metadata": {
    "colab_type": "text",
    "id": "cFEg3jO7TLa5"
   },
   "source": [
    "### Base models  \n",
    "scaler 로  RobustScaler를 사용하겠습니다 ~   \n",
    "다양한 스케일러가 있으니 바꿔서 사용해보세용!"
   ]
  },
  {
   "cell_type": "markdown",
   "metadata": {
    "colab_type": "text",
    "id": "dSsLLnfmTPiG"
   },
   "source": [
    "* Linear Regression\n",
    "2주차에 배웠쭁 ㅎㅎㅎ~  \n",
    "LASSO 나 Lidge를 써보셔도 좋습니다 ㅎㅎ"
   ]
  },
  {
   "cell_type": "code",
   "execution_count": 17,
   "metadata": {
    "colab": {},
    "colab_type": "code",
    "id": "LWmKH9zUSj4t"
   },
   "outputs": [],
   "source": [
    "lr = make_pipeline(RobustScaler(), LinearRegression())\n",
    "standard_lr = make_pipeline(StandardScaler(), LinearRegression())\n",
    "\n",
    "lasso = make_pipeline(RobustScaler(), Lasso())\n",
    "standard_lasso = make_pipeline(StandardScaler(), Lasso())\n",
    "\n",
    "ridge = make_pipeline(RobustScaler(), Ridge())\n",
    "standard_ridge = make_pipeline(StandardScaler(), Ridge())"
   ]
  },
  {
   "cell_type": "markdown",
   "metadata": {
    "colab_type": "text",
    "id": "4ODTVen6Uaqu"
   },
   "source": [
    "* DecisionTreeRegressor  \n",
    "의사결정나무 dt입니다~ 약분류기를 만들어 주려고 깊이를 10만 설정해볼게요"
   ]
  },
  {
   "cell_type": "code",
   "execution_count": 20,
   "metadata": {
    "colab": {},
    "colab_type": "code",
    "id": "TpiXRQ5yUd7o"
   },
   "outputs": [],
   "source": [
    "dt = make_pipeline(RobustScaler(), DecisionTreeRegressor(max_depth=10))\n",
    "standard_dt = make_pipeline(StandardScaler(), DecisionTreeRegressor(max_depth=10))"
   ]
  },
  {
   "cell_type": "markdown",
   "metadata": {
    "colab_type": "text",
    "id": "DIMklsSgVfHG"
   },
   "source": [
    "* KNN\n"
   ]
  },
  {
   "cell_type": "code",
   "execution_count": 21,
   "metadata": {
    "colab": {},
    "colab_type": "code",
    "id": "k-lP-p6WVec-"
   },
   "outputs": [],
   "source": [
    "knn = make_pipeline(RobustScaler(),KNeighborsRegressor(n_neighbors = 3))\n",
    "standard_knn = make_pipeline(StandardScaler(),KNeighborsRegressor(n_neighbors = 3))"
   ]
  },
  {
   "cell_type": "markdown",
   "metadata": {
    "colab_type": "text",
    "id": "73Ps_Yj9WFtk"
   },
   "source": [
    "* SVM (Support Vector Machine)  \n",
    "바로 앞 시간에 띵강이 있었던 서포트 벡터 머신입니다~!   \n",
    "얘는 데이터가 1만개가 넘어가면 조금 힘들어하는데 지금은 8000개니깐 그냥 써보겠습니다 @@"
   ]
  },
  {
   "cell_type": "code",
   "execution_count": 22,
   "metadata": {
    "colab": {},
    "colab_type": "code",
    "id": "YWcGZvFVUd_M"
   },
   "outputs": [],
   "source": [
    "svm = make_pipeline(RobustScaler(),SVR())\n",
    "standard_svm = make_pipeline(StandardScaler(),SVR())"
   ]
  },
  {
   "cell_type": "markdown",
   "metadata": {
    "colab_type": "text",
    "id": "u74NVNEcT5L7"
   },
   "source": [
    "* Random Forest  \n",
    "ensemble 모델 중에 bagging 모델의 한 종류라고 배운 random forest 입니닷"
   ]
  },
  {
   "cell_type": "code",
   "execution_count": 23,
   "metadata": {
    "colab": {},
    "colab_type": "code",
    "id": "mSvViEOZSj7j"
   },
   "outputs": [],
   "source": [
    "rf = make_pipeline(RandomForestRegressor())"
   ]
  },
  {
   "cell_type": "markdown",
   "metadata": {
    "colab_type": "text",
    "id": "qxrPjzNrWyU-"
   },
   "source": [
    "* GBM  \n",
    "Boosting 모델로 배운 Gradient boosting 입니다!"
   ]
  },
  {
   "cell_type": "code",
   "execution_count": 24,
   "metadata": {
    "colab": {},
    "colab_type": "code",
    "id": "_Db5PUetSkAH"
   },
   "outputs": [],
   "source": [
    "gbm = make_pipeline(GradientBoostingRegressor(n_estimators = 3000, learning_rate=0.05,\n",
    "                                              max_depth=4, max_features='sqrt',\n",
    "                                              min_samples_leaf=15, min_samples_split=10,\n",
    "                                              loss = 'huber', random_state=1004))"
   ]
  },
  {
   "cell_type": "markdown",
   "metadata": {
    "colab_type": "text",
    "id": "X29VabDVXuf-"
   },
   "source": [
    "* XGBoost"
   ]
  },
  {
   "cell_type": "code",
   "execution_count": 52,
   "metadata": {
    "colab": {},
    "colab_type": "code",
    "id": "7MmbdYamSkEJ"
   },
   "outputs": [],
   "source": [
    "xgboost = xgb.XGBRegressor(colsample_bytree=0.4603, gamma=0.0468, \n",
    "                             learning_rate=0.05, max_depth=3, \n",
    "                             min_child_weight=1.7817, n_estimators=2200,\n",
    "                             reg_alpha=0.4640, reg_lambda=0.8571,\n",
    "                             subsample=0.5213, silent=1,\n",
    "                             random_state =7, nthread = -1)"
   ]
  },
  {
   "cell_type": "markdown",
   "metadata": {
    "colab_type": "text",
    "id": "gG-mEpkpXxMa"
   },
   "source": [
    "* LightGBM"
   ]
  },
  {
   "cell_type": "code",
   "execution_count": 58,
   "metadata": {
    "colab": {},
    "colab_type": "code",
    "id": "Dak3Q1KsSkIM"
   },
   "outputs": [],
   "source": [
    "lgbm = lgb.LGBMRegressor(objective='regression', num_leaves=31, learning_rate=0.05, n_estimators=20) "
   ]
  },
  {
   "cell_type": "markdown",
   "metadata": {
    "colab_type": "text",
    "id": "TN-s0AD7X8x_"
   },
   "source": [
    "### Base model Scores  \n",
    "먼저 각 모델의 score를 봅시다."
   ]
  },
  {
   "cell_type": "code",
   "execution_count": 103,
   "metadata": {
    "colab": {
     "base_uri": "https://localhost:8080/",
     "height": 69
    },
    "colab_type": "code",
    "executionInfo": {
     "elapsed": 10038,
     "status": "ok",
     "timestamp": 1597190023635,
     "user": {
      "displayName": "이예진 YejinLee",
      "photoUrl": "",
      "userId": "02373976809516943532"
     },
     "user_tz": -540
    },
    "id": "BQpVOE-mX9vk",
    "outputId": "d3235115-0a54-44ce-d38b-cb2891a7b50b",
    "scrolled": true
   },
   "outputs": [
    {
     "name": "stdout",
     "output_type": "stream",
     "text": [
      "\n",
      "Linear Regression score: 0.5440 (0.0297)\n",
      "\n"
     ]
    }
   ],
   "source": [
    "score = rmse_cv(lr)\n",
    "print(\"\\nLinear Regression score: {:.4f} ({:.4f})\\n\".format(score.mean(), score.std()))"
   ]
  },
  {
   "cell_type": "code",
   "execution_count": 27,
   "metadata": {},
   "outputs": [
    {
     "name": "stdout",
     "output_type": "stream",
     "text": [
      "\n",
      "Linear Regression score: 0.5542 (0.0315)\n",
      "\n"
     ]
    }
   ],
   "source": [
    "score = rmse_cv(standard_lr)\n",
    "print(\"\\nLinear Regression score: {:.4f} ({:.4f})\\n\".format(score.mean(), score.std()))"
   ]
  },
  {
   "cell_type": "code",
   "execution_count": 28,
   "metadata": {
    "scrolled": true
   },
   "outputs": [
    {
     "name": "stdout",
     "output_type": "stream",
     "text": [
      "\n",
      "Linear Regression score: 0.5536 (0.0315)\n",
      "\n"
     ]
    }
   ],
   "source": [
    "score = rmse_cv(lasso)\n",
    "print(\"\\nLinear Regression score: {:.4f} ({:.4f})\\n\".format(score.mean(), score.std()))"
   ]
  },
  {
   "cell_type": "code",
   "execution_count": 29,
   "metadata": {},
   "outputs": [
    {
     "name": "stdout",
     "output_type": "stream",
     "text": [
      "\n",
      "Linear Regression score: 0.5542 (0.0315)\n",
      "\n"
     ]
    }
   ],
   "source": [
    "score = rmse_cv(standard_lasso)\n",
    "print(\"\\nLinear Regression score: {:.4f} ({:.4f})\\n\".format(score.mean(), score.std()))"
   ]
  },
  {
   "cell_type": "code",
   "execution_count": 30,
   "metadata": {
    "scrolled": true
   },
   "outputs": [
    {
     "name": "stdout",
     "output_type": "stream",
     "text": [
      "\n",
      "Linear Regression score: 0.5439 (0.0297)\n",
      "\n"
     ]
    }
   ],
   "source": [
    "score = rmse_cv(ridge)\n",
    "print(\"\\nLinear Regression score: {:.4f} ({:.4f})\\n\".format(score.mean(), score.std()))"
   ]
  },
  {
   "cell_type": "code",
   "execution_count": 31,
   "metadata": {},
   "outputs": [
    {
     "name": "stdout",
     "output_type": "stream",
     "text": [
      "\n",
      "Linear Regression score: 0.5440 (0.0297)\n",
      "\n"
     ]
    }
   ],
   "source": [
    "score = rmse_cv(standard_ridge)\n",
    "print(\"\\nLinear Regression score: {:.4f} ({:.4f})\\n\".format(score.mean(), score.std()))"
   ]
  },
  {
   "cell_type": "code",
   "execution_count": 32,
   "metadata": {
    "colab": {
     "base_uri": "https://localhost:8080/",
     "height": 69
    },
    "colab_type": "code",
    "executionInfo": {
     "elapsed": 10013,
     "status": "ok",
     "timestamp": 1597190023636,
     "user": {
      "displayName": "이예진 YejinLee",
      "photoUrl": "",
      "userId": "02373976809516943532"
     },
     "user_tz": -540
    },
    "id": "6YGImh66X90m",
    "outputId": "744f7f7f-e56e-4661-9d1b-be8217817017"
   },
   "outputs": [
    {
     "name": "stdout",
     "output_type": "stream",
     "text": [
      "\n",
      "Decision tree score: 0.6438 (0.0427)\n",
      "\n"
     ]
    }
   ],
   "source": [
    "score = rmse_cv(dt)\n",
    "print(\"\\nDecision tree score: {:.4f} ({:.4f})\\n\".format(score.mean(), score.std()))"
   ]
  },
  {
   "cell_type": "code",
   "execution_count": 33,
   "metadata": {},
   "outputs": [
    {
     "name": "stdout",
     "output_type": "stream",
     "text": [
      "\n",
      "Decision tree score: 0.6371 (0.0402)\n",
      "\n"
     ]
    }
   ],
   "source": [
    "score = rmse_cv(standard_dt)\n",
    "print(\"\\nDecision tree score: {:.4f} ({:.4f})\\n\".format(score.mean(), score.std()))"
   ]
  },
  {
   "cell_type": "code",
   "execution_count": 34,
   "metadata": {
    "colab": {
     "base_uri": "https://localhost:8080/",
     "height": 69
    },
    "colab_type": "code",
    "executionInfo": {
     "elapsed": 9988,
     "status": "ok",
     "timestamp": 1597190023636,
     "user": {
      "displayName": "이예진 YejinLee",
      "photoUrl": "",
      "userId": "02373976809516943532"
     },
     "user_tz": -540
    },
    "id": "6Pe0WPurX93h",
    "outputId": "25564c3a-efd0-409d-a140-b80c76fe3605"
   },
   "outputs": [
    {
     "name": "stdout",
     "output_type": "stream",
     "text": [
      "\n",
      "KNN score: 0.6201 (0.0342)\n",
      "\n"
     ]
    }
   ],
   "source": [
    "score = rmse_cv(knn)     \n",
    "print(\"\\nKNN score: {:.4f} ({:.4f})\\n\".format(score.mean(), score.std()))"
   ]
  },
  {
   "cell_type": "code",
   "execution_count": 35,
   "metadata": {},
   "outputs": [
    {
     "name": "stdout",
     "output_type": "stream",
     "text": [
      "\n",
      "KNN score: 0.6206 (0.0348)\n",
      "\n"
     ]
    }
   ],
   "source": [
    "score = rmse_cv(standard_knn)     \n",
    "print(\"\\nKNN score: {:.4f} ({:.4f})\\n\".format(score.mean(), score.std()))"
   ]
  },
  {
   "cell_type": "code",
   "execution_count": 36,
   "metadata": {
    "colab": {
     "base_uri": "https://localhost:8080/",
     "height": 69
    },
    "colab_type": "code",
    "executionInfo": {
     "elapsed": 12470,
     "status": "ok",
     "timestamp": 1597190026150,
     "user": {
      "displayName": "이예진 YejinLee",
      "photoUrl": "",
      "userId": "02373976809516943532"
     },
     "user_tz": -540
    },
    "id": "J-64y48ZX9ym",
    "outputId": "99553598-6e58-4291-ef50-cca92c5dbe5a"
   },
   "outputs": [
    {
     "name": "stdout",
     "output_type": "stream",
     "text": [
      "\n",
      "SVM score: 0.5467 (0.0325)\n",
      "\n"
     ]
    }
   ],
   "source": [
    "score = rmse_cv(svm)     \n",
    "print(\"\\nSVM score: {:.4f} ({:.4f})\\n\".format(score.mean(), score.std()))"
   ]
  },
  {
   "cell_type": "code",
   "execution_count": 37,
   "metadata": {},
   "outputs": [
    {
     "name": "stdout",
     "output_type": "stream",
     "text": [
      "\n",
      "SVM score: 0.5507 (0.0329)\n",
      "\n"
     ]
    }
   ],
   "source": [
    "score = rmse_cv(standard_svm)     \n",
    "print(\"\\nSVM score: {:.4f} ({:.4f})\\n\".format(score.mean(), score.std()))"
   ]
  },
  {
   "cell_type": "code",
   "execution_count": 38,
   "metadata": {
    "colab": {
     "base_uri": "https://localhost:8080/",
     "height": 69
    },
    "colab_type": "code",
    "executionInfo": {
     "elapsed": 15830,
     "status": "ok",
     "timestamp": 1597190029535,
     "user": {
      "displayName": "이예진 YejinLee",
      "photoUrl": "",
      "userId": "02373976809516943532"
     },
     "user_tz": -540
    },
    "id": "SbL3glyhaZaH",
    "outputId": "b10cbd4d-18a7-4419-f7f4-538e7690cae9"
   },
   "outputs": [
    {
     "name": "stdout",
     "output_type": "stream",
     "text": [
      "\n",
      "Random Forest score: 0.5166 (0.0358)\n",
      "\n"
     ]
    }
   ],
   "source": [
    "score = rmse_cv(rf)     \n",
    "print(\"\\nRandom Forest score: {:.4f} ({:.4f})\\n\".format(score.mean(), score.std()))"
   ]
  },
  {
   "cell_type": "code",
   "execution_count": 39,
   "metadata": {
    "colab": {
     "base_uri": "https://localhost:8080/",
     "height": 69
    },
    "colab_type": "code",
    "executionInfo": {
     "elapsed": 71067,
     "status": "ok",
     "timestamp": 1597190084807,
     "user": {
      "displayName": "이예진 YejinLee",
      "photoUrl": "",
      "userId": "02373976809516943532"
     },
     "user_tz": -540
    },
    "id": "MXcB_SniaZdM",
    "outputId": "8401d18b-8754-4b4d-f5f6-7bb868bc0e43"
   },
   "outputs": [
    {
     "name": "stdout",
     "output_type": "stream",
     "text": [
      "\n",
      "GBM score: 0.5232 (0.0348)\n",
      "\n"
     ]
    }
   ],
   "source": [
    "score = rmse_cv(gbm)     \n",
    "print(\"\\nGBM score: {:.4f} ({:.4f})\\n\".format(score.mean(), score.std()))"
   ]
  },
  {
   "cell_type": "code",
   "execution_count": 40,
   "metadata": {
    "colab": {
     "base_uri": "https://localhost:8080/",
     "height": 69
    },
    "colab_type": "code",
    "executionInfo": {
     "elapsed": 79908,
     "status": "ok",
     "timestamp": 1597190093698,
     "user": {
      "displayName": "이예진 YejinLee",
      "photoUrl": "",
      "userId": "02373976809516943532"
     },
     "user_tz": -540
    },
    "id": "c2_AkHuxaZiY",
    "outputId": "9ba3530b-3755-416f-8d7a-80f2a7d12645",
    "scrolled": false
   },
   "outputs": [
    {
     "name": "stdout",
     "output_type": "stream",
     "text": [
      "[23:49:56] WARNING: C:\\Users\\Administrator\\workspace\\xgboost-win64_release_1.1.0\\src\\learner.cc:480: \n",
      "Parameters: { silent } might not be used.\n",
      "\n",
      "  This may not be accurate due to some parameters are only used in language bindings but\n",
      "  passed down to XGBoost core.  Or some parameters are not used but slip through this\n",
      "  verification. Please open an issue if you find above cases.\n",
      "\n",
      "\n",
      "[23:50:02] WARNING: C:\\Users\\Administrator\\workspace\\xgboost-win64_release_1.1.0\\src\\learner.cc:480: \n",
      "Parameters: { silent } might not be used.\n",
      "\n",
      "  This may not be accurate due to some parameters are only used in language bindings but\n",
      "  passed down to XGBoost core.  Or some parameters are not used but slip through this\n",
      "  verification. Please open an issue if you find above cases.\n",
      "\n",
      "\n",
      "[23:50:07] WARNING: C:\\Users\\Administrator\\workspace\\xgboost-win64_release_1.1.0\\src\\learner.cc:480: \n",
      "Parameters: { silent } might not be used.\n",
      "\n",
      "  This may not be accurate due to some parameters are only used in language bindings but\n",
      "  passed down to XGBoost core.  Or some parameters are not used but slip through this\n",
      "  verification. Please open an issue if you find above cases.\n",
      "\n",
      "\n",
      "[23:50:13] WARNING: C:\\Users\\Administrator\\workspace\\xgboost-win64_release_1.1.0\\src\\learner.cc:480: \n",
      "Parameters: { silent } might not be used.\n",
      "\n",
      "  This may not be accurate due to some parameters are only used in language bindings but\n",
      "  passed down to XGBoost core.  Or some parameters are not used but slip through this\n",
      "  verification. Please open an issue if you find above cases.\n",
      "\n",
      "\n",
      "[23:50:17] WARNING: C:\\Users\\Administrator\\workspace\\xgboost-win64_release_1.1.0\\src\\learner.cc:480: \n",
      "Parameters: { silent } might not be used.\n",
      "\n",
      "  This may not be accurate due to some parameters are only used in language bindings but\n",
      "  passed down to XGBoost core.  Or some parameters are not used but slip through this\n",
      "  verification. Please open an issue if you find above cases.\n",
      "\n",
      "\n",
      "\n",
      "XGBoost score: 0.5265 (0.0275)\n",
      "\n"
     ]
    }
   ],
   "source": [
    "score = rmse_cv(xgboost)     \n",
    "print(\"\\nXGBoost score: {:.4f} ({:.4f})\\n\".format(score.mean(), score.std()))"
   ]
  },
  {
   "cell_type": "code",
   "execution_count": 41,
   "metadata": {
    "colab": {
     "base_uri": "https://localhost:8080/",
     "height": 69
    },
    "colab_type": "code",
    "executionInfo": {
     "elapsed": 79860,
     "status": "ok",
     "timestamp": 1597190093700,
     "user": {
      "displayName": "이예진 YejinLee",
      "photoUrl": "",
      "userId": "02373976809516943532"
     },
     "user_tz": -540
    },
    "id": "tVhwl92faoRB",
    "outputId": "5c82fb52-f817-42e6-eec4-f9174df3cc68"
   },
   "outputs": [
    {
     "name": "stdout",
     "output_type": "stream",
     "text": [
      "\n",
      "LGBM score: 0.5235 (0.0319)\n",
      "\n"
     ]
    }
   ],
   "source": [
    "score = rmse_cv(lgbm)     \n",
    "print(\"\\nLGBM score: {:.4f} ({:.4f})\\n\".format(score.mean(), score.std()))"
   ]
  },
  {
   "cell_type": "markdown",
   "metadata": {
    "colab_type": "text",
    "id": "HKyhD0LtR9U-"
   },
   "source": [
    "### 베이스 모델 튜닝 \n",
    ": baes model과 GridSearch한 model 결과 비교 후 더 나은 성능을 보이는 model을 선택하기로 합니다. "
   ]
  },
  {
   "cell_type": "markdown",
   "metadata": {
    "colab_type": "text",
    "id": "dSsLLnfmTPiG"
   },
   "source": [
    "* Linear Regression "
   ]
  },
  {
   "cell_type": "code",
   "execution_count": 18,
   "metadata": {},
   "outputs": [
    {
     "name": "stdout",
     "output_type": "stream",
     "text": [
      "\n",
      "Linear Regression score: 0.5460 (0.0296)\n",
      "\n"
     ]
    }
   ],
   "source": [
    "lr = make_pipeline(StandardScaler(), LinearRegression())\n",
    "\n",
    "score = rmse_cv(lr)\n",
    "print(\"\\nLinear Regression score: {:.4f} ({:.4f})\\n\".format(score.mean(), score.std()))"
   ]
  },
  {
   "cell_type": "markdown",
   "metadata": {
    "colab_type": "text",
    "id": "4ODTVen6Uaqu"
   },
   "source": [
    "* DecisionTreeRegressor : GridSearch model 택하였습니다. "
   ]
  },
  {
   "cell_type": "code",
   "execution_count": 19,
   "metadata": {
    "colab": {},
    "colab_type": "code",
    "id": "TpiXRQ5yUd7o",
    "scrolled": false
   },
   "outputs": [
    {
     "name": "stdout",
     "output_type": "stream",
     "text": [
      "best parameter: \n",
      " {'max_depth': 7, 'min_samples_leaf': 81, 'min_samples_split': 41}\n"
     ]
    }
   ],
   "source": [
    "dt_params = {'max_depth': list(range(1,20)),\n",
    "            'min_samples_split': list(range(1,100, 10)),\n",
    "            'min_samples_leaf': list(range(1,100, 10))}\n",
    "\n",
    "grid_dt = GridSearchCV(DecisionTreeRegressor(), \n",
    "                      param_grid = dt_params)\n",
    "\n",
    "grid_dt.fit(X_train, y_train)\n",
    "print('best parameter: \\n', grid_dt.best_params_)"
   ]
  },
  {
   "cell_type": "code",
   "execution_count": 20,
   "metadata": {},
   "outputs": [
    {
     "name": "stdout",
     "output_type": "stream",
     "text": [
      "\n",
      "DecisionTree Regression score: 0.5306 (0.0266)\n",
      "\n"
     ]
    }
   ],
   "source": [
    "dt = make_pipeline(StandardScaler(), DecisionTreeRegressor(max_depth=7,min_samples_leaf=81, min_samples_split=81))\n",
    "\n",
    "score = rmse_cv(dt)\n",
    "print(\"\\nDecisionTree Regression score: {:.4f} ({:.4f})\\n\".format(score.mean(), score.std()))"
   ]
  },
  {
   "cell_type": "code",
   "execution_count": 182,
   "metadata": {
    "scrolled": true
   },
   "outputs": [
    {
     "name": "stdout",
     "output_type": "stream",
     "text": [
      "\n",
      "DecisionTree Regression score: 0.6409 (0.0310)\n",
      "\n"
     ]
    }
   ],
   "source": [
    "# dt = make_pipeline(StandardScaler(), DecisionTreeRegressor(max_depth=10))\n",
    "\n",
    "# score = rmse_cv(dt)\n",
    "# print(\"\\nDecisionTree Regression score: {:.4f} ({:.4f})\\n\".format(score.mean(), score.std()))"
   ]
  },
  {
   "cell_type": "markdown",
   "metadata": {
    "colab_type": "text",
    "id": "DIMklsSgVfHG"
   },
   "source": [
    "* KNN : GridSearch model 택하였습니다. "
   ]
  },
  {
   "cell_type": "code",
   "execution_count": 170,
   "metadata": {
    "scrolled": true
   },
   "outputs": [
    {
     "name": "stdout",
     "output_type": "stream",
     "text": [
      "best parameter: \n",
      " {'n_neighbors': 18}\n"
     ]
    }
   ],
   "source": [
    "knn_params = {'n_neighbors': list(range(1,20))}\n",
    "\n",
    "grid_knn = GridSearchCV(KNeighborsRegressor(), \n",
    "                      param_grid = knn_params)\n",
    "\n",
    "grid_knn.fit(X_train, y_train)\n",
    "print('best parameter: \\n', grid_knn.best_params_)"
   ]
  },
  {
   "cell_type": "code",
   "execution_count": 21,
   "metadata": {},
   "outputs": [
    {
     "name": "stdout",
     "output_type": "stream",
     "text": [
      "\n",
      "KNN score: 0.5549 (0.0298)\n",
      "\n"
     ]
    }
   ],
   "source": [
    "knn = make_pipeline(StandardScaler(),KNeighborsRegressor(n_neighbors=18))\n",
    "\n",
    "score = rmse_cv(knn)     \n",
    "print(\"\\nKNN score: {:.4f} ({:.4f})\\n\".format(score.mean(), score.std()))"
   ]
  },
  {
   "cell_type": "code",
   "execution_count": 183,
   "metadata": {
    "colab": {},
    "colab_type": "code",
    "id": "k-lP-p6WVec-"
   },
   "outputs": [
    {
     "name": "stdout",
     "output_type": "stream",
     "text": [
      "\n",
      "KNN score: 0.5916 (0.0323)\n",
      "\n"
     ]
    }
   ],
   "source": [
    "# knn = make_pipeline(StandardScaler(),KNeighborsRegressor())\n",
    "\n",
    "# score = rmse_cv(knn)     \n",
    "# print(\"\\nKNN score: {:.4f} ({:.4f})\\n\".format(score.mean(), score.std()))"
   ]
  },
  {
   "cell_type": "markdown",
   "metadata": {
    "colab_type": "text",
    "id": "73Ps_Yj9WFtk"
   },
   "source": [
    "* SVM (Support Vector Machine)  : base model 택하였습니다. "
   ]
  },
  {
   "cell_type": "code",
   "execution_count": 174,
   "metadata": {},
   "outputs": [
    {
     "name": "stdout",
     "output_type": "stream",
     "text": [
      "best parameter: \n",
      " {'C': 1, 'gamma': 1}\n"
     ]
    }
   ],
   "source": [
    "svm_params = {'C' : [10**c for c in range(-2,2)],\n",
    "    'gamma' : [10**gamma for gamma in range(-2,2)]}\n",
    "\n",
    "grid_svm = GridSearchCV(SVR(), \n",
    "                      param_grid = svm_params)\n",
    "\n",
    "grid_svm.fit(X_train, y_train)\n",
    "print('best parameter: \\n', grid_svm.best_params_)"
   ]
  },
  {
   "cell_type": "code",
   "execution_count": 184,
   "metadata": {
    "scrolled": true
   },
   "outputs": [
    {
     "name": "stdout",
     "output_type": "stream",
     "text": [
      "\n",
      "SVM score: 0.5642 (0.0344)\n",
      "\n"
     ]
    }
   ],
   "source": [
    "# svm = make_pipeline(StandardScaler(),SVR(C=1, gamma=1))\n",
    "\n",
    "# score = rmse_cv(svm)     \n",
    "# print(\"\\nSVM score: {:.4f} ({:.4f})\\n\".format(score.mean(), score.std()))"
   ]
  },
  {
   "cell_type": "code",
   "execution_count": 22,
   "metadata": {
    "colab": {},
    "colab_type": "code",
    "id": "YWcGZvFVUd_M",
    "scrolled": true
   },
   "outputs": [
    {
     "name": "stdout",
     "output_type": "stream",
     "text": [
      "\n",
      "SVM score: 0.5526 (0.0320)\n",
      "\n"
     ]
    }
   ],
   "source": [
    "svm = make_pipeline(StandardScaler(),SVR())\n",
    "\n",
    "score = rmse_cv(svm)     \n",
    "print(\"\\nSVM score: {:.4f} ({:.4f})\\n\".format(score.mean(), score.std()))"
   ]
  },
  {
   "cell_type": "markdown",
   "metadata": {
    "colab_type": "text",
    "id": "u74NVNEcT5L7"
   },
   "source": [
    "* Random Forest  : base model 택하였습니다. "
   ]
  },
  {
   "cell_type": "code",
   "execution_count": 175,
   "metadata": {},
   "outputs": [
    {
     "name": "stdout",
     "output_type": "stream",
     "text": [
      "best parameter: \n",
      " {'max_depth': 9, 'n_estimators': 400}\n"
     ]
    }
   ],
   "source": [
    "rf_params = {'n_estimators': list(range(100,500, 100)),\n",
    "            'max_depth': list(range(1,10,2))}\n",
    "\n",
    "grid_rf = GridSearchCV(RandomForestRegressor(), \n",
    "                      param_grid = rf_params)\n",
    "\n",
    "grid_rf.fit(X_train, y_train)\n",
    "print('best parameter: \\n', grid_rf.best_params_)"
   ]
  },
  {
   "cell_type": "code",
   "execution_count": 23,
   "metadata": {},
   "outputs": [
    {
     "name": "stdout",
     "output_type": "stream",
     "text": [
      "\n",
      "Random Forest score: 0.5209 (0.0337)\n",
      "\n"
     ]
    }
   ],
   "source": [
    "rf = make_pipeline(RandomForestRegressor(max_depth=9, n_estimators=400))\n",
    "\n",
    "score = rmse_cv(rf)     \n",
    "print(\"\\nRandom Forest score: {:.4f} ({:.4f})\\n\".format(score.mean(), score.std()))"
   ]
  },
  {
   "cell_type": "code",
   "execution_count": 49,
   "metadata": {
    "colab": {},
    "colab_type": "code",
    "id": "mSvViEOZSj7j"
   },
   "outputs": [
    {
     "name": "stdout",
     "output_type": "stream",
     "text": [
      "\n",
      "Random Forest score: 0.5229 (0.0320)\n",
      "\n"
     ]
    }
   ],
   "source": [
    "# rf = make_pipeline(RandomForestRegressor())\n",
    "\n",
    "# score = rmse_cv(rf)     \n",
    "# print(\"\\nRandom Forest score: {:.4f} ({:.4f})\\n\".format(score.mean(), score.std()))"
   ]
  },
  {
   "cell_type": "markdown",
   "metadata": {
    "colab_type": "text",
    "id": "qxrPjzNrWyU-"
   },
   "source": [
    "* GBM : GridSearch model 택하였습니다. "
   ]
  },
  {
   "cell_type": "code",
   "execution_count": 176,
   "metadata": {},
   "outputs": [
    {
     "name": "stdout",
     "output_type": "stream",
     "text": [
      "best parameter: \n",
      " {'learning_rate': 0.05, 'n_estimators': 600}\n"
     ]
    }
   ],
   "source": [
    "gbm_params = {'learning_rate' : [0.15, 0.1, 0.05, 0.01, 0.005, 0.001],\n",
    "             'n_estimators': list(range(100,3000, 500))}\n",
    "\n",
    "grid_gbm = GridSearchCV(GradientBoostingRegressor(\n",
    "                                              max_depth=4, max_features='sqrt',\n",
    "                                              min_samples_leaf=15, min_samples_split=10,\n",
    "                                              loss = 'huber', random_state=1004), \n",
    "                      param_grid = gbm_params)\n",
    "\n",
    "grid_gbm.fit(X_train, y_train)\n",
    "print('best parameter: \\n', grid_gbm.best_params_)"
   ]
  },
  {
   "cell_type": "code",
   "execution_count": 24,
   "metadata": {},
   "outputs": [
    {
     "name": "stdout",
     "output_type": "stream",
     "text": [
      "\n",
      "GBM score: 0.5185 (0.0377)\n",
      "\n"
     ]
    }
   ],
   "source": [
    "gbm = make_pipeline(GradientBoostingRegressor(n_estimators = 600, learning_rate=0.05,\n",
    "                                              max_depth=4, max_features='sqrt',\n",
    "                                              min_samples_leaf=15, min_samples_split=10,\n",
    "                                              loss = 'huber', random_state=1004))\n",
    "\n",
    "score = rmse_cv(gbm)     \n",
    "print(\"\\nGBM score: {:.4f} ({:.4f})\\n\".format(score.mean(), score.std()))"
   ]
  },
  {
   "cell_type": "code",
   "execution_count": 186,
   "metadata": {
    "colab": {},
    "colab_type": "code",
    "id": "_Db5PUetSkAH"
   },
   "outputs": [
    {
     "name": "stdout",
     "output_type": "stream",
     "text": [
      "\n",
      "GBM score: 0.5298 (0.0354)\n",
      "\n"
     ]
    }
   ],
   "source": [
    "# gbm = make_pipeline(GradientBoostingRegressor(n_estimators = 3000, learning_rate=0.05,\n",
    "#                                               max_depth=4, max_features='sqrt',\n",
    "#                                               min_samples_leaf=15, min_samples_split=10,\n",
    "#                                               loss = 'huber', random_state=1004))\n",
    "\n",
    "# score = rmse_cv(gbm)     \n",
    "# print(\"\\nGBM score: {:.4f} ({:.4f})\\n\".format(score.mean(), score.std()))"
   ]
  },
  {
   "cell_type": "markdown",
   "metadata": {
    "colab_type": "text",
    "id": "X29VabDVXuf-"
   },
   "source": [
    "* XGBoost : GridSearch model 택하였습니다. "
   ]
  },
  {
   "cell_type": "code",
   "execution_count": 181,
   "metadata": {},
   "outputs": [
    {
     "name": "stdout",
     "output_type": "stream",
     "text": [
      "[05:14:54] WARNING: C:\\Users\\Administrator\\workspace\\xgboost-win64_release_1.1.0\\src\\learner.cc:480: \n",
      "Parameters: { silent } might not be used.\n",
      "\n",
      "  This may not be accurate due to some parameters are only used in language bindings but\n",
      "  passed down to XGBoost core.  Or some parameters are not used but slip through this\n",
      "  verification. Please open an issue if you find above cases.\n",
      "\n",
      "\n",
      "[05:14:59] WARNING: C:\\Users\\Administrator\\workspace\\xgboost-win64_release_1.1.0\\src\\learner.cc:480: \n",
      "Parameters: { silent } might not be used.\n",
      "\n",
      "  This may not be accurate due to some parameters are only used in language bindings but\n",
      "  passed down to XGBoost core.  Or some parameters are not used but slip through this\n",
      "  verification. Please open an issue if you find above cases.\n",
      "\n",
      "\n",
      "[05:15:04] WARNING: C:\\Users\\Administrator\\workspace\\xgboost-win64_release_1.1.0\\src\\learner.cc:480: \n",
      "Parameters: { silent } might not be used.\n",
      "\n",
      "  This may not be accurate due to some parameters are only used in language bindings but\n",
      "  passed down to XGBoost core.  Or some parameters are not used but slip through this\n",
      "  verification. Please open an issue if you find above cases.\n",
      "\n",
      "\n",
      "[05:15:09] WARNING: C:\\Users\\Administrator\\workspace\\xgboost-win64_release_1.1.0\\src\\learner.cc:480: \n",
      "Parameters: { silent } might not be used.\n",
      "\n",
      "  This may not be accurate due to some parameters are only used in language bindings but\n",
      "  passed down to XGBoost core.  Or some parameters are not used but slip through this\n",
      "  verification. Please open an issue if you find above cases.\n",
      "\n",
      "\n",
      "[05:15:14] WARNING: C:\\Users\\Administrator\\workspace\\xgboost-win64_release_1.1.0\\src\\learner.cc:480: \n",
      "Parameters: { silent } might not be used.\n",
      "\n",
      "  This may not be accurate due to some parameters are only used in language bindings but\n",
      "  passed down to XGBoost core.  Or some parameters are not used but slip through this\n",
      "  verification. Please open an issue if you find above cases.\n",
      "\n",
      "\n",
      "[05:15:19] WARNING: C:\\Users\\Administrator\\workspace\\xgboost-win64_release_1.1.0\\src\\learner.cc:480: \n",
      "Parameters: { silent } might not be used.\n",
      "\n",
      "  This may not be accurate due to some parameters are only used in language bindings but\n",
      "  passed down to XGBoost core.  Or some parameters are not used but slip through this\n",
      "  verification. Please open an issue if you find above cases.\n",
      "\n",
      "\n",
      "[05:15:24] WARNING: C:\\Users\\Administrator\\workspace\\xgboost-win64_release_1.1.0\\src\\learner.cc:480: \n",
      "Parameters: { silent } might not be used.\n",
      "\n",
      "  This may not be accurate due to some parameters are only used in language bindings but\n",
      "  passed down to XGBoost core.  Or some parameters are not used but slip through this\n",
      "  verification. Please open an issue if you find above cases.\n",
      "\n",
      "\n",
      "[05:15:29] WARNING: C:\\Users\\Administrator\\workspace\\xgboost-win64_release_1.1.0\\src\\learner.cc:480: \n",
      "Parameters: { silent } might not be used.\n",
      "\n",
      "  This may not be accurate due to some parameters are only used in language bindings but\n",
      "  passed down to XGBoost core.  Or some parameters are not used but slip through this\n",
      "  verification. Please open an issue if you find above cases.\n",
      "\n",
      "\n",
      "[05:15:34] WARNING: C:\\Users\\Administrator\\workspace\\xgboost-win64_release_1.1.0\\src\\learner.cc:480: \n",
      "Parameters: { silent } might not be used.\n",
      "\n",
      "  This may not be accurate due to some parameters are only used in language bindings but\n",
      "  passed down to XGBoost core.  Or some parameters are not used but slip through this\n",
      "  verification. Please open an issue if you find above cases.\n",
      "\n",
      "\n",
      "[05:15:39] WARNING: C:\\Users\\Administrator\\workspace\\xgboost-win64_release_1.1.0\\src\\learner.cc:480: \n",
      "Parameters: { silent } might not be used.\n",
      "\n",
      "  This may not be accurate due to some parameters are only used in language bindings but\n",
      "  passed down to XGBoost core.  Or some parameters are not used but slip through this\n",
      "  verification. Please open an issue if you find above cases.\n",
      "\n",
      "\n",
      "[05:15:44] WARNING: C:\\Users\\Administrator\\workspace\\xgboost-win64_release_1.1.0\\src\\learner.cc:480: \n",
      "Parameters: { silent } might not be used.\n",
      "\n",
      "  This may not be accurate due to some parameters are only used in language bindings but\n",
      "  passed down to XGBoost core.  Or some parameters are not used but slip through this\n",
      "  verification. Please open an issue if you find above cases.\n",
      "\n",
      "\n",
      "[05:15:49] WARNING: C:\\Users\\Administrator\\workspace\\xgboost-win64_release_1.1.0\\src\\learner.cc:480: \n",
      "Parameters: { silent } might not be used.\n",
      "\n",
      "  This may not be accurate due to some parameters are only used in language bindings but\n",
      "  passed down to XGBoost core.  Or some parameters are not used but slip through this\n",
      "  verification. Please open an issue if you find above cases.\n",
      "\n",
      "\n",
      "[05:15:54] WARNING: C:\\Users\\Administrator\\workspace\\xgboost-win64_release_1.1.0\\src\\learner.cc:480: \n",
      "Parameters: { silent } might not be used.\n",
      "\n",
      "  This may not be accurate due to some parameters are only used in language bindings but\n",
      "  passed down to XGBoost core.  Or some parameters are not used but slip through this\n",
      "  verification. Please open an issue if you find above cases.\n",
      "\n",
      "\n",
      "[05:15:59] WARNING: C:\\Users\\Administrator\\workspace\\xgboost-win64_release_1.1.0\\src\\learner.cc:480: \n",
      "Parameters: { silent } might not be used.\n",
      "\n",
      "  This may not be accurate due to some parameters are only used in language bindings but\n",
      "  passed down to XGBoost core.  Or some parameters are not used but slip through this\n",
      "  verification. Please open an issue if you find above cases.\n",
      "\n",
      "\n",
      "[05:16:03] WARNING: C:\\Users\\Administrator\\workspace\\xgboost-win64_release_1.1.0\\src\\learner.cc:480: \n",
      "Parameters: { silent } might not be used.\n",
      "\n",
      "  This may not be accurate due to some parameters are only used in language bindings but\n",
      "  passed down to XGBoost core.  Or some parameters are not used but slip through this\n",
      "  verification. Please open an issue if you find above cases.\n",
      "\n",
      "\n",
      "[05:16:08] WARNING: C:\\Users\\Administrator\\workspace\\xgboost-win64_release_1.1.0\\src\\learner.cc:480: \n",
      "Parameters: { silent } might not be used.\n",
      "\n",
      "  This may not be accurate due to some parameters are only used in language bindings but\n",
      "  passed down to XGBoost core.  Or some parameters are not used but slip through this\n",
      "  verification. Please open an issue if you find above cases.\n",
      "\n",
      "\n",
      "[05:16:12] WARNING: C:\\Users\\Administrator\\workspace\\xgboost-win64_release_1.1.0\\src\\learner.cc:480: \n",
      "Parameters: { silent } might not be used.\n",
      "\n",
      "  This may not be accurate due to some parameters are only used in language bindings but\n",
      "  passed down to XGBoost core.  Or some parameters are not used but slip through this\n",
      "  verification. Please open an issue if you find above cases.\n",
      "\n",
      "\n",
      "[05:16:17] WARNING: C:\\Users\\Administrator\\workspace\\xgboost-win64_release_1.1.0\\src\\learner.cc:480: \n",
      "Parameters: { silent } might not be used.\n",
      "\n",
      "  This may not be accurate due to some parameters are only used in language bindings but\n",
      "  passed down to XGBoost core.  Or some parameters are not used but slip through this\n",
      "  verification. Please open an issue if you find above cases.\n",
      "\n",
      "\n",
      "[05:16:21] WARNING: C:\\Users\\Administrator\\workspace\\xgboost-win64_release_1.1.0\\src\\learner.cc:480: \n",
      "Parameters: { silent } might not be used.\n",
      "\n",
      "  This may not be accurate due to some parameters are only used in language bindings but\n",
      "  passed down to XGBoost core.  Or some parameters are not used but slip through this\n",
      "  verification. Please open an issue if you find above cases.\n",
      "\n",
      "\n",
      "[05:16:25] WARNING: C:\\Users\\Administrator\\workspace\\xgboost-win64_release_1.1.0\\src\\learner.cc:480: \n",
      "Parameters: { silent } might not be used.\n",
      "\n",
      "  This may not be accurate due to some parameters are only used in language bindings but\n",
      "  passed down to XGBoost core.  Or some parameters are not used but slip through this\n",
      "  verification. Please open an issue if you find above cases.\n",
      "\n",
      "\n",
      "[05:16:29] WARNING: C:\\Users\\Administrator\\workspace\\xgboost-win64_release_1.1.0\\src\\learner.cc:480: \n",
      "Parameters: { silent } might not be used.\n",
      "\n",
      "  This may not be accurate due to some parameters are only used in language bindings but\n",
      "  passed down to XGBoost core.  Or some parameters are not used but slip through this\n",
      "  verification. Please open an issue if you find above cases.\n",
      "\n",
      "\n",
      "best parameter: \n",
      " {'learning_rate': 0.01}\n"
     ]
    }
   ],
   "source": [
    "xgb_params = {'learning_rate' : [0.1, 0.05, 0.01, 0.001]}\n",
    "\n",
    "grid_xgb = GridSearchCV(xgb.XGBRegressor(colsample_bytree=0.4603, gamma=0.0468, \n",
    "                              max_depth=3, \n",
    "                             min_child_weight=1.7817, n_estimators=2200,\n",
    "                             reg_alpha=0.4640, reg_lambda=0.8571,\n",
    "                             subsample=0.5213, silent=1,\n",
    "                             random_state =7, nthread = -1), \n",
    "                      param_grid = xgb_params)\n",
    "\n",
    "grid_xgb.fit(X_train, y_train)\n",
    "print('best parameter: \\n', grid_xgb.best_params_)"
   ]
  },
  {
   "cell_type": "code",
   "execution_count": 25,
   "metadata": {
    "colab": {},
    "colab_type": "code",
    "id": "7MmbdYamSkEJ",
    "scrolled": true
   },
   "outputs": [
    {
     "name": "stdout",
     "output_type": "stream",
     "text": [
      "[17:25:23] WARNING: C:\\Users\\Administrator\\workspace\\xgboost-win64_release_1.1.0\\src\\learner.cc:480: \n",
      "Parameters: { silent } might not be used.\n",
      "\n",
      "  This may not be accurate due to some parameters are only used in language bindings but\n",
      "  passed down to XGBoost core.  Or some parameters are not used but slip through this\n",
      "  verification. Please open an issue if you find above cases.\n",
      "\n",
      "\n",
      "[17:25:27] WARNING: C:\\Users\\Administrator\\workspace\\xgboost-win64_release_1.1.0\\src\\learner.cc:480: \n",
      "Parameters: { silent } might not be used.\n",
      "\n",
      "  This may not be accurate due to some parameters are only used in language bindings but\n",
      "  passed down to XGBoost core.  Or some parameters are not used but slip through this\n",
      "  verification. Please open an issue if you find above cases.\n",
      "\n",
      "\n",
      "[17:25:32] WARNING: C:\\Users\\Administrator\\workspace\\xgboost-win64_release_1.1.0\\src\\learner.cc:480: \n",
      "Parameters: { silent } might not be used.\n",
      "\n",
      "  This may not be accurate due to some parameters are only used in language bindings but\n",
      "  passed down to XGBoost core.  Or some parameters are not used but slip through this\n",
      "  verification. Please open an issue if you find above cases.\n",
      "\n",
      "\n",
      "[17:25:36] WARNING: C:\\Users\\Administrator\\workspace\\xgboost-win64_release_1.1.0\\src\\learner.cc:480: \n",
      "Parameters: { silent } might not be used.\n",
      "\n",
      "  This may not be accurate due to some parameters are only used in language bindings but\n",
      "  passed down to XGBoost core.  Or some parameters are not used but slip through this\n",
      "  verification. Please open an issue if you find above cases.\n",
      "\n",
      "\n",
      "[17:25:41] WARNING: C:\\Users\\Administrator\\workspace\\xgboost-win64_release_1.1.0\\src\\learner.cc:480: \n",
      "Parameters: { silent } might not be used.\n",
      "\n",
      "  This may not be accurate due to some parameters are only used in language bindings but\n",
      "  passed down to XGBoost core.  Or some parameters are not used but slip through this\n",
      "  verification. Please open an issue if you find above cases.\n",
      "\n",
      "\n",
      "\n",
      "XGBoost score: 0.5174 (0.0340)\n",
      "\n"
     ]
    }
   ],
   "source": [
    "xgboost = xgb.XGBRegressor(colsample_bytree=0.4603, gamma=0.0468, \n",
    "                             learning_rate=0.01, max_depth=3, \n",
    "                             min_child_weight=1.7817, n_estimators=2200,\n",
    "                             reg_alpha=0.4640, reg_lambda=0.8571,\n",
    "                             subsample=0.5213, silent=1,\n",
    "                             random_state =7, nthread = -1)\n",
    "\n",
    "score = rmse_cv(xgboost)     \n",
    "print(\"\\nXGBoost score: {:.4f} ({:.4f})\\n\".format(score.mean(), score.std()))"
   ]
  },
  {
   "cell_type": "code",
   "execution_count": 187,
   "metadata": {
    "colab": {
     "base_uri": "https://localhost:8080/",
     "height": 69
    },
    "colab_type": "code",
    "executionInfo": {
     "elapsed": 79908,
     "status": "ok",
     "timestamp": 1597190093698,
     "user": {
      "displayName": "이예진 YejinLee",
      "photoUrl": "",
      "userId": "02373976809516943532"
     },
     "user_tz": -540
    },
    "id": "c2_AkHuxaZiY",
    "outputId": "9ba3530b-3755-416f-8d7a-80f2a7d12645",
    "scrolled": true
   },
   "outputs": [
    {
     "name": "stdout",
     "output_type": "stream",
     "text": [
      "[01:24:12] WARNING: C:\\Users\\Administrator\\workspace\\xgboost-win64_release_1.1.0\\src\\learner.cc:480: \n",
      "Parameters: { silent } might not be used.\n",
      "\n",
      "  This may not be accurate due to some parameters are only used in language bindings but\n",
      "  passed down to XGBoost core.  Or some parameters are not used but slip through this\n",
      "  verification. Please open an issue if you find above cases.\n",
      "\n",
      "\n",
      "[01:24:15] WARNING: C:\\Users\\Administrator\\workspace\\xgboost-win64_release_1.1.0\\src\\learner.cc:480: \n",
      "Parameters: { silent } might not be used.\n",
      "\n",
      "  This may not be accurate due to some parameters are only used in language bindings but\n",
      "  passed down to XGBoost core.  Or some parameters are not used but slip through this\n",
      "  verification. Please open an issue if you find above cases.\n",
      "\n",
      "\n",
      "[01:24:18] WARNING: C:\\Users\\Administrator\\workspace\\xgboost-win64_release_1.1.0\\src\\learner.cc:480: \n",
      "Parameters: { silent } might not be used.\n",
      "\n",
      "  This may not be accurate due to some parameters are only used in language bindings but\n",
      "  passed down to XGBoost core.  Or some parameters are not used but slip through this\n",
      "  verification. Please open an issue if you find above cases.\n",
      "\n",
      "\n",
      "[01:24:21] WARNING: C:\\Users\\Administrator\\workspace\\xgboost-win64_release_1.1.0\\src\\learner.cc:480: \n",
      "Parameters: { silent } might not be used.\n",
      "\n",
      "  This may not be accurate due to some parameters are only used in language bindings but\n",
      "  passed down to XGBoost core.  Or some parameters are not used but slip through this\n",
      "  verification. Please open an issue if you find above cases.\n",
      "\n",
      "\n",
      "[01:24:24] WARNING: C:\\Users\\Administrator\\workspace\\xgboost-win64_release_1.1.0\\src\\learner.cc:480: \n",
      "Parameters: { silent } might not be used.\n",
      "\n",
      "  This may not be accurate due to some parameters are only used in language bindings but\n",
      "  passed down to XGBoost core.  Or some parameters are not used but slip through this\n",
      "  verification. Please open an issue if you find above cases.\n",
      "\n",
      "\n",
      "\n",
      "XGBoost score: 0.5316 (0.0327)\n",
      "\n"
     ]
    }
   ],
   "source": [
    "# xgboost = xgb.XGBRegressor(colsample_bytree=0.4603, gamma=0.0468, \n",
    "#                              learning_rate=0.05, max_depth=3, \n",
    "#                              min_child_weight=1.7817, n_estimators=2200,\n",
    "#                              reg_alpha=0.4640, reg_lambda=0.8571,\n",
    "#                              subsample=0.5213, silent=1,\n",
    "#                              random_state =7, nthread = -1)\n",
    "\n",
    "# score = rmse_cv(xgboost)     \n",
    "# print(\"\\nXGBoost score: {:.4f} ({:.4f})\\n\".format(score.mean(), score.std()))"
   ]
  },
  {
   "cell_type": "markdown",
   "metadata": {
    "colab_type": "text",
    "id": "gG-mEpkpXxMa"
   },
   "source": [
    "* LightGBM : GridSearch model 택하였습니다. "
   ]
  },
  {
   "cell_type": "code",
   "execution_count": 182,
   "metadata": {},
   "outputs": [
    {
     "name": "stdout",
     "output_type": "stream",
     "text": [
      "best parameter: \n",
      " {'learning_rate': 0.1, 'n_estimators': 24, 'num_leaves': 16}\n"
     ]
    }
   ],
   "source": [
    "lgb_params = {'learning_rate' : [0.1, 0.05, 0.01, 0.001],\n",
    "             'n_estimators' : [8, 16, 24],\n",
    "             'num_leaves': [6,8,12,16]}\n",
    "\n",
    "grid_lgb = GridSearchCV(lgb.LGBMRegressor(objective='regression'), \n",
    "                      param_grid = lgb_params)\n",
    "\n",
    "grid_lgb.fit(X_train, y_train)\n",
    "print('best parameter: \\n', grid_lgb.best_params_)"
   ]
  },
  {
   "cell_type": "code",
   "execution_count": 26,
   "metadata": {
    "scrolled": true
   },
   "outputs": [
    {
     "name": "stdout",
     "output_type": "stream",
     "text": [
      "\n",
      "LGBM score: 0.5182 (0.0344)\n",
      "\n"
     ]
    }
   ],
   "source": [
    "lgbm = lgb.LGBMRegressor(objective='regression', num_leaves=16, learning_rate=0.1, n_estimators=24) \n",
    "\n",
    "score = rmse_cv(lgbm)     \n",
    "print(\"\\nLGBM score: {:.4f} ({:.4f})\\n\".format(score.mean(), score.std()))"
   ]
  },
  {
   "cell_type": "code",
   "execution_count": 188,
   "metadata": {
    "colab": {
     "base_uri": "https://localhost:8080/",
     "height": 69
    },
    "colab_type": "code",
    "executionInfo": {
     "elapsed": 79860,
     "status": "ok",
     "timestamp": 1597190093700,
     "user": {
      "displayName": "이예진 YejinLee",
      "photoUrl": "",
      "userId": "02373976809516943532"
     },
     "user_tz": -540
    },
    "id": "tVhwl92faoRB",
    "outputId": "5c82fb52-f817-42e6-eec4-f9174df3cc68"
   },
   "outputs": [
    {
     "name": "stdout",
     "output_type": "stream",
     "text": [
      "\n",
      "LGBM score: 0.5239 (0.0320)\n",
      "\n"
     ]
    }
   ],
   "source": [
    "# lgbm = lgb.LGBMRegressor(objective='regression', num_leaves=31, learning_rate=0.05, n_estimators=20) \n",
    "\n",
    "# score = rmse_cv(lgbm)     \n",
    "# print(\"\\nLGBM score: {:.4f} ({:.4f})\\n\".format(score.mean(), score.std()))"
   ]
  },
  {
   "cell_type": "markdown",
   "metadata": {
    "colab_type": "text",
    "id": "pGA8MQ1rbDqG"
   },
   "source": [
    "# 3. Stacking models   \n",
    "basic & cv 기반"
   ]
  },
  {
   "cell_type": "markdown",
   "metadata": {
    "colab_type": "text",
    "id": "q2H12DIhbgFM"
   },
   "source": [
    "* Averaged base models class"
   ]
  },
  {
   "cell_type": "code",
   "execution_count": 27,
   "metadata": {
    "colab": {},
    "colab_type": "code",
    "id": "areDHI-rbgbA"
   },
   "outputs": [],
   "source": [
    "class AveragingModels(BaseEstimator, RegressorMixin, TransformerMixin):\n",
    "    def __init__(self, models):\n",
    "        self.models = models\n",
    "        \n",
    "    # we define clones of the original models to fit the data in\n",
    "    def fit(self, X_train, y_train):\n",
    "        self.models_ = [clone(x) for x in self.models]\n",
    "        \n",
    "        # Train cloned base models\n",
    "        for model in self.models_:\n",
    "            model.fit(X, y)\n",
    "\n",
    "        return self\n",
    "    \n",
    "    #Now we do the predictions for cloned models and average them\n",
    "    def predict(self, X_test):\n",
    "        predictions = np.column_stack([\n",
    "            model.predict(X_test) for model in self.models_\n",
    "        ])\n",
    "        return np.mean(predictions, axis=1)   "
   ]
  },
  {
   "cell_type": "markdown",
   "metadata": {
    "colab_type": "text",
    "id": "91xBnO_ybghn"
   },
   "source": [
    "* Averaged base models score  \n",
    "위의 base model score 에서 loss와 분산을 고려해서 모델 4개만 써보겠습니다~"
   ]
  },
  {
   "cell_type": "code",
   "execution_count": 28,
   "metadata": {
    "scrolled": true
   },
   "outputs": [
    {
     "name": "stdout",
     "output_type": "stream",
     "text": [
      " Averaged base models score: 0.5019 (0.0307)\n",
      "\n"
     ]
    }
   ],
   "source": [
    "averaged_models = AveragingModels(models = (dt, svm, lgbm, knn))\n",
    "\n",
    "score = rmse_cv(averaged_models)\n",
    "print(\" Averaged base models score: {:.4f} ({:.4f})\\n\".format(score.mean(), score.std()))"
   ]
  },
  {
   "cell_type": "code",
   "execution_count": 53,
   "metadata": {},
   "outputs": [
    {
     "name": "stdout",
     "output_type": "stream",
     "text": [
      "accuracy : 0.4684\n"
     ]
    }
   ],
   "source": [
    "averaged_models.fit(X_train, y_train)\n",
    "pred = averaged_models.predict(X_test)\n",
    "print('accuracy : {:.4f}'.format(rmse(y_test, pred)))"
   ]
  },
  {
   "cell_type": "markdown",
   "metadata": {
    "colab_type": "text",
    "id": "75aoBVBW5-ga"
   },
   "source": [
    "### Less simple Stacking : Adding a Meta-model  \n",
    "단순 평균 합산이 아닌 meta model 을 학습시켜주는 stacking 방법입니다!  \n",
    "다른 방법을 쓰시거나 직접 구현하셔도 되고 아래의 코드를 쓰셔도 됩니다  \n",
    "사이킷런 라이브러리로는 vecstack 이 있고, keras 를 이용한 방법도 구글링하면 많이 나옵니다!"
   ]
  },
  {
   "cell_type": "markdown",
   "metadata": {
    "colab_type": "text",
    "id": "LOD_NBS_Wv5F"
   },
   "source": [
    "* KFold 기반 Stacking"
   ]
  },
  {
   "cell_type": "code",
   "execution_count": 29,
   "metadata": {
    "colab": {},
    "colab_type": "code",
    "id": "ab5OYUtdWwIY"
   },
   "outputs": [],
   "source": [
    "def get_stacking_data(model, X_train, y_train, X_test, n_folds=10):\n",
    "  kfold = KFold(n_splits = n_folds, random_state = 1004)\n",
    "  \n",
    "  # 최종 모델에서 사용할 데이터 셋 세팅 (0 값으로)\n",
    "  # 만약 shape가 (100,10)이었으면 폴드의 검증 과정 중 저장할 데이터는 (100,1)으로 한다.\n",
    "  train_fold_predict = np.zeros((X_train.shape[0],1))\n",
    "  # test 는 X_test 값을 이용해서 매 폴드마다 예측을 하기 때문에 (100, fold갯수) 모양이다.\n",
    "  # 해당 폴드마다 X_test의 예측 값을 fold 에 넣는다! meta model 이 쓸꺼임\n",
    "  test_predict = np.zeros((X_test.shape[0], n_folds))\n",
    "  print('model : ',model.__class__.__name__)\n",
    "  \n",
    "  for cnt, (train_index, valid_index) in enumerate(kfold.split(X_train)):\n",
    "    X_train_ = X_train.iloc[train_index]\n",
    "    y_train_ = y_train.iloc[train_index]\n",
    "    X_valid = X_train.iloc[valid_index]\n",
    "\n",
    "    # 학습\n",
    "    model.fit(X_train_,y_train_)\n",
    "    # 해당 폴드에서 학습된 모델에다가 검증 데이터 (X_valid)로 예측 후 저장\n",
    "    train_fold_predict[valid_index,:] = model.predict(X_valid).reshape(-1,1)\n",
    "    # 해당 폴드에서 생성된 모델에게 원본 테스트 데이터 (X_test)를 이용해서 예측하고 저장\n",
    "    test_predict[:,cnt] = model.predict(X_test)\n",
    "  \n",
    "  # for 문이 끝나면 test_pred는 평균을 내서 하나로 합친다.\n",
    "  test_predict_mean = np.mean(test_predict, axis=1).reshape(-1,1)\n",
    "  \n",
    "  return train_fold_predict, test_predict_mean"
   ]
  },
  {
   "cell_type": "code",
   "execution_count": 30,
   "metadata": {
    "colab": {
     "base_uri": "https://localhost:8080/",
     "height": 69
    },
    "colab_type": "code",
    "executionInfo": {
     "elapsed": 96101,
     "status": "ok",
     "timestamp": 1597190110000,
     "user": {
      "displayName": "이예진 YejinLee",
      "photoUrl": "",
      "userId": "02373976809516943532"
     },
     "user_tz": -540
    },
    "id": "on-MwJWgZnde",
    "outputId": "7a43c718-71db-4807-8315-27a533652d7b"
   },
   "outputs": [
    {
     "name": "stdout",
     "output_type": "stream",
     "text": [
      "model :  Pipeline\n",
      "model :  Pipeline\n",
      "model :  Pipeline\n"
     ]
    }
   ],
   "source": [
    "# 앙상블 수행 dt, svm, lr ->  lgb\n",
    "dt_train, dt_test = get_stacking_data(dt, X_train, y_train, X_test)\n",
    "svm_train, svm_test = get_stacking_data(svm, X_train, y_train, X_test)\n",
    "lr_train, lr_test = get_stacking_data(lr, X_train, y_train, X_test)"
   ]
  },
  {
   "cell_type": "code",
   "execution_count": 31,
   "metadata": {
    "colab": {
     "base_uri": "https://localhost:8080/",
     "height": 52
    },
    "colab_type": "code",
    "executionInfo": {
     "elapsed": 96067,
     "status": "ok",
     "timestamp": 1597190110002,
     "user": {
      "displayName": "이예진 YejinLee",
      "photoUrl": "",
      "userId": "02373976809516943532"
     },
     "user_tz": -540
    },
    "id": "TJNKko0ZcMeU",
    "outputId": "884cfabc-51e2-475a-b023-1b0dc23b82c6",
    "scrolled": true
   },
   "outputs": [
    {
     "name": "stdout",
     "output_type": "stream",
     "text": [
      "원본 :  (3912, 10) (1678, 10)\n",
      "새로운 :  (3912, 3) (1678, 3)\n"
     ]
    }
   ],
   "source": [
    "# return 된 kfold 결과와 X_test 결과를 stacking\n",
    "new_X_train = np.concatenate((dt_train,svm_train,lr_train), axis=1)\n",
    "new_X_test = np.concatenate((dt_test,svm_test,lr_test), axis=1)\n",
    "\n",
    "print('원본 : ', X_train.shape, X_test.shape)\n",
    "print('새로운 : ', new_X_train.shape, new_X_test.shape)"
   ]
  },
  {
   "cell_type": "code",
   "execution_count": 32,
   "metadata": {
    "scrolled": false
   },
   "outputs": [
    {
     "name": "stdout",
     "output_type": "stream",
     "text": [
      "[17:26:16] WARNING: C:\\Users\\Administrator\\workspace\\xgboost-win64_release_1.1.0\\src\\learner.cc:480: \n",
      "Parameters: { silent } might not be used.\n",
      "\n",
      "  This may not be accurate due to some parameters are only used in language bindings but\n",
      "  passed down to XGBoost core.  Or some parameters are not used but slip through this\n",
      "  verification. Please open an issue if you find above cases.\n",
      "\n",
      "\n",
      "\n",
      " Final score: 0.4945\n"
     ]
    }
   ],
   "source": [
    "# 최종 모델 훈련\n",
    "xgboost.fit(new_X_train,y_train)\n",
    "stack_pred = xgboost.predict(new_X_test)\n",
    "\n",
    "print(\"\\n Final score: {:.4f}\".format(rmse(y_test,stack_pred)))"
   ]
  },
  {
   "cell_type": "markdown",
   "metadata": {},
   "source": [
    "##### svm 대신 rf 사용해 KFold 기반 Stacking을 다시 수행해보았습니다. "
   ]
  },
  {
   "cell_type": "code",
   "execution_count": 50,
   "metadata": {},
   "outputs": [
    {
     "name": "stdout",
     "output_type": "stream",
     "text": [
      "model :  Pipeline\n",
      "model :  Pipeline\n",
      "model :  Pipeline\n"
     ]
    }
   ],
   "source": [
    "# 앙상블 수행 dt, rf, lr ->  lgb\n",
    "dt_train, dt_test = get_stacking_data(dt, X_train, y_train, X_test)\n",
    "rf_train, rf_test = get_stacking_data(rf, X_train, y_train, X_test)\n",
    "lr_train, lr_test = get_stacking_data(lr, X_train, y_train, X_test)"
   ]
  },
  {
   "cell_type": "code",
   "execution_count": 51,
   "metadata": {},
   "outputs": [
    {
     "name": "stdout",
     "output_type": "stream",
     "text": [
      "원본 :  (3912, 10) (1678, 10)\n",
      "새로운 :  (3912, 3) (1678, 3)\n"
     ]
    }
   ],
   "source": [
    "# return 된 kfold 결과와 X_test 결과를 stacking\n",
    "new_X_train = np.concatenate((dt_train,rf_train,lr_train), axis=1)\n",
    "new_X_test = np.concatenate((dt_test,rf_test,lr_test), axis=1)\n",
    "\n",
    "print('원본 : ', X_train.shape, X_test.shape)\n",
    "print('새로운 : ', new_X_train.shape, new_X_test.shape)"
   ]
  },
  {
   "cell_type": "code",
   "execution_count": 52,
   "metadata": {
    "scrolled": true
   },
   "outputs": [
    {
     "name": "stdout",
     "output_type": "stream",
     "text": [
      "[13:42:56] WARNING: C:\\Users\\Administrator\\workspace\\xgboost-win64_release_1.1.0\\src\\learner.cc:480: \n",
      "Parameters: { silent } might not be used.\n",
      "\n",
      "  This may not be accurate due to some parameters are only used in language bindings but\n",
      "  passed down to XGBoost core.  Or some parameters are not used but slip through this\n",
      "  verification. Please open an issue if you find above cases.\n",
      "\n",
      "\n",
      "\n",
      " Final score: 0.4830\n"
     ]
    }
   ],
   "source": [
    "# 최종 모델 훈련\n",
    "xgboost.fit(new_X_train,y_train)\n",
    "stack_pred = xgboost.predict(new_X_test)\n",
    "\n",
    "print(\"\\n Final score: {:.4f}\".format(rmse(y_test,stack_pred)))"
   ]
  },
  {
   "cell_type": "markdown",
   "metadata": {},
   "source": [
    "svm 보다 rf를 사용하는 것이 보다 성능이 나았습니다. "
   ]
  },
  {
   "cell_type": "markdown",
   "metadata": {
    "colab_type": "text",
    "id": "yt66zf40e1vO"
   },
   "source": [
    "성능 구립니다! 여러분이 개선해주세요~!  \n",
    "StratifiedKFold도 사용해보세요!  https://lsjsj92.tistory.com/559"
   ]
  },
  {
   "cell_type": "markdown",
   "metadata": {},
   "source": [
    "- StratifiedKFold"
   ]
  },
  {
   "cell_type": "code",
   "execution_count": 89,
   "metadata": {},
   "outputs": [],
   "source": [
    "from sklearn.model_selection import KFold, StratifiedKFold\n",
    "from sklearn.preprocessing import LabelEncoder\n",
    "\n",
    "def get_stacking_data2(model, X_train, y_train, X_test, n_folds=5):\n",
    "    stk = StratifiedKFold(n_splits=n_folds)\n",
    "    \n",
    "    train_fold_predict = np.zeros((X_train.shape[0], 1))\n",
    "    test_predict = np.zeros((X_test.shape[0], n_folds))\n",
    "    print('model: ', model.__class__.__name__)\n",
    "\n",
    "    \n",
    "    for cnt, (train_index, valid_index) in enumerate(stk.split(X_train, y_train)):\n",
    "        X_train_ = X_train[train_index]\n",
    "        y_train_ = y_train[train_index]\n",
    "        X_validation = X_train[valid_index]\n",
    "        \n",
    "        \n",
    "        model.fit(X_train_, y_train_)\n",
    "        \n",
    "        train_fold_predict[valid_index, :] = model.predict(X_validation).reshape(-1,1)\n",
    "        \n",
    "        test_predict[:, cnt] =model.predict(X_test)\n",
    "        \n",
    "    test_predict_mean = np.mean(test_predict, axis=1).reshape(-1,1)\n",
    "    \n",
    "    return train_fold_predict, test_predict_mean\n",
    "    "
   ]
  },
  {
   "cell_type": "markdown",
   "metadata": {},
   "source": [
    "StratifiedKFold 시도해본 결과: 연속형 변수을 사용하는 예측 문제보다는 분류 문제에 적용가능한 함수였습니다. "
   ]
  },
  {
   "cell_type": "markdown",
   "metadata": {
    "colab_type": "text",
    "id": "vEBmtZh4rTOc"
   },
   "source": [
    "* StackingAveragedModels  \n",
    "meta model을 사용하는 StackingAveragedModels class를 사용하겠습니당"
   ]
  },
  {
   "cell_type": "code",
   "execution_count": 43,
   "metadata": {
    "colab": {},
    "colab_type": "code",
    "id": "3rAiFOKD89fw"
   },
   "outputs": [],
   "source": [
    "class StackingAveragedModels(BaseEstimator, RegressorMixin, TransformerMixin):\n",
    "    def __init__(self, base_models, meta_model, n_folds=5):\n",
    "        self.base_models = base_models\n",
    "        self.meta_model = meta_model\n",
    "        self.n_folds = n_folds\n",
    "   \n",
    "    # We again fit the data on clones of the original models\n",
    "    def fit(self, X, y):\n",
    "        self.base_models_ = [list() for x in self.base_models]\n",
    "        self.meta_model_ = clone(self.meta_model)\n",
    "        kfold = KFold(n_splits=self.n_folds, shuffle=True, random_state=156)\n",
    "        \n",
    "        # Train cloned base models then create out-of-fold predictions\n",
    "        # that are needed to train the cloned meta-model\n",
    "        out_of_fold_predictions = np.zeros((X.shape[0], len(self.base_models)))\n",
    "        for i, model in enumerate(self.base_models):\n",
    "            for train_index, holdout_index in kfold.split(X, y):\n",
    "                instance = clone(model)\n",
    "                self.base_models_[i].append(instance)\n",
    "                instance.fit(X.iloc[train_index], y.iloc[train_index])\n",
    "                y_pred = instance.predict(X.iloc[holdout_index])\n",
    "                out_of_fold_predictions[holdout_index, i] = y_pred\n",
    "                \n",
    "        # Now train the cloned  meta-model using the out-of-fold predictions as new feature\n",
    "        self.meta_model_.fit(out_of_fold_predictions, y)\n",
    "        return self\n",
    "   \n",
    "    #Do the predictions of all base models on the test data and use the averaged predictions as \n",
    "    #meta-features for the final prediction which is done by the meta-model \n",
    "    def predict(self, X):\n",
    "        meta_features = np.column_stack([\n",
    "            np.column_stack([model.predict(X) for model in base_models]).mean(axis=1)\n",
    "            for base_models in self.base_models_ ])\n",
    "        return self.meta_model_.predict(meta_features)"
   ]
  },
  {
   "cell_type": "code",
   "execution_count": 275,
   "metadata": {
    "colab": {
     "base_uri": "https://localhost:8080/",
     "height": 34
    },
    "colab_type": "code",
    "executionInfo": {
     "elapsed": 78854,
     "status": "ok",
     "timestamp": 1597170294750,
     "user": {
      "displayName": "이예진 YejinLee",
      "photoUrl": "",
      "userId": "02373976809516943532"
     },
     "user_tz": -540
    },
    "id": "dsMMfRzjqb3Y",
    "outputId": "2084825b-d5d3-4522-ee43-adbfb31458e0",
    "scrolled": true
   },
   "outputs": [
    {
     "name": "stdout",
     "output_type": "stream",
     "text": [
      "[09:47:23] WARNING: C:\\Users\\Administrator\\workspace\\xgboost-win64_release_1.1.0\\src\\learner.cc:480: \n",
      "Parameters: { silent } might not be used.\n",
      "\n",
      "  This may not be accurate due to some parameters are only used in language bindings but\n",
      "  passed down to XGBoost core.  Or some parameters are not used but slip through this\n",
      "  verification. Please open an issue if you find above cases.\n",
      "\n",
      "\n",
      "0.45530316252314723\n"
     ]
    }
   ],
   "source": [
    "stacked_averaged_models = StackingAveragedModels(base_models = [gbm,dt,svm],\n",
    "                                                 meta_model = xgboost)\n",
    "\n",
    "stacked_averaged_models.fit(X, y)\n",
    "stacked_train_pred = stacked_averaged_models.predict(X)\n",
    "stacked_pred = stacked_averaged_models.predict(test.values)\n",
    "print(rmse(y, stacked_train_pred))"
   ]
  },
  {
   "cell_type": "markdown",
   "metadata": {},
   "source": [
    "##### svm 대신 rf를 사용해 StackingAveragedModels을 다시 수행해보았습니다. "
   ]
  },
  {
   "cell_type": "code",
   "execution_count": 55,
   "metadata": {
    "scrolled": true
   },
   "outputs": [
    {
     "name": "stdout",
     "output_type": "stream",
     "text": [
      "[22:41:07] WARNING: C:\\Users\\Administrator\\workspace\\xgboost-win64_release_1.1.0\\src\\learner.cc:480: \n",
      "Parameters: { silent } might not be used.\n",
      "\n",
      "  This may not be accurate due to some parameters are only used in language bindings but\n",
      "  passed down to XGBoost core.  Or some parameters are not used but slip through this\n",
      "  verification. Please open an issue if you find above cases.\n",
      "\n",
      "\n",
      "0.44184681537915704\n"
     ]
    }
   ],
   "source": [
    "stacked_averaged_models = StackingAveragedModels(base_models = [gbm,dt, rf],\n",
    "                                                 meta_model = xgboost)\n",
    "\n",
    "stacked_averaged_models.fit(X, y)\n",
    "stacked_train_pred = stacked_averaged_models.predict(X)\n",
    "stacked_pred = stacked_averaged_models.predict(test.values)\n",
    "print(rmse(y, stacked_train_pred))"
   ]
  },
  {
   "cell_type": "markdown",
   "metadata": {},
   "source": [
    "svm 사용했던 것보다 성능이 개선되었음을 알 수 있었습니다. "
   ]
  },
  {
   "cell_type": "markdown",
   "metadata": {},
   "source": [
    "##### xgb대신 lgbm을 meta_model로 변경한 후 다시 수행해보았습니다. "
   ]
  },
  {
   "cell_type": "code",
   "execution_count": 54,
   "metadata": {
    "scrolled": true
   },
   "outputs": [
    {
     "name": "stdout",
     "output_type": "stream",
     "text": [
      "0.44810206360411586\n"
     ]
    }
   ],
   "source": [
    "stacked_averaged_models = StackingAveragedModels(base_models = [gbm,dt, rf],\n",
    "                                                 meta_model = lgbm)\n",
    "\n",
    "stacked_averaged_models.fit(X, y)\n",
    "stacked_train_pred = stacked_averaged_models.predict(X)\n",
    "stacked_pred = stacked_averaged_models.predict(test.values)\n",
    "print(rmse(y, stacked_train_pred))"
   ]
  },
  {
   "cell_type": "markdown",
   "metadata": {},
   "source": [
    "meta model로 lgbm보다는 xgb가 더 나은 것 같습니다."
   ]
  },
  {
   "cell_type": "markdown",
   "metadata": {},
   "source": [
    "##### dt 대신 lr을 사용해 다시 수행해보았습니다. "
   ]
  },
  {
   "cell_type": "code",
   "execution_count": 44,
   "metadata": {
    "scrolled": false
   },
   "outputs": [
    {
     "name": "stdout",
     "output_type": "stream",
     "text": [
      "[18:48:20] WARNING: C:\\Users\\Administrator\\workspace\\xgboost-win64_release_1.1.0\\src\\learner.cc:480: \n",
      "Parameters: { silent } might not be used.\n",
      "\n",
      "  This may not be accurate due to some parameters are only used in language bindings but\n",
      "  passed down to XGBoost core.  Or some parameters are not used but slip through this\n",
      "  verification. Please open an issue if you find above cases.\n",
      "\n",
      "\n",
      "0.44143197531665046\n"
     ]
    }
   ],
   "source": [
    "stacked_averaged_models = StackingAveragedModels(base_models = [gbm,rf,lr],\n",
    "                                                 meta_model = xgboost)\n",
    "\n",
    "stacked_averaged_models.fit(X, y)\n",
    "stacked_train_pred = stacked_averaged_models.predict(X)\n",
    "stacked_pred = stacked_averaged_models.predict(test.values)\n",
    "print(rmse(y, stacked_train_pred))"
   ]
  },
  {
   "cell_type": "markdown",
   "metadata": {},
   "source": [
    "base model로 dt보다 lr을 사용하는 것이 좀 더 성능이 개선되었습니다. "
   ]
  },
  {
   "cell_type": "markdown",
   "metadata": {},
   "source": [
    "##### base model로 4개를 사용해보았습니다. "
   ]
  },
  {
   "cell_type": "code",
   "execution_count": 48,
   "metadata": {
    "scrolled": true
   },
   "outputs": [
    {
     "name": "stdout",
     "output_type": "stream",
     "text": [
      "[18:50:44] WARNING: C:\\Users\\Administrator\\workspace\\xgboost-win64_release_1.1.0\\src\\learner.cc:480: \n",
      "Parameters: { silent } might not be used.\n",
      "\n",
      "  This may not be accurate due to some parameters are only used in language bindings but\n",
      "  passed down to XGBoost core.  Or some parameters are not used but slip through this\n",
      "  verification. Please open an issue if you find above cases.\n",
      "\n",
      "\n",
      "0.4498848294313211\n"
     ]
    }
   ],
   "source": [
    "stacked_averaged_models = StackingAveragedModels(base_models = [gbm,rf,lr,lgbm],\n",
    "                                                 meta_model = xgboost)\n",
    "\n",
    "stacked_averaged_models.fit(X, y)\n",
    "stacked_train_pred = stacked_averaged_models.predict(X)\n",
    "stacked_pred = stacked_averaged_models.predict(test.values)\n",
    "print(rmse(y, stacked_train_pred))"
   ]
  },
  {
   "cell_type": "markdown",
   "metadata": {},
   "source": [
    "##### base model로 5개를 사용해보았습니다. "
   ]
  },
  {
   "cell_type": "code",
   "execution_count": 47,
   "metadata": {},
   "outputs": [
    {
     "name": "stdout",
     "output_type": "stream",
     "text": [
      "[18:49:38] WARNING: C:\\Users\\Administrator\\workspace\\xgboost-win64_release_1.1.0\\src\\learner.cc:480: \n",
      "Parameters: { silent } might not be used.\n",
      "\n",
      "  This may not be accurate due to some parameters are only used in language bindings but\n",
      "  passed down to XGBoost core.  Or some parameters are not used but slip through this\n",
      "  verification. Please open an issue if you find above cases.\n",
      "\n",
      "\n",
      "0.44341619476681937\n"
     ]
    }
   ],
   "source": [
    "stacked_averaged_models2 = StackingAveragedModels(base_models = [gbm,rf,dt, lr,lgbm],\n",
    "                                                 meta_model = xgboost)\n",
    "\n",
    "stacked_averaged_models2.fit(X, y)\n",
    "stacked_train_pred2 = stacked_averaged_models2.predict(X)\n",
    "stacked_pred2 = stacked_averaged_models2.predict(test.values)\n",
    "print(rmse(y, stacked_train_pred2))"
   ]
  },
  {
   "cell_type": "markdown",
   "metadata": {},
   "source": [
    "stacking average의 최종 모델로, base model : gbm, rf, lr / meta model : xgb 를 사용하도록 합니다. "
   ]
  },
  {
   "cell_type": "markdown",
   "metadata": {
    "colab_type": "text",
    "id": "D73333fi8aef"
   },
   "source": [
    "* sklearn.ensemble.StackingRegressor  \n",
    "https://scikit-learn.org/stable/modules/generated/sklearn.ensemble.StackingRegressor.html"
   ]
  },
  {
   "cell_type": "code",
   "execution_count": 35,
   "metadata": {
    "colab": {},
    "colab_type": "code",
    "id": "J3sFk5Y88ate"
   },
   "outputs": [],
   "source": [
    "from sklearn.ensemble import StackingRegressor"
   ]
  },
  {
   "cell_type": "code",
   "execution_count": 36,
   "metadata": {
    "colab": {
     "base_uri": "https://localhost:8080/",
     "height": 34
    },
    "colab_type": "code",
    "executionInfo": {
     "elapsed": 166172,
     "status": "ok",
     "timestamp": 1597191234040,
     "user": {
      "displayName": "이예진 YejinLee",
      "photoUrl": "",
      "userId": "02373976809516943532"
     },
     "user_tz": -540
    },
    "id": "MYe6rMY78nBy",
    "outputId": "9e10d61b-d772-42b9-91fe-c9193fbd8cf4"
   },
   "outputs": [
    {
     "data": {
      "text/plain": [
       "StackingRegressor(cv=10,\n",
       "                  estimators=[('lr',\n",
       "                               Pipeline(steps=[('standardscaler',\n",
       "                                                StandardScaler()),\n",
       "                                               ('linearregression',\n",
       "                                                LinearRegression())])),\n",
       "                              ('svm',\n",
       "                               Pipeline(steps=[('standardscaler',\n",
       "                                                StandardScaler()),\n",
       "                                               ('svr', SVR())])),\n",
       "                              ('gbm',\n",
       "                               Pipeline(steps=[('gradientboostingregressor',\n",
       "                                                GradientBoostingRegressor(learning_rate=0.05,\n",
       "                                                                          loss='huber',\n",
       "                                                                          max_depth=4,\n",
       "                                                                          max_features='sqrt',\n",
       "                                                                          min_samples_leaf=15,\n",
       "                                                                          min_samples_split=10,\n",
       "                                                                          n_estimators=600,\n",
       "                                                                          random_state=1004))]))],\n",
       "                  final_estimator=RandomForestRegressor(random_state=42),\n",
       "                  n_jobs=3, verbose=3)"
      ]
     },
     "execution_count": 36,
     "metadata": {},
     "output_type": "execute_result"
    }
   ],
   "source": [
    "# 파라미터 설정\n",
    "estimators = [\n",
    "              ('lr',lr),\n",
    "              ('svm',svm),\n",
    "              ('gbm',gbm)\n",
    "]\n",
    "              \n",
    "# Stacking\n",
    "reg = StackingRegressor(\n",
    "    estimators = estimators,\n",
    "    final_estimator = RandomForestRegressor(random_state=42),\n",
    "    cv = 10,\n",
    "    n_jobs=3,\n",
    "    verbose=3\n",
    "    )\n",
    "\n",
    "# fit\n",
    "reg.fit(X_train, y_train)"
   ]
  },
  {
   "cell_type": "code",
   "execution_count": 37,
   "metadata": {
    "colab": {
     "base_uri": "https://localhost:8080/",
     "height": 34
    },
    "colab_type": "code",
    "executionInfo": {
     "elapsed": 157267,
     "status": "ok",
     "timestamp": 1597191436044,
     "user": {
      "displayName": "이예진 YejinLee",
      "photoUrl": "",
      "userId": "02373976809516943532"
     },
     "user_tz": -540
    },
    "id": "8lp4HUeo_tV2",
    "outputId": "ffd57e28-38cf-4a98-e54a-e0d337180588"
   },
   "outputs": [
    {
     "data": {
      "text/plain": [
       "0.5124681663999254"
      ]
     },
     "execution_count": 37,
     "metadata": {},
     "output_type": "execute_result"
    }
   ],
   "source": [
    "# rmse\n",
    "rmse(y_test,reg.predict(X_test))"
   ]
  },
  {
   "cell_type": "markdown",
   "metadata": {
    "colab_type": "text",
    "id": "N5lxtPLWSZqx"
   },
   "source": [
    "### Stacking with gridsearch\n",
    "스태킹에 대해서도 그리드서치를 진행해봅시다."
   ]
  },
  {
   "cell_type": "code",
   "execution_count": 38,
   "metadata": {
    "colab": {},
    "colab_type": "code",
    "id": "6qEHjZuTSZ19"
   },
   "outputs": [
    {
     "data": {
      "text/plain": [
       "GridSearchCV(cv=5,\n",
       "             estimator=StackingRegressor(cv=10,\n",
       "                                         estimators=[('lr',\n",
       "                                                      Pipeline(steps=[('standardscaler',\n",
       "                                                                       StandardScaler()),\n",
       "                                                                      ('linearregression',\n",
       "                                                                       LinearRegression())])),\n",
       "                                                     ('svm',\n",
       "                                                      Pipeline(steps=[('standardscaler',\n",
       "                                                                       StandardScaler()),\n",
       "                                                                      ('svr',\n",
       "                                                                       SVR())])),\n",
       "                                                     ('gbm',\n",
       "                                                      Pipeline(steps=[('gradientboostingregressor',\n",
       "                                                                       GradientBoostingRegressor(learning_rate=0.05,\n",
       "                                                                                                 loss='huber',\n",
       "                                                                                                 max_depth=4,\n",
       "                                                                                                 max_features='sqrt',\n",
       "                                                                                                 min_samples_leaf=15,\n",
       "                                                                                                 min_samples_split=10,\n",
       "                                                                                                 n_estimators=600,\n",
       "                                                                                                 random_state=1004))]))],\n",
       "                                         final_estimator=RandomForestRegressor(random_state=42),\n",
       "                                         n_jobs=3, verbose=3),\n",
       "             param_grid={'final_estimator__max_depth': [4, 7, 10],\n",
       "                         'final_estimator__n_estimators': [3, 4]})"
      ]
     },
     "execution_count": 38,
     "metadata": {},
     "output_type": "execute_result"
    }
   ],
   "source": [
    "params = {'final_estimator__n_estimators': [3,4],\n",
    "          'final_estimator__max_depth' : [4,7,10]} \n",
    "\n",
    "grid_stacking = GridSearchCV(estimator=reg,\n",
    "                            param_grid=params,\n",
    "                            cv=5)\n",
    "\n",
    "grid_stacking.fit(X_train,y_train)\n"
   ]
  },
  {
   "cell_type": "code",
   "execution_count": 39,
   "metadata": {},
   "outputs": [
    {
     "name": "stdout",
     "output_type": "stream",
     "text": [
      "best parameter: \n",
      " {'final_estimator__max_depth': 4, 'final_estimator__n_estimators': 4}\n"
     ]
    }
   ],
   "source": [
    "print('best parameter: \\n',grid_stacking.best_params_)"
   ]
  },
  {
   "cell_type": "code",
   "execution_count": 40,
   "metadata": {
    "scrolled": true
   },
   "outputs": [
    {
     "data": {
      "text/plain": [
       "0.4811261883292485"
      ]
     },
     "execution_count": 40,
     "metadata": {},
     "output_type": "execute_result"
    }
   ],
   "source": [
    "rmse(y_test, grid_stacking.predict(X_test))"
   ]
  },
  {
   "cell_type": "code",
   "execution_count": 41,
   "metadata": {},
   "outputs": [],
   "source": [
    "reg_pred = reg.predict(test.values)\n",
    "grid_stacking_pred = grid_stacking.predict(test.values)"
   ]
  },
  {
   "cell_type": "markdown",
   "metadata": {
    "colab_type": "text",
    "id": "m6BumBpd807W"
   },
   "source": [
    "### Final Training and Prediction  \n"
   ]
  },
  {
   "cell_type": "markdown",
   "metadata": {
    "colab_type": "text",
    "id": "YZ0WATEsfwOc"
   },
   "source": [
    "* Ensemble prediction"
   ]
  },
  {
   "cell_type": "code",
   "execution_count": 59,
   "metadata": {
    "colab": {},
    "colab_type": "code",
    "id": "3PBVY2z6xA4h"
   },
   "outputs": [],
   "source": [
    "ensemble1 = stacked_pred\n",
    "# ensemble2 = reg_pred\n",
    "# ensemble3 = grid_stacking_pred"
   ]
  },
  {
   "cell_type": "markdown",
   "metadata": {
    "colab_type": "text",
    "id": "qYorws6y89V6"
   },
   "source": [
    "* Submission"
   ]
  },
  {
   "cell_type": "code",
   "execution_count": 60,
   "metadata": {},
   "outputs": [],
   "source": [
    "sub = pd.DataFrame()\n",
    "sub['Id'] = test_ID\n",
    "sub['Rating'] = ensemble1\n",
    "sub.to_csv('submission.csv',index=False)"
   ]
  },
  {
   "cell_type": "code",
   "execution_count": 250,
   "metadata": {
    "colab": {},
    "colab_type": "code",
    "id": "TcdolW8grs3r"
   },
   "outputs": [],
   "source": [
    "sub = pd.DataFrame()\n",
    "sub['Id'] = test_ID\n",
    "sub['Rating'] = ensemble2\n",
    "sub.to_csv('submission.csv',index=False)"
   ]
  },
  {
   "cell_type": "code",
   "execution_count": 291,
   "metadata": {},
   "outputs": [],
   "source": [
    "sub = pd.DataFrame()\n",
    "sub['Id'] = test_ID\n",
    "sub['Rating'] = ensemble3\n",
    "sub.to_csv('submission.csv',index=False)"
   ]
  },
  {
   "cell_type": "code",
   "execution_count": 61,
   "metadata": {
    "colab": {
     "base_uri": "https://localhost:8080/",
     "height": 197
    },
    "colab_type": "code",
    "executionInfo": {
     "elapsed": 1089,
     "status": "ok",
     "timestamp": 1597170751884,
     "user": {
      "displayName": "이예진 YejinLee",
      "photoUrl": "",
      "userId": "02373976809516943532"
     },
     "user_tz": -540
    },
    "id": "UjzYE1oRqzID",
    "outputId": "cf584ce7-40b3-4bf6-e88d-bb6b4e70ddc7"
   },
   "outputs": [
    {
     "data": {
      "text/html": [
       "<div>\n",
       "<style scoped>\n",
       "    .dataframe tbody tr th:only-of-type {\n",
       "        vertical-align: middle;\n",
       "    }\n",
       "\n",
       "    .dataframe tbody tr th {\n",
       "        vertical-align: top;\n",
       "    }\n",
       "\n",
       "    .dataframe thead th {\n",
       "        text-align: right;\n",
       "    }\n",
       "</style>\n",
       "<table border=\"1\" class=\"dataframe\">\n",
       "  <thead>\n",
       "    <tr style=\"text-align: right;\">\n",
       "      <th></th>\n",
       "      <th>Id</th>\n",
       "      <th>Rating</th>\n",
       "    </tr>\n",
       "  </thead>\n",
       "  <tbody>\n",
       "    <tr>\n",
       "      <th>5590</th>\n",
       "      <td>5617</td>\n",
       "      <td>4.066258</td>\n",
       "    </tr>\n",
       "    <tr>\n",
       "      <th>5591</th>\n",
       "      <td>5618</td>\n",
       "      <td>3.991199</td>\n",
       "    </tr>\n",
       "    <tr>\n",
       "      <th>5592</th>\n",
       "      <td>5619</td>\n",
       "      <td>4.128901</td>\n",
       "    </tr>\n",
       "    <tr>\n",
       "      <th>5593</th>\n",
       "      <td>5620</td>\n",
       "      <td>3.869265</td>\n",
       "    </tr>\n",
       "    <tr>\n",
       "      <th>5594</th>\n",
       "      <td>5621</td>\n",
       "      <td>4.257328</td>\n",
       "    </tr>\n",
       "  </tbody>\n",
       "</table>\n",
       "</div>"
      ],
      "text/plain": [
       "        Id    Rating\n",
       "5590  5617  4.066258\n",
       "5591  5618  3.991199\n",
       "5592  5619  4.128901\n",
       "5593  5620  3.869265\n",
       "5594  5621  4.257328"
      ]
     },
     "execution_count": 61,
     "metadata": {},
     "output_type": "execute_result"
    }
   ],
   "source": [
    "sub.head()"
   ]
  },
  {
   "cell_type": "markdown",
   "metadata": {
    "colab_type": "text",
    "id": "GiBidOLGSnky"
   },
   "source": [
    "### submission.csv 파일을 제출하시면 됩니다!  \n",
    "제출은 하루에 5번 까지 가능합니다~!\n"
   ]
  },
  {
   "cell_type": "code",
   "execution_count": null,
   "metadata": {
    "colab": {},
    "colab_type": "code",
    "id": "lK8H-_Wfy5Re"
   },
   "outputs": [],
   "source": []
  }
 ],
 "metadata": {
  "accelerator": "GPU",
  "colab": {
   "authorship_tag": "ABX9TyObRrVXvyVT552QgVr8DIu0",
   "collapsed_sections": [],
   "mount_file_id": "1DlkgqBVyNh0-0IaOzBkUsfHQxJUEzA2x",
   "name": "Assignment_Kaggle_Competition.ipynb",
   "provenance": [
    {
     "file_id": "1K5xEGrWjfgYVkNTuwVLYBiHH3aCwUwKN",
     "timestamp": 1597127727608
    }
   ]
  },
  "kernelspec": {
   "display_name": "Python 3",
   "language": "python",
   "name": "python3"
  },
  "language_info": {
   "codemirror_mode": {
    "name": "ipython",
    "version": 3
   },
   "file_extension": ".py",
   "mimetype": "text/x-python",
   "name": "python",
   "nbconvert_exporter": "python",
   "pygments_lexer": "ipython3",
   "version": "3.7.4"
  }
 },
 "nbformat": 4,
 "nbformat_minor": 1
}
