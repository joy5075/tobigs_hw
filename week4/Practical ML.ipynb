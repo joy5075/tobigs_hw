{
 "cells": [
  {
   "cell_type": "markdown",
   "metadata": {},
   "source": [
    "# Ensemble 과제2\n",
    "- 데이터 선정 후 EDA, Ensemble 진행\n",
    "- 조건: Ensemble model 3개 이상 (stacking 방법 포함)"
   ]
  },
  {
   "cell_type": "code",
   "execution_count": 24,
   "metadata": {
    "scrolled": false
   },
   "outputs": [
    {
     "name": "stdout",
     "output_type": "stream",
     "text": [
      "C:\\Users\\jhr50\\Desktop\\Bigdata&AI\\공모전\\빅콘테스트\\2020빅콘테스트 문제데이터(데이터분석분야-챔피언리그)\n"
     ]
    }
   ],
   "source": [
    "cd C:/Users/jhr50/Desktop/Bigdata&AI/공모전/빅콘테스트/2020빅콘테스트 문제데이터(데이터분석분야-챔피언리그)"
   ]
  },
  {
   "cell_type": "code",
   "execution_count": 98,
   "metadata": {},
   "outputs": [],
   "source": [
    "# ready\n",
    "import pandas as pd\n",
    "import numpy as np\n",
    "import warnings\n",
    "warnings.filterwarnings('ignore')\n",
    "pd.options.display.max_rows = 999\n",
    "pd.options.display.max_columns = 999\n",
    "\n",
    "# visualization\n",
    "from matplotlib import pyplot as plt\n",
    "plt.style.use('seaborn')\n",
    "plt.rc('font', family='Malgun Gothic')\n",
    "import seaborn as sns\n",
    "%matplotlib inline\n",
    "\n",
    "from sklearn import preprocessing\n",
    "\n",
    "import time \n",
    "import datetime"
   ]
  },
  {
   "cell_type": "markdown",
   "metadata": {},
   "source": [
    "## 데이터 불러오기\n",
    "- 데이터 선정: 빅콘테스트 NS SHOP+ 편성데이터"
   ]
  },
  {
   "cell_type": "code",
   "execution_count": 63,
   "metadata": {},
   "outputs": [],
   "source": [
    "# Load Data\n",
    "train = pd.read_csv('./01_제공데이터/train.csv')\n",
    "test = pd.read_csv('./02_평가데이터/test.csv')"
   ]
  },
  {
   "cell_type": "code",
   "execution_count": 26,
   "metadata": {},
   "outputs": [
    {
     "data": {
      "text/html": [
       "<div>\n",
       "<style scoped>\n",
       "    .dataframe tbody tr th:only-of-type {\n",
       "        vertical-align: middle;\n",
       "    }\n",
       "\n",
       "    .dataframe tbody tr th {\n",
       "        vertical-align: top;\n",
       "    }\n",
       "\n",
       "    .dataframe thead th {\n",
       "        text-align: right;\n",
       "    }\n",
       "</style>\n",
       "<table border=\"1\" class=\"dataframe\">\n",
       "  <thead>\n",
       "    <tr style=\"text-align: right;\">\n",
       "      <th></th>\n",
       "      <th>방송일시</th>\n",
       "      <th>노출(분)</th>\n",
       "      <th>마더코드</th>\n",
       "      <th>상품코드</th>\n",
       "      <th>상품명</th>\n",
       "      <th>상품군</th>\n",
       "      <th>판매단가</th>\n",
       "      <th>취급액</th>\n",
       "    </tr>\n",
       "  </thead>\n",
       "  <tbody>\n",
       "    <tr>\n",
       "      <th>0</th>\n",
       "      <td>2019-01-01 6:00</td>\n",
       "      <td>20.0</td>\n",
       "      <td>100346</td>\n",
       "      <td>201072</td>\n",
       "      <td>테이트 남성 셀린니트3종</td>\n",
       "      <td>의류</td>\n",
       "      <td>39,900</td>\n",
       "      <td>2,099,000</td>\n",
       "    </tr>\n",
       "    <tr>\n",
       "      <th>1</th>\n",
       "      <td>2019-01-01 6:00</td>\n",
       "      <td>NaN</td>\n",
       "      <td>100346</td>\n",
       "      <td>201079</td>\n",
       "      <td>테이트 여성 셀린니트3종</td>\n",
       "      <td>의류</td>\n",
       "      <td>39,900</td>\n",
       "      <td>4,371,000</td>\n",
       "    </tr>\n",
       "    <tr>\n",
       "      <th>2</th>\n",
       "      <td>2019-01-01 6:20</td>\n",
       "      <td>20.0</td>\n",
       "      <td>100346</td>\n",
       "      <td>201072</td>\n",
       "      <td>테이트 남성 셀린니트3종</td>\n",
       "      <td>의류</td>\n",
       "      <td>39,900</td>\n",
       "      <td>3,262,000</td>\n",
       "    </tr>\n",
       "    <tr>\n",
       "      <th>3</th>\n",
       "      <td>2019-01-01 6:20</td>\n",
       "      <td>NaN</td>\n",
       "      <td>100346</td>\n",
       "      <td>201079</td>\n",
       "      <td>테이트 여성 셀린니트3종</td>\n",
       "      <td>의류</td>\n",
       "      <td>39,900</td>\n",
       "      <td>6,955,000</td>\n",
       "    </tr>\n",
       "    <tr>\n",
       "      <th>4</th>\n",
       "      <td>2019-01-01 6:40</td>\n",
       "      <td>20.0</td>\n",
       "      <td>100346</td>\n",
       "      <td>201072</td>\n",
       "      <td>테이트 남성 셀린니트3종</td>\n",
       "      <td>의류</td>\n",
       "      <td>39,900</td>\n",
       "      <td>6,672,000</td>\n",
       "    </tr>\n",
       "  </tbody>\n",
       "</table>\n",
       "</div>"
      ],
      "text/plain": [
       "              방송일시  노출(분)    마더코드    상품코드            상품명 상품군      판매단가  \\\n",
       "0  2019-01-01 6:00   20.0  100346  201072  테이트 남성 셀린니트3종  의류   39,900    \n",
       "1  2019-01-01 6:00    NaN  100346  201079  테이트 여성 셀린니트3종  의류   39,900    \n",
       "2  2019-01-01 6:20   20.0  100346  201072  테이트 남성 셀린니트3종  의류   39,900    \n",
       "3  2019-01-01 6:20    NaN  100346  201079  테이트 여성 셀린니트3종  의류   39,900    \n",
       "4  2019-01-01 6:40   20.0  100346  201072  테이트 남성 셀린니트3종  의류   39,900    \n",
       "\n",
       "          취급액   \n",
       "0   2,099,000   \n",
       "1   4,371,000   \n",
       "2   3,262,000   \n",
       "3   6,955,000   \n",
       "4   6,672,000   "
      ]
     },
     "execution_count": 26,
     "metadata": {},
     "output_type": "execute_result"
    }
   ],
   "source": [
    "train.head()"
   ]
  },
  {
   "cell_type": "code",
   "execution_count": 27,
   "metadata": {},
   "outputs": [
    {
     "data": {
      "text/html": [
       "<div>\n",
       "<style scoped>\n",
       "    .dataframe tbody tr th:only-of-type {\n",
       "        vertical-align: middle;\n",
       "    }\n",
       "\n",
       "    .dataframe tbody tr th {\n",
       "        vertical-align: top;\n",
       "    }\n",
       "\n",
       "    .dataframe thead th {\n",
       "        text-align: right;\n",
       "    }\n",
       "</style>\n",
       "<table border=\"1\" class=\"dataframe\">\n",
       "  <thead>\n",
       "    <tr style=\"text-align: right;\">\n",
       "      <th></th>\n",
       "      <th>방송일시</th>\n",
       "      <th>노출(분)</th>\n",
       "      <th>마더코드</th>\n",
       "      <th>상품코드</th>\n",
       "      <th>상품명</th>\n",
       "      <th>상품군</th>\n",
       "      <th>판매단가</th>\n",
       "      <th>취급액</th>\n",
       "    </tr>\n",
       "  </thead>\n",
       "  <tbody>\n",
       "    <tr>\n",
       "      <th>0</th>\n",
       "      <td>2020-06-01 6:20</td>\n",
       "      <td>20.0</td>\n",
       "      <td>100650</td>\n",
       "      <td>201971</td>\n",
       "      <td>잭필드 남성  반팔셔츠 4종</td>\n",
       "      <td>의류</td>\n",
       "      <td>59,800</td>\n",
       "      <td>NaN</td>\n",
       "    </tr>\n",
       "    <tr>\n",
       "      <th>1</th>\n",
       "      <td>2020-06-01 6:40</td>\n",
       "      <td>20.0</td>\n",
       "      <td>100650</td>\n",
       "      <td>201971</td>\n",
       "      <td>잭필드 남성  반팔셔츠 4종</td>\n",
       "      <td>의류</td>\n",
       "      <td>59,800</td>\n",
       "      <td>NaN</td>\n",
       "    </tr>\n",
       "    <tr>\n",
       "      <th>2</th>\n",
       "      <td>2020-06-01 7:00</td>\n",
       "      <td>20.0</td>\n",
       "      <td>100650</td>\n",
       "      <td>201971</td>\n",
       "      <td>잭필드 남성  반팔셔츠 4종</td>\n",
       "      <td>의류</td>\n",
       "      <td>59,800</td>\n",
       "      <td>NaN</td>\n",
       "    </tr>\n",
       "    <tr>\n",
       "      <th>3</th>\n",
       "      <td>2020-06-01 7:20</td>\n",
       "      <td>20.0</td>\n",
       "      <td>100445</td>\n",
       "      <td>202278</td>\n",
       "      <td>쿠미투니카 쿨 레이시 란쥬쉐이퍼&amp;팬티</td>\n",
       "      <td>속옷</td>\n",
       "      <td>69,900</td>\n",
       "      <td>NaN</td>\n",
       "    </tr>\n",
       "    <tr>\n",
       "      <th>4</th>\n",
       "      <td>2020-06-01 7:40</td>\n",
       "      <td>20.0</td>\n",
       "      <td>100445</td>\n",
       "      <td>202278</td>\n",
       "      <td>쿠미투니카 쿨 레이시 란쥬쉐이퍼&amp;팬티</td>\n",
       "      <td>속옷</td>\n",
       "      <td>69,900</td>\n",
       "      <td>NaN</td>\n",
       "    </tr>\n",
       "  </tbody>\n",
       "</table>\n",
       "</div>"
      ],
      "text/plain": [
       "              방송일시  노출(분)    마더코드    상품코드                   상품명 상품군      판매단가  \\\n",
       "0  2020-06-01 6:20   20.0  100650  201971       잭필드 남성  반팔셔츠 4종  의류   59,800    \n",
       "1  2020-06-01 6:40   20.0  100650  201971       잭필드 남성  반팔셔츠 4종  의류   59,800    \n",
       "2  2020-06-01 7:00   20.0  100650  201971       잭필드 남성  반팔셔츠 4종  의류   59,800    \n",
       "3  2020-06-01 7:20   20.0  100445  202278  쿠미투니카 쿨 레이시 란쥬쉐이퍼&팬티  속옷   69,900    \n",
       "4  2020-06-01 7:40   20.0  100445  202278  쿠미투니카 쿨 레이시 란쥬쉐이퍼&팬티  속옷   69,900    \n",
       "\n",
       "   취급액  \n",
       "0  NaN  \n",
       "1  NaN  \n",
       "2  NaN  \n",
       "3  NaN  \n",
       "4  NaN  "
      ]
     },
     "execution_count": 27,
     "metadata": {},
     "output_type": "execute_result"
    }
   ],
   "source": [
    "test.head()"
   ]
  },
  {
   "cell_type": "markdown",
   "metadata": {},
   "source": [
    "## EDA & Data Preprocessing"
   ]
  },
  {
   "cell_type": "markdown",
   "metadata": {},
   "source": [
    "-  데이터 확인 및 결측치 확인"
   ]
  },
  {
   "cell_type": "code",
   "execution_count": 28,
   "metadata": {
    "scrolled": true
   },
   "outputs": [
    {
     "name": "stdout",
     "output_type": "stream",
     "text": [
      "<class 'pandas.core.frame.DataFrame'>\n",
      "RangeIndex: 38309 entries, 0 to 38308\n",
      "Data columns (total 8 columns):\n",
      "방송일시     38309 non-null object\n",
      "노출(분)    21525 non-null float64\n",
      "마더코드     38309 non-null int64\n",
      "상품코드     38309 non-null int64\n",
      "상품명      38309 non-null object\n",
      "상품군      38309 non-null object\n",
      "판매단가     38309 non-null object\n",
      " 취급액     37372 non-null object\n",
      "dtypes: float64(1), int64(2), object(5)\n",
      "memory usage: 2.3+ MB\n"
     ]
    }
   ],
   "source": [
    "train.info()"
   ]
  },
  {
   "cell_type": "markdown",
   "metadata": {},
   "source": [
    "노출(분)의 데이터에 결측치가 다량 존재하고, 취급액 역시 결측치가 존재하는 것을 확인하였습니다. "
   ]
  },
  {
   "cell_type": "code",
   "execution_count": 42,
   "metadata": {},
   "outputs": [
    {
     "name": "stdout",
     "output_type": "stream",
     "text": [
      "<class 'pandas.core.frame.DataFrame'>\n",
      "RangeIndex: 2891 entries, 0 to 2890\n",
      "Data columns (total 8 columns):\n",
      "방송일시     2891 non-null object\n",
      "노출(분)    1780 non-null float64\n",
      "마더코드     2891 non-null int64\n",
      "상품코드     2891 non-null int64\n",
      "상품명      2891 non-null object\n",
      "상품군      2891 non-null object\n",
      "판매단가     2891 non-null object\n",
      "취급액      0 non-null float64\n",
      "dtypes: float64(2), int64(2), object(4)\n",
      "memory usage: 180.8+ KB\n"
     ]
    }
   ],
   "source": [
    "test.info()"
   ]
  },
  {
   "cell_type": "markdown",
   "metadata": {},
   "source": [
    "- train, test 데이터의 컬럼명 변경"
   ]
  },
  {
   "cell_type": "code",
   "execution_count": 64,
   "metadata": {},
   "outputs": [],
   "source": [
    "train.columns  = ['date', 'time', 'code1', 'code2', 'product', 'category', 'price', 'target']\n",
    "test.columns = ['date', 'time', 'code1', 'code2', 'product', 'category', 'price', 'target']"
   ]
  },
  {
   "cell_type": "code",
   "execution_count": 50,
   "metadata": {
    "scrolled": true
   },
   "outputs": [
    {
     "name": "stdout",
     "output_type": "stream",
     "text": [
      "<class 'pandas.core.frame.DataFrame'>\n",
      "RangeIndex: 38309 entries, 0 to 38308\n",
      "Data columns (total 8 columns):\n",
      "date        38309 non-null object\n",
      "time        21525 non-null float64\n",
      "code1       38309 non-null int64\n",
      "code2       38309 non-null int64\n",
      "product     38309 non-null object\n",
      "category    38309 non-null object\n",
      "price       38309 non-null object\n",
      "target      37372 non-null object\n",
      "dtypes: float64(1), int64(2), object(5)\n",
      "memory usage: 2.3+ MB\n"
     ]
    }
   ],
   "source": [
    "train.info()"
   ]
  },
  {
   "cell_type": "markdown",
   "metadata": {},
   "source": [
    "- train, test 데이터의 price와 target 연속형 변수로 변환"
   ]
  },
  {
   "cell_type": "code",
   "execution_count": 65,
   "metadata": {},
   "outputs": [],
   "source": [
    "# 상품군이 '무형'일 경우 price 및 target의 값 결측치 존재\n",
    "train[train.price.str.contains('-')]\n",
    "\n",
    "# 상품군이 무형인 경우 삭제 \n",
    "train = train.drop(train[train['category']=='무형'].index)\n",
    "test = test.drop(test[test['category']=='무형'].index)"
   ]
  },
  {
   "cell_type": "code",
   "execution_count": 66,
   "metadata": {},
   "outputs": [],
   "source": [
    "train['price'] = train.price.str.replace(',', '')\n",
    "train['price'] = pd.to_numeric(train['price'])\n",
    "\n",
    "train['target'] = train.target.str.replace(',', '')\n",
    "train['target'] = pd.to_numeric(train['target'])\n",
    "\n",
    "test['price'] = test.price.str.replace(',', '')\n",
    "test['price'] = pd.to_numeric(test['price'])"
   ]
  },
  {
   "cell_type": "markdown",
   "metadata": {},
   "source": [
    "### 연속형 변수"
   ]
  },
  {
   "cell_type": "code",
   "execution_count": 67,
   "metadata": {
    "scrolled": false
   },
   "outputs": [
    {
     "data": {
      "image/png": "[encoded data removed]",
      "text/plain": [
       "<Figure size 720x720 with 4 Axes>"
      ]
     },
     "metadata": {
      "needs_background": "light"
     },
     "output_type": "display_data"
    }
   ],
   "source": [
    "continuous = train[['time', 'price', 'target']]\n",
    "continuous.hist(bins=30, figsize=(10,10))\n",
    "plt.show()"
   ]
  },
  {
   "cell_type": "markdown",
   "metadata": {},
   "source": [
    "time 그래프를 보면 방송에 노출되는 시간이 대체로 20임을 알 수 있었습니다. 따라서 time에 있는 결측치를 20으로 대체하기로 합니다. "
   ]
  },
  {
   "cell_type": "code",
   "execution_count": 84,
   "metadata": {},
   "outputs": [
    {
     "data": {
      "text/plain": [
       "0"
      ]
     },
     "execution_count": 84,
     "metadata": {},
     "output_type": "execute_result"
    }
   ],
   "source": [
    "from sklearn.impute import SimpleImputer\n",
    "\n",
    "imputer = SimpleImputer(strategy='most_frequent')\n",
    "train['time'] = imputer.fit_transform(train[['time']])\n",
    "\n",
    "train['time'].isnull().sum()"
   ]
  },
  {
   "cell_type": "code",
   "execution_count": 87,
   "metadata": {},
   "outputs": [
    {
     "data": {
      "text/plain": [
       "0"
      ]
     },
     "execution_count": 87,
     "metadata": {},
     "output_type": "execute_result"
    }
   ],
   "source": [
    "test['time'] = imputer.transform(test[['time']])\n",
    "\n",
    "test['time'].isnull().sum()"
   ]
  },
  {
   "cell_type": "code",
   "execution_count": 76,
   "metadata": {},
   "outputs": [
    {
     "data": {
      "text/plain": [
       "<matplotlib.collections.PathCollection at 0x27c97aa5e88>"
      ]
     },
     "execution_count": 76,
     "metadata": {},
     "output_type": "execute_result"
    },
    {
     "data": {
      "image/png": "[encoded data removed]",
      "text/plain": [
       "<Figure size 432x288 with 1 Axes>"
      ]
     },
     "metadata": {
      "needs_background": "light"
     },
     "output_type": "display_data"
    }
   ],
   "source": [
    "# price 이상치 확인\n",
    "plt.scatter(x=continuous['price'], y=continuous['target'])"
   ]
  },
  {
   "cell_type": "code",
   "execution_count": 78,
   "metadata": {
    "scrolled": true
   },
   "outputs": [
    {
     "data": {
      "text/html": [
       "<div>\n",
       "<style scoped>\n",
       "    .dataframe tbody tr th:only-of-type {\n",
       "        vertical-align: middle;\n",
       "    }\n",
       "\n",
       "    .dataframe tbody tr th {\n",
       "        vertical-align: top;\n",
       "    }\n",
       "\n",
       "    .dataframe thead th {\n",
       "        text-align: right;\n",
       "    }\n",
       "</style>\n",
       "<table border=\"1\" class=\"dataframe\">\n",
       "  <thead>\n",
       "    <tr style=\"text-align: right;\">\n",
       "      <th></th>\n",
       "      <th>date</th>\n",
       "      <th>time</th>\n",
       "      <th>code1</th>\n",
       "      <th>code2</th>\n",
       "      <th>product</th>\n",
       "      <th>category</th>\n",
       "      <th>price</th>\n",
       "      <th>target</th>\n",
       "    </tr>\n",
       "  </thead>\n",
       "  <tbody>\n",
       "    <tr>\n",
       "      <th>30154</th>\n",
       "      <td>2019-10-11 8:00</td>\n",
       "      <td>NaN</td>\n",
       "      <td>100788</td>\n",
       "      <td>202330</td>\n",
       "      <td>[루이띠에] 순금 70g 골드바</td>\n",
       "      <td>잡화</td>\n",
       "      <td>7930000</td>\n",
       "      <td>50000</td>\n",
       "    </tr>\n",
       "    <tr>\n",
       "      <th>30161</th>\n",
       "      <td>2019-10-11 8:30</td>\n",
       "      <td>NaN</td>\n",
       "      <td>100788</td>\n",
       "      <td>202330</td>\n",
       "      <td>[루이띠에] 순금 70g 골드바</td>\n",
       "      <td>잡화</td>\n",
       "      <td>7930000</td>\n",
       "      <td>36072000</td>\n",
       "    </tr>\n",
       "    <tr>\n",
       "      <th>30964</th>\n",
       "      <td>2019-10-19 8:00</td>\n",
       "      <td>NaN</td>\n",
       "      <td>100788</td>\n",
       "      <td>202330</td>\n",
       "      <td>[루이띠에] 순금 70g 골드바</td>\n",
       "      <td>잡화</td>\n",
       "      <td>7930000</td>\n",
       "      <td>50000</td>\n",
       "    </tr>\n",
       "    <tr>\n",
       "      <th>30971</th>\n",
       "      <td>2019-10-19 8:30</td>\n",
       "      <td>NaN</td>\n",
       "      <td>100788</td>\n",
       "      <td>202330</td>\n",
       "      <td>[루이띠에] 순금 70g 골드바</td>\n",
       "      <td>잡화</td>\n",
       "      <td>7930000</td>\n",
       "      <td>50000</td>\n",
       "    </tr>\n",
       "    <tr>\n",
       "      <th>31491</th>\n",
       "      <td>2019-10-24 8:00</td>\n",
       "      <td>NaN</td>\n",
       "      <td>100788</td>\n",
       "      <td>202330</td>\n",
       "      <td>[루이띠에] 순금 70g 골드바</td>\n",
       "      <td>잡화</td>\n",
       "      <td>7930000</td>\n",
       "      <td>50000</td>\n",
       "    </tr>\n",
       "    <tr>\n",
       "      <th>31498</th>\n",
       "      <td>2019-10-24 8:30</td>\n",
       "      <td>NaN</td>\n",
       "      <td>100788</td>\n",
       "      <td>202330</td>\n",
       "      <td>[루이띠에] 순금 70g 골드바</td>\n",
       "      <td>잡화</td>\n",
       "      <td>7930000</td>\n",
       "      <td>50000</td>\n",
       "    </tr>\n",
       "  </tbody>\n",
       "</table>\n",
       "</div>"
      ],
      "text/plain": [
       "                  date  time   code1   code2            product category  \\\n",
       "30154  2019-10-11 8:00   NaN  100788  202330  [루이띠에] 순금 70g 골드바       잡화   \n",
       "30161  2019-10-11 8:30   NaN  100788  202330  [루이띠에] 순금 70g 골드바       잡화   \n",
       "30964  2019-10-19 8:00   NaN  100788  202330  [루이띠에] 순금 70g 골드바       잡화   \n",
       "30971  2019-10-19 8:30   NaN  100788  202330  [루이띠에] 순금 70g 골드바       잡화   \n",
       "31491  2019-10-24 8:00   NaN  100788  202330  [루이띠에] 순금 70g 골드바       잡화   \n",
       "31498  2019-10-24 8:30   NaN  100788  202330  [루이띠에] 순금 70g 골드바       잡화   \n",
       "\n",
       "         price    target  \n",
       "30154  7930000     50000  \n",
       "30161  7930000  36072000  \n",
       "30964  7930000     50000  \n",
       "30971  7930000     50000  \n",
       "31491  7930000     50000  \n",
       "31498  7930000     50000  "
      ]
     },
     "execution_count": 78,
     "metadata": {},
     "output_type": "execute_result"
    }
   ],
   "source": [
    "train[train.price>7000000]"
   ]
  },
  {
   "cell_type": "markdown",
   "metadata": {},
   "source": [
    "상품이 골드바인것을 보면 가능한 값이라 생각되므로 제거하지 않습니다. "
   ]
  },
  {
   "cell_type": "markdown",
   "metadata": {},
   "source": [
    "### 범주형 변수\n",
    "- 마더코드, 상품코드, 상품군 확인"
   ]
  },
  {
   "cell_type": "code",
   "execution_count": 93,
   "metadata": {},
   "outputs": [
    {
     "data": {
      "text/plain": [
       "100148    2618\n",
       "100837    1507\n",
       "100448    1308\n",
       "100205     792\n",
       "100500     702\n",
       "100203     666\n",
       "100372     639\n",
       "100575     636\n",
       "100155     620\n",
       "100150     604\n",
       "100149     540\n",
       "100074     488\n",
       "100610     465\n",
       "100765     444\n",
       "100577     408\n",
       "100255     401\n",
       "100097     390\n",
       "100139     372\n",
       "100786     350\n",
       "100182     348\n",
       "100253     318\n",
       "100037     293\n",
       "100067     288\n",
       "100501     284\n",
       "100088     270\n",
       "100251     268\n",
       "100849     264\n",
       "100281     257\n",
       "100489     252\n",
       "100010     252\n",
       "100731     242\n",
       "100189     237\n",
       "100305     231\n",
       "100290     216\n",
       "100322     211\n",
       "100374     208\n",
       "100613     206\n",
       "100654     200\n",
       "100763     184\n",
       "100742     183\n",
       "100166     182\n",
       "100377     175\n",
       "100607     171\n",
       "100373     168\n",
       "100127     162\n",
       "100352     160\n",
       "100618     150\n",
       "100202     147\n",
       "100770     144\n",
       "100766     141\n",
       "100788     140\n",
       "100293     138\n",
       "100167     137\n",
       "100271     136\n",
       "100832     136\n",
       "100635     135\n",
       "100597     134\n",
       "100545     132\n",
       "100130     126\n",
       "100231     126\n",
       "100604     126\n",
       "100452     126\n",
       "100226     124\n",
       "100809     123\n",
       "100511     122\n",
       "100483     122\n",
       "100046     122\n",
       "100346     121\n",
       "100040     120\n",
       "100838     120\n",
       "100573     120\n",
       "100684     120\n",
       "100841     116\n",
       "100248     116\n",
       "100089     114\n",
       "100099     110\n",
       "100475     108\n",
       "100292     108\n",
       "100224     105\n",
       "100683     102\n",
       "100323     102\n",
       "100478     102\n",
       "100080      99\n",
       "100049      98\n",
       "100596      96\n",
       "100192      96\n",
       "100584      96\n",
       "100808      95\n",
       "100574      94\n",
       "100523      92\n",
       "100505      90\n",
       "100288      90\n",
       "100458      89\n",
       "100735      87\n",
       "100558      84\n",
       "100844      83\n",
       "100327      82\n",
       "100199      80\n",
       "100102      78\n",
       "100026      78\n",
       "100664      77\n",
       "100845      76\n",
       "100816      75\n",
       "100416      73\n",
       "100209      72\n",
       "100225      72\n",
       "100789      72\n",
       "100348      70\n",
       "100499      69\n",
       "100585      69\n",
       "100702      68\n",
       "100115      66\n",
       "100164      66\n",
       "100270      66\n",
       "100612      66\n",
       "100435      66\n",
       "100084      63\n",
       "100185      63\n",
       "100070      63\n",
       "100190      63\n",
       "100517      63\n",
       "100492      61\n",
       "100188      60\n",
       "100319      60\n",
       "100069      60\n",
       "100063      60\n",
       "100195      60\n",
       "100055      60\n",
       "100143      60\n",
       "100782      60\n",
       "100309      57\n",
       "100491      57\n",
       "100708      57\n",
       "100776      57\n",
       "100091      57\n",
       "100218      57\n",
       "100200      57\n",
       "100066      56\n",
       "100128      56\n",
       "100644      55\n",
       "100749      54\n",
       "100724      54\n",
       "100379      54\n",
       "100079      54\n",
       "100332      53\n",
       "100317      53\n",
       "100197      53\n",
       "100247      52\n",
       "100717      51\n",
       "100815      51\n",
       "100335      51\n",
       "100444      51\n",
       "100779      49\n",
       "100460      48\n",
       "100390      48\n",
       "100036      48\n",
       "100502      48\n",
       "100456      46\n",
       "100405      46\n",
       "100469      46\n",
       "100718      45\n",
       "100169      45\n",
       "100780      45\n",
       "100283      45\n",
       "100129      45\n",
       "100755      45\n",
       "100193      44\n",
       "100006      44\n",
       "100062      43\n",
       "100579      42\n",
       "100174      42\n",
       "100354      42\n",
       "100266      42\n",
       "100516      42\n",
       "100677      42\n",
       "100152      42\n",
       "100563      42\n",
       "100098      39\n",
       "100599      39\n",
       "100033      39\n",
       "100801      38\n",
       "100833      38\n",
       "100418      37\n",
       "100532      36\n",
       "100738      36\n",
       "100315      36\n",
       "100090      36\n",
       "100704      36\n",
       "100753      36\n",
       "100228      36\n",
       "100711      36\n",
       "100342      36\n",
       "100145      36\n",
       "100238      36\n",
       "100095      36\n",
       "100029      36\n",
       "100771      36\n",
       "100582      36\n",
       "100294      36\n",
       "100020      35\n",
       "100455      35\n",
       "100445      35\n",
       "100250      34\n",
       "100406      34\n",
       "100656      34\n",
       "100272      33\n",
       "100338      33\n",
       "100340      33\n",
       "100598      33\n",
       "100454      33\n",
       "100052      33\n",
       "100427      32\n",
       "100440      32\n",
       "100100      30\n",
       "100569      30\n",
       "100586      30\n",
       "100153      30\n",
       "100229      30\n",
       "100606      30\n",
       "100156      30\n",
       "100829      30\n",
       "100637      30\n",
       "100625      30\n",
       "100421      30\n",
       "100240      30\n",
       "100347      30\n",
       "100134      30\n",
       "100244      30\n",
       "100562      30\n",
       "100241      30\n",
       "100399      30\n",
       "100213      30\n",
       "100353      30\n",
       "100320      30\n",
       "100629      28\n",
       "100787      28\n",
       "100634      28\n",
       "100341      28\n",
       "100081      28\n",
       "100246      27\n",
       "100479      27\n",
       "100594      27\n",
       "100631      27\n",
       "100369      27\n",
       "100715      27\n",
       "100140      27\n",
       "100774      27\n",
       "100488      27\n",
       "100206      27\n",
       "100321      26\n",
       "100695      25\n",
       "100277      25\n",
       "100028      24\n",
       "100504      24\n",
       "100698      24\n",
       "100279      24\n",
       "100151      24\n",
       "100021      24\n",
       "100172      24\n",
       "100096      24\n",
       "100039      24\n",
       "100289      24\n",
       "100503      24\n",
       "100042      24\n",
       "100391      24\n",
       "100054      24\n",
       "100171      24\n",
       "100609      24\n",
       "100310      24\n",
       "100034      24\n",
       "100734      24\n",
       "100510      24\n",
       "100627      24\n",
       "100389      24\n",
       "100144      24\n",
       "100839      24\n",
       "100682      24\n",
       "100462      24\n",
       "100366      24\n",
       "100371      24\n",
       "100818      24\n",
       "100578      24\n",
       "100142      24\n",
       "100235      24\n",
       "100658      24\n",
       "100769      24\n",
       "100018      24\n",
       "100135      24\n",
       "100781      22\n",
       "100723      21\n",
       "100275      21\n",
       "100705      21\n",
       "100330      21\n",
       "100773      21\n",
       "100161      21\n",
       "100783      21\n",
       "100751      20\n",
       "100758      20\n",
       "100651      20\n",
       "100756      20\n",
       "100600      20\n",
       "100539      19\n",
       "100548      19\n",
       "100032      18\n",
       "100184      18\n",
       "100798      18\n",
       "100696      18\n",
       "100025      18\n",
       "100064      18\n",
       "100314      18\n",
       "100413      18\n",
       "100572      18\n",
       "100732      18\n",
       "100093      18\n",
       "100157      18\n",
       "100136      18\n",
       "100395      18\n",
       "100278      18\n",
       "100793      18\n",
       "100813      18\n",
       "100017      18\n",
       "100306      18\n",
       "100466      18\n",
       "100013      18\n",
       "100180      18\n",
       "100404      18\n",
       "100611      18\n",
       "100268      18\n",
       "100076      18\n",
       "100375      18\n",
       "100094      18\n",
       "100423      18\n",
       "100158      18\n",
       "100022      18\n",
       "100343      18\n",
       "100576      18\n",
       "100249      16\n",
       "100527      16\n",
       "100432      16\n",
       "100408      16\n",
       "100775      16\n",
       "100302      15\n",
       "100061      15\n",
       "100403      15\n",
       "100220      15\n",
       "100810      15\n",
       "100176      15\n",
       "100043      15\n",
       "100725      15\n",
       "100719      15\n",
       "100495      15\n",
       "100712      15\n",
       "100201      15\n",
       "100620      15\n",
       "100397      15\n",
       "100282      15\n",
       "100118      15\n",
       "100602      15\n",
       "100357      15\n",
       "100262      15\n",
       "100002      15\n",
       "100615      15\n",
       "100355      15\n",
       "100673      15\n",
       "100211      14\n",
       "100417      14\n",
       "100777      14\n",
       "100256      14\n",
       "100653      14\n",
       "100667      12\n",
       "100147      12\n",
       "100243      12\n",
       "100571      12\n",
       "100269      12\n",
       "100237      12\n",
       "100747      12\n",
       "100623      12\n",
       "100442      12\n",
       "100297      12\n",
       "100614      12\n",
       "100762      12\n",
       "100162      12\n",
       "100626      12\n",
       "100187      12\n",
       "100132      12\n",
       "100482      12\n",
       "100803      12\n",
       "100345      12\n",
       "100449      12\n",
       "100109      12\n",
       "100165      12\n",
       "100471      12\n",
       "100181      12\n",
       "100694      12\n",
       "100740      12\n",
       "100087      12\n",
       "100583      12\n",
       "100085      12\n",
       "100743      12\n",
       "100204      12\n",
       "100692      12\n",
       "100729      12\n",
       "100807      12\n",
       "100038      12\n",
       "100643      12\n",
       "100312      12\n",
       "100812      12\n",
       "100741      12\n",
       "100481      12\n",
       "100531      12\n",
       "100768      12\n",
       "100846      12\n",
       "100817      12\n",
       "100412      12\n",
       "100380      12\n",
       "100318      12\n",
       "100750      12\n",
       "100360      12\n",
       "100131      12\n",
       "100814      12\n",
       "100745      12\n",
       "100624      12\n",
       "100337      12\n",
       "100713      12\n",
       "100622      12\n",
       "100368      12\n",
       "100642      12\n",
       "100721      12\n",
       "100657      12\n",
       "100464      12\n",
       "100757      11\n",
       "100628      11\n",
       "100522      11\n",
       "100497      11\n",
       "100822      11\n",
       "100474      10\n",
       "100107      10\n",
       "100075      10\n",
       "100234       9\n",
       "100351       9\n",
       "100536       9\n",
       "100676       9\n",
       "100588       9\n",
       "100217       9\n",
       "100693       9\n",
       "100811       9\n",
       "100700       9\n",
       "100367       9\n",
       "100436       9\n",
       "100476       9\n",
       "100170       9\n",
       "100824       9\n",
       "100287       9\n",
       "100112       9\n",
       "100761       9\n",
       "100595       9\n",
       "100605       9\n",
       "100791       9\n",
       "100078       9\n",
       "100744       9\n",
       "100175       9\n",
       "100233       9\n",
       "100111       9\n",
       "100334       9\n",
       "100284       9\n",
       "100754       9\n",
       "100447       9\n",
       "100378       9\n",
       "100329       9\n",
       "100446       9\n",
       "100047       9\n",
       "100104       8\n",
       "100362       8\n",
       "100737       8\n",
       "100117       8\n",
       "100441       8\n",
       "100299       8\n",
       "100467       8\n",
       "100154       8\n",
       "100450       8\n",
       "100173       8\n",
       "100177       8\n",
       "100509       8\n",
       "100210       8\n",
       "100568       7\n",
       "100146       6\n",
       "100053       6\n",
       "100722       6\n",
       "100398       6\n",
       "100802       6\n",
       "100655       6\n",
       "100194       6\n",
       "100530       6\n",
       "100260       6\n",
       "100196       6\n",
       "100580       6\n",
       "100050       6\n",
       "100515       6\n",
       "100439       6\n",
       "100529       6\n",
       "100836       6\n",
       "100581       6\n",
       "100567       6\n",
       "100101       6\n",
       "100359       6\n",
       "100465       6\n",
       "100065       6\n",
       "100044       6\n",
       "100820       6\n",
       "100834       6\n",
       "100549       6\n",
       "100821       6\n",
       "100496       6\n",
       "100748       6\n",
       "100707       6\n",
       "100212       6\n",
       "100716       6\n",
       "100208       6\n",
       "100652       6\n",
       "100720       6\n",
       "100752       6\n",
       "100163       6\n",
       "100463       6\n",
       "100356       6\n",
       "100300       6\n",
       "100307       6\n",
       "100179       6\n",
       "100086       6\n",
       "100083       6\n",
       "100051       6\n",
       "100048       6\n",
       "100236       6\n",
       "100547       6\n",
       "100019       6\n",
       "100016       6\n",
       "100453       6\n",
       "100222       6\n",
       "100057       6\n",
       "100230       6\n",
       "100638       6\n",
       "100414       6\n",
       "100685       6\n",
       "100794       6\n",
       "100280       6\n",
       "100264       6\n",
       "100666       6\n",
       "100252       6\n",
       "100376       6\n",
       "100422       6\n",
       "100472       6\n",
       "100632       6\n",
       "100459       6\n",
       "100056       6\n",
       "100316       6\n",
       "100587       6\n",
       "100298       6\n",
       "100227       6\n",
       "100843       6\n",
       "100668       6\n",
       "100443       6\n",
       "100636       6\n",
       "100508       6\n",
       "100385       6\n",
       "100603       6\n",
       "100699       6\n",
       "100000       6\n",
       "100125       6\n",
       "100103       6\n",
       "100382       6\n",
       "100214       6\n",
       "100589       6\n",
       "100736       6\n",
       "100477       6\n",
       "100672       6\n",
       "100267       6\n",
       "100254       6\n",
       "100470       6\n",
       "100126       6\n",
       "100295       6\n",
       "100669       6\n",
       "100616       6\n",
       "100617       6\n",
       "100520       6\n",
       "100041       6\n",
       "100215       6\n",
       "100311       6\n",
       "100646       6\n",
       "100219       6\n",
       "100473       6\n",
       "100714       6\n",
       "100392       6\n",
       "100221       6\n",
       "100232       6\n",
       "100296       6\n",
       "100701       5\n",
       "100434       5\n",
       "100031       5\n",
       "100566       5\n",
       "100326       4\n",
       "100113       4\n",
       "100805       4\n",
       "100678       4\n",
       "100114       4\n",
       "100709       4\n",
       "100336       4\n",
       "100506       4\n",
       "100001       4\n",
       "100528       4\n",
       "100533       4\n",
       "100386       4\n",
       "100681       3\n",
       "100540       3\n",
       "100680       3\n",
       "100401       3\n",
       "100328       3\n",
       "100286       3\n",
       "100239       3\n",
       "100797       3\n",
       "100831       3\n",
       "100430       3\n",
       "100764       3\n",
       "100671       3\n",
       "100415       3\n",
       "100710       3\n",
       "100285       3\n",
       "100784       3\n",
       "100015       3\n",
       "100304       3\n",
       "100263       3\n",
       "100400       3\n",
       "100828       3\n",
       "100168       3\n",
       "100826       3\n",
       "100541       3\n",
       "100665       3\n",
       "100819       3\n",
       "100344       3\n",
       "100276       3\n",
       "100675       3\n",
       "100394       3\n",
       "100216       3\n",
       "100468       3\n",
       "100564       3\n",
       "100024       3\n",
       "100697       3\n",
       "100601       3\n",
       "100792       3\n",
       "100409       3\n",
       "100679       3\n",
       "100023       3\n",
       "100551       3\n",
       "100512       3\n",
       "100451       3\n",
       "100245       3\n",
       "100387       3\n",
       "100257       3\n",
       "100438       3\n",
       "100045       3\n",
       "100198       3\n",
       "100411       3\n",
       "100191       3\n",
       "100840       3\n",
       "100178       3\n",
       "100009       3\n",
       "100242       3\n",
       "100274       3\n",
       "100258       3\n",
       "100498       3\n",
       "100565       3\n",
       "100027       3\n",
       "100608       3\n",
       "100410       3\n",
       "100518       3\n",
       "100420       3\n",
       "100058       3\n",
       "100619       3\n",
       "100827       3\n",
       "100795       3\n",
       "100339       3\n",
       "100835       3\n",
       "100670       2\n",
       "100124       2\n",
       "100703       2\n",
       "100308       2\n",
       "100433       2\n",
       "100519       2\n",
       "100265       2\n",
       "Name: code1, dtype: int64"
      ]
     },
     "execution_count": 93,
     "metadata": {},
     "output_type": "execute_result"
    }
   ],
   "source": [
    "code1_count = train['code1'].value_counts()\n",
    "code1_count"
   ]
  },
  {
   "cell_type": "code",
   "execution_count": 94,
   "metadata": {},
   "outputs": [
    {
     "data": {
      "text/plain": [
       "200864    318\n",
       "200868    282\n",
       "200465    273\n",
       "200533    273\n",
       "200014    252\n",
       "         ... \n",
       "200482      2\n",
       "202497      2\n",
       "202337      2\n",
       "202335      2\n",
       "201358      2\n",
       "Name: code2, Length: 2042, dtype: int64"
      ]
     },
     "execution_count": 94,
     "metadata": {},
     "output_type": "execute_result"
    }
   ],
   "source": [
    "code2_count = train['code2'].value_counts()\n",
    "code2_count"
   ]
  },
  {
   "cell_type": "code",
   "execution_count": 95,
   "metadata": {},
   "outputs": [
    {
     "data": {
      "text/plain": [
       "주방      6604\n",
       "가전      6479\n",
       "의류      4340\n",
       "속옷      3919\n",
       "잡화      3891\n",
       "농수축     3884\n",
       "생활용품    2877\n",
       "가구      2614\n",
       "이미용     1305\n",
       "건강기능     790\n",
       "침구       669\n",
       "Name: category, dtype: int64"
      ]
     },
     "execution_count": 95,
     "metadata": {},
     "output_type": "execute_result"
    }
   ],
   "source": [
    "category_count = train['category'].value_counts()\n",
    "category_count"
   ]
  },
  {
   "cell_type": "code",
   "execution_count": 101,
   "metadata": {},
   "outputs": [
    {
     "data": {
      "image/png": "[encoded data removed]",
      "text/plain": [
       "<Figure size 432x288 with 1 Axes>"
      ]
     },
     "metadata": {},
     "output_type": "display_data"
    }
   ],
   "source": [
    "# 상품군 시각화\n",
    "plt.pie(category_count, labels=category_count.index, autopct='%1.1f%%', shadow=True)\n",
    "plt.title('상품군', size=20)\n",
    "plt.legend(loc='best')\n",
    "plt.axis('equal')\n",
    "plt.show()"
   ]
  },
  {
   "cell_type": "markdown",
   "metadata": {},
   "source": [
    "### 범주형 변수 Encoding"
   ]
  },
  {
   "cell_type": "code",
   "execution_count": 88,
   "metadata": {
    "scrolled": false
   },
   "outputs": [
    {
     "name": "stdout",
     "output_type": "stream",
     "text": [
      "<class 'pandas.core.frame.DataFrame'>\n",
      "Int64Index: 37372 entries, 0 to 38303\n",
      "Data columns (total 8 columns):\n",
      "date        37372 non-null object\n",
      "time        37372 non-null float64\n",
      "code1       37372 non-null int64\n",
      "code2       37372 non-null int64\n",
      "product     37372 non-null object\n",
      "category    37372 non-null object\n",
      "price       37372 non-null int64\n",
      "target      37372 non-null int64\n",
      "dtypes: float64(1), int64(4), object(3)\n",
      "memory usage: 2.6+ MB\n"
     ]
    }
   ],
   "source": [
    "train.info()"
   ]
  },
  {
   "cell_type": "code",
   "execution_count": 89,
   "metadata": {
    "scrolled": true
   },
   "outputs": [
    {
     "name": "stdout",
     "output_type": "stream",
     "text": [
      "<class 'pandas.core.frame.DataFrame'>\n",
      "Int64Index: 2716 entries, 0 to 2890\n",
      "Data columns (total 8 columns):\n",
      "date        2716 non-null object\n",
      "time        2716 non-null float64\n",
      "code1       2716 non-null int64\n",
      "code2       2716 non-null int64\n",
      "product     2716 non-null object\n",
      "category    2716 non-null object\n",
      "price       2716 non-null int64\n",
      "target      0 non-null float64\n",
      "dtypes: float64(2), int64(3), object(3)\n",
      "memory usage: 191.0+ KB\n"
     ]
    }
   ],
   "source": [
    "test.info()"
   ]
  },
  {
   "cell_type": "markdown",
   "metadata": {},
   "source": [
    "범주형 변수 인코딩을 위해 train과 test 데이터 셋을 합친 데이터셋을 만듭니다"
   ]
  },
  {
   "cell_type": "code",
   "execution_count": 91,
   "metadata": {
    "scrolled": false
   },
   "outputs": [
    {
     "data": {
      "text/plain": [
       "(40088, 8)"
      ]
     },
     "execution_count": 91,
     "metadata": {},
     "output_type": "execute_result"
    }
   ],
   "source": [
    "all_data = pd.concat((train,test)).reset_index(drop=True)\n",
    "all_data.shape"
   ]
  },
  {
   "cell_type": "code",
   "execution_count": 106,
   "metadata": {},
   "outputs": [],
   "source": [
    "from sklearn.preprocessing import LabelEncoder"
   ]
  },
  {
   "cell_type": "code",
   "execution_count": 107,
   "metadata": {},
   "outputs": [],
   "source": [
    "def category_encoding(data, col):\n",
    "    le = LabelEncoder()\n",
    "    le.fit(data[col])\n",
    "    data[col] = le.transform(data[col])\n",
    "    return data[col]"
   ]
  },
  {
   "cell_type": "code",
   "execution_count": 108,
   "metadata": {
    "scrolled": true
   },
   "outputs": [
    {
     "data": {
      "text/plain": [
       "0        6\n",
       "1        6\n",
       "2        6\n",
       "3        6\n",
       "4        6\n",
       "        ..\n",
       "40083    5\n",
       "40084    5\n",
       "40085    5\n",
       "40086    6\n",
       "40087    6\n",
       "Name: category, Length: 40088, dtype: int32"
      ]
     },
     "execution_count": 108,
     "metadata": {},
     "output_type": "execute_result"
    }
   ],
   "source": [
    "category_encoding(all_data, 'code1')\n",
    "category_encoding(all_data, 'code2')\n",
    "category_encoding(all_data, 'product')\n",
    "category_encoding(all_data, 'category')"
   ]
  },
  {
   "cell_type": "code",
   "execution_count": 112,
   "metadata": {},
   "outputs": [],
   "source": [
    "# date encoding\n",
    "\n",
    "all_data['date'] = all_data['date'].apply(lambda x: time.mktime(datetime.datetime.strptime(x, '%Y-%m-%d %H:%M').timetuple()))"
   ]
  },
  {
   "cell_type": "code",
   "execution_count": 113,
   "metadata": {},
   "outputs": [
    {
     "name": "stdout",
     "output_type": "stream",
     "text": [
      "<class 'pandas.core.frame.DataFrame'>\n",
      "RangeIndex: 40088 entries, 0 to 40087\n",
      "Data columns (total 8 columns):\n",
      "date        40088 non-null float64\n",
      "time        40088 non-null float64\n",
      "code1       40088 non-null int64\n",
      "code2       40088 non-null int64\n",
      "product     40088 non-null int32\n",
      "category    40088 non-null int32\n",
      "price       40088 non-null int64\n",
      "target      37372 non-null float64\n",
      "dtypes: float64(3), int32(2), int64(3)\n",
      "memory usage: 2.1 MB\n"
     ]
    }
   ],
   "source": [
    "all_data.info()"
   ]
  },
  {
   "cell_type": "code",
   "execution_count": 114,
   "metadata": {},
   "outputs": [
    {
     "data": {
      "text/html": [
       "<div>\n",
       "<style scoped>\n",
       "    .dataframe tbody tr th:only-of-type {\n",
       "        vertical-align: middle;\n",
       "    }\n",
       "\n",
       "    .dataframe tbody tr th {\n",
       "        vertical-align: top;\n",
       "    }\n",
       "\n",
       "    .dataframe thead th {\n",
       "        text-align: right;\n",
       "    }\n",
       "</style>\n",
       "<table border=\"1\" class=\"dataframe\">\n",
       "  <thead>\n",
       "    <tr style=\"text-align: right;\">\n",
       "      <th></th>\n",
       "      <th>date</th>\n",
       "      <th>time</th>\n",
       "      <th>code1</th>\n",
       "      <th>code2</th>\n",
       "      <th>product</th>\n",
       "      <th>category</th>\n",
       "      <th>price</th>\n",
       "      <th>target</th>\n",
       "    </tr>\n",
       "  </thead>\n",
       "  <tbody>\n",
       "    <tr>\n",
       "      <th>0</th>\n",
       "      <td>1.546290e+09</td>\n",
       "      <td>20.0</td>\n",
       "      <td>335</td>\n",
       "      <td>1060</td>\n",
       "      <td>1778</td>\n",
       "      <td>6</td>\n",
       "      <td>39900</td>\n",
       "      <td>2099000.0</td>\n",
       "    </tr>\n",
       "    <tr>\n",
       "      <th>1</th>\n",
       "      <td>1.546290e+09</td>\n",
       "      <td>20.0</td>\n",
       "      <td>335</td>\n",
       "      <td>1067</td>\n",
       "      <td>1784</td>\n",
       "      <td>6</td>\n",
       "      <td>39900</td>\n",
       "      <td>4371000.0</td>\n",
       "    </tr>\n",
       "    <tr>\n",
       "      <th>2</th>\n",
       "      <td>1.546291e+09</td>\n",
       "      <td>20.0</td>\n",
       "      <td>335</td>\n",
       "      <td>1060</td>\n",
       "      <td>1778</td>\n",
       "      <td>6</td>\n",
       "      <td>39900</td>\n",
       "      <td>3262000.0</td>\n",
       "    </tr>\n",
       "    <tr>\n",
       "      <th>3</th>\n",
       "      <td>1.546291e+09</td>\n",
       "      <td>20.0</td>\n",
       "      <td>335</td>\n",
       "      <td>1067</td>\n",
       "      <td>1784</td>\n",
       "      <td>6</td>\n",
       "      <td>39900</td>\n",
       "      <td>6955000.0</td>\n",
       "    </tr>\n",
       "    <tr>\n",
       "      <th>4</th>\n",
       "      <td>1.546292e+09</td>\n",
       "      <td>20.0</td>\n",
       "      <td>335</td>\n",
       "      <td>1060</td>\n",
       "      <td>1778</td>\n",
       "      <td>6</td>\n",
       "      <td>39900</td>\n",
       "      <td>6672000.0</td>\n",
       "    </tr>\n",
       "  </tbody>\n",
       "</table>\n",
       "</div>"
      ],
      "text/plain": [
       "           date  time  code1  code2  product  category  price     target\n",
       "0  1.546290e+09  20.0    335   1060     1778         6  39900  2099000.0\n",
       "1  1.546290e+09  20.0    335   1067     1784         6  39900  4371000.0\n",
       "2  1.546291e+09  20.0    335   1060     1778         6  39900  3262000.0\n",
       "3  1.546291e+09  20.0    335   1067     1784         6  39900  6955000.0\n",
       "4  1.546292e+09  20.0    335   1060     1778         6  39900  6672000.0"
      ]
     },
     "execution_count": 114,
     "metadata": {},
     "output_type": "execute_result"
    }
   ],
   "source": [
    "all_data.head()"
   ]
  },
  {
   "cell_type": "markdown",
   "metadata": {},
   "source": [
    "### all_data 데이터셋 분리"
   ]
  },
  {
   "cell_type": "code",
   "execution_count": 115,
   "metadata": {},
   "outputs": [],
   "source": [
    "train = all_data[: len(train)]\n",
    "test = all_data[len(train):]"
   ]
  },
  {
   "cell_type": "code",
   "execution_count": 116,
   "metadata": {},
   "outputs": [
    {
     "name": "stdout",
     "output_type": "stream",
     "text": [
      "<class 'pandas.core.frame.DataFrame'>\n",
      "RangeIndex: 37372 entries, 0 to 37371\n",
      "Data columns (total 8 columns):\n",
      "date        37372 non-null float64\n",
      "time        37372 non-null float64\n",
      "code1       37372 non-null int64\n",
      "code2       37372 non-null int64\n",
      "product     37372 non-null int32\n",
      "category    37372 non-null int32\n",
      "price       37372 non-null int64\n",
      "target      37372 non-null float64\n",
      "dtypes: float64(3), int32(2), int64(3)\n",
      "memory usage: 2.0 MB\n"
     ]
    }
   ],
   "source": [
    "train.info()"
   ]
  },
  {
   "cell_type": "code",
   "execution_count": 117,
   "metadata": {},
   "outputs": [
    {
     "name": "stdout",
     "output_type": "stream",
     "text": [
      "<class 'pandas.core.frame.DataFrame'>\n",
      "RangeIndex: 2716 entries, 37372 to 40087\n",
      "Data columns (total 8 columns):\n",
      "date        2716 non-null float64\n",
      "time        2716 non-null float64\n",
      "code1       2716 non-null int64\n",
      "code2       2716 non-null int64\n",
      "product     2716 non-null int32\n",
      "category    2716 non-null int32\n",
      "price       2716 non-null int64\n",
      "target      0 non-null float64\n",
      "dtypes: float64(3), int32(2), int64(3)\n",
      "memory usage: 148.7 KB\n"
     ]
    }
   ],
   "source": [
    "test.info()"
   ]
  },
  {
   "cell_type": "markdown",
   "metadata": {},
   "source": [
    "## Modeling"
   ]
  },
  {
   "cell_type": "code",
   "execution_count": 149,
   "metadata": {},
   "outputs": [],
   "source": [
    "# sklearn \n",
    "from sklearn.linear_model import LinearRegression\n",
    "from sklearn.linear_model import Ridge, Lasso\n",
    "\n",
    "from sklearn.tree import DecisionTreeRegressor\n",
    "#from sklearn.naive_bayes import GaussianNB\n",
    "from sklearn.neighbors import KNeighborsRegressor\n",
    "from sklearn.svm import SVR\n",
    "from sklearn.ensemble import RandomForestRegressor, GradientBoostingRegressor\n",
    "import xgboost as xgb\n",
    "import lightgbm as lgb\n",
    "\n",
    "from sklearn.pipeline import make_pipeline\n",
    "from sklearn.preprocessing import RobustScaler, StandardScaler\n",
    "from sklearn.base import BaseEstimator, TransformerMixin, RegressorMixin, clone\n",
    "from sklearn.model_selection import KFold, cross_val_score, train_test_split\n",
    "from sklearn.metrics import mean_squared_error\n",
    "from sklearn.metrics import accuracy_score\n",
    "from sklearn.metrics import mean_absolute_error\n",
    "\n",
    "from sklearn.model_selection import GridSearchCV\n",
    "\n",
    "from sklearn.ensemble import VotingRegressor\n",
    "from sklearn.ensemble import BaggingRegressor\n",
    "from sklearn.ensemble import AdaBoostRegressor"
   ]
  },
  {
   "cell_type": "markdown",
   "metadata": {},
   "source": [
    "### target 분리, data split"
   ]
  },
  {
   "cell_type": "code",
   "execution_count": 185,
   "metadata": {},
   "outputs": [],
   "source": [
    "y = train['target']\n",
    "X = train.loc[:, train.columns != 'target']\n",
    "\n",
    "X_train, X_test, y_train, y_test = train_test_split(X,y, train_size=0.7)"
   ]
  },
  {
   "cell_type": "code",
   "execution_count": 186,
   "metadata": {
    "scrolled": true
   },
   "outputs": [
    {
     "data": {
      "text/html": [
       "<div>\n",
       "<style scoped>\n",
       "    .dataframe tbody tr th:only-of-type {\n",
       "        vertical-align: middle;\n",
       "    }\n",
       "\n",
       "    .dataframe tbody tr th {\n",
       "        vertical-align: top;\n",
       "    }\n",
       "\n",
       "    .dataframe thead th {\n",
       "        text-align: right;\n",
       "    }\n",
       "</style>\n",
       "<table border=\"1\" class=\"dataframe\">\n",
       "  <thead>\n",
       "    <tr style=\"text-align: right;\">\n",
       "      <th></th>\n",
       "      <th>date</th>\n",
       "      <th>time</th>\n",
       "      <th>code1</th>\n",
       "      <th>code2</th>\n",
       "      <th>product</th>\n",
       "      <th>category</th>\n",
       "      <th>price</th>\n",
       "    </tr>\n",
       "  </thead>\n",
       "  <tbody>\n",
       "    <tr>\n",
       "      <th>37372</th>\n",
       "      <td>1.590960e+09</td>\n",
       "      <td>20.0</td>\n",
       "      <td>616</td>\n",
       "      <td>1887</td>\n",
       "      <td>1592</td>\n",
       "      <td>6</td>\n",
       "      <td>59800</td>\n",
       "    </tr>\n",
       "    <tr>\n",
       "      <th>37373</th>\n",
       "      <td>1.590961e+09</td>\n",
       "      <td>20.0</td>\n",
       "      <td>616</td>\n",
       "      <td>1887</td>\n",
       "      <td>1592</td>\n",
       "      <td>6</td>\n",
       "      <td>59800</td>\n",
       "    </tr>\n",
       "    <tr>\n",
       "      <th>37374</th>\n",
       "      <td>1.590962e+09</td>\n",
       "      <td>20.0</td>\n",
       "      <td>616</td>\n",
       "      <td>1887</td>\n",
       "      <td>1592</td>\n",
       "      <td>6</td>\n",
       "      <td>59800</td>\n",
       "    </tr>\n",
       "    <tr>\n",
       "      <th>37375</th>\n",
       "      <td>1.590964e+09</td>\n",
       "      <td>20.0</td>\n",
       "      <td>431</td>\n",
       "      <td>2182</td>\n",
       "      <td>1736</td>\n",
       "      <td>5</td>\n",
       "      <td>69900</td>\n",
       "    </tr>\n",
       "    <tr>\n",
       "      <th>37376</th>\n",
       "      <td>1.590965e+09</td>\n",
       "      <td>20.0</td>\n",
       "      <td>431</td>\n",
       "      <td>2182</td>\n",
       "      <td>1736</td>\n",
       "      <td>5</td>\n",
       "      <td>69900</td>\n",
       "    </tr>\n",
       "  </tbody>\n",
       "</table>\n",
       "</div>"
      ],
      "text/plain": [
       "               date  time  code1  code2  product  category  price\n",
       "37372  1.590960e+09  20.0    616   1887     1592         6  59800\n",
       "37373  1.590961e+09  20.0    616   1887     1592         6  59800\n",
       "37374  1.590962e+09  20.0    616   1887     1592         6  59800\n",
       "37375  1.590964e+09  20.0    431   2182     1736         5  69900\n",
       "37376  1.590965e+09  20.0    431   2182     1736         5  69900"
      ]
     },
     "execution_count": 186,
     "metadata": {},
     "output_type": "execute_result"
    }
   ],
   "source": [
    "# update test data\n",
    "test = test.loc[:, test.columns != 'target']\n",
    "test.head()"
   ]
  },
  {
   "cell_type": "markdown",
   "metadata": {},
   "source": [
    "### validation function"
   ]
  },
  {
   "cell_type": "code",
   "execution_count": 187,
   "metadata": {},
   "outputs": [],
   "source": [
    "def mape(y, y_pred):\n",
    "    return mean_absolute_error(y, y_pred)"
   ]
  },
  {
   "cell_type": "markdown",
   "metadata": {},
   "source": [
    "### Base models"
   ]
  },
  {
   "cell_type": "markdown",
   "metadata": {},
   "source": [
    "- Regression"
   ]
  },
  {
   "cell_type": "code",
   "execution_count": 188,
   "metadata": {},
   "outputs": [
    {
     "name": "stdout",
     "output_type": "stream",
     "text": [
      "test accuracy : 14228392.3427\n",
      "test accuracy : 14228392.6356\n",
      "test accuracy : 14228440.0752\n"
     ]
    }
   ],
   "source": [
    "lr = make_pipeline(StandardScaler(), LinearRegression())\n",
    "lr.fit(X_train, y_train)\n",
    "pred = lr.predict(X_test)\n",
    "print('test accuracy : {0:.4f}'.format(mape(y_test,pred)))\n",
    "\n",
    "lasso = make_pipeline(StandardScaler(), Lasso())\n",
    "lasso.fit(X_train, y_train)\n",
    "pred = lasso.predict(X_test)\n",
    "print('test accuracy : {0:.4f}'.format(mape(y_test,pred)))\n",
    "\n",
    "ridge = make_pipeline(StandardScaler(), Ridge())\n",
    "ridge.fit(X_train, y_train)\n",
    "pred = ridge.predict(X_test)\n",
    "print('test accuracy : {0:.4f}'.format(mape(y_test,pred)))"
   ]
  },
  {
   "cell_type": "markdown",
   "metadata": {},
   "source": [
    "- DecisionTreeRegressor"
   ]
  },
  {
   "cell_type": "code",
   "execution_count": 189,
   "metadata": {},
   "outputs": [
    {
     "name": "stdout",
     "output_type": "stream",
     "text": [
      "test accuracy : 11366542.2761\n"
     ]
    }
   ],
   "source": [
    "dt = make_pipeline(StandardScaler(), DecisionTreeRegressor())\n",
    "dt.fit(X_train, y_train)\n",
    "pred = dt.predict(X_test)\n",
    "print('test accuracy : {0:.4f}'.format(mape(y_test,pred)))"
   ]
  },
  {
   "cell_type": "markdown",
   "metadata": {},
   "source": [
    "- Random Forest"
   ]
  },
  {
   "cell_type": "code",
   "execution_count": 190,
   "metadata": {},
   "outputs": [
    {
     "name": "stdout",
     "output_type": "stream",
     "text": [
      "test accuracy : 10045114.2383\n"
     ]
    }
   ],
   "source": [
    "rf = make_pipeline(RandomForestRegressor())\n",
    "rf.fit(X_train, y_train)\n",
    "pred = rf.predict(X_test)\n",
    "print('test accuracy : {0:.4f}'.format(mape(y_test,pred)))"
   ]
  },
  {
   "cell_type": "markdown",
   "metadata": {},
   "source": [
    "- GBM"
   ]
  },
  {
   "cell_type": "code",
   "execution_count": 191,
   "metadata": {},
   "outputs": [
    {
     "name": "stdout",
     "output_type": "stream",
     "text": [
      "test accuracy : 11424251.3920\n"
     ]
    }
   ],
   "source": [
    "gbm = make_pipeline(GradientBoostingRegressor())\n",
    "gbm.fit(X_train, y_train)\n",
    "pred = gbm.predict(X_test)\n",
    "print('test accuracy : {0:.4f}'.format(mape(y_test,pred)))"
   ]
  },
  {
   "cell_type": "markdown",
   "metadata": {},
   "source": [
    "- XGBoost"
   ]
  },
  {
   "cell_type": "code",
   "execution_count": 192,
   "metadata": {},
   "outputs": [
    {
     "name": "stdout",
     "output_type": "stream",
     "text": [
      "test accuracy : 9491064.3576\n"
     ]
    }
   ],
   "source": [
    "xgboost = xgb.XGBRegressor()\n",
    "xgboost.fit(X_train, y_train)\n",
    "pred = xgboost.predict(X_test)\n",
    "print('test accuracy : {0:.4f}'.format(mape(y_test,pred)))"
   ]
  },
  {
   "cell_type": "markdown",
   "metadata": {},
   "source": [
    "- LightGBM"
   ]
  },
  {
   "cell_type": "code",
   "execution_count": 193,
   "metadata": {},
   "outputs": [
    {
     "name": "stdout",
     "output_type": "stream",
     "text": [
      "test accuracy : 9852264.5521\n"
     ]
    }
   ],
   "source": [
    "lgbm = lgb.LGBMRegressor()\n",
    "lgbm.fit(X_train, y_train)\n",
    "pred = lgbm.predict(X_test)\n",
    "print('test accuracy : {0:.4f}'.format(mape(y_test,pred)))"
   ]
  },
  {
   "cell_type": "markdown",
   "metadata": {},
   "source": [
    "### 1. Voting "
   ]
  },
  {
   "cell_type": "code",
   "execution_count": 194,
   "metadata": {
    "scrolled": true
   },
   "outputs": [
    {
     "name": "stdout",
     "output_type": "stream",
     "text": [
      "voitng regressor accuracy: 10463552.7889\n"
     ]
    }
   ],
   "source": [
    "vo_reg = VotingRegressor(estimators=[('lr', lr), ('dt', dt), ('rf', rf)])\n",
    "\n",
    "vo_reg.fit(X_train, y_train)\n",
    "pred = vo_reg.predict(X_test)\n",
    "print('voitng regressor accuracy: {0:.4f}'.format(mape(y_test, pred)))\n"
   ]
  },
  {
   "cell_type": "markdown",
   "metadata": {},
   "source": [
    "### 2. Bagging"
   ]
  },
  {
   "cell_type": "code",
   "execution_count": 195,
   "metadata": {},
   "outputs": [
    {
     "name": "stdout",
     "output_type": "stream",
     "text": [
      "bagging regressor accuracy: 9357182.8373\n"
     ]
    }
   ],
   "source": [
    "bag_reg = BaggingRegressor(base_estimator=xgboost)\n",
    "\n",
    "bag_reg.fit(X_train, y_train)\n",
    "pred = bag_reg.predict(X_test)\n",
    "print('bagging regressor accuracy: {0:.4f}'.format(mape(y_test, pred)))"
   ]
  },
  {
   "cell_type": "markdown",
   "metadata": {},
   "source": [
    "### 3. AdaBoost"
   ]
  },
  {
   "cell_type": "code",
   "execution_count": 196,
   "metadata": {},
   "outputs": [
    {
     "name": "stdout",
     "output_type": "stream",
     "text": [
      "adaboost regressor accuracy: 25577511.1843\n"
     ]
    }
   ],
   "source": [
    "ada_reg = AdaBoostRegressor()\n",
    "\n",
    "ada_reg.fit(X_train, y_train)\n",
    "pred = ada_reg.predict(X_test)\n",
    "print('adaboost regressor accuracy: {0:.4f}'.format(mape(y_test, pred)))"
   ]
  },
  {
   "cell_type": "markdown",
   "metadata": {},
   "source": [
    "### 4. Basic Stacking"
   ]
  },
  {
   "cell_type": "code",
   "execution_count": 197,
   "metadata": {},
   "outputs": [],
   "source": [
    "# 개별 모델 lr, rf, dt -> 최종모델 xgb\n",
    "\n",
    "lr_pred = lr.predict(X_test)\n",
    "rf_pred = rf.predict(X_test)\n",
    "dt_pred = dt.predict(X_test)"
   ]
  },
  {
   "cell_type": "markdown",
   "metadata": {},
   "source": [
    "- stacking 개별 모델 합치기"
   ]
  },
  {
   "cell_type": "code",
   "execution_count": 198,
   "metadata": {},
   "outputs": [
    {
     "data": {
      "text/plain": [
       "(3, 11212)"
      ]
     },
     "execution_count": 198,
     "metadata": {},
     "output_type": "execute_result"
    }
   ],
   "source": [
    "new_data = np.array([lr_pred, rf_pred, dt_pred])\n",
    "new_data.shape"
   ]
  },
  {
   "cell_type": "markdown",
   "metadata": {},
   "source": [
    "- shape 변경"
   ]
  },
  {
   "cell_type": "code",
   "execution_count": 199,
   "metadata": {},
   "outputs": [
    {
     "data": {
      "text/plain": [
       "(11212, 3)"
      ]
     },
     "execution_count": 199,
     "metadata": {},
     "output_type": "execute_result"
    }
   ],
   "source": [
    "new_data = np.transpose(new_data)\n",
    "new_data.shape"
   ]
  },
  {
   "cell_type": "code",
   "execution_count": 200,
   "metadata": {},
   "outputs": [
    {
     "name": "stdout",
     "output_type": "stream",
     "text": [
      "accuracy: 7049737.4625\n"
     ]
    }
   ],
   "source": [
    "xgboost.fit(new_data, y_test)\n",
    "xgb_pred = xgboost.predict(new_data)\n",
    "\n",
    "print('accuracy: {:.4f}'.format(mape(y_test, xgb_pred)))"
   ]
  },
  {
   "cell_type": "markdown",
   "metadata": {},
   "source": [
    "### 5. Stacking : Averaged base model"
   ]
  },
  {
   "cell_type": "code",
   "execution_count": 201,
   "metadata": {},
   "outputs": [],
   "source": [
    "class AveragingModels(BaseEstimator, RegressorMixin, TransformerMixin):\n",
    "    def __init__(self, models):\n",
    "        self.models = models\n",
    "        \n",
    "    # we define clones of the original models to fit the data in\n",
    "    def fit(self, X_train, y_train):\n",
    "        self.models_ = [clone(x) for x in self.models]\n",
    "        \n",
    "        # Train cloned base models\n",
    "        for model in self.models_:\n",
    "            model.fit(X, y)\n",
    "\n",
    "        return self\n",
    "    \n",
    "    #Now we do the predictions for cloned models and average them\n",
    "    def predict(self, X_test):\n",
    "        predictions = np.column_stack([\n",
    "            model.predict(X_test) for model in self.models_\n",
    "        ])\n",
    "        return np.mean(predictions, axis=1)   "
   ]
  },
  {
   "cell_type": "code",
   "execution_count": 202,
   "metadata": {},
   "outputs": [
    {
     "name": "stdout",
     "output_type": "stream",
     "text": [
      "accuracy : 4199490.1850\n"
     ]
    }
   ],
   "source": [
    "averaged_models = AveragingModels(models = (dt, rf, lgbm))\n",
    "averaged_models.fit(X_train, y_train)\n",
    "pred = averaged_models.predict(X_test)\n",
    "print('accuracy : {:.4f}'.format(mape(y_test, pred)))"
   ]
  },
  {
   "cell_type": "markdown",
   "metadata": {},
   "source": [
    "### 6. Stacking : Adding a Meta-model"
   ]
  },
  {
   "cell_type": "code",
   "execution_count": 203,
   "metadata": {},
   "outputs": [],
   "source": [
    "def get_stacking_data(model, X_train, y_train, X_test, n_folds=10):\n",
    "  kfold = KFold(n_splits = n_folds, random_state = 1004)\n",
    "  \n",
    "  # 최종 모델에서 사용할 데이터 셋 세팅 (0 값으로)\n",
    "  # 만약 shape가 (100,10)이었으면 폴드의 검증 과정 중 저장할 데이터는 (100,1)으로 한다.\n",
    "  train_fold_predict = np.zeros((X_train.shape[0],1))\n",
    "  # test 는 X_test 값을 이용해서 매 폴드마다 예측을 하기 때문에 (100, fold갯수) 모양이다.\n",
    "  # 해당 폴드마다 X_test의 예측 값을 fold 에 넣는다! meta model 이 쓸꺼임\n",
    "  test_predict = np.zeros((X_test.shape[0], n_folds))\n",
    "  print('model : ',model.__class__.__name__)\n",
    "  \n",
    "  for cnt, (train_index, valid_index) in enumerate(kfold.split(X_train)):\n",
    "    X_train_ = X_train.iloc[train_index]\n",
    "    y_train_ = y_train.iloc[train_index]\n",
    "    X_valid = X_train.iloc[valid_index]\n",
    "\n",
    "    # 학습\n",
    "    model.fit(X_train_,y_train_)\n",
    "    # 해당 폴드에서 학습된 모델에다가 검증 데이터 (X_valid)로 예측 후 저장\n",
    "    train_fold_predict[valid_index,:] = model.predict(X_valid).reshape(-1,1)\n",
    "    # 해당 폴드에서 생성된 모델에게 원본 테스트 데이터 (X_test)를 이용해서 예측하고 저장\n",
    "    test_predict[:,cnt] = model.predict(X_test)\n",
    "  \n",
    "  # for 문이 끝나면 test_pred는 평균을 내서 하나로 합친다.\n",
    "  test_predict_mean = np.mean(test_predict, axis=1).reshape(-1,1)\n",
    "  \n",
    "  return train_fold_predict, test_predict_mean"
   ]
  },
  {
   "cell_type": "code",
   "execution_count": 204,
   "metadata": {},
   "outputs": [
    {
     "name": "stdout",
     "output_type": "stream",
     "text": [
      "model :  Pipeline\n",
      "model :  Pipeline\n",
      "model :  LGBMRegressor\n"
     ]
    }
   ],
   "source": [
    "# base model = dt, rf, lgbm\n",
    "dt_train, dt_test = get_stacking_data(dt, X_train, y_train, X_test)\n",
    "rf_train, rf_test = get_stacking_data(rf, X_train, y_train, X_test)\n",
    "lgbm_train, lgbm_test = get_stacking_data(lgbm, X_train, y_train, X_test)"
   ]
  },
  {
   "cell_type": "code",
   "execution_count": 205,
   "metadata": {},
   "outputs": [
    {
     "name": "stdout",
     "output_type": "stream",
     "text": [
      "orginal:  (26160, 7) (11212, 7)\n",
      "new:  (26160, 3) (11212, 3)\n"
     ]
    }
   ],
   "source": [
    "new_X_train = np.concatenate((dt_train, rf_train, lgbm_train), axis=1)\n",
    "new_X_test = np.concatenate((dt_test, rf_test, lgbm_test), axis=1)\n",
    "\n",
    "print('orginal: ', X_train.shape, X_test.shape)\n",
    "print('new: ', new_X_train.shape, new_X_test.shape)"
   ]
  },
  {
   "cell_type": "code",
   "execution_count": 206,
   "metadata": {},
   "outputs": [
    {
     "name": "stdout",
     "output_type": "stream",
     "text": [
      "accuracy: 9344136.1069\n"
     ]
    }
   ],
   "source": [
    "xgboost.fit(new_X_train, y_train)\n",
    "pred = xgboost.predict(new_X_test)\n",
    "print('accuracy: {:.4f}'.format(mape(y_test, pred)))\n"
   ]
  },
  {
   "cell_type": "markdown",
   "metadata": {},
   "source": [
    "정리 : ensemble을 시도하면, base model 보다 mape를 낮출 수 있었으나, 기본적으로 모두 오차율이 크게 나왔습니다. \n",
    "아무래도 기존 feature만으로는 target을 잘 설명할 수 없는 것 같습니다. "
   ]
  },
  {
   "cell_type": "code",
   "execution_count": null,
   "metadata": {},
   "outputs": [],
   "source": []
  }
 ],
 "metadata": {
  "kernelspec": {
   "display_name": "Python 3",
   "language": "python",
   "name": "python3"
  },
  "language_info": {
   "codemirror_mode": {
    "name": "ipython",
    "version": 3
   },
   "file_extension": ".py",
   "mimetype": "text/x-python",
   "name": "python",
   "nbconvert_exporter": "python",
   "pygments_lexer": "ipython3",
   "version": "3.7.4"
  }
 },
 "nbformat": 4,
 "nbformat_minor": 2
}
