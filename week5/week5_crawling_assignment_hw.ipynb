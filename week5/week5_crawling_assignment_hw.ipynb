{
 "cells": [
  {
   "cell_type": "markdown",
   "metadata": {},
   "source": [
    "# 네이버 자주 본 뉴스 크롤링\n",
    "\n",
    "1) 수집내용\n",
    "\n",
    "    1) 많이본뉴스–섹션별(정치~IT/과학)Top5기사제목,신문사,뷰 \n",
    "    2) 해당 기사별 기사 내용, 리액션 (좋아요 ~ 후속기사 원해요)\n",
    "    \n",
    "2) 수집방법(택1)\n",
    "\n",
    "    1) [기본] Requests , BeautifulSoup, Selenium\n",
    "    2) [심화] Requests, BeautifulSoup (+ 멀티프로세싱)\n",
    "    \n",
    "3) 수집범위 및 저장\n",
    "\n",
    "    1) 2019년7월21일~2020년8월20일(동작가능,실제구동x)\n",
    "    2) 하나의 파일로 저장 (방식 자유)\n",
    "    3) Ex)총6섹션*Top5*365일=10950rows"
   ]
  },
  {
   "cell_type": "code",
   "execution_count": 1,
   "metadata": {},
   "outputs": [],
   "source": [
    "import requests\n",
    "import pandas as pd\n",
    "from bs4 import BeautifulSoup\n",
    "\n",
    "from selenium import webdriver\n",
    "from IPython.display import Image\n",
    "import os\n",
    "from pathlib import Path\n",
    "import glob\n",
    "\n",
    "import datetime"
   ]
  },
  {
   "cell_type": "markdown",
   "metadata": {},
   "source": [
    "## 날짜 String 생성"
   ]
  },
  {
   "cell_type": "code",
   "execution_count": 2,
   "metadata": {},
   "outputs": [
    {
     "data": {
      "text/plain": [
       "'20190721'"
      ]
     },
     "execution_count": 2,
     "metadata": {},
     "output_type": "execute_result"
    }
   ],
   "source": [
    "start_date = datetime.datetime(2019, 7, 21, 3, 22, 32)\n",
    "# start_date.strftime(\"%Y%m%d %Y-%m-%d 시간 표시외 %H:%M:%S 아무거나 넣어도 됩니다.\") #strftime 활용 예시\n",
    "start_date.strftime('%Y%m%d')"
   ]
  },
  {
   "cell_type": "code",
   "execution_count": 3,
   "metadata": {},
   "outputs": [],
   "source": [
    "def get_date_string(start_date, period=365):\n",
    "    # 20190721 형태의 Date String List 생성\n",
    "    return [\n",
    "        (start_date + datetime.timedelta(days=day)).strftime(\"%Y%m%d\")\n",
    "        for day in range(period)\n",
    "    ]"
   ]
  },
  {
   "cell_type": "code",
   "execution_count": 4,
   "metadata": {},
   "outputs": [],
   "source": [
    "date_string_list = get_date_string(start_date, 366)"
   ]
  },
  {
   "cell_type": "code",
   "execution_count": 5,
   "metadata": {},
   "outputs": [
    {
     "data": {
      "text/plain": [
       "('20190721', '20200720')"
      ]
     },
     "execution_count": 5,
     "metadata": {},
     "output_type": "execute_result"
    }
   ],
   "source": [
    "date_string_list[0], date_string_list[-1] # 생성 완료"
   ]
  },
  {
   "cell_type": "markdown",
   "metadata": {},
   "source": [
    "## Part 1. Request를 이용한 크롤링"
   ]
  },
  {
   "cell_type": "code",
   "execution_count": 313,
   "metadata": {},
   "outputs": [],
   "source": [
    "def get_top_news(date):\n",
    "    \"\"\"\n",
    "    해당 날짜의 자주 본 뉴스 30개에 대한 정보를 반환하는 함수입니다.\n",
    "    \"\"\"\n",
    "    url = f\"https://news.naver.com/main/ranking/popularDay.nhn?rankingType=popular_day&date={date}\" # 이부분을 잘 채워넣어주세요 (네이버 뉴스 자주보는 뉴스 링크에서 date를 제외한 부분)\n",
    "    res = requests.get(url)\n",
    "    soup = BeautifulSoup(res.text, \"html.parser\")\n",
    "    \n",
    "    result = []\n",
    "    \n",
    "    # soup.select를 잘 활용하여\n",
    "\n",
    "    for i in range(30):\n",
    "        # 1. 신문 제목 \n",
    "        # 2. 기사 링크 (a tag의 href 속성)\n",
    "        html = soup.select('.ranking_section > ol > li > dl > dt > a')[i]\n",
    "        title = html.attrs['title'] \n",
    "        link = html.attrs['href'] \n",
    "        \n",
    "        # 3. 신문사명\n",
    "        # 4. View\n",
    "        if (i+1) % 5 == 1: # dd tag의 경우, 각 섹션의 1위 기사\n",
    "            press = soup.select('.ranking_section > ol > li > dl > dd > span:nth-of-type(2)')[int(i//5)].text.strip()\n",
    "            view = soup.select('.ranking_section > ol > li > dl > dd > .count_view')[int(i//5)].text\n",
    "        else: # dt tag의 경우, 각 섹션의 2~5위 기사\n",
    "            press = soup.select('.ranking_section > ol > li > dl > dt > span:nth-of-type(1)')[int(i-((i//5)+1))].text.strip()\n",
    "            view = soup.select('.ranking_section > ol > li > dl > dt > .count_view')[int(i-((i//5)+1))].text\n",
    "           \n",
    "        result.append([title, link, press, view])\n",
    "\n",
    "    return result"
   ]
  },
  {
   "cell_type": "code",
   "execution_count": 317,
   "metadata": {},
   "outputs": [],
   "source": [
    "TEST_DATE_RANGE = 20 # 1년치 전체를 하는 것이 아닌 앞 20일치만 테스트 해보기 위함 (개인적으로 바꿔도 무방)\n",
    "\n",
    "news_data = []\n",
    "for date in date_string_list[:TEST_DATE_RANGE]:\n",
    "     news_data.extend(get_top_news(date)) # 결과로 나온 30개를 이어 붙임"
   ]
  },
  {
   "cell_type": "code",
   "execution_count": 318,
   "metadata": {},
   "outputs": [
    {
     "data": {
      "text/plain": [
       "600"
      ]
     },
     "execution_count": 318,
     "metadata": {},
     "output_type": "execute_result"
    }
   ],
   "source": [
    "len(news_data)"
   ]
  },
  {
   "cell_type": "code",
   "execution_count": 319,
   "metadata": {},
   "outputs": [
    {
     "data": {
      "text/plain": [
       "[['[단독] 황교안 딸 운영 사이트, 대학 진학 후 왜 문 닫았나',\n",
       "  '/main/ranking/read.nhn?mid=etc&sid1=111&rankingType=popular_day&oid=032&aid=0002952683&date=20190721&type=1&rankingSectionId=100&rankingSeq=1',\n",
       "  '경향신문',\n",
       "  '201,039'],\n",
       " ['조국 폭풍페북, 日주장 정면반박…\"친일파\" 표현은 野 반발',\n",
       "  '/main/ranking/read.nhn?mid=etc&sid1=111&rankingType=popular_day&oid=008&aid=0004251344&date=20190721&type=1&rankingSectionId=100&rankingSeq=2',\n",
       "  '머니투데이',\n",
       "  '185,396'],\n",
       " ['조국, 연일 對日 \\'항전\\' 주문…\"겁먹고 쫄지말자…싸워 이겨야\"',\n",
       "  '/main/ranking/read.nhn?mid=etc&sid1=111&rankingType=popular_day&oid=001&aid=0010969325&date=20190721&type=1&rankingSectionId=100&rankingSeq=3',\n",
       "  '연합뉴스',\n",
       "  '130,198'],\n",
       " ['[김순덕의 도발]복수를 하려면 아일랜드처럼!',\n",
       "  '/main/ranking/read.nhn?mid=etc&sid1=111&rankingType=popular_day&oid=020&aid=0003230442&date=20190721&type=1&rankingSectionId=100&rankingSeq=4',\n",
       "  '동아일보',\n",
       "  '120,897'],\n",
       " ['조국, 또 페북에 反日 선전전...\"文정부, 서희·이순신 역할⋯싸워야 한다. 쫄지 말자\"',\n",
       "  '/main/ranking/read.nhn?mid=etc&sid1=111&rankingType=popular_day&oid=023&aid=0003462170&date=20190721&type=1&rankingSectionId=100&rankingSeq=5',\n",
       "  '조선일보',\n",
       "  '119,463']]"
      ]
     },
     "execution_count": 319,
     "metadata": {},
     "output_type": "execute_result"
    }
   ],
   "source": [
    "news_data[:5] # 결과 예시"
   ]
  },
  {
   "cell_type": "code",
   "execution_count": 332,
   "metadata": {},
   "outputs": [],
   "source": [
    "# 결과물을 데이터 프레임으로 변환 및 Column Name 부여\n",
    "df_top_news = pd.DataFrame(news_data, columns=[\"title\", \"url\", \"press\", \"views\"])"
   ]
  },
  {
   "cell_type": "code",
   "execution_count": 333,
   "metadata": {},
   "outputs": [
    {
     "data": {
      "text/html": [
       "<div>\n",
       "<style scoped>\n",
       "    .dataframe tbody tr th:only-of-type {\n",
       "        vertical-align: middle;\n",
       "    }\n",
       "\n",
       "    .dataframe tbody tr th {\n",
       "        vertical-align: top;\n",
       "    }\n",
       "\n",
       "    .dataframe thead th {\n",
       "        text-align: right;\n",
       "    }\n",
       "</style>\n",
       "<table border=\"1\" class=\"dataframe\">\n",
       "  <thead>\n",
       "    <tr style=\"text-align: right;\">\n",
       "      <th></th>\n",
       "      <th>title</th>\n",
       "      <th>url</th>\n",
       "      <th>press</th>\n",
       "      <th>views</th>\n",
       "    </tr>\n",
       "  </thead>\n",
       "  <tbody>\n",
       "    <tr>\n",
       "      <th>0</th>\n",
       "      <td>[단독] 황교안 딸 운영 사이트, 대학 진학 후 왜 문 닫았나</td>\n",
       "      <td>/main/ranking/read.nhn?mid=etc&amp;sid1=111&amp;rankin...</td>\n",
       "      <td>경향신문</td>\n",
       "      <td>201,039</td>\n",
       "    </tr>\n",
       "    <tr>\n",
       "      <th>1</th>\n",
       "      <td>조국 폭풍페북, 日주장 정면반박…\"친일파\" 표현은 野 반발</td>\n",
       "      <td>/main/ranking/read.nhn?mid=etc&amp;sid1=111&amp;rankin...</td>\n",
       "      <td>머니투데이</td>\n",
       "      <td>185,396</td>\n",
       "    </tr>\n",
       "    <tr>\n",
       "      <th>2</th>\n",
       "      <td>조국, 연일 對日 '항전' 주문…\"겁먹고 쫄지말자…싸워 이겨야\"</td>\n",
       "      <td>/main/ranking/read.nhn?mid=etc&amp;sid1=111&amp;rankin...</td>\n",
       "      <td>연합뉴스</td>\n",
       "      <td>130,198</td>\n",
       "    </tr>\n",
       "    <tr>\n",
       "      <th>3</th>\n",
       "      <td>[김순덕의 도발]복수를 하려면 아일랜드처럼!</td>\n",
       "      <td>/main/ranking/read.nhn?mid=etc&amp;sid1=111&amp;rankin...</td>\n",
       "      <td>동아일보</td>\n",
       "      <td>120,897</td>\n",
       "    </tr>\n",
       "    <tr>\n",
       "      <th>4</th>\n",
       "      <td>조국, 또 페북에 反日 선전전...\"文정부, 서희·이순신 역할⋯싸워야 한다. 쫄지 말자\"</td>\n",
       "      <td>/main/ranking/read.nhn?mid=etc&amp;sid1=111&amp;rankin...</td>\n",
       "      <td>조선일보</td>\n",
       "      <td>119,463</td>\n",
       "    </tr>\n",
       "    <tr>\n",
       "      <th>...</th>\n",
       "      <td>...</td>\n",
       "      <td>...</td>\n",
       "      <td>...</td>\n",
       "      <td>...</td>\n",
       "    </tr>\n",
       "    <tr>\n",
       "      <th>595</th>\n",
       "      <td>갤노트10 만져본 미국인들 \"실물 보고싶어 일부러 찾아와\"</td>\n",
       "      <td>/main/ranking/read.nhn?mid=etc&amp;sid1=111&amp;rankin...</td>\n",
       "      <td>서울경제</td>\n",
       "      <td>173,703</td>\n",
       "    </tr>\n",
       "    <tr>\n",
       "      <th>596</th>\n",
       "      <td>\"유튜브 뛰어드니\"…월급 295만→536만원 '껑충' vs 소득 '극과 극'</td>\n",
       "      <td>/main/ranking/read.nhn?mid=etc&amp;sid1=111&amp;rankin...</td>\n",
       "      <td>뉴스1</td>\n",
       "      <td>134,014</td>\n",
       "    </tr>\n",
       "    <tr>\n",
       "      <th>597</th>\n",
       "      <td>[SNS 세상] \"공감이 최고의 위로\" 암 투병기 연재하는 뷰티 유튜버</td>\n",
       "      <td>/main/ranking/read.nhn?mid=etc&amp;sid1=111&amp;rankin...</td>\n",
       "      <td>연합뉴스</td>\n",
       "      <td>111,786</td>\n",
       "    </tr>\n",
       "    <tr>\n",
       "      <th>598</th>\n",
       "      <td>네이버·카카오 2분기 성적표 '희비'…하반기 '페이전쟁' 격돌</td>\n",
       "      <td>/main/ranking/read.nhn?mid=etc&amp;sid1=111&amp;rankin...</td>\n",
       "      <td>뉴스1</td>\n",
       "      <td>77,278</td>\n",
       "    </tr>\n",
       "    <tr>\n",
       "      <th>599</th>\n",
       "      <td>삼성전자 사장, 처음으로 '위기'를 말하다</td>\n",
       "      <td>/main/ranking/read.nhn?mid=etc&amp;sid1=111&amp;rankin...</td>\n",
       "      <td>조선일보</td>\n",
       "      <td>68,369</td>\n",
       "    </tr>\n",
       "  </tbody>\n",
       "</table>\n",
       "<p>600 rows × 4 columns</p>\n",
       "</div>"
      ],
      "text/plain": [
       "                                                 title  \\\n",
       "0                   [단독] 황교안 딸 운영 사이트, 대학 진학 후 왜 문 닫았나   \n",
       "1                     조국 폭풍페북, 日주장 정면반박…\"친일파\" 표현은 野 반발   \n",
       "2                  조국, 연일 對日 '항전' 주문…\"겁먹고 쫄지말자…싸워 이겨야\"   \n",
       "3                             [김순덕의 도발]복수를 하려면 아일랜드처럼!   \n",
       "4    조국, 또 페북에 反日 선전전...\"文정부, 서희·이순신 역할⋯싸워야 한다. 쫄지 말자\"   \n",
       "..                                                 ...   \n",
       "595                   갤노트10 만져본 미국인들 \"실물 보고싶어 일부러 찾아와\"   \n",
       "596         \"유튜브 뛰어드니\"…월급 295만→536만원 '껑충' vs 소득 '극과 극'   \n",
       "597            [SNS 세상] \"공감이 최고의 위로\" 암 투병기 연재하는 뷰티 유튜버   \n",
       "598                 네이버·카카오 2분기 성적표 '희비'…하반기 '페이전쟁' 격돌   \n",
       "599                            삼성전자 사장, 처음으로 '위기'를 말하다   \n",
       "\n",
       "                                                   url  press    views  \n",
       "0    /main/ranking/read.nhn?mid=etc&sid1=111&rankin...   경향신문  201,039  \n",
       "1    /main/ranking/read.nhn?mid=etc&sid1=111&rankin...  머니투데이  185,396  \n",
       "2    /main/ranking/read.nhn?mid=etc&sid1=111&rankin...   연합뉴스  130,198  \n",
       "3    /main/ranking/read.nhn?mid=etc&sid1=111&rankin...   동아일보  120,897  \n",
       "4    /main/ranking/read.nhn?mid=etc&sid1=111&rankin...   조선일보  119,463  \n",
       "..                                                 ...    ...      ...  \n",
       "595  /main/ranking/read.nhn?mid=etc&sid1=111&rankin...   서울경제  173,703  \n",
       "596  /main/ranking/read.nhn?mid=etc&sid1=111&rankin...    뉴스1  134,014  \n",
       "597  /main/ranking/read.nhn?mid=etc&sid1=111&rankin...   연합뉴스  111,786  \n",
       "598  /main/ranking/read.nhn?mid=etc&sid1=111&rankin...    뉴스1   77,278  \n",
       "599  /main/ranking/read.nhn?mid=etc&sid1=111&rankin...   조선일보   68,369  \n",
       "\n",
       "[600 rows x 4 columns]"
      ]
     },
     "execution_count": 333,
     "metadata": {},
     "output_type": "execute_result"
    }
   ],
   "source": [
    "df_top_news"
   ]
  },
  {
   "cell_type": "code",
   "execution_count": 334,
   "metadata": {},
   "outputs": [],
   "source": [
    "# URL 앞에  \"https://news.naver.com\" 붙이기\n",
    "df_top_news.url = \"https://news.naver.com\" + df_top_news.url"
   ]
  },
  {
   "cell_type": "code",
   "execution_count": 335,
   "metadata": {},
   "outputs": [
    {
     "data": {
      "text/html": [
       "<div>\n",
       "<style scoped>\n",
       "    .dataframe tbody tr th:only-of-type {\n",
       "        vertical-align: middle;\n",
       "    }\n",
       "\n",
       "    .dataframe tbody tr th {\n",
       "        vertical-align: top;\n",
       "    }\n",
       "\n",
       "    .dataframe thead th {\n",
       "        text-align: right;\n",
       "    }\n",
       "</style>\n",
       "<table border=\"1\" class=\"dataframe\">\n",
       "  <thead>\n",
       "    <tr style=\"text-align: right;\">\n",
       "      <th></th>\n",
       "      <th>title</th>\n",
       "      <th>url</th>\n",
       "      <th>press</th>\n",
       "      <th>views</th>\n",
       "    </tr>\n",
       "  </thead>\n",
       "  <tbody>\n",
       "    <tr>\n",
       "      <th>0</th>\n",
       "      <td>[단독] 황교안 딸 운영 사이트, 대학 진학 후 왜 문 닫았나</td>\n",
       "      <td>https://news.naver.com/main/ranking/read.nhn?m...</td>\n",
       "      <td>경향신문</td>\n",
       "      <td>201,039</td>\n",
       "    </tr>\n",
       "    <tr>\n",
       "      <th>1</th>\n",
       "      <td>조국 폭풍페북, 日주장 정면반박…\"친일파\" 표현은 野 반발</td>\n",
       "      <td>https://news.naver.com/main/ranking/read.nhn?m...</td>\n",
       "      <td>머니투데이</td>\n",
       "      <td>185,396</td>\n",
       "    </tr>\n",
       "    <tr>\n",
       "      <th>2</th>\n",
       "      <td>조국, 연일 對日 '항전' 주문…\"겁먹고 쫄지말자…싸워 이겨야\"</td>\n",
       "      <td>https://news.naver.com/main/ranking/read.nhn?m...</td>\n",
       "      <td>연합뉴스</td>\n",
       "      <td>130,198</td>\n",
       "    </tr>\n",
       "    <tr>\n",
       "      <th>3</th>\n",
       "      <td>[김순덕의 도발]복수를 하려면 아일랜드처럼!</td>\n",
       "      <td>https://news.naver.com/main/ranking/read.nhn?m...</td>\n",
       "      <td>동아일보</td>\n",
       "      <td>120,897</td>\n",
       "    </tr>\n",
       "    <tr>\n",
       "      <th>4</th>\n",
       "      <td>조국, 또 페북에 反日 선전전...\"文정부, 서희·이순신 역할⋯싸워야 한다. 쫄지 말자\"</td>\n",
       "      <td>https://news.naver.com/main/ranking/read.nhn?m...</td>\n",
       "      <td>조선일보</td>\n",
       "      <td>119,463</td>\n",
       "    </tr>\n",
       "    <tr>\n",
       "      <th>...</th>\n",
       "      <td>...</td>\n",
       "      <td>...</td>\n",
       "      <td>...</td>\n",
       "      <td>...</td>\n",
       "    </tr>\n",
       "    <tr>\n",
       "      <th>595</th>\n",
       "      <td>갤노트10 만져본 미국인들 \"실물 보고싶어 일부러 찾아와\"</td>\n",
       "      <td>https://news.naver.com/main/ranking/read.nhn?m...</td>\n",
       "      <td>서울경제</td>\n",
       "      <td>173,703</td>\n",
       "    </tr>\n",
       "    <tr>\n",
       "      <th>596</th>\n",
       "      <td>\"유튜브 뛰어드니\"…월급 295만→536만원 '껑충' vs 소득 '극과 극'</td>\n",
       "      <td>https://news.naver.com/main/ranking/read.nhn?m...</td>\n",
       "      <td>뉴스1</td>\n",
       "      <td>134,014</td>\n",
       "    </tr>\n",
       "    <tr>\n",
       "      <th>597</th>\n",
       "      <td>[SNS 세상] \"공감이 최고의 위로\" 암 투병기 연재하는 뷰티 유튜버</td>\n",
       "      <td>https://news.naver.com/main/ranking/read.nhn?m...</td>\n",
       "      <td>연합뉴스</td>\n",
       "      <td>111,786</td>\n",
       "    </tr>\n",
       "    <tr>\n",
       "      <th>598</th>\n",
       "      <td>네이버·카카오 2분기 성적표 '희비'…하반기 '페이전쟁' 격돌</td>\n",
       "      <td>https://news.naver.com/main/ranking/read.nhn?m...</td>\n",
       "      <td>뉴스1</td>\n",
       "      <td>77,278</td>\n",
       "    </tr>\n",
       "    <tr>\n",
       "      <th>599</th>\n",
       "      <td>삼성전자 사장, 처음으로 '위기'를 말하다</td>\n",
       "      <td>https://news.naver.com/main/ranking/read.nhn?m...</td>\n",
       "      <td>조선일보</td>\n",
       "      <td>68,369</td>\n",
       "    </tr>\n",
       "  </tbody>\n",
       "</table>\n",
       "<p>600 rows × 4 columns</p>\n",
       "</div>"
      ],
      "text/plain": [
       "                                                 title  \\\n",
       "0                   [단독] 황교안 딸 운영 사이트, 대학 진학 후 왜 문 닫았나   \n",
       "1                     조국 폭풍페북, 日주장 정면반박…\"친일파\" 표현은 野 반발   \n",
       "2                  조국, 연일 對日 '항전' 주문…\"겁먹고 쫄지말자…싸워 이겨야\"   \n",
       "3                             [김순덕의 도발]복수를 하려면 아일랜드처럼!   \n",
       "4    조국, 또 페북에 反日 선전전...\"文정부, 서희·이순신 역할⋯싸워야 한다. 쫄지 말자\"   \n",
       "..                                                 ...   \n",
       "595                   갤노트10 만져본 미국인들 \"실물 보고싶어 일부러 찾아와\"   \n",
       "596         \"유튜브 뛰어드니\"…월급 295만→536만원 '껑충' vs 소득 '극과 극'   \n",
       "597            [SNS 세상] \"공감이 최고의 위로\" 암 투병기 연재하는 뷰티 유튜버   \n",
       "598                 네이버·카카오 2분기 성적표 '희비'…하반기 '페이전쟁' 격돌   \n",
       "599                            삼성전자 사장, 처음으로 '위기'를 말하다   \n",
       "\n",
       "                                                   url  press    views  \n",
       "0    https://news.naver.com/main/ranking/read.nhn?m...   경향신문  201,039  \n",
       "1    https://news.naver.com/main/ranking/read.nhn?m...  머니투데이  185,396  \n",
       "2    https://news.naver.com/main/ranking/read.nhn?m...   연합뉴스  130,198  \n",
       "3    https://news.naver.com/main/ranking/read.nhn?m...   동아일보  120,897  \n",
       "4    https://news.naver.com/main/ranking/read.nhn?m...   조선일보  119,463  \n",
       "..                                                 ...    ...      ...  \n",
       "595  https://news.naver.com/main/ranking/read.nhn?m...   서울경제  173,703  \n",
       "596  https://news.naver.com/main/ranking/read.nhn?m...    뉴스1  134,014  \n",
       "597  https://news.naver.com/main/ranking/read.nhn?m...   연합뉴스  111,786  \n",
       "598  https://news.naver.com/main/ranking/read.nhn?m...    뉴스1   77,278  \n",
       "599  https://news.naver.com/main/ranking/read.nhn?m...   조선일보   68,369  \n",
       "\n",
       "[600 rows x 4 columns]"
      ]
     },
     "execution_count": 335,
     "metadata": {},
     "output_type": "execute_result"
    }
   ],
   "source": [
    "df_top_news"
   ]
  },
  {
   "cell_type": "markdown",
   "metadata": {},
   "source": [
    "## Part 2. Selenium을 이용한 크롤링"
   ]
  },
  {
   "cell_type": "code",
   "execution_count": 336,
   "metadata": {},
   "outputs": [],
   "source": [
    "driver_path =  os.path.join(Path().absolute(),  \"chromedriver\") # driver 경로 설정"
   ]
  },
  {
   "cell_type": "code",
   "execution_count": 338,
   "metadata": {},
   "outputs": [],
   "source": [
    "driver = webdriver.Chrome(driver_path) # Chrome driver 실행"
   ]
  },
  {
   "cell_type": "code",
   "execution_count": 339,
   "metadata": {},
   "outputs": [
    {
     "data": {
      "text/plain": [
       "0    https://news.naver.com/main/ranking/read.nhn?m...\n",
       "1    https://news.naver.com/main/ranking/read.nhn?m...\n",
       "2    https://news.naver.com/main/ranking/read.nhn?m...\n",
       "3    https://news.naver.com/main/ranking/read.nhn?m...\n",
       "4    https://news.naver.com/main/ranking/read.nhn?m...\n",
       "5    https://news.naver.com/main/ranking/read.nhn?m...\n",
       "6    https://news.naver.com/main/ranking/read.nhn?m...\n",
       "7    https://news.naver.com/main/ranking/read.nhn?m...\n",
       "8    https://news.naver.com/main/ranking/read.nhn?m...\n",
       "9    https://news.naver.com/main/ranking/read.nhn?m...\n",
       "Name: url, dtype: object"
      ]
     },
     "execution_count": 339,
     "metadata": {},
     "output_type": "execute_result"
    }
   ],
   "source": [
    "df_top_news.url[:10]"
   ]
  },
  {
   "cell_type": "code",
   "execution_count": 369,
   "metadata": {},
   "outputs": [],
   "source": [
    "NEWS_TEST_RANGE = 10\n",
    "for idx, news_url in enumerate(df_top_news.url[:NEWS_TEST_RANGE]):\n",
    "    # 드라이버 내에서 해당 URL로 이동\n",
    "    driver.get(news_url)\n",
    "    \n",
    "    ## BeautifulSoup 혹은 driver.find_element[s]_by_css_selector 을 이용하여 정보 파싱\n",
    "    # +기사 내용\n",
    "    content = driver.find_element_by_css_selector(\"#articleBodyContents\").text\n",
    "    \n",
    "    # +5가지 리액션 (좋아요, 훈훈해요, 슬퍼요, 화나요, 후속기사원해요) 투표 수\n",
    "    # 좋아요\n",
    "    good = driver.find_element_by_css_selector(\"#spiLayer > div._reactionModule.u_likeit > ul > li.u_likeit_list.good > a > span.u_likeit_list_count._count\").text\n",
    "    # 훈훈해요\n",
    "    warm = driver.find_element_by_css_selector(\"#spiLayer > div._reactionModule.u_likeit > ul > li.u_likeit_list.warm > a > span.u_likeit_list_count._count\").text\n",
    "    # 슬퍼요\n",
    "    sad = driver.find_element_by_css_selector(\"#spiLayer > div._reactionModule.u_likeit > ul > li.u_likeit_list.sad > a > span.u_likeit_list_count._count\").text\n",
    "    # 화나요\n",
    "    angry = driver.find_element_by_css_selector(\"#spiLayer > div._reactionModule.u_likeit > ul > li.u_likeit_list.angry > a > span.u_likeit_list_count._count\").text\n",
    "    # 후속기사 원해요\n",
    "    want = driver.find_element_by_css_selector(\"#spiLayer > div._reactionModule.u_likeit > ul > li.u_likeit_list.want > a > span.u_likeit_list_count._count\").text    \n",
    "    \n",
    "    # 예시로 content라는 변수에 기사 내용을 담고 Column \"content\"에 해당 내용 저장\n",
    "    df_top_news.loc[idx,\"content\"] = content\n",
    "    df_top_news.loc[idx,\"good\"] = good\n",
    "    df_top_news.loc[idx,\"warm\"] = warm\n",
    "    df_top_news.loc[idx,\"sad\"] = sad\n",
    "    df_top_news.loc[idx,\"angry\"] = angry\n",
    "    df_top_news.loc[idx,\"want\"] = want"
   ]
  },
  {
   "cell_type": "code",
   "execution_count": 370,
   "metadata": {},
   "outputs": [
    {
     "data": {
      "text/html": [
       "<div>\n",
       "<style scoped>\n",
       "    .dataframe tbody tr th:only-of-type {\n",
       "        vertical-align: middle;\n",
       "    }\n",
       "\n",
       "    .dataframe tbody tr th {\n",
       "        vertical-align: top;\n",
       "    }\n",
       "\n",
       "    .dataframe thead th {\n",
       "        text-align: right;\n",
       "    }\n",
       "</style>\n",
       "<table border=\"1\" class=\"dataframe\">\n",
       "  <thead>\n",
       "    <tr style=\"text-align: right;\">\n",
       "      <th></th>\n",
       "      <th>title</th>\n",
       "      <th>url</th>\n",
       "      <th>press</th>\n",
       "      <th>views</th>\n",
       "      <th>content</th>\n",
       "      <th>good</th>\n",
       "      <th>warm</th>\n",
       "      <th>sad</th>\n",
       "      <th>angry</th>\n",
       "      <th>want</th>\n",
       "    </tr>\n",
       "  </thead>\n",
       "  <tbody>\n",
       "    <tr>\n",
       "      <th>0</th>\n",
       "      <td>[단독] 황교안 딸 운영 사이트, 대학 진학 후 왜 문 닫았나</td>\n",
       "      <td>https://news.naver.com/main/ranking/read.nhn?m...</td>\n",
       "      <td>경향신문</td>\n",
       "      <td>201,039</td>\n",
       "      <td>중 3 때 오빠와 장관상이어 고3 때도 ‘장함모’ 활동으로 자원봉사대회 금상\\n\\n...</td>\n",
       "      <td>131</td>\n",
       "      <td>16</td>\n",
       "      <td>17</td>\n",
       "      <td>2,605</td>\n",
       "      <td>121</td>\n",
       "    </tr>\n",
       "    <tr>\n",
       "      <th>1</th>\n",
       "      <td>조국 폭풍페북, 日주장 정면반박…\"친일파\" 표현은 野 반발</td>\n",
       "      <td>https://news.naver.com/main/ranking/read.nhn?m...</td>\n",
       "      <td>머니투데이</td>\n",
       "      <td>185,396</td>\n",
       "      <td>[머니투데이 김성휘 ,백지수 기자] [[the300]징용판결 해설 글 \"대통령 법률...</td>\n",
       "      <td>1,710</td>\n",
       "      <td>32</td>\n",
       "      <td>13</td>\n",
       "      <td>6,058</td>\n",
       "      <td>48</td>\n",
       "    </tr>\n",
       "    <tr>\n",
       "      <th>2</th>\n",
       "      <td>조국, 연일 對日 '항전' 주문…\"겁먹고 쫄지말자…싸워 이겨야\"</td>\n",
       "      <td>https://news.naver.com/main/ranking/read.nhn?m...</td>\n",
       "      <td>연합뉴스</td>\n",
       "      <td>130,198</td>\n",
       "      <td>\"文정부, 서희와 이순신 역할 함께 수행…지레 겁먹지 말아야\"\\n\\n\"文정부 매도 ...</td>\n",
       "      <td>1,799</td>\n",
       "      <td>19</td>\n",
       "      <td>13</td>\n",
       "      <td>9,120</td>\n",
       "      <td>30</td>\n",
       "    </tr>\n",
       "    <tr>\n",
       "      <th>3</th>\n",
       "      <td>[김순덕의 도발]복수를 하려면 아일랜드처럼!</td>\n",
       "      <td>https://news.naver.com/main/ranking/read.nhn?m...</td>\n",
       "      <td>동아일보</td>\n",
       "      <td>120,897</td>\n",
       "      <td>친일잔재를 청산하고 한번도 경험하지 못한 나라로 가는 것이 목적이라면, 문재인 정부...</td>\n",
       "      <td>0</td>\n",
       "      <td>19</td>\n",
       "      <td>16</td>\n",
       "      <td>623</td>\n",
       "      <td>37</td>\n",
       "    </tr>\n",
       "    <tr>\n",
       "      <th>4</th>\n",
       "      <td>조국, 또 페북에 反日 선전전...\"文정부, 서희·이순신 역할⋯싸워야 한다. 쫄지 말자\"</td>\n",
       "      <td>https://news.naver.com/main/ranking/read.nhn?m...</td>\n",
       "      <td>조선일보</td>\n",
       "      <td>119,463</td>\n",
       "      <td>\"문재인 정부, 국익 수호 위해 '서희' '이순신' 역할 함께 수행\"\\n\\n\"법적·...</td>\n",
       "      <td>0</td>\n",
       "      <td>13</td>\n",
       "      <td>14</td>\n",
       "      <td>11,468</td>\n",
       "      <td>38</td>\n",
       "    </tr>\n",
       "  </tbody>\n",
       "</table>\n",
       "</div>"
      ],
      "text/plain": [
       "                                               title  \\\n",
       "0                 [단독] 황교안 딸 운영 사이트, 대학 진학 후 왜 문 닫았나   \n",
       "1                   조국 폭풍페북, 日주장 정면반박…\"친일파\" 표현은 野 반발   \n",
       "2                조국, 연일 對日 '항전' 주문…\"겁먹고 쫄지말자…싸워 이겨야\"   \n",
       "3                           [김순덕의 도발]복수를 하려면 아일랜드처럼!   \n",
       "4  조국, 또 페북에 反日 선전전...\"文정부, 서희·이순신 역할⋯싸워야 한다. 쫄지 말자\"   \n",
       "\n",
       "                                                 url  press    views  \\\n",
       "0  https://news.naver.com/main/ranking/read.nhn?m...   경향신문  201,039   \n",
       "1  https://news.naver.com/main/ranking/read.nhn?m...  머니투데이  185,396   \n",
       "2  https://news.naver.com/main/ranking/read.nhn?m...   연합뉴스  130,198   \n",
       "3  https://news.naver.com/main/ranking/read.nhn?m...   동아일보  120,897   \n",
       "4  https://news.naver.com/main/ranking/read.nhn?m...   조선일보  119,463   \n",
       "\n",
       "                                             content   good warm sad   angry  \\\n",
       "0  중 3 때 오빠와 장관상이어 고3 때도 ‘장함모’ 활동으로 자원봉사대회 금상\\n\\n...    131   16  17   2,605   \n",
       "1  [머니투데이 김성휘 ,백지수 기자] [[the300]징용판결 해설 글 \"대통령 법률...  1,710   32  13   6,058   \n",
       "2  \"文정부, 서희와 이순신 역할 함께 수행…지레 겁먹지 말아야\"\\n\\n\"文정부 매도 ...  1,799   19  13   9,120   \n",
       "3  친일잔재를 청산하고 한번도 경험하지 못한 나라로 가는 것이 목적이라면, 문재인 정부...      0   19  16     623   \n",
       "4  \"문재인 정부, 국익 수호 위해 '서희' '이순신' 역할 함께 수행\"\\n\\n\"법적·...      0   13  14  11,468   \n",
       "\n",
       "  want  \n",
       "0  121  \n",
       "1   48  \n",
       "2   30  \n",
       "3   37  \n",
       "4   38  "
      ]
     },
     "execution_count": 370,
     "metadata": {},
     "output_type": "execute_result"
    }
   ],
   "source": [
    "df_top_news.head(5)\n",
    "\n",
    "# content 앞 전처리할 필요가 없었습니다!"
   ]
  },
  {
   "cell_type": "markdown",
   "metadata": {},
   "source": [
    "# 데이터 저장\n",
    "\n",
    "> 파일 형태로 크롤링한 데이터를 저장"
   ]
  },
  {
   "cell_type": "code",
   "execution_count": 372,
   "metadata": {},
   "outputs": [],
   "source": [
    "df_top_news.to_csv('crawling.csv')"
   ]
  },
  {
   "cell_type": "code",
   "execution_count": null,
   "metadata": {},
   "outputs": [],
   "source": []
  }
 ],
 "metadata": {
  "kernelspec": {
   "display_name": "Python 3",
   "language": "python",
   "name": "python3"
  },
  "language_info": {
   "codemirror_mode": {
    "name": "ipython",
    "version": 3
   },
   "file_extension": ".py",
   "mimetype": "text/x-python",
   "name": "python",
   "nbconvert_exporter": "python",
   "pygments_lexer": "ipython3",
   "version": "3.7.4"
  }
 },
 "nbformat": 4,
 "nbformat_minor": 4
}
