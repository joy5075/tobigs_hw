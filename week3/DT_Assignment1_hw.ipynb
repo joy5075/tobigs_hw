{
 "cells": [
  {
   "cell_type": "markdown",
   "metadata": {},
   "source": [
    "# DT Assignment1"
   ]
  },
  {
   "cell_type": "markdown",
   "metadata": {},
   "source": [
    "# Data Loading"
   ]
  },
  {
   "cell_type": "code",
   "execution_count": 1,
   "metadata": {},
   "outputs": [],
   "source": [
    "import pandas as pd \n",
    "import numpy as np"
   ]
  },
  {
   "cell_type": "code",
   "execution_count": 2,
   "metadata": {},
   "outputs": [
    {
     "data": {
      "text/html": [
       "<div>\n",
       "<style scoped>\n",
       "    .dataframe tbody tr th:only-of-type {\n",
       "        vertical-align: middle;\n",
       "    }\n",
       "\n",
       "    .dataframe tbody tr th {\n",
       "        vertical-align: top;\n",
       "    }\n",
       "\n",
       "    .dataframe thead th {\n",
       "        text-align: right;\n",
       "    }\n",
       "</style>\n",
       "<table border=\"1\" class=\"dataframe\">\n",
       "  <thead>\n",
       "    <tr style=\"text-align: right;\">\n",
       "      <th></th>\n",
       "      <th>age</th>\n",
       "      <th>income</th>\n",
       "      <th>student</th>\n",
       "      <th>credit_rating</th>\n",
       "      <th>class_buys_computer</th>\n",
       "    </tr>\n",
       "  </thead>\n",
       "  <tbody>\n",
       "    <tr>\n",
       "      <th>0</th>\n",
       "      <td>youth</td>\n",
       "      <td>high</td>\n",
       "      <td>no</td>\n",
       "      <td>fair</td>\n",
       "      <td>no</td>\n",
       "    </tr>\n",
       "    <tr>\n",
       "      <th>1</th>\n",
       "      <td>youth</td>\n",
       "      <td>high</td>\n",
       "      <td>no</td>\n",
       "      <td>excellent</td>\n",
       "      <td>no</td>\n",
       "    </tr>\n",
       "    <tr>\n",
       "      <th>2</th>\n",
       "      <td>middle_aged</td>\n",
       "      <td>high</td>\n",
       "      <td>no</td>\n",
       "      <td>fair</td>\n",
       "      <td>yes</td>\n",
       "    </tr>\n",
       "    <tr>\n",
       "      <th>3</th>\n",
       "      <td>senior</td>\n",
       "      <td>medium</td>\n",
       "      <td>no</td>\n",
       "      <td>fair</td>\n",
       "      <td>yes</td>\n",
       "    </tr>\n",
       "    <tr>\n",
       "      <th>4</th>\n",
       "      <td>senior</td>\n",
       "      <td>low</td>\n",
       "      <td>yes</td>\n",
       "      <td>fair</td>\n",
       "      <td>yes</td>\n",
       "    </tr>\n",
       "    <tr>\n",
       "      <th>5</th>\n",
       "      <td>senior</td>\n",
       "      <td>low</td>\n",
       "      <td>yes</td>\n",
       "      <td>excellent</td>\n",
       "      <td>no</td>\n",
       "    </tr>\n",
       "    <tr>\n",
       "      <th>6</th>\n",
       "      <td>middle_aged</td>\n",
       "      <td>low</td>\n",
       "      <td>yes</td>\n",
       "      <td>excellent</td>\n",
       "      <td>yes</td>\n",
       "    </tr>\n",
       "    <tr>\n",
       "      <th>7</th>\n",
       "      <td>youth</td>\n",
       "      <td>medium</td>\n",
       "      <td>no</td>\n",
       "      <td>fair</td>\n",
       "      <td>no</td>\n",
       "    </tr>\n",
       "    <tr>\n",
       "      <th>8</th>\n",
       "      <td>youth</td>\n",
       "      <td>low</td>\n",
       "      <td>yes</td>\n",
       "      <td>fair</td>\n",
       "      <td>yes</td>\n",
       "    </tr>\n",
       "    <tr>\n",
       "      <th>9</th>\n",
       "      <td>senior</td>\n",
       "      <td>medium</td>\n",
       "      <td>yes</td>\n",
       "      <td>fair</td>\n",
       "      <td>yes</td>\n",
       "    </tr>\n",
       "    <tr>\n",
       "      <th>10</th>\n",
       "      <td>youth</td>\n",
       "      <td>medium</td>\n",
       "      <td>yes</td>\n",
       "      <td>excellent</td>\n",
       "      <td>yes</td>\n",
       "    </tr>\n",
       "    <tr>\n",
       "      <th>11</th>\n",
       "      <td>middle_aged</td>\n",
       "      <td>medium</td>\n",
       "      <td>no</td>\n",
       "      <td>excellent</td>\n",
       "      <td>yes</td>\n",
       "    </tr>\n",
       "    <tr>\n",
       "      <th>12</th>\n",
       "      <td>middle_aged</td>\n",
       "      <td>high</td>\n",
       "      <td>yes</td>\n",
       "      <td>fair</td>\n",
       "      <td>yes</td>\n",
       "    </tr>\n",
       "    <tr>\n",
       "      <th>13</th>\n",
       "      <td>senior</td>\n",
       "      <td>medium</td>\n",
       "      <td>no</td>\n",
       "      <td>excellent</td>\n",
       "      <td>no</td>\n",
       "    </tr>\n",
       "  </tbody>\n",
       "</table>\n",
       "</div>"
      ],
      "text/plain": [
       "            age  income student credit_rating class_buys_computer\n",
       "0         youth    high      no          fair                  no\n",
       "1         youth    high      no     excellent                  no\n",
       "2   middle_aged    high      no          fair                 yes\n",
       "3        senior  medium      no          fair                 yes\n",
       "4        senior     low     yes          fair                 yes\n",
       "5        senior     low     yes     excellent                  no\n",
       "6   middle_aged     low     yes     excellent                 yes\n",
       "7         youth  medium      no          fair                  no\n",
       "8         youth     low     yes          fair                 yes\n",
       "9        senior  medium     yes          fair                 yes\n",
       "10        youth  medium     yes     excellent                 yes\n",
       "11  middle_aged  medium      no     excellent                 yes\n",
       "12  middle_aged    high     yes          fair                 yes\n",
       "13       senior  medium      no     excellent                  no"
      ]
     },
     "execution_count": 2,
     "metadata": {},
     "output_type": "execute_result"
    }
   ],
   "source": [
    "pd_data = pd.read_csv('https://raw.githubusercontent.com/AugustLONG/ML01/master/01decisiontree/AllElectronics.csv')\n",
    "pd_data.drop(\"RID\",axis=1, inplace = True) #RID는 그냥 순서라서 삭제\n",
    "pd_data"
   ]
  },
  {
   "cell_type": "markdown",
   "metadata": {},
   "source": [
    "# 1. Gini 계수를 구하는 함수 만들기"
   ]
  },
  {
   "cell_type": "markdown",
   "metadata": {},
   "source": [
    "- Input: df(데이터), label(타겟변수명)\n",
    "- 해당 결과는 아래와 같이 나와야 합니다."
   ]
  },
  {
   "cell_type": "markdown",
   "metadata": {},
   "source": [
    "$ Gini(D_i) = 1 - \\sum_j^m{p_j}^2$"
   ]
  },
  {
   "cell_type": "code",
   "execution_count": 11,
   "metadata": {},
   "outputs": [
    {
     "data": {
      "text/plain": [
       "0.4591836734693877"
      ]
     },
     "execution_count": 11,
     "metadata": {},
     "output_type": "execute_result"
    }
   ],
   "source": [
    "# get_gini(pd_data,'class_buys_computer')"
   ]
  },
  {
   "cell_type": "code",
   "execution_count": 4,
   "metadata": {},
   "outputs": [],
   "source": [
    "def get_gini(df, label):\n",
    "    \n",
    "    # label의 class를 담은 list\n",
    "    label_class = df[label].unique()\n",
    "    \n",
    "    # score : 각 class의 확률값의 제곱의 합\n",
    "    score = 0\n",
    "    for i in label_class:\n",
    "        p = sum(df[label]==i) / len(df[label])\n",
    "        score += p*p\n",
    "\n",
    "    gini = 1 - score\n",
    "    \n",
    "    return gini    "
   ]
  },
  {
   "cell_type": "code",
   "execution_count": 5,
   "metadata": {
    "scrolled": false
   },
   "outputs": [
    {
     "data": {
      "text/plain": [
       "0.4591836734693877"
      ]
     },
     "execution_count": 5,
     "metadata": {},
     "output_type": "execute_result"
    }
   ],
   "source": [
    "get_gini(pd_data,'class_buys_computer')"
   ]
  },
  {
   "cell_type": "markdown",
   "metadata": {},
   "source": [
    "# 2. Feature의 Class를 이진 분류로 만들기\n",
    " ## ex) {A,B,C} -> ({A}, {B,C}), ({B}, {A,C}), ({C}, {A,B})"
   ]
  },
  {
   "cell_type": "markdown",
   "metadata": {},
   "source": [
    "- Input: df(데이터), attribute(Gini index를 구하고자 하는 변수명)\n",
    "- 해당 결과는 아래와 같이 나와야 합니다."
   ]
  },
  {
   "cell_type": "code",
   "execution_count": 10,
   "metadata": {},
   "outputs": [
    {
     "data": {
      "text/plain": [
       "[['youth'],\n",
       " ['middle_aged'],\n",
       " ['youth', 'middle_aged'],\n",
       " ['senior'],\n",
       " ['youth', 'senior'],\n",
       " ['middle_aged', 'senior']]"
      ]
     },
     "execution_count": 10,
     "metadata": {},
     "output_type": "execute_result"
    }
   ],
   "source": [
    "# get_binary_split(pd_data,\"age\")"
   ]
  },
  {
   "cell_type": "code",
   "execution_count": 7,
   "metadata": {},
   "outputs": [],
   "source": [
    "def get_binary_split(df, attribute):\n",
    "    \n",
    "    # gini index를 구하고자하는 변수의 class\n",
    "    att_class = df[attribute].unique()\n",
    "    result = []\n",
    "    \n",
    "    # 변수의 class가 3개 이상인 경우 차집합 개념을 통해 이진분류\n",
    "    if len(att_class) > 2:\n",
    "        for i in att_class:\n",
    "            result.append([i])\n",
    "            result.append(list(set(att_class)-set([i])))\n",
    "    else:\n",
    "        for i in att_class:\n",
    "            result.append([i])\n",
    "    \n",
    "    return result"
   ]
  },
  {
   "cell_type": "code",
   "execution_count": 8,
   "metadata": {},
   "outputs": [
    {
     "data": {
      "text/plain": [
       "[['youth'],\n",
       " ['middle_aged', 'senior'],\n",
       " ['middle_aged'],\n",
       " ['youth', 'senior'],\n",
       " ['senior'],\n",
       " ['youth', 'middle_aged']]"
      ]
     },
     "execution_count": 8,
     "metadata": {},
     "output_type": "execute_result"
    }
   ],
   "source": [
    "get_binary_split(pd_data,\"age\")"
   ]
  },
  {
   "cell_type": "markdown",
   "metadata": {},
   "source": [
    "# 3. 다음은 모든 이진분류의 경우의 Gini index를 구하는 함수 만들기\n",
    "- 위에서 완성한 두 함수를 사용하여 만들어주세요!\n",
    "- 해당 결과는 아래와 같이 나와야 합니다."
   ]
  },
  {
   "cell_type": "markdown",
   "metadata": {},
   "source": [
    "$Gini(A) = \\sum_{j=1}^2 {|D_j|\\over|D|}*Gini(D_i)$"
   ]
  },
  {
   "cell_type": "code",
   "execution_count": 10,
   "metadata": {},
   "outputs": [
    {
     "data": {
      "text/plain": [
       "[['youth'],\n",
       " ['middle_aged'],\n",
       " ['youth', 'middle_aged'],\n",
       " ['senior'],\n",
       " ['youth', 'senior'],\n",
       " ['middle_aged', 'senior']]"
      ]
     },
     "execution_count": 10,
     "metadata": {},
     "output_type": "execute_result"
    }
   ],
   "source": [
    "# get_binary_split(pd_data,\"age\")"
   ]
  },
  {
   "cell_type": "markdown",
   "metadata": {},
   "source": [
    "- 특징: ex. age의 경우 gini_index 값을 비교해보면 이진분류된 class간의 gini index가 동일합니다. <br>\n",
    "youth = middle_aged_senior <br>\n",
    "middle_aged = youth_senior <br>\n",
    "senior = youth_middle_aged <br>\n",
    "<br>\n",
    "(참고로, 식을 생각하면 당연한 이야기) <br>\n",
    "$Gini_{age=youth} = (age=youth인\\ Gini(D_i)) + (age=middle\\ aged, senior인\\ Gini(D_i))$"
   ]
  },
  {
   "cell_type": "code",
   "execution_count": 10,
   "metadata": {},
   "outputs": [],
   "source": [
    "def get_attribute_gini_index(df, attribute, label):\n",
    "\n",
    "    result = {}\n",
    "    \n",
    "    # 반복문을 통해 모든 이진분류의 경우의 gini index를 구합니다. \n",
    "    for i in get_binary_split(df, attribute):\n",
    "        \n",
    "        total = len(df[attribute]) # 해당 변수의 전체 갯수 (gini index 공식에서 D에 속함)\n",
    "        count_1 = count_2 = 0 # 해당 변수의 class에 해당하는 갯수 초기화 (gini index 공식에서 Dj에 속함)\n",
    "        \n",
    "        # 이진분류의 경우에 두 개 이상의 원소를 갖는 경우가 있으므로 케이스를 분리해서 gini index를 구합니다. \n",
    "        # 두 개 이상의 원소를 갖는 경우\n",
    "        if len(i)>1:\n",
    "            # 위에서 언급한 특징에서 idea를 얻어, 두 개 이상의 원소에 해당하지 않는, 나머지 원소의 gini 계수를 구해줍니다. \n",
    "            gini_1 = get_gini(df[df[attribute]==''.join(set(df[attribute].unique())-set(i))], 'class_buys_computer')\n",
    "            gini_2 = get_gini(df[df[attribute]!=''.join(set(df[attribute].unique())-set(i))], 'class_buys_computer')\n",
    "\n",
    "            count_1 = sum(df[attribute]==''.join(set(df[attribute].unique())-set(i)))\n",
    "            count_2 = total - count_1\n",
    "\n",
    "        # 한 개의 원소를 갖는 경우\n",
    "        else:\n",
    "            gini_1 = get_gini(df[df[attribute]==''.join(i)], 'class_buys_computer')\n",
    "            gini_2 = get_gini(df[df[attribute]!=''.join(i)], 'class_buys_computer')\n",
    "\n",
    "            count_1 = sum(df[attribute]==''.join(i))\n",
    "            count_2 = total - count_1\n",
    "\n",
    "        # gini index를 구해줍니다. \n",
    "        gini_index = (count_1/total)*gini_1 + (count_2/total)*gini_2\n",
    "\n",
    "        result['_'.join(i)] = gini_index\n",
    "    \n",
    "    return result"
   ]
  },
  {
   "cell_type": "code",
   "execution_count": 11,
   "metadata": {
    "scrolled": true
   },
   "outputs": [
    {
     "data": {
      "text/plain": [
       "{'youth': 0.3936507936507937,\n",
       " 'middle_aged_senior': 0.3936507936507937,\n",
       " 'middle_aged': 0.35714285714285715,\n",
       " 'youth_senior': 0.35714285714285715,\n",
       " 'senior': 0.45714285714285713,\n",
       " 'youth_middle_aged': 0.45714285714285713}"
      ]
     },
     "execution_count": 11,
     "metadata": {},
     "output_type": "execute_result"
    }
   ],
   "source": [
    "get_attribute_gini_index(pd_data, \"age\", \"class_buys_computer\")"
   ]
  },
  {
   "cell_type": "markdown",
   "metadata": {},
   "source": [
    "여기서 가장 작은 Gini index값을 가지는 class를 기준으로 split해야겠죠?"
   ]
  },
  {
   "cell_type": "code",
   "execution_count": 12,
   "metadata": {},
   "outputs": [
    {
     "data": {
      "text/plain": [
       "('middle_aged', 0.35714285714285715)"
      ]
     },
     "execution_count": 12,
     "metadata": {},
     "output_type": "execute_result"
    }
   ],
   "source": [
    "min(get_attribute_gini_index(pd_data, \"age\", \"class_buys_computer\").items())"
   ]
  },
  {
   "cell_type": "markdown",
   "metadata": {},
   "source": [
    "# 다음의 문제를 위에서 작성한 함수를 통해 구한 값으로 보여주세요!\n",
    "## 문제1) 변수 ‘income’의 이진분류 결과를 보여주세요.\n",
    "\n",
    "## 문제2) 분류를 하는 데 가장 중요한 변수를 선정하고, 해당 변수의 Gini index를 제시해주세요.\n",
    "\n",
    "## 문제3) 문제 2에서 제시한 feature로 DataFrame을 split한 후 나눠진 2개의 DataFrame에서 각각   다음으로 중요한 변수를 선정하고 해당 변수의 Gini index를 제시해주세요."
   ]
  },
  {
   "cell_type": "code",
   "execution_count": 13,
   "metadata": {
    "scrolled": true
   },
   "outputs": [
    {
     "data": {
      "text/plain": [
       "[['high'],\n",
       " ['low', 'medium'],\n",
       " ['medium'],\n",
       " ['low', 'high'],\n",
       " ['low'],\n",
       " ['high', 'medium']]"
      ]
     },
     "execution_count": 13,
     "metadata": {},
     "output_type": "execute_result"
    }
   ],
   "source": [
    "##문제1 답안\n",
    "\n",
    "get_binary_split(pd_data, 'income')"
   ]
  },
  {
   "cell_type": "code",
   "execution_count": 14,
   "metadata": {},
   "outputs": [
    {
     "data": {
      "text/plain": [
       "\"age:('middle_aged', 0.35714285714285715)\""
      ]
     },
     "execution_count": 14,
     "metadata": {},
     "output_type": "execute_result"
    }
   ],
   "source": [
    "##문제2 답안\n",
    "\n",
    "def important_feature(df, label):\n",
    "    # 각 feature의 minimum gini index와 class를 구합니다. \n",
    "    minimum = {}\n",
    "\n",
    "    for i in df.columns[:-1]:\n",
    "        minimum[i] = min(get_attribute_gini_index(df, i, label).items())\n",
    "\n",
    "    # 반복문을 돌면서 가장 작은 불순도를 갖는 변수와 해당 변수의 gini index를 구합니다. \n",
    "    result = ''\n",
    "    c = 1\n",
    "    \n",
    "    for k, v in minimum.items():\n",
    "        if v[1] < c :\n",
    "            result = str(k)+':'+str(v)\n",
    "            c = v[1]\n",
    "        \n",
    "        # gini index가 동일하다면, 동일한 모든 변수 및 gini index를 출력합니다. \n",
    "        elif v[1] == c :\n",
    "            result += ('\\n'+str(k)+':'+str(v))\n",
    " \n",
    "    return result\n",
    "\n",
    "important_feature(pd_data, 'class_buys_computer')"
   ]
  },
  {
   "cell_type": "markdown",
   "metadata": {},
   "source": [
    "## 문제3) 문제 2에서 제시한 feature로 DataFrame을 split한 후 나눠진 2개의 DataFrame에서 각각   다음으로 중요한 변수를 선정하고 해당 변수의 Gini index를 제시해주세요."
   ]
  },
  {
   "cell_type": "code",
   "execution_count": 17,
   "metadata": {
    "scrolled": true
   },
   "outputs": [
    {
     "name": "stdout",
     "output_type": "stream",
     "text": [
      "--- df1에서의 주요 변수 및 Gini index ---\n",
      "age:('middle_aged', 0.0)\n",
      "income:('high', 0.0)\n",
      "student:('no', 0.0)\n",
      "credit_rating:('excellent', 0.0)\n",
      "\n",
      "\n",
      "--- df2에서의 주요 변수 및 Gini index ---\n",
      "student:('no', 0.31999999999999984)\n"
     ]
    }
   ],
   "source": [
    "##문제3 답안\n",
    "\n",
    "# age가 middle_aged인 dataframe과 youth_senior인 dataframe으로 구분합니다. \n",
    "df1 = pd_data.query(\"age=='middle_aged'\")\n",
    "df2 = pd_data.query(\"age=='youth'| age=='senior'\")\n",
    "\n",
    "# df1에서의 중요한 변수 선정 및 gini index를 구합니다. \n",
    "print('--- df1에서의 주요 변수 및 Gini index ---')\n",
    "print(important_feature(df1, 'class_buys_computer'))\n",
    "\n",
    "print('\\n')\n",
    "\n",
    "# df2에서의 중요한 변수 선정 및 gini index를 구합니다. \n",
    "print('--- df2에서의 주요 변수 및 Gini index ---')\n",
    "print(important_feature(df2, 'class_buys_computer'))"
   ]
  },
  {
   "cell_type": "code",
   "execution_count": null,
   "metadata": {},
   "outputs": [],
   "source": []
  }
 ],
 "metadata": {
  "kernelspec": {
   "display_name": "Python 3",
   "language": "python",
   "name": "python3"
  },
  "language_info": {
   "codemirror_mode": {
    "name": "ipython",
    "version": 3
   },
   "file_extension": ".py",
   "mimetype": "text/x-python",
   "name": "python",
   "nbconvert_exporter": "python",
   "pygments_lexer": "ipython3",
   "version": "3.7.4"
  }
 },
 "nbformat": 4,
 "nbformat_minor": 4
}
