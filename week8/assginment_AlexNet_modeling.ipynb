{
 "cells": [
  {
   "cell_type": "code",
   "execution_count": 75,
   "metadata": {},
   "outputs": [],
   "source": [
    "import torch\n",
    "import torch.nn as nn\n",
    "import torch.nn.functional as F"
   ]
  },
  {
   "cell_type": "code",
   "execution_count": 86,
   "metadata": {},
   "outputs": [],
   "source": [
    "class AlexNet(nn.Module):\n",
    "    \n",
    "    def __init__(self, num_classes=1000):\n",
    "        super(AlexNet, self).__init__()\n",
    "        \n",
    "        self.feature_extractor = nn.Sequential(\n",
    "            # input size = 227x227x3\n",
    "            nn.Conv2d(in_channels=3, out_channels=96, kernel_size=11, stride=4), # 55x55x96\n",
    "            nn.ReLU(),\n",
    "            nn.MaxPool2d(kernel_size=3, stride=2), # 27x27x96\n",
    "            nn.LocalResponseNorm(2),\n",
    "            nn.Conv2d(96, 256, 5, padding=2), # 27x27x256\n",
    "            nn.ReLU(),\n",
    "            nn.MaxPool2d(3, stride=2), # 13x13x256\n",
    "            nn.LocalResponseNorm(2),\n",
    "            nn.Conv2d(256, 384, 3, padding=1), # 13x13x384\n",
    "            nn.ReLU(),\n",
    "            nn.Conv2d(384, 384, 3, padding=1), # 13x13x384\n",
    "            nn.ReLU(),\n",
    "            nn.Conv2d(384, 256, 3, padding=1), # 13x13x256\n",
    "            nn.ReLU(),\n",
    "            nn.MaxPool2d(3, stride=2), # 6x6x256\n",
    "        )\n",
    "        \n",
    "        self. classifier = nn.Sequential(\n",
    "            nn.Linear(in_features=9216, out_features=4096),\n",
    "            nn.ReLU(),\n",
    "            nn.Linear(4096, 4096),\n",
    "            nn.Dropout(0.5),\n",
    "            nn.ReLU(),\n",
    "            nn.Dropout(0.5),\n",
    "            nn.Linear(4096,num_classes)\n",
    "        )\n",
    "        \n",
    "    def forward(self, x):\n",
    "        x = self.feature_extractor(x)\n",
    "        x = torch.flatten(x,1)\n",
    "        logits = self.classifier(x)\n",
    "        probs = F.softmax(logits, dim=1)\n",
    "        return logits, probs"
   ]
  },
  {
   "cell_type": "code",
   "execution_count": 87,
   "metadata": {},
   "outputs": [
    {
     "data": {
      "text/plain": [
       "AlexNet(\n",
       "  (feature_extractor): Sequential(\n",
       "    (0): Conv2d(3, 96, kernel_size=(11, 11), stride=(4, 4))\n",
       "    (1): ReLU()\n",
       "    (2): MaxPool2d(kernel_size=3, stride=2, padding=0, dilation=1, ceil_mode=False)\n",
       "    (3): LocalResponseNorm(2, alpha=0.0001, beta=0.75, k=1.0)\n",
       "    (4): Conv2d(96, 256, kernel_size=(5, 5), stride=(1, 1), padding=(2, 2))\n",
       "    (5): ReLU()\n",
       "    (6): MaxPool2d(kernel_size=3, stride=2, padding=0, dilation=1, ceil_mode=False)\n",
       "    (7): LocalResponseNorm(2, alpha=0.0001, beta=0.75, k=1.0)\n",
       "    (8): Conv2d(256, 384, kernel_size=(3, 3), stride=(1, 1), padding=(1, 1))\n",
       "    (9): ReLU()\n",
       "    (10): Conv2d(384, 384, kernel_size=(3, 3), stride=(1, 1), padding=(1, 1))\n",
       "    (11): ReLU()\n",
       "    (12): Conv2d(384, 256, kernel_size=(3, 3), stride=(1, 1), padding=(1, 1))\n",
       "    (13): ReLU()\n",
       "    (14): MaxPool2d(kernel_size=3, stride=2, padding=0, dilation=1, ceil_mode=False)\n",
       "  )\n",
       "  (classifier): Sequential(\n",
       "    (0): Linear(in_features=9216, out_features=4096, bias=True)\n",
       "    (1): ReLU()\n",
       "    (2): Linear(in_features=4096, out_features=4096, bias=True)\n",
       "    (3): Dropout(p=0.5, inplace=False)\n",
       "    (4): ReLU()\n",
       "    (5): Dropout(p=0.5, inplace=False)\n",
       "    (6): Linear(in_features=4096, out_features=1000, bias=True)\n",
       "  )\n",
       ")"
      ]
     },
     "execution_count": 87,
     "metadata": {},
     "output_type": "execute_result"
    }
   ],
   "source": [
    "model = AlexNet()\n",
    "model"
   ]
  },
  {
   "cell_type": "markdown",
   "metadata": {},
   "source": [
    "## Summary\n",
    "- 출처: https://pypi.org/project/torch-summary/"
   ]
  },
  {
   "cell_type": "code",
   "execution_count": 88,
   "metadata": {},
   "outputs": [],
   "source": [
    "from torchsummary import summary"
   ]
  },
  {
   "cell_type": "code",
   "execution_count": 89,
   "metadata": {},
   "outputs": [
    {
     "name": "stdout",
     "output_type": "stream",
     "text": [
      "==========================================================================================\n",
      "Layer (type:depth-idx)                   Output Shape              Param #\n",
      "==========================================================================================\n",
      "├─Sequential: 1-1                        [-1, 256, 6, 6]           --\n",
      "|    └─Conv2d: 2-1                       [-1, 96, 55, 55]          34,944\n",
      "|    └─ReLU: 2-2                         [-1, 96, 55, 55]          --\n",
      "|    └─MaxPool2d: 2-3                    [-1, 96, 27, 27]          --\n",
      "|    └─LocalResponseNorm: 2-4            [-1, 96, 27, 27]          --\n",
      "|    └─Conv2d: 2-5                       [-1, 256, 27, 27]         614,656\n",
      "|    └─ReLU: 2-6                         [-1, 256, 27, 27]         --\n",
      "|    └─MaxPool2d: 2-7                    [-1, 256, 13, 13]         --\n",
      "|    └─LocalResponseNorm: 2-8            [-1, 256, 13, 13]         --\n",
      "|    └─Conv2d: 2-9                       [-1, 384, 13, 13]         885,120\n",
      "|    └─ReLU: 2-10                        [-1, 384, 13, 13]         --\n",
      "|    └─Conv2d: 2-11                      [-1, 384, 13, 13]         1,327,488\n",
      "|    └─ReLU: 2-12                        [-1, 384, 13, 13]         --\n",
      "|    └─Conv2d: 2-13                      [-1, 256, 13, 13]         884,992\n",
      "|    └─ReLU: 2-14                        [-1, 256, 13, 13]         --\n",
      "|    └─MaxPool2d: 2-15                   [-1, 256, 6, 6]           --\n",
      "├─Sequential: 1-2                        [-1, 1000]                --\n",
      "|    └─Linear: 2-16                      [-1, 4096]                37,752,832\n",
      "|    └─ReLU: 2-17                        [-1, 4096]                --\n",
      "|    └─Linear: 2-18                      [-1, 4096]                16,781,312\n",
      "|    └─Dropout: 2-19                     [-1, 4096]                --\n",
      "|    └─ReLU: 2-20                        [-1, 4096]                --\n",
      "|    └─Dropout: 2-21                     [-1, 4096]                --\n",
      "|    └─Linear: 2-22                      [-1, 1000]                4,097,000\n",
      "==========================================================================================\n",
      "Total params: 62,378,344\n",
      "Trainable params: 62,378,344\n",
      "Non-trainable params: 0\n",
      "Total mult-adds (G): 1.20\n",
      "==========================================================================================\n",
      "Input size (MB): 0.59\n",
      "Forward/backward pass size (MB): 5.03\n",
      "Params size (MB): 237.95\n",
      "Estimated Total Size (MB): 243.57\n",
      "==========================================================================================\n"
     ]
    },
    {
     "data": {
      "text/plain": [
       "==========================================================================================\n",
       "Layer (type:depth-idx)                   Output Shape              Param #\n",
       "==========================================================================================\n",
       "├─Sequential: 1-1                        [-1, 256, 6, 6]           --\n",
       "|    └─Conv2d: 2-1                       [-1, 96, 55, 55]          34,944\n",
       "|    └─ReLU: 2-2                         [-1, 96, 55, 55]          --\n",
       "|    └─MaxPool2d: 2-3                    [-1, 96, 27, 27]          --\n",
       "|    └─LocalResponseNorm: 2-4            [-1, 96, 27, 27]          --\n",
       "|    └─Conv2d: 2-5                       [-1, 256, 27, 27]         614,656\n",
       "|    └─ReLU: 2-6                         [-1, 256, 27, 27]         --\n",
       "|    └─MaxPool2d: 2-7                    [-1, 256, 13, 13]         --\n",
       "|    └─LocalResponseNorm: 2-8            [-1, 256, 13, 13]         --\n",
       "|    └─Conv2d: 2-9                       [-1, 384, 13, 13]         885,120\n",
       "|    └─ReLU: 2-10                        [-1, 384, 13, 13]         --\n",
       "|    └─Conv2d: 2-11                      [-1, 384, 13, 13]         1,327,488\n",
       "|    └─ReLU: 2-12                        [-1, 384, 13, 13]         --\n",
       "|    └─Conv2d: 2-13                      [-1, 256, 13, 13]         884,992\n",
       "|    └─ReLU: 2-14                        [-1, 256, 13, 13]         --\n",
       "|    └─MaxPool2d: 2-15                   [-1, 256, 6, 6]           --\n",
       "├─Sequential: 1-2                        [-1, 1000]                --\n",
       "|    └─Linear: 2-16                      [-1, 4096]                37,752,832\n",
       "|    └─ReLU: 2-17                        [-1, 4096]                --\n",
       "|    └─Linear: 2-18                      [-1, 4096]                16,781,312\n",
       "|    └─Dropout: 2-19                     [-1, 4096]                --\n",
       "|    └─ReLU: 2-20                        [-1, 4096]                --\n",
       "|    └─Dropout: 2-21                     [-1, 4096]                --\n",
       "|    └─Linear: 2-22                      [-1, 1000]                4,097,000\n",
       "==========================================================================================\n",
       "Total params: 62,378,344\n",
       "Trainable params: 62,378,344\n",
       "Non-trainable params: 0\n",
       "Total mult-adds (G): 1.20\n",
       "==========================================================================================\n",
       "Input size (MB): 0.59\n",
       "Forward/backward pass size (MB): 5.03\n",
       "Params size (MB): 237.95\n",
       "Estimated Total Size (MB): 243.57\n",
       "=========================================================================================="
      ]
     },
     "execution_count": 89,
     "metadata": {},
     "output_type": "execute_result"
    }
   ],
   "source": [
    "summary(model, (3, 227, 227))"
   ]
  },
  {
   "cell_type": "markdown",
   "metadata": {},
   "source": [
    "**AlexNet 구조 설명** \n",
    "- AlexNet의 입력층은 227x227의 크기의 이미지를 RGB 3개의 채널로 받고 있습니다. \n",
    "\n",
    "- 5개의 Convolution layer과 3개의 Fully connected layer로 이루어져 있으며, 마지막 레이어의 소프트맥스 함수를 통해 예측을 하게 됩니다. \n",
    "\n",
    "- `Activation`: AlexNet은 기존에 사용하던 sigmoid, tanh 함수 대신에 relu함수를 사용하였습니다. \n",
    "\n",
    "- `Local Response Normalization(LRN)`: relu 함수를 활성화함수로 사용했을 때, 결과값이 양수 방향으로 무한히 커질 가능성이 있어 정규화과정을 수행하였습니다. \n",
    "\n",
    "- `Overlapping Pooling`: 기존의 2x2 커널 크기의 pooling 방식이 아니라, 3x3크기의 커널을 사용하여 pooling이 겹치게 하였습니다. \n",
    "\n",
    "- `Dropout`: FC1과 FC2에서 dropout을 사용하였습니다. "
   ]
  },
  {
   "cell_type": "code",
   "execution_count": null,
   "metadata": {},
   "outputs": [],
   "source": []
  }
 ],
 "metadata": {
  "kernelspec": {
   "display_name": "Pytorch",
   "language": "python",
   "name": "pytorch"
  },
  "language_info": {
   "codemirror_mode": {
    "name": "ipython",
    "version": 3
   },
   "file_extension": ".py",
   "mimetype": "text/x-python",
   "name": "python",
   "nbconvert_exporter": "python",
   "pygments_lexer": "ipython3",
   "version": "3.7.7"
  }
 },
 "nbformat": 4,
 "nbformat_minor": 4
}
